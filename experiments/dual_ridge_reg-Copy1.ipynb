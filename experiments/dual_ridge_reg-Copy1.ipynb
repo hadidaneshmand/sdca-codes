{
 "cells": [
  {
   "cell_type": "code",
   "execution_count": 1,
   "metadata": {
    "collapsed": false
   },
   "outputs": [
    {
     "name": "stdout",
     "output_type": "stream",
     "text": [
      "Using matplotlib backend: MacOSX\n",
      "Populating the interactive namespace from numpy and matplotlib\n"
     ]
    }
   ],
   "source": [
    "%pylab\n",
    "%matplotlib inline\n",
    "\n",
    "from sklearn import svm\n",
    "from sklearn import preprocessing\n",
    "from sklearn.linear_model import Ridge\n",
    "from sklearn.linear_model import LogisticRegression\n",
    "\n",
    "def readfile(filename, n,d):\n",
    "    y = np.zeros(n) # targets\n",
    "    X = np.zeros((n,d)) # input matrix each row is a sample data point\n",
    "    li = 0 \n",
    "    with open(filename, \"rb\") as f:\n",
    "        for line in f:\n",
    "           if li>=n : \n",
    "             break;\n",
    "           parts = line.split()\n",
    "           y[li] = float(parts[0])\n",
    "           for i in range(len(parts)): \n",
    "                if i >0 and parts[i] != '\\n': \n",
    "                    fparts = parts[i].split(\":\")\n",
    "                    X[li,int(fparts[0])-1] = float(fparts[1])\n",
    "           li = li +1\n",
    "    return (y,X)\n",
    "def get_data_plot(stats):\n",
    "    xvals = np.array([x1 for x1, y1 in stats])\n",
    "    yvals = np.array([y1 for x1, y1 in stats])\n",
    "    return (xvals,yvals)\n"
   ]
  },
  {
   "cell_type": "code",
   "execution_count": 2,
   "metadata": {
    "collapsed": true
   },
   "outputs": [],
   "source": [
    "def w_alpha(alpha,X,lambd): # check the equation 3 of (SDCA) paper\n",
    "    n, d = X.shape\n",
    "    w = np.zeros(d)\n",
    "    for i in range(n): \n",
    "        w = w + alpha[i]*X[i,:]/(lambd*n)\n",
    "    return w\n",
    "\n",
    "def dual_obj(w, alpha,X,y,lambd): # computes the dual function value for a given parameter alpha \n",
    "    da = 0\n",
    "    n, d = X.shape\n",
    "    for i in range(n):         \n",
    "        da = da + alpha[i]*y[i] - 0.25*alpha[i]*alpha[i]\n",
    "    da = da/float(n)\n",
    "    da = da - 0.5*lambd*np.square(np.linalg.norm(w_alpha(alpha,X,lambd)))\n",
    "    return da\n",
    "\n",
    "def primal_func(w,alpha,X,y,lambd): # computes the primal value for the given parameter w\n",
    "    n, d = X.shape\n",
    "    pw = 0\n",
    "    for i in range(n): \n",
    "        dif = np.dot(X[i,:],w) - y[i]\n",
    "        pw = pw + dif*dif\n",
    "    pw = pw/float(n)\n",
    "    pw = pw + 0.5*lambd*np.square(np.linalg.norm(w))\n",
    "    return pw"
   ]
  },
  {
   "cell_type": "code",
   "execution_count": 50,
   "metadata": {
    "collapsed": false
   },
   "outputs": [],
   "source": [
    "def dual_rigde(X,y, lambd, num_effective_passes,init_sample_size,obj = dual_obj, verbose=False):\n",
    "  # each row contains a data point with dim d\n",
    "  # active_stargey: case -1 (nothing), case 1 (reset the block list in each iteration), case 2 ( holding a queue with a limited size), case 3 (online random permutation replacement) \n",
    "  sq_row_norms =  np.square(np.linalg.norm(X, axis=1))\n",
    "  n, d = X.shape\n",
    "  rperm = np.random.permutation(n);\n",
    "  alpha = np.zeros(n)\n",
    "  w = w_alpha(alpha,X,lambd)\n",
    "  obj_value = obj(w,alpha,X,y,lambd) \n",
    "  sample_size = init_sample_size\n",
    "  if verbose:\n",
    "    print(\" Initial objective value: {}\".format(obj_value))\n",
    "  past_ef_pass = 0\n",
    " \n",
    "  stats = [(0.0, obj_value)]\n",
    "  completed_effective_passes = 0.0\n",
    "  while completed_effective_passes < num_effective_passes:\n",
    "#     if(completed_effective_passes>10.0):\n",
    "#        sample_size = n\n",
    "#     if(completed_effective_passes>30.0): \n",
    "#        lambd = 1.0/n     \n",
    "    coords = rperm[np.random.permutation(sample_size)] \n",
    "    for ii in coords:\n",
    "        alpha_i_old = alpha[ii]\n",
    "        xi = X[ii,:]\n",
    "        sqi = sq_row_norms[ii]\n",
    "        yi = y[ii]\n",
    "        # coordinate update step \n",
    "        delta_alpha_i = (yi- np.dot(xi,w)-0.5*alpha_i_old)/(0.5+sqi/(lambd*sample_size)) \n",
    "        alpha[ii] = alpha[ii] + delta_alpha_i\n",
    "        w = w + delta_alpha_i*xi/(lambd*sample_size)\n",
    "    past_ef_pass = completed_effective_passes\n",
    "    completed_effective_passes += len(coords) / float(n)\n",
    "    obj_value = obj(w,alpha,X,y,lambd)\n",
    "    stats.append((completed_effective_passes, obj_value))\n",
    "    if verbose:\n",
    "      print(\"Obj[{}]= {},delta_alpha = {},sqi={}\".format(completed_effective_passes, obj_value,(np.dot(xi,w)),sqi))\n",
    "  return (alpha, stats,w)"
   ]
  },
  {
   "cell_type": "code",
   "execution_count": 56,
   "metadata": {
    "collapsed": false
   },
   "outputs": [],
   "source": [
    "def run_small_experiment(X,y,lambd,passes,plotname,primal_accuracy = False):\n",
    "    num = 4\n",
    "    rep = 4\n",
    "    N,d = X.shape\n",
    "    main_opt = 0\n",
    "    clf = Ridge(alpha=lambd*N,fit_intercept=False)\n",
    "    clf.fit(X, y)\n",
    "    primal_opt =  primal_func(clf.coef_,0,X,y,lambd)\n",
    "    print(\"primal obj={}\".format(primal_opt))\n",
    "    def dist_opt(w,alpha,X2,y2,lambd2):\n",
    "      if primal_accuracy == True: \n",
    "        return primal_func(w,alpha,X2,y2,lambd) - primal_opt\n",
    "      return primal_opt - dual_obj(w, alpha,X2,y2,lambd)\n",
    "            #da = 0\n",
    "            #for i in range(n): \n",
    "            #    if alpha[i] <= 1 and alpha[i] >= 0:\n",
    "            #        da = da + alpha[i]\n",
    "            #    else:\n",
    "            #        da = da + float(\"inf\")\n",
    "            #da = da / n \n",
    "            #da = da - 0.5*lambd*np.square(((1.0*n)/N)*np.linalg.norm(w_alpha(alpha,A,lambd)))\n",
    "            #return primal_opt - da\n",
    "    (alpha_n,stats_n,w_n) = dual_rigde( X, y, 1.0/N, passes, obj = dist_opt,init_sample_size = N, verbose=True)\n",
    "    t_randomperm, f_randomperm = get_data_plot(stats_n)  \n",
    "    converge_rate = f_randomperm\n",
    "    plabel = \"lambd=1/n\"\n",
    "    plt.plot(t_randomperm,np.log(f_randomperm),label = plabel, marker='o')\n",
    "#     inds = np.random.randint(N, size=n);\n",
    "#     A = np.zeros((N,d))\n",
    "#     X_sub = X[inds,:]\n",
    "#     y_sub = y[inds]\n",
    "    (alpha_f,stats_f,w_f) =dual_rigde( X,y, 1.5/N, passes, obj = dist_opt,init_sample_size = N, verbose=True)\n",
    "    t_randomperm, f_randomperm = get_data_plot(stats_f)  \n",
    "    converge_rate = f_randomperm\n",
    "    plabel = \"lambd=10/n\"\n",
    "    plt.plot(t_randomperm,np.log(f_randomperm),label = plabel, marker='o')\n",
    "    lgd = plt.legend(loc='upper center', bbox_to_anchor=(0.5, -0.05), fancybox=True, shadow=True, ncol=5)\n",
    "    plt.savefig(plotname, facecolor='w', edgecolor='w', orientation='portrait',  format='eps', bbox_extra_artists=(lgd,), bbox_inches='tight')"
   ]
  },
  {
   "cell_type": "code",
   "execution_count": 55,
   "metadata": {
    "collapsed": false,
    "scrolled": false
   },
   "outputs": [
    {
     "name": "stdout",
     "output_type": "stream",
     "text": [
      "primal obj=0.448450687754\n",
      " Initial objective value: 0.448450687754\n",
      "Obj[1.0]= 0.418277444307,delta_alpha = -0.955573989929,sqi=14.0\n",
      "Obj[2.0]= 0.390302200792,delta_alpha = -1.01328183001,sqi=13.0\n",
      "Obj[3.0]= 0.36415928425,delta_alpha = -0.965599883065,sqi=14.0\n",
      "Obj[4.0]= 0.339698505424,delta_alpha = -1.06595508537,sqi=13.0\n",
      "Obj[5.0]= 0.316719703994,delta_alpha = -0.937434186216,sqi=14.0\n",
      "Obj[6.0]= 0.295519994778,delta_alpha = 0.791473621067,sqi=14.0\n",
      "Obj[7.0]= 0.27558314053,delta_alpha = -0.907029271335,sqi=14.0\n",
      "Obj[8.0]= 0.256998948594,delta_alpha = -0.940938937977,sqi=14.0\n",
      "Obj[9.0]= 0.239683745269,delta_alpha = -0.711969079814,sqi=14.0\n",
      "Obj[10.0]= 0.223539660292,delta_alpha = -0.943085494807,sqi=14.0\n",
      "Obj[11.0]= 0.208442764124,delta_alpha = 0.610278517981,sqi=14.0\n",
      "Obj[12.0]= 0.194450530008,delta_alpha = -0.759537124072,sqi=14.0\n",
      "Obj[13.0]= 0.181407351442,delta_alpha = -0.728240079877,sqi=14.0\n",
      "Obj[14.0]= 0.169249000085,delta_alpha = 0.618810815612,sqi=14.0\n",
      "Obj[15.0]= 0.157912178828,delta_alpha = -1.0741688078,sqi=14.0\n",
      "Obj[16.0]= 0.147247364357,delta_alpha = -0.961328988728,sqi=14.0\n",
      "Obj[17.0]= 0.137394737759,delta_alpha = 0.650902594518,sqi=14.0\n",
      "Obj[18.0]= 0.128097463532,delta_alpha = -0.680912094532,sqi=14.0\n",
      "Obj[19.0]= 0.1194917484,delta_alpha = -0.845703737987,sqi=14.0\n",
      "Obj[20.0]= 0.111465878167,delta_alpha = -0.704016471508,sqi=14.0\n",
      " Initial objective value: 0.448450687754\n",
      "Obj[1.0]= 0.262835394408,delta_alpha = -0.439494247018,sqi=14.0\n",
      "Obj[2.0]= 0.154362380008,delta_alpha = 0.351456553496,sqi=14.0\n",
      "Obj[3.0]= 0.0903567151546,delta_alpha = -1.24882838144,sqi=12.0\n",
      "Obj[4.0]= 0.053749709721,delta_alpha = -0.50895148609,sqi=14.0\n",
      "Obj[5.0]= 0.032075889436,delta_alpha = -0.683322009092,sqi=14.0\n",
      "Obj[6.0]= 0.0194209216709,delta_alpha = 0.0121651336862,sqi=14.0\n",
      "Obj[7.0]= 0.0123961208846,delta_alpha = -1.02600783336,sqi=14.0\n",
      "Obj[8.0]= 0.00807966856861,delta_alpha = -0.690051472145,sqi=14.0\n",
      "Obj[9.0]= 0.0055569964156,delta_alpha = -0.889341610203,sqi=14.0\n",
      "Obj[10.0]= 0.0042114150983,delta_alpha = -1.05567610209,sqi=14.0\n",
      "Obj[11.0]= 0.0033471180244,delta_alpha = 0.299994576754,sqi=14.0\n",
      "Obj[12.0]= 0.0028885728081,delta_alpha = -0.790036373903,sqi=14.0\n",
      "Obj[13.0]= 0.00257545121367,delta_alpha = -0.872827818598,sqi=14.0\n",
      "Obj[14.0]= 0.00239023872405,delta_alpha = -1.0134503713,sqi=14.0\n",
      "Obj[15.0]= 0.00233055170003,delta_alpha = -0.385775613421,sqi=13.0\n",
      "Obj[16.0]= 0.00227701608378,delta_alpha = -0.0302167217486,sqi=14.0\n",
      "Obj[17.0]= 0.00223775124131,delta_alpha = -0.361282364728,sqi=14.0\n",
      "Obj[18.0]= 0.00221588320974,delta_alpha = -0.632338499085,sqi=14.0\n",
      "Obj[19.0]= 0.00220085556394,delta_alpha = -1.08941544654,sqi=14.0\n",
      "Obj[20.0]= 0.00219976587763,delta_alpha = -0.399796816734,sqi=14.0\n"
     ]
    },
    {
     "data": {
      "image/png": "[encoded data removed]",
      "text/plain": [
       "<matplotlib.figure.Figure at 0x10b662c10>"
      ]
     },
     "metadata": {},
     "output_type": "display_data"
    }
   ],
   "source": [
    "n = 32561; \n",
    "d = 123; \n",
    "import readsvm \n",
    "#filename = \"../datasets/rcv1_train.binary\"\n",
    "filename = \"../datasets/a9a\"\n",
    "y, X = readfile(filename,n,d)\n",
    "# X = preprocessing.normalize(X, norm='l2')\n",
    "lambd = 1.0/n\n",
    "passes = 20\n",
    "alpha = run_small_experiment(X,y, lambd,passes,\"plot/gisette_scale_primal.eps\",primal_accuracy =False)"
   ]
  },
  {
   "cell_type": "code",
   "execution_count": 54,
   "metadata": {
    "collapsed": false
   },
   "outputs": [
    {
     "name": "stdout",
     "output_type": "stream",
     "text": [
      "primal obj=0.449438705113\n",
      " Initial objective value: 0.550561294887\n",
      "Obj[1.0]= 0.123597833046,delta_alpha = -1.30347047935,sqi=1.0\n",
      "Obj[2.0]= 0.418994453631,delta_alpha = 0.402793241809,sqi=1.0\n",
      "Obj[3.0]= 0.0268675217216,delta_alpha = 0.321546048254,sqi=1.0\n",
      "Obj[4.0]= 0.0102838153502,delta_alpha = -1.17876691827,sqi=1.0\n",
      "Obj[5.0]= 0.00467602867138,delta_alpha = -0.299902394629,sqi=1.0\n",
      "Obj[6.0]= 0.00975067783259,delta_alpha = -0.282833069791,sqi=1.0\n",
      "Obj[7.0]= 0.00328554207086,delta_alpha = -1.24033845978,sqi=1.0\n",
      "Obj[8.0]= 0.00124302913418,delta_alpha = -1.05971904085,sqi=1.0\n",
      "Obj[9.0]= 0.00112687762624,delta_alpha = -0.893867026198,sqi=1.0\n",
      "Obj[10.0]= 0.000313357280788,delta_alpha = 0.965700813167,sqi=1.0\n",
      " Initial objective value: 0.550561294887\n",
      "Obj[1.0]= 0.0316883064541,delta_alpha = -0.420125035937,sqi=1.0\n",
      "Obj[2.0]= 0.00363441241391,delta_alpha = 0.00432128097016,sqi=1.0\n",
      "Obj[3.0]= 0.000485508695041,delta_alpha = 0.418919676466,sqi=1.0\n",
      "Obj[4.0]= 0.000295735840037,delta_alpha = 0.141385955283,sqi=1.0\n",
      "Obj[5.0]= 0.00027158678754,delta_alpha = -0.236153176668,sqi=1.0\n",
      "Obj[6.0]= 0.00027232529615,delta_alpha = -0.573863955999,sqi=1.0\n",
      "Obj[7.0]= 0.000272337965509,delta_alpha = -0.864989194574,sqi=1.0\n",
      "Obj[8.0]= 0.000272225501314,delta_alpha = -1.20865206459,sqi=1.0\n",
      "Obj[9.0]= 0.000272139880066,delta_alpha = -1.10803255498,sqi=1.0\n",
      "Obj[10.0]= 0.00027215341211,delta_alpha = -0.825407715225,sqi=1.0\n"
     ]
    },
    {
     "data": {
      "image/png": "[encoded data removed]",
      "text/plain": [
       "<matplotlib.figure.Figure at 0x11736a150>"
      ]
     },
     "metadata": {},
     "output_type": "display_data"
    }
   ],
   "source": [
    "n = 32561; \n",
    "d = 123; \n",
    "import readsvm \n",
    "\n",
    "filename = \"../datasets/a9a\"\n",
    "y, X = readfile(filename,n,d)\n",
    "# X = preprocessing.normalize(X, norm='l2')\n",
    "lambd = 1.0/n\n",
    "passes = 10\n",
    "alpha = run_small_experiment(X,y, lambd,passes,\"plot/a9a_scale_dual.eps\",primal_accuracy =True)"
   ]
  },
  {
   "cell_type": "code",
   "execution_count": 58,
   "metadata": {
    "collapsed": false
   },
   "outputs": [
    {
     "name": "stdout",
     "output_type": "stream",
     "text": [
      "primal obj=0.0170737651357\n",
      " Initial objective value: 0.0170737651357\n",
      "Obj[1.0]= 0.0170313080527,delta_alpha = 0.999964371443,sqi=4734.80287401\n",
      "Obj[2.0]= 0.017006480073,delta_alpha = -0.999913197032,sqi=4651.39280976\n",
      "Obj[3.0]= 0.0169869585013,delta_alpha = 1.00017086586,sqi=4635.88273367\n",
      "Obj[4.0]= 0.0169695643194,delta_alpha = 0.999865451282,sqi=4601.24822789\n",
      "Obj[5.0]= 0.0169539012395,delta_alpha = -1.00009775179,sqi=4607.78314123\n",
      "Obj[6.0]= 0.0169394539968,delta_alpha = -1.00013875792,sqi=4627.6942918\n",
      "Obj[7.0]= 0.0169254533949,delta_alpha = 1.00018855629,sqi=4607.50244305\n",
      "Obj[8.0]= 0.0169123678006,delta_alpha = 1.00004256042,sqi=4668.98370134\n",
      "Obj[9.0]= 0.0168995245705,delta_alpha = -1.00002302865,sqi=4624.1419285\n",
      "Obj[10.0]= 0.01688725595,delta_alpha = -0.999852828069,sqi=4597.2706135\n",
      " Initial objective value: 0.0170737651357\n",
      "Obj[1.0]= 0.0170203803413,delta_alpha = 0.999969026386,sqi=4711.17378456\n",
      "Obj[2.0]= 0.0169896383002,delta_alpha = 0.999763231412,sqi=4640.28200306\n",
      "Obj[3.0]= 0.0169651925654,delta_alpha = 0.999798138792,sqi=4587.0413132\n",
      "Obj[4.0]= 0.0169432117115,delta_alpha = 1.00005258179,sqi=4621.32796087\n",
      "Obj[5.0]= 0.0169227022556,delta_alpha = -0.99987451428,sqi=4659.22768888\n",
      "Obj[6.0]= 0.0169040259706,delta_alpha = 0.999255037665,sqi=4614.28302192\n",
      "Obj[7.0]= 0.0168858794221,delta_alpha = 0.999887962427,sqi=4627.36594692\n",
      "Obj[8.0]= 0.0168680024612,delta_alpha = -1.00030630654,sqi=4646.11554528\n",
      "Obj[9.0]= 0.0168517628173,delta_alpha = -0.999684017522,sqi=4679.28681481\n",
      "Obj[10.0]= 0.0168360966658,delta_alpha = 1.00025272887,sqi=4675.02379922\n"
     ]
    },
    {
     "data": {
      "image/png": "[encoded data removed]",
      "text/plain": [
       "<matplotlib.figure.Figure at 0x1173d29d0>"
      ]
     },
     "metadata": {},
     "output_type": "display_data"
    }
   ],
   "source": [
    "n = 6000; \n",
    "d = 5000; \n",
    "import readsvm \n",
    "#filename = \"../datasets/rcv1_train.binary\"\n",
    "filename = \"../datasets/gisette_scale\"\n",
    "y, X = readfile(filename,n,d)\n",
    "#X = preprocessing.scale(X)\n",
    "lambd = 1.0/n\n",
    "passes = 10\n",
    "run_small_experiment(X,y, lambd,passes,\"plot/gisette_scale_primal.eps\",primal_accuracy = False)"
   ]
  },
  {
   "cell_type": "code",
   "execution_count": 16,
   "metadata": {
    "collapsed": false
   },
   "outputs": [
    {
     "name": "stdout",
     "output_type": "stream",
     "text": [
      "primal obj=0.355197469316\n",
      " Initial objective value: 0.644802530684\n",
      "Obj[1.0]= 1.0766500303,delta_alpha = -0.950230479826\n",
      "Obj[2.0]= 0.516334096075,delta_alpha = -1.00715338\n",
      "Obj[3.0]= 0.287211251329,delta_alpha = -1.00849150022\n",
      "Obj[4.0]= 0.280982671126,delta_alpha = -1.0152683149\n",
      "Obj[5.0]= 0.143980870424,delta_alpha = -1.00919326435\n",
      "Obj[6.0]= 0.128320140835,delta_alpha = -1.09842405614\n",
      "Obj[7.0]= 0.152711470914,delta_alpha = 0.357289735372\n",
      "Obj[8.0]= 0.229884108907,delta_alpha = -0.581250413636\n",
      "Obj[9.0]= 0.0969574985751,delta_alpha = -0.88617595834\n",
      "Obj[10.0]= 0.0890921799579,delta_alpha = -0.936202135891\n",
      "Obj[11.0]= 0.123618957249,delta_alpha = -0.626027555982\n",
      "Obj[12.0]= 0.0891665795626,delta_alpha = -0.930246814615\n",
      "Obj[13.0]= 0.0882981391016,delta_alpha = -0.861859827862\n",
      "Obj[14.0]= 0.0716663778367,delta_alpha = -1.05091294007\n",
      "Obj[15.0]= 0.105303825746,delta_alpha = -1.21972533957\n",
      "Obj[16.0]= 0.0329427577864,delta_alpha = -0.976387033866\n",
      "Obj[17.0]= 0.0685353858544,delta_alpha = -0.409224719965\n",
      "Obj[18.0]= 0.0474066998536,delta_alpha = -0.423477625556\n",
      "Obj[19.0]= 0.0747736392091,delta_alpha = -0.897088175978\n",
      "Obj[20.0]= 0.0416357549887,delta_alpha = -0.536785116423\n",
      "Obj[21.0]= 0.0231439870385,delta_alpha = -1.10144411668\n",
      "Obj[22.0]= 0.0357333828264,delta_alpha = -1.07678131136\n",
      "Obj[23.0]= 0.0246812936327,delta_alpha = -1.00302684795\n",
      "Obj[24.0]= 0.0475948487232,delta_alpha = 0.0\n",
      "Obj[25.0]= 0.0170373360951,delta_alpha = -0.0823479545001\n",
      "Obj[26.0]= 0.0240753783693,delta_alpha = -1.3797226428\n",
      "Obj[27.0]= 0.0198849517458,delta_alpha = -0.4952963692\n",
      "Obj[28.0]= 0.0370801604429,delta_alpha = -0.845242898147\n",
      "Obj[29.0]= 0.0289912255573,delta_alpha = -0.931925908972\n",
      "Obj[30.0]= 0.0225531258654,delta_alpha = -0.96776073515\n",
      "Obj[31.0]= 0.011306947721,delta_alpha = -0.846568967282\n",
      "Obj[32.0]= 0.029469624739,delta_alpha = -0.838797594249\n",
      "Obj[33.0]= 0.0164096972641,delta_alpha = -0.709720111195\n",
      "Obj[34.0]= 0.00926449358803,delta_alpha = -0.456288342364\n",
      "Obj[35.0]= 0.0170633879073,delta_alpha = -0.792884093086\n",
      "Obj[36.0]= 0.0126580000464,delta_alpha = -0.707790975406\n",
      "Obj[37.0]= 0.0116722614316,delta_alpha = -0.799467375571\n",
      "Obj[38.0]= 0.0159385640821,delta_alpha = -0.919752450074\n",
      "Obj[39.0]= 0.0217434994111,delta_alpha = -1.17568542098\n",
      "Obj[40.0]= 0.00840507757549,delta_alpha = -0.830168745304\n",
      " Initial objective value: 0.644802530684\n",
      "Obj[1.0]= 0.178202438282,delta_alpha = -1.10873873662\n",
      "Obj[2.0]= 0.0632844245545,delta_alpha = -0.858279238848\n",
      "Obj[3.0]= 0.0273504807304,delta_alpha = -0.814553903616\n",
      "Obj[4.0]= 0.030353760755,delta_alpha = -1.15831112302\n",
      "Obj[5.0]= 0.0206771094535,delta_alpha = -0.145842699232\n",
      "Obj[6.0]= 0.012482038658,delta_alpha = 0.0\n",
      "Obj[7.0]= 0.0046113582211,delta_alpha = -0.838189484528\n",
      "Obj[8.0]= 0.00276208772736,delta_alpha = -0.998829744687\n",
      "Obj[9.0]= 0.0015757430511,delta_alpha = -0.513683345042\n",
      "Obj[10.0]= 0.00279107281659,delta_alpha = 0.0\n",
      "Obj[11.0]= 0.00179668646999,delta_alpha = -1.35608373228\n",
      "Obj[12.0]= 0.00265409585558,delta_alpha = -1.61842708048\n",
      "Obj[13.0]= 0.000797563316489,delta_alpha = -0.463964019329\n",
      "Obj[14.0]= 0.000889820467684,delta_alpha = -1.08900308422\n",
      "Obj[15.0]= 0.000964072889903,delta_alpha = -0.529559551838\n",
      "Obj[16.0]= 0.000575222699911,delta_alpha = -0.573190260637\n",
      "Obj[17.0]= 0.000427894163579,delta_alpha = -1.03988771861\n",
      "Obj[18.0]= 0.000547021293095,delta_alpha = -0.637063524038\n",
      "Obj[19.0]= 0.000420002999069,delta_alpha = -0.582134226218\n",
      "Obj[20.0]= 0.000393456108663,delta_alpha = -0.829751389014\n",
      "Obj[21.0]= 0.000422006012447,delta_alpha = -0.518387675862\n",
      "Obj[22.0]= 0.000531645146775,delta_alpha = -0.633533737665\n",
      "Obj[23.0]= 0.000357109042571,delta_alpha = -0.717026301165\n",
      "Obj[24.0]= 0.000339879888478,delta_alpha = -1.11180327223\n",
      "Obj[25.0]= 0.000338885738363,delta_alpha = -0.283337555707\n",
      "Obj[26.0]= 0.000408658940447,delta_alpha = -1.38262773171\n",
      "Obj[27.0]= 0.000324907313897,delta_alpha = -0.950255602769\n",
      "Obj[28.0]= 0.000412783984891,delta_alpha = -0.740032206892\n",
      "Obj[29.0]= 0.000328185729358,delta_alpha = -0.447767260243\n",
      "Obj[30.0]= 0.000310586181728,delta_alpha = -0.794288290726\n",
      "Obj[31.0]= 0.000311551521671,delta_alpha = -0.222360452771\n",
      "Obj[32.0]= 0.000313371163734,delta_alpha = -0.0359205968264\n",
      "Obj[33.0]= 0.000318843627064,delta_alpha = -1.36082129878\n",
      "Obj[34.0]= 0.000311545972922,delta_alpha = -0.0769242066086\n",
      "Obj[35.0]= 0.000309254553933,delta_alpha = -0.3927280233\n",
      "Obj[36.0]= 0.000307162891636,delta_alpha = -0.607147127577\n",
      "Obj[37.0]= 0.000309115949064,delta_alpha = -0.307814254102\n",
      "Obj[38.0]= 0.0003134070665,delta_alpha = -0.746509326106\n",
      "Obj[39.0]= 0.000306329011998,delta_alpha = -0.0311776769086\n",
      "Obj[40.0]= 0.000307576720532,delta_alpha = -1.17403560771\n"
     ]
    },
    {
     "data": {
      "image/png": "[encoded data removed]",
      "text/plain": [
       "<matplotlib.figure.Figure at 0x11774a1d0>"
      ]
     },
     "metadata": {},
     "output_type": "display_data"
    }
   ],
   "source": [
    "n = 49749; \n",
    "d = 300; \n",
    "filename = \"../datasets/w8a\"\n",
    "y, X = readfile(filename,n,d)\n",
    "A = np.zeros((n,d))\n",
    "for i in range(n):\n",
    "    if(y[i]==2 or y[i] == 0):\n",
    "        y[i] = -1;\n",
    "    A[i,:] = y[i]*X[i,:]\n",
    "lambd = 1.0/n\n",
    "passes = 40\n",
    "run_small_experiment(X,y,lambd,passes,\"plot/w8a_primal.eps\",primal_accuracy = True)"
   ]
  },
  {
   "cell_type": "code",
   "execution_count": 46,
   "metadata": {
    "collapsed": false
   },
   "outputs": [
    {
     "name": "stdout",
     "output_type": "stream",
     "text": [
      "primal obj=0.355197469316\n",
      " Initial objective value: 0.355197469316\n",
      "Obj[1.0]= 0.218744893871,delta_alpha = -0.991644213412\n",
      "Obj[2.0]= 0.183519884426,delta_alpha = -0.624484201576\n",
      "Obj[3.0]= 0.158094791264,delta_alpha = -0.924367237742\n",
      "Obj[4.0]= 0.13858871651,delta_alpha = -1.02120979889\n",
      "Obj[5.0]= 0.123152431501,delta_alpha = -0.943130889493\n",
      "Obj[6.0]= 0.110612894352,delta_alpha = 0.953753998792\n",
      "Obj[7.0]= 0.0999727176649,delta_alpha = -0.652352088122\n",
      "Obj[8.0]= 0.0910213017823,delta_alpha = -0.938426317515\n",
      "Obj[9.0]= 0.0831951694256,delta_alpha = -0.336996396686\n",
      "Obj[10.0]= 0.0764380810828,delta_alpha = -0.921730072974\n",
      "Obj[11.0]= 0.0705308321697,delta_alpha = -1.13950249968\n",
      " Initial objective value: 0.355197469316\n",
      "Obj[1.0]= 0.125147813148,delta_alpha = -1.30047243632\n",
      "Obj[2.0]= 0.0701305234893,delta_alpha = -0.952645688558\n",
      "Obj[3.0]= 0.0485764225304,delta_alpha = -1.03322229177\n",
      "Obj[4.0]= 0.0361541736186,delta_alpha = -0.889357301654\n",
      "Obj[5.0]= 0.029595072903,delta_alpha = -0.377586771525\n",
      "Obj[6.0]= 0.0248637371809,delta_alpha = -1.09343172928\n",
      "Obj[7.0]= 0.0220617315887,delta_alpha = -0.859889977966\n",
      "Obj[8.0]= 0.0202390031842,delta_alpha = -1.19461566897\n",
      "Obj[9.0]= 0.0190600992514,delta_alpha = -0.188393924238\n",
      "Obj[10.0]= 0.0180788796063,delta_alpha = -0.999276777009\n",
      "Obj[11.0]= 0.0174468031158,delta_alpha = -0.558184072409\n"
     ]
    },
    {
     "data": {
      "image/png": "[encoded data removed]",
      "text/plain": [
       "<matplotlib.figure.Figure at 0x11602cdd0>"
      ]
     },
     "metadata": {},
     "output_type": "display_data"
    }
   ],
   "source": [
    "n = 49749; \n",
    "d = 300; \n",
    "filename = \"../datasets/w8a\"\n",
    "y, X = readfile(filename,n,d)\n",
    "# X = preprocessing.normalize(X, norm='l2')\n",
    "lambd = 1.0/n\n",
    "passes = 11\n",
    "run_small_experiment(X,y,lambd,passes,\"plot/w8a_primal.eps\",primal_accuracy = False)"
   ]
  },
  {
   "cell_type": "code",
   "execution_count": 7,
   "metadata": {
    "collapsed": true
   },
   "outputs": [],
   "source": [
    "def distance_plot(X,y,n,d,lambd,nr,pivotsi,verbose = True):\n",
    "    print(max(np.linalg.norm(X,axis =1 )))\n",
    "    if(verbose):\n",
    "        print(\"Loading Data Accomblished\")\n",
    "    indices = np.random.choice(n, pivotsi, replace=False)\n",
    "    X = X[indices,:]\n",
    "    y = y[indices]\n",
    "    t1,t2 = X.shape\n",
    "    print('t1:{},t2:{}'.format(t1,t2))\n",
    "    for i in range(len(y)): \n",
    "        if y[i] == 2 :\n",
    "            y[i] = -1\n",
    "    n = pivotsi\n",
    "    x0 = np.zeros(d)\n",
    "    csize = 256\n",
    "    sizes = [csize]\n",
    "    while csize < (n/4.0):\n",
    "        csize = 2* csize\n",
    "        sizes.append(csize)\n",
    "#     clf = Ridge(alpha=lambd*n,fit_intercept=False) \n",
    "    pivot = clf.fit(X, y).coef_\n",
    "    pivot_primal = primal_func(pivot,0,X,y,lambd)\n",
    "    print(\"precision:{},pivot_norm:{}\".format(primal_func(pivot,0,X,y,lambd),np.square(np.linalg.norm(pivot))))\n",
    "    spivot = str(pivot)[2:-2]\n",
    "    \n",
    "    dists= np.zeros((len(sizes),nr))\n",
    "    angles = np.zeros((len(sizes),nr))\n",
    "    for i in range(len(sizes)):\n",
    "        subsamplsi = sizes[i]\n",
    "        for j in range(nr):\n",
    "            print('subsample size:{}'.format(subsamplsi))\n",
    "            subindices = np.random.choice(n, subsamplsi, replace=False)\n",
    "            lambd_s = 1.0/subsamplsi\n",
    "            clf2 = Ridge(alpha=lambd_s*n,fit_intercept=False)\n",
    "            clf2.fit(X, y)\n",
    "            ws = clf2.coef_\n",
    "            dist = primal_func(ws,0,X,y,lambd_s) - pivot_primal\n",
    "            dists[i,j] = abs(dist)\n",
    "            print(\"dist= {}\".format(dists[i,j]))\n",
    "        if(verbose):\n",
    "          print(\"step: {}\".format(i))   \n",
    "    mdist = np.mean(dists,axis=1)\n",
    "    vdist = np.var(np.log(dists),axis =1)\n",
    "    print(vdist)\n",
    "    sizes = np.divide(1.0,sizes)\n",
    "    xd = np.log(sizes)\n",
    "    yd = np.log(mdist)\n",
    "    par = np.polyfit(xd, yd, 1, full=True)\n",
    "    slope=par[0][0]\n",
    "    intercept=par[0][1]\n",
    "    xl = [min(xd), max(xd)]\n",
    "    yl = [slope*xx + intercept  for xx in xl]\n",
    "    mang = np.mean(angles,axis = 1)\n",
    "    vang = np.var(angles,axis= 1)\n",
    "    plt.errorbar(np.log(sizes),np.log(mdist),yerr=vdist)\n",
    "    #plt.plot(np.log(sizes),np.log(mdist),marker='o')\n",
    "    label_l = \"y =%.2f x + %.2f\" % (slope,intercept)\n",
    "    print(label_l)\n",
    "    plt.plot(xl,yl,label = label_l)\n",
    "    plt.xlabel(\"Log(m)\")\n",
    "    plt.ylabel(\"Log(|P_m^* - P_n^*|)\")\n",
    "   # plt.title(\"Distance Plot For %s\" % dataname)\n",
    "    plt.legend()"
   ]
  },
  {
   "cell_type": "code",
   "execution_count": 8,
   "metadata": {
    "collapsed": false
   },
   "outputs": [
    {
     "name": "stdout",
     "output_type": "stream",
     "text": [
      "10.677078252\n",
      "Loading Data Accomblished\n",
      "t1:49749,t2:300\n",
      "[[ -9.22408313e+00  -9.66403865e+00  -9.53657364e+00  -9.42384120e+00\n",
      "   -1.10481854e+01  -7.03377015e+00  -8.81315805e+00  -7.02829533e+00\n",
      "   -7.71994129e+00  -9.73240291e+00  -9.22470977e+00  -8.12318663e+00\n",
      "   -7.02354509e+00  -8.40991462e+00  -8.12190280e+00  -1.05799448e+01\n",
      "   -1.19246628e+00  -8.12588420e+00  -1.03554931e+01  -8.41965397e+00\n",
      "   -1.15972817e+01  -8.11814689e+00  -9.66289671e+00  -8.96898217e+00\n",
      "   -7.03062976e+00  -8.96874866e+00  -8.12522939e+00  -9.10369379e+00\n",
      "   -8.12309554e+00  -9.42029566e+00  -8.12489991e+00  -8.81550631e+00\n",
      "   -8.96979649e+00  -9.10368606e+00  -1.88861838e+00   3.73811272e-02\n",
      "   -1.01463031e+00  -1.08075510e+00  -6.84776876e+00   3.79357253e+00\n",
      "   -2.52001384e-01   7.10759269e+00   7.10759269e+00  -1.59496945e+00\n",
      "   -6.51375885e-01   1.40405671e-01  -8.89786638e-01   2.79825286e+00\n",
      "    6.78239213e+00  -1.69083096e-01  -6.80500337e-01  -3.56925964e+00\n",
      "    1.28485081e+00  -8.40834373e-01  -1.44742007e+00   3.12786426e+00\n",
      "   -1.13138193e+00   1.93916316e+01   5.60967252e-01   7.34228540e-01\n",
      "    1.31604423e+01  -1.60850527e+00  -1.06172250e+00   1.13241110e+01\n",
      "    4.89147630e+00   2.02514665e+00   6.12420080e+00  -1.82868712e-01\n",
      "    5.41164618e-02  -1.86783868e+00  -3.96797394e+00   4.93706700e-02\n",
      "    1.16014455e-01   5.06590108e+00  -8.61496337e-01   1.53911357e+00\n",
      "   -1.00533818e+00  -3.87087494e-01  -1.91912199e+00  -3.30628578e+00\n",
      "   -1.10104895e+00   9.97064403e-01  -5.56792410e-01  -4.32135541e-01\n",
      "    6.52693829e-01  -1.19889298e+00  -2.64141354e+00  -1.17221750e+00\n",
      "   -1.24733720e+01  -5.86861971e+00  -9.97064462e-01   1.44932657e+01\n",
      "   -7.74747093e-01  -1.08248383e+00   5.33483403e+00   1.47876693e+00\n",
      "   -2.29447056e-01   1.10973008e+00   1.23305503e-01  -7.24210268e-01\n",
      "   -3.94751625e+00  -6.87161813e-01  -6.10969944e-01  -2.05798298e+00\n",
      "    3.45541178e-02  -1.49879457e+00  -1.07311214e+00  -6.00260517e-02\n",
      "   -6.56006339e-01  -1.92045033e+00  -4.32738350e+00   2.87849433e+00\n",
      "    2.64111913e+01  -2.03533853e+00  -1.25545844e+00  -2.64014569e+00\n",
      "   -1.40185349e+00  -5.94826122e-01  -3.66289032e+00   1.62722108e-01\n",
      "    1.62722108e-01   1.62722108e-01   1.62722108e-01   1.62722108e-01\n",
      "    1.85405053e-01   1.85405053e-01   1.85405053e-01   1.49762854e-01\n",
      "    1.85405053e-01   1.85405053e-01   1.49762854e-01   1.85405053e-01\n",
      "    1.85405053e-01   1.05457838e+00   1.09022058e+00   1.09022058e+00\n",
      "    1.09022058e+00   1.09022058e+00   1.09022058e+00   1.09022058e+00\n",
      "    1.09022058e+00   1.09022058e+00   1.62722108e-01  -1.80764649e-01\n",
      "    1.24104866e+00  -2.84939653e+00  -3.43096676e-01  -1.02258773e+00\n",
      "   -1.59036048e+00   3.65996963e+01   1.67476065e+00  -2.02725799e+00\n",
      "    3.17714397e+00  -1.11233112e+00  -1.42796095e+00  -8.04749080e-01\n",
      "   -1.53134634e+00  -4.78672394e-01   3.47225650e-01  -5.04684203e+00\n",
      "   -8.28871789e-01   2.15346291e+00   6.32937646e-01  -9.94028027e-01\n",
      "   -9.78400479e-01   9.28332976e-01   2.18923052e+00  -2.27767525e+00\n",
      "   -7.29596596e-01  -7.14505720e-01  -1.01934344e+00  -4.44133079e-01\n",
      "    5.89397980e-01   2.59956798e+00   1.62722108e-01   1.62722108e-01\n",
      "    1.62722108e-01   1.62722108e-01   1.62722108e-01   1.62722108e-01\n",
      "    1.62722108e-01  -2.32500376e+00   2.61215468e+00   4.62451397e+00\n",
      "    2.43993843e+00   1.81897782e+01  -1.92045033e+00  -2.45529701e+00\n",
      "    5.06325011e+00   8.15526851e-01   3.93476992e+00   1.35880313e+01\n",
      "   -2.65473178e-01   8.27048001e-02  -2.48437500e+00   5.78515085e-01\n",
      "   -3.18988982e+00   3.65434480e+00   4.84952371e+00  -2.47645092e+00\n",
      "    4.77344141e-01   1.45974660e+01  -1.99128303e+00  -1.39977764e+00\n",
      "   -7.40815653e-01  -5.83345350e-01  -1.03714533e+00  -3.25443062e-01\n",
      "   -7.48678293e+00   1.62740219e-01  -1.30275315e+00  -2.00537915e+00\n",
      "    1.33610847e+01  -8.15893793e+00   1.36736036e+01  -5.12985837e-01\n",
      "   -1.89857213e+00  -1.00777724e+00   1.24727409e+00   1.64144731e+01\n",
      "   -1.19451567e+00   1.47851431e-02  -9.94775445e-01   6.69310470e-01\n",
      "    3.85872509e-02   8.11377090e-01   3.70393952e-01  -1.29731210e+00\n",
      "   -1.83591419e+00   1.57001741e+00   1.38581219e+00   2.46136910e-01\n",
      "    2.23982431e+00   7.58466709e+00  -1.07694227e+00  -7.33660803e-01\n",
      "    8.25473249e-01  -6.57230020e+00  -8.34025735e+00  -6.76648929e-01\n",
      "   -1.43967082e+00  -8.26590001e-01  -5.94401918e-01  -1.04383901e+00\n",
      "    8.44831991e-01   1.16429143e+01  -6.14992390e-01  -7.18753971e-01\n",
      "   -1.83972313e+00  -1.37583476e-01   3.46622106e+00  -1.13849463e+00\n",
      "    3.36145305e+00   9.44601128e+00   5.69074848e-01  -1.25039209e+00\n",
      "    1.47234743e+00  -7.54432067e-01   1.12406938e+00  -1.28040730e+00\n",
      "   -5.11193636e-01   6.72888454e+00  -9.49072813e-02  -5.46974878e+00\n",
      "   -2.40486069e+00   3.53054695e+00   8.60025440e+00   1.56034777e+01\n",
      "   -1.86462115e+00  -2.22877698e+00  -1.12776869e+00  -1.87679212e+00\n",
      "   -1.45497326e+00  -4.29721448e-01  -1.64816066e+00   2.16611376e+00\n",
      "   -3.53246546e-01  -6.92105803e-01   9.04637684e-01  -2.94811909e+00\n",
      "   -8.86090758e-01  -4.06434842e-01  -7.23291201e-01   1.62722108e-01\n",
      "    1.62722108e-01   1.62722108e-01   1.62722108e-01   1.62722108e-01\n",
      "    7.23735228e-01   2.49788397e+00   1.80686259e+01   3.37026095e+00\n",
      "   -1.34303781e+00  -1.72738621e+00  -8.62531881e-01   5.50157866e+00\n",
      "   -2.44070641e+00   1.12035376e-01   4.73299281e-02  -2.14297327e+00]]\n"
     ]
    },
    {
     "ename": "ValueError",
     "evalue": "shapes (300,) and (1,300) not aligned: 300 (dim 0) != 1 (dim 0)",
     "output_type": "error",
     "traceback": [
      "\u001b[0;31m---------------------------------------------------------------------------\u001b[0m",
      "\u001b[0;31mValueError\u001b[0m                                Traceback (most recent call last)",
      "\u001b[0;32m<ipython-input-8-01a8614d588e>\u001b[0m in \u001b[0;36m<module>\u001b[0;34m()\u001b[0m\n\u001b[1;32m      5\u001b[0m \u001b[0;31m#X = preprocessing.normalize(X, norm='l2')\u001b[0m\u001b[0;34m\u001b[0m\u001b[0;34m\u001b[0m\u001b[0m\n\u001b[1;32m      6\u001b[0m \u001b[0mlambd\u001b[0m \u001b[0;34m=\u001b[0m \u001b[0;36m1.0\u001b[0m\u001b[0;34m/\u001b[0m\u001b[0mn\u001b[0m\u001b[0;34m\u001b[0m\u001b[0m\n\u001b[0;32m----> 7\u001b[0;31m \u001b[0mdistance_plot\u001b[0m\u001b[0;34m(\u001b[0m\u001b[0mX\u001b[0m\u001b[0;34m,\u001b[0m\u001b[0my\u001b[0m\u001b[0;34m,\u001b[0m\u001b[0mn\u001b[0m\u001b[0;34m,\u001b[0m\u001b[0md\u001b[0m\u001b[0;34m,\u001b[0m\u001b[0mlambd\u001b[0m\u001b[0;34m,\u001b[0m\u001b[0;36m4\u001b[0m\u001b[0;34m,\u001b[0m\u001b[0mn\u001b[0m\u001b[0;34m)\u001b[0m\u001b[0;34m\u001b[0m\u001b[0m\n\u001b[0m",
      "\u001b[0;32m<ipython-input-7-1a4171184de6>\u001b[0m in \u001b[0;36mdistance_plot\u001b[0;34m(X, y, n, d, lambd, nr, pivotsi, verbose)\u001b[0m\n\u001b[1;32m     22\u001b[0m     \u001b[0mpivot\u001b[0m \u001b[0;34m=\u001b[0m \u001b[0mclf\u001b[0m\u001b[0;34m.\u001b[0m\u001b[0mfit\u001b[0m\u001b[0;34m(\u001b[0m\u001b[0mX\u001b[0m\u001b[0;34m,\u001b[0m \u001b[0my\u001b[0m\u001b[0;34m)\u001b[0m\u001b[0;34m.\u001b[0m\u001b[0mcoef_\u001b[0m\u001b[0;34m\u001b[0m\u001b[0m\n\u001b[1;32m     23\u001b[0m     \u001b[0;32mprint\u001b[0m\u001b[0;34m(\u001b[0m\u001b[0mpivot\u001b[0m\u001b[0;34m)\u001b[0m\u001b[0;34m\u001b[0m\u001b[0m\n\u001b[0;32m---> 24\u001b[0;31m     \u001b[0mpivot_primal\u001b[0m \u001b[0;34m=\u001b[0m \u001b[0mprimal_func\u001b[0m\u001b[0;34m(\u001b[0m\u001b[0mpivot\u001b[0m\u001b[0;34m,\u001b[0m\u001b[0;36m0\u001b[0m\u001b[0;34m,\u001b[0m\u001b[0mX\u001b[0m\u001b[0;34m,\u001b[0m\u001b[0my\u001b[0m\u001b[0;34m,\u001b[0m\u001b[0mlambd\u001b[0m\u001b[0;34m)\u001b[0m\u001b[0;34m\u001b[0m\u001b[0m\n\u001b[0m\u001b[1;32m     25\u001b[0m     \u001b[0;32mprint\u001b[0m\u001b[0;34m(\u001b[0m\u001b[0;34m\"precision:{},pivot_norm:{}\"\u001b[0m\u001b[0;34m.\u001b[0m\u001b[0mformat\u001b[0m\u001b[0;34m(\u001b[0m\u001b[0mprimal_func\u001b[0m\u001b[0;34m(\u001b[0m\u001b[0mpivot\u001b[0m\u001b[0;34m,\u001b[0m\u001b[0;36m0\u001b[0m\u001b[0;34m,\u001b[0m\u001b[0mX\u001b[0m\u001b[0;34m,\u001b[0m\u001b[0my\u001b[0m\u001b[0;34m,\u001b[0m\u001b[0mlambd\u001b[0m\u001b[0;34m)\u001b[0m\u001b[0;34m,\u001b[0m\u001b[0mnp\u001b[0m\u001b[0;34m.\u001b[0m\u001b[0msquare\u001b[0m\u001b[0;34m(\u001b[0m\u001b[0mnp\u001b[0m\u001b[0;34m.\u001b[0m\u001b[0mlinalg\u001b[0m\u001b[0;34m.\u001b[0m\u001b[0mnorm\u001b[0m\u001b[0;34m(\u001b[0m\u001b[0mpivot\u001b[0m\u001b[0;34m)\u001b[0m\u001b[0;34m)\u001b[0m\u001b[0;34m)\u001b[0m\u001b[0;34m)\u001b[0m\u001b[0;34m\u001b[0m\u001b[0m\n\u001b[1;32m     26\u001b[0m     \u001b[0mspivot\u001b[0m \u001b[0;34m=\u001b[0m \u001b[0mstr\u001b[0m\u001b[0;34m(\u001b[0m\u001b[0mpivot\u001b[0m\u001b[0;34m)\u001b[0m\u001b[0;34m[\u001b[0m\u001b[0;36m2\u001b[0m\u001b[0;34m:\u001b[0m\u001b[0;34m-\u001b[0m\u001b[0;36m2\u001b[0m\u001b[0;34m]\u001b[0m\u001b[0;34m\u001b[0m\u001b[0m\n",
      "\u001b[0;32m<ipython-input-4-48480e2de7ea>\u001b[0m in \u001b[0;36mprimal_func\u001b[0;34m(w, alpha, X, y, lambd)\u001b[0m\n\u001b[1;32m     19\u001b[0m     \u001b[0mpw\u001b[0m \u001b[0;34m=\u001b[0m \u001b[0;36m0\u001b[0m\u001b[0;34m\u001b[0m\u001b[0m\n\u001b[1;32m     20\u001b[0m     \u001b[0;32mfor\u001b[0m \u001b[0mi\u001b[0m \u001b[0;32min\u001b[0m \u001b[0mrange\u001b[0m\u001b[0;34m(\u001b[0m\u001b[0mn\u001b[0m\u001b[0;34m)\u001b[0m\u001b[0;34m:\u001b[0m\u001b[0;34m\u001b[0m\u001b[0m\n\u001b[0;32m---> 21\u001b[0;31m         \u001b[0mdif\u001b[0m \u001b[0;34m=\u001b[0m \u001b[0mnp\u001b[0m\u001b[0;34m.\u001b[0m\u001b[0mdot\u001b[0m\u001b[0;34m(\u001b[0m\u001b[0mX\u001b[0m\u001b[0;34m[\u001b[0m\u001b[0mi\u001b[0m\u001b[0;34m,\u001b[0m\u001b[0;34m:\u001b[0m\u001b[0;34m]\u001b[0m\u001b[0;34m,\u001b[0m\u001b[0mw\u001b[0m\u001b[0;34m)\u001b[0m \u001b[0;34m-\u001b[0m \u001b[0my\u001b[0m\u001b[0;34m[\u001b[0m\u001b[0mi\u001b[0m\u001b[0;34m]\u001b[0m\u001b[0;34m\u001b[0m\u001b[0m\n\u001b[0m\u001b[1;32m     22\u001b[0m         \u001b[0mpw\u001b[0m \u001b[0;34m=\u001b[0m \u001b[0mpw\u001b[0m \u001b[0;34m+\u001b[0m \u001b[0mdif\u001b[0m\u001b[0;34m*\u001b[0m\u001b[0mdif\u001b[0m\u001b[0;34m\u001b[0m\u001b[0m\n\u001b[1;32m     23\u001b[0m     \u001b[0mpw\u001b[0m \u001b[0;34m=\u001b[0m \u001b[0mpw\u001b[0m\u001b[0;34m/\u001b[0m\u001b[0mfloat\u001b[0m\u001b[0;34m(\u001b[0m\u001b[0mn\u001b[0m\u001b[0;34m)\u001b[0m\u001b[0;34m\u001b[0m\u001b[0m\n",
      "\u001b[0;31mValueError\u001b[0m: shapes (300,) and (1,300) not aligned: 300 (dim 0) != 1 (dim 0)"
     ]
    }
   ],
   "source": [
    "n = 49749; \n",
    "d = 300; \n",
    "filename = \"../datasets/w8a\"\n",
    "y, X = readfile(filename,n,d)\n",
    "#X = preprocessing.normalize(X, norm='l2')\n",
    "lambd = 1.0/n\n",
    "distance_plot(X,y,n,d,lambd,4,n)"
   ]
  },
  {
   "cell_type": "code",
   "execution_count": 70,
   "metadata": {
    "collapsed": false
   },
   "outputs": [
    {
     "name": "stdout",
     "output_type": "stream",
     "text": [
      "3.74165738677\n",
      "Loading Data Accomblished\n",
      "t1:32561,t2:123\n",
      "precision:0.448450687754,pivot_norm:1.977641904\n",
      "subsample size:256\n",
      "dist= 0.00285437647442\n",
      "subsample size:256\n",
      "dist= 0.00285437647442\n",
      "subsample size:256\n",
      "dist= 0.00285437647442\n",
      "subsample size:256\n",
      "dist= 0.00285437647442\n",
      "step: 0\n",
      "subsample size:512\n",
      "dist= 0.00155789736637\n",
      "subsample size:512\n",
      "dist= 0.00155789736637\n",
      "subsample size:512\n",
      "dist= 0.00155789736637\n",
      "subsample size:512\n",
      "dist= 0.00155789736637\n",
      "step: 1\n",
      "subsample size:1024\n",
      "dist= 0.000835541074371\n",
      "subsample size:1024\n",
      "dist= 0.000835541074371\n",
      "subsample size:1024\n",
      "dist= 0.000835541074371\n",
      "subsample size:1024\n",
      "dist= 0.000835541074371\n",
      "step: 2\n",
      "subsample size:2048\n",
      "dist= 0.000432462650807\n",
      "subsample size:2048\n",
      "dist= 0.000432462650807\n",
      "subsample size:2048\n",
      "dist= 0.000432462650807\n",
      "subsample size:2048\n",
      "dist= 0.000432462650807\n",
      "step: 3\n",
      "subsample size:4096\n",
      "dist= 0.000210723396291\n",
      "subsample size:4096\n",
      "dist= 0.000210723396291\n",
      "subsample size:4096\n",
      "dist= 0.000210723396291\n",
      "subsample size:4096\n",
      "dist= 0.000210723396291\n",
      "step: 4\n",
      "subsample size:8192\n",
      "dist= 9.22841525732e-05\n",
      "subsample size:8192\n",
      "dist= 9.22841525732e-05\n",
      "subsample size:8192\n",
      "dist= 9.22841525732e-05\n",
      "subsample size:8192\n",
      "dist= 9.22841525732e-05\n",
      "step: 5\n",
      "[ 0.  0.  0.  0.  0.  0.]\n",
      "y =0.98 x + -0.34\n"
     ]
    },
    {
     "data": {
      "image/png": "[encoded data removed]",
      "text/plain": [
       "<matplotlib.figure.Figure at 0x12f8ac610>"
      ]
     },
     "metadata": {},
     "output_type": "display_data"
    }
   ],
   "source": [
    "n = 32561; \n",
    "d = 123;\n",
    "filename = \"../datasets/a9a\"\n",
    "y, X = readfile(filename,n,d)\n",
    "#X = preprocessing.normalize(X, norm='l2')\n",
    "lambd = 1.0/n\n",
    "distance_plot(X,y,n,d,lambd,4,n)"
   ]
  },
  {
   "cell_type": "code",
   "execution_count": 67,
   "metadata": {
    "collapsed": false
   },
   "outputs": [
    {
     "name": "stdout",
     "output_type": "stream",
     "text": [
      "2.74779987078\n",
      "Loading Data Accomblished\n",
      "t1:50100,t2:54\n",
      "precision:0.48001585772,pivot_norm:41.6857160433\n",
      "subsample size:256\n",
      "dist= 0.0403006214755\n",
      "subsample size:256\n",
      "dist= 0.0403006214755\n",
      "subsample size:256\n",
      "dist= 0.0403006214755\n",
      "subsample size:256\n",
      "dist= 0.0403006214755\n",
      "step: 0\n",
      "subsample size:512\n",
      "dist= 0.0265223458843\n",
      "subsample size:512\n",
      "dist= 0.0265223458843\n",
      "subsample size:512\n",
      "dist= 0.0265223458843\n",
      "subsample size:512\n",
      "dist= 0.0265223458843\n",
      "step: 1\n",
      "subsample size:1024\n",
      "dist= 0.0159554943098\n",
      "subsample size:1024\n",
      "dist= 0.0159554943098\n",
      "subsample size:1024\n",
      "dist= 0.0159554943098\n",
      "subsample size:1024\n",
      "dist= 0.0159554943098\n",
      "step: 2\n",
      "subsample size:2048\n",
      "dist= 0.008779064308\n",
      "subsample size:2048\n",
      "dist= 0.008779064308\n",
      "subsample size:2048\n",
      "dist= 0.008779064308\n",
      "subsample size:2048\n",
      "dist= 0.008779064308\n",
      "step: 3\n",
      "subsample size:4096\n",
      "dist= 0.00448228209425\n",
      "subsample size:4096\n",
      "dist= 0.00448228209425\n",
      "subsample size:4096\n",
      "dist= 0.00448228209425\n",
      "subsample size:4096\n",
      "dist= 0.00448228209425\n",
      "step: 4\n",
      "subsample size:8192\n",
      "dist= 0.00212444986081\n",
      "subsample size:8192\n",
      "dist= 0.00212444986081\n",
      "subsample size:8192\n",
      "dist= 0.00212444986081\n",
      "subsample size:8192\n",
      "dist= 0.00212444986081\n",
      "step: 5\n",
      "subsample size:16384\n",
      "dist= 0.000883498270054\n",
      "subsample size:16384\n",
      "dist= 0.000883498270054\n",
      "subsample size:16384\n",
      "dist= 0.000883498270054\n",
      "subsample size:16384\n",
      "dist= 0.000883498270054\n",
      "step: 6\n",
      "[  1.77493704e-30   4.04291214e-30   0.00000000e+00   9.86076132e-30\n",
      "   3.47887659e-28   1.66055221e-28   3.97664782e-27]\n",
      "y =0.92 x + 2.08\n"
     ]
    },
    {
     "data": {
      "image/png": "[encoded data removed]",
      "text/plain": [
       "<matplotlib.figure.Figure at 0x12ff20f90>"
      ]
     },
     "metadata": {},
     "output_type": "display_data"
    }
   ],
   "source": [
    "n = 50100; \n",
    "d = 54; \n",
    "filename = \"../datasets/covtype.libsvm.binary.scale\"\n",
    "y, X = readfile(filename,n,d)\n",
    "lambd = 1.0/n\n",
    "distance_plot(X,y,n,d,lambd,4,n)"
   ]
  },
  {
   "cell_type": "code",
   "execution_count": 55,
   "metadata": {
    "collapsed": false
   },
   "outputs": [
    {
     "data": {
      "text/plain": [
       "32561"
      ]
     },
     "execution_count": 55,
     "metadata": {},
     "output_type": "execute_result"
    }
   ],
   "source": [
    "n"
   ]
  },
  {
   "cell_type": "code",
   "execution_count": 56,
   "metadata": {
    "collapsed": false
   },
   "outputs": [],
   "source": [
    "m = np.dot(np.transpose(X),X)"
   ]
  },
  {
   "cell_type": "code",
   "execution_count": 57,
   "metadata": {
    "collapsed": false
   },
   "outputs": [],
   "source": [
    "w, v = np.linalg.eig(m)"
   ]
  },
  {
   "cell_type": "code",
   "execution_count": 58,
   "metadata": {
    "collapsed": false
   },
   "outputs": [
    {
     "data": {
      "text/plain": [
       "array([  2.04733109e+05 +0.00000000e+00j,\n",
       "         3.00060137e+04 +0.00000000e+00j,\n",
       "         1.89760099e+04 +0.00000000e+00j,\n",
       "         1.47775545e+04 +0.00000000e+00j,\n",
       "         1.27689553e+04 +0.00000000e+00j,\n",
       "         1.11075911e+04 +0.00000000e+00j,\n",
       "         9.23128516e+03 +0.00000000e+00j,\n",
       "         8.21859113e+03 +0.00000000e+00j,\n",
       "         7.68821208e+03 +0.00000000e+00j,\n",
       "         6.74632272e+03 +0.00000000e+00j,\n",
       "         5.85950617e+03 +0.00000000e+00j,\n",
       "         6.32331739e+03 +0.00000000e+00j,\n",
       "         6.62255133e+03 +0.00000000e+00j,\n",
       "         6.56298615e+03 +0.00000000e+00j,\n",
       "         6.43950426e+03 +0.00000000e+00j,\n",
       "         6.51137359e+03 +0.00000000e+00j,\n",
       "         5.62619331e+03 +0.00000000e+00j,\n",
       "         4.86403733e+03 +0.00000000e+00j,\n",
       "         4.67723820e+03 +0.00000000e+00j,\n",
       "         4.51735696e+03 +0.00000000e+00j,\n",
       "         4.05828009e+03 +0.00000000e+00j,\n",
       "         4.07288463e+03 +0.00000000e+00j,\n",
       "         3.52254470e+03 +0.00000000e+00j,\n",
       "         3.67894843e+03 +0.00000000e+00j,\n",
       "         3.39216795e+03 +0.00000000e+00j,\n",
       "         3.21171466e+03 +0.00000000e+00j,\n",
       "         3.04987668e+03 +0.00000000e+00j,\n",
       "         2.84580290e+03 +0.00000000e+00j,\n",
       "         2.80017049e+03 +0.00000000e+00j,\n",
       "         2.51906105e+03 +0.00000000e+00j,\n",
       "         2.29181862e+03 +0.00000000e+00j,\n",
       "         2.22814864e+03 +0.00000000e+00j,\n",
       "         2.18920527e+03 +0.00000000e+00j,\n",
       "         1.97732130e+03 +0.00000000e+00j,\n",
       "         1.84525088e+03 +0.00000000e+00j,\n",
       "         1.78715549e+03 +0.00000000e+00j,\n",
       "         1.64331546e+03 +0.00000000e+00j,\n",
       "         1.53238706e+03 +0.00000000e+00j,\n",
       "         1.42825818e+03 +0.00000000e+00j,\n",
       "         1.37565709e+03 +0.00000000e+00j,\n",
       "         1.20522361e+03 +0.00000000e+00j,\n",
       "         1.15509397e+03 +0.00000000e+00j,\n",
       "         1.18686793e+03 +0.00000000e+00j,\n",
       "         1.05070334e+03 +0.00000000e+00j,\n",
       "         1.08973365e+03 +0.00000000e+00j,\n",
       "         1.02130956e+03 +0.00000000e+00j,\n",
       "         9.39903214e+02 +0.00000000e+00j,\n",
       "         9.80392557e+02 +0.00000000e+00j,\n",
       "         8.52649482e+02 +0.00000000e+00j,\n",
       "         7.46229389e+02 +0.00000000e+00j,\n",
       "         6.91196429e+02 +0.00000000e+00j,\n",
       "         6.02712774e+02 +0.00000000e+00j,\n",
       "         5.72212686e+02 +0.00000000e+00j,\n",
       "         5.10949733e+02 +0.00000000e+00j,\n",
       "         4.52667167e+02 +0.00000000e+00j,\n",
       "         4.58158828e+02 +0.00000000e+00j,\n",
       "         4.72477002e+02 +0.00000000e+00j,\n",
       "         4.12658497e+02 +0.00000000e+00j,\n",
       "         3.27888009e+02 +0.00000000e+00j,\n",
       "         2.97542131e+02 +0.00000000e+00j,\n",
       "         2.83738044e+02 +0.00000000e+00j,\n",
       "         1.82700455e+02 +0.00000000e+00j,\n",
       "         1.67252279e+02 +0.00000000e+00j,\n",
       "         1.49338172e+02 +0.00000000e+00j,\n",
       "         1.32515160e+02 +0.00000000e+00j,\n",
       "         1.16757466e+02 +0.00000000e+00j,\n",
       "         1.10176119e+02 +0.00000000e+00j,\n",
       "         1.07730524e+02 +0.00000000e+00j,\n",
       "         1.00169728e+02 +0.00000000e+00j,\n",
       "         9.42740980e+01 +0.00000000e+00j,\n",
       "         9.20390651e+01 +0.00000000e+00j,\n",
       "         8.48262927e+01 +0.00000000e+00j,\n",
       "         7.74904060e+01 +0.00000000e+00j,\n",
       "         7.63056140e+01 +0.00000000e+00j,\n",
       "         7.06555328e+01 +0.00000000e+00j,\n",
       "         7.01641176e+01 +0.00000000e+00j,\n",
       "         6.62498412e+01 +0.00000000e+00j,\n",
       "         6.28979816e+01 +0.00000000e+00j,\n",
       "         6.07877406e+01 +0.00000000e+00j,\n",
       "         5.92659283e+01 +0.00000000e+00j,\n",
       "         5.57904422e+01 +0.00000000e+00j,\n",
       "         5.57429997e+01 +0.00000000e+00j,\n",
       "         4.97472450e+01 +0.00000000e+00j,\n",
       "         4.30375283e+01 +0.00000000e+00j,\n",
       "         4.20747694e+01 +0.00000000e+00j,\n",
       "         3.73548916e+01 +0.00000000e+00j,\n",
       "         3.47766212e+01 +0.00000000e+00j,\n",
       "         3.23135618e+01 +0.00000000e+00j,\n",
       "         3.00994007e+01 +0.00000000e+00j,\n",
       "         2.79621676e+01 +0.00000000e+00j,\n",
       "         6.96101793e+00 +0.00000000e+00j,\n",
       "         2.47809981e+01 +0.00000000e+00j,\n",
       "         2.44610695e+01 +0.00000000e+00j,\n",
       "         2.12561905e+01 +0.00000000e+00j,\n",
       "         9.12503304e+00 +0.00000000e+00j,\n",
       "         9.29412257e+00 +0.00000000e+00j,\n",
       "         2.88873603e+01 +0.00000000e+00j,\n",
       "         1.21849141e+01 +0.00000000e+00j,\n",
       "         1.96183446e+01 +0.00000000e+00j,\n",
       "         1.34152558e+01 +0.00000000e+00j,\n",
       "         1.42326627e+01 +0.00000000e+00j,\n",
       "         9.95212850e-01 +0.00000000e+00j,\n",
       "         1.86817428e+01 +0.00000000e+00j,\n",
       "         1.81983166e+01 +0.00000000e+00j,\n",
       "         1.58679670e+01 +0.00000000e+00j,\n",
       "         1.29511029e+01 +0.00000000e+00j,\n",
       "         1.79244377e+01 +0.00000000e+00j,\n",
       "         1.46809499e+01 +0.00000000e+00j,\n",
       "         3.97444145e-12 +0.00000000e+00j,\n",
       "        -2.85342269e-12 +0.00000000e+00j,\n",
       "         1.61608165e-12 +0.00000000e+00j,\n",
       "        -1.05148707e-12 +2.97417015e-13j,\n",
       "        -1.05148707e-12 -2.97417015e-13j,\n",
       "         1.96506560e-13 +6.26356141e-13j,\n",
       "         1.96506560e-13 -6.26356141e-13j,\n",
       "        -4.54025520e-13 +3.44283160e-13j,\n",
       "        -4.54025520e-13 -3.44283160e-13j,\n",
       "         5.59335708e-13 +1.11775280e-13j,\n",
       "         5.59335708e-13 -1.11775280e-13j,\n",
       "         1.51988549e-14 +3.07374647e-13j,\n",
       "         1.51988549e-14 -3.07374647e-13j,\n",
       "         3.53063551e-13 +2.42986998e-13j,   3.53063551e-13 -2.42986998e-13j])"
      ]
     },
     "execution_count": 58,
     "metadata": {},
     "output_type": "execute_result"
    }
   ],
   "source": [
    "w"
   ]
  },
  {
   "cell_type": "code",
   "execution_count": 59,
   "metadata": {
    "collapsed": false
   },
   "outputs": [
    {
     "data": {
      "text/plain": [
       "108"
      ]
     },
     "execution_count": 59,
     "metadata": {},
     "output_type": "execute_result"
    }
   ],
   "source": [
    "np.linalg.matrix_rank(m)"
   ]
  },
  {
   "cell_type": "code",
   "execution_count": 3,
   "metadata": {
    "collapsed": false
   },
   "outputs": [],
   "source": [
    "n = 32561; \n",
    "d = 123;\n",
    "filename = \"../datasets/a9a\"\n",
    "y, X = readfile(filename,n,d)\n"
   ]
  },
  {
   "cell_type": "code",
   "execution_count": 4,
   "metadata": {
    "collapsed": true
   },
   "outputs": [],
   "source": [
    " U, s, V = np.linalg.svd(X, full_matrices=False)"
   ]
  },
  {
   "cell_type": "code",
   "execution_count": 5,
   "metadata": {
    "collapsed": false
   },
   "outputs": [
    {
     "data": {
      "text/plain": [
       "(32561, 123)"
      ]
     },
     "execution_count": 5,
     "metadata": {},
     "output_type": "execute_result"
    }
   ],
   "source": [
    "U.shape"
   ]
  },
  {
   "cell_type": "code",
   "execution_count": 6,
   "metadata": {
    "collapsed": false
   },
   "outputs": [
    {
     "data": {
      "text/plain": [
       "(32561, 123)"
      ]
     },
     "execution_count": 6,
     "metadata": {},
     "output_type": "execute_result"
    }
   ],
   "source": [
    "X.shape"
   ]
  },
  {
   "cell_type": "code",
   "execution_count": 7,
   "metadata": {
    "collapsed": false
   },
   "outputs": [
    {
     "data": {
      "text/plain": [
       "(123, 123)"
      ]
     },
     "execution_count": 7,
     "metadata": {},
     "output_type": "execute_result"
    }
   ],
   "source": [
    "V.shape"
   ]
  },
  {
   "cell_type": "code",
   "execution_count": 8,
   "metadata": {
    "collapsed": true
   },
   "outputs": [],
   "source": [
    "uy = np.dot(np.transpose(U),y)"
   ]
  },
  {
   "cell_type": "code",
   "execution_count": 10,
   "metadata": {
    "collapsed": false
   },
   "outputs": [
    {
     "data": {
      "text/plain": [
       "17969.685843462219"
      ]
     },
     "execution_count": 10,
     "metadata": {},
     "output_type": "execute_result"
    }
   ],
   "source": [
    "np.dot(np.transpose(uy),uy)"
   ]
  },
  {
   "cell_type": "code",
   "execution_count": 12,
   "metadata": {
    "collapsed": false
   },
   "outputs": [
    {
     "data": {
      "text/plain": [
       "(array([ 90.,  25.,   5.,   2.,   0.,   0.,   0.,   0.,   0.,   1.]),\n",
       " array([  1.06082143e-13,   4.52474429e+01,   9.04948859e+01,\n",
       "          1.35742329e+02,   1.80989772e+02,   2.26237215e+02,\n",
       "          2.71484658e+02,   3.16732101e+02,   3.61979544e+02,\n",
       "          4.07226987e+02,   4.52474429e+02]),\n",
       " <a list of 10 Patch objects>)"
      ]
     },
     "execution_count": 12,
     "metadata": {},
     "output_type": "execute_result"
    },
    {
     "data": {
      "image/png": "[encoded data removed]",
      "text/plain": [
       "<matplotlib.figure.Figure at 0x10496b790>"
      ]
     },
     "metadata": {},
     "output_type": "display_data"
    }
   ],
   "source": [
    "plt.hist(s)"
   ]
  },
  {
   "cell_type": "code",
   "execution_count": 14,
   "metadata": {
    "collapsed": false
   },
   "outputs": [
    {
     "data": {
      "text/plain": [
       "452.47442944940286"
      ]
     },
     "execution_count": 14,
     "metadata": {},
     "output_type": "execute_result"
    }
   ],
   "source": [
    "max(s)"
   ]
  },
  {
   "cell_type": "code",
   "execution_count": null,
   "metadata": {
    "collapsed": true
   },
   "outputs": [],
   "source": []
  }
 ],
 "metadata": {
  "kernelspec": {
   "display_name": "Python 2",
   "language": "python",
   "name": "python2"
  },
  "language_info": {
   "codemirror_mode": {
    "name": "ipython",
    "version": 2
   },
   "file_extension": ".py",
   "mimetype": "text/x-python",
   "name": "python",
   "nbconvert_exporter": "python",
   "pygments_lexer": "ipython2",
   "version": "2.7.11"
  }
 },
 "nbformat": 4,
 "nbformat_minor": 0
}
