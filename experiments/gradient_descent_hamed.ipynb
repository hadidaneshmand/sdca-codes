{
 "cells": [
  {
   "cell_type": "code",
   "execution_count": 10,
   "metadata": {
    "collapsed": false
   },
   "outputs": [
    {
     "name": "stdout",
     "output_type": "stream",
     "text": [
      "Using matplotlib backend: MacOSX\n",
      "Populating the interactive namespace from numpy and matplotlib\n"
     ]
    },
    {
     "name": "stderr",
     "output_type": "stream",
     "text": [
      "WARNING: pylab import has clobbered these variables: ['rc']\n",
      "`%matplotlib` prevents importing * from pylab and numpy\n"
     ]
    }
   ],
   "source": [
    "%pylab\n",
    "%matplotlib inline\n",
    "import numpy as np \n",
    "import math\n",
    "import matplotlib.pyplot as plt\n",
    "from sklearn.linear_model import Ridge\n",
    "from matplotlib import rc\n",
    "rc('font',**{'family':'sans-serif','sans-serif':['Helvetica']})\n",
    "## for Palatino and other serif fonts use:\n",
    "#rc('font',**{'family':'serif','serif':['Palatino']})\n",
    "rc('text', usetex=True)\n",
    "def readfile(filename, n,d):\n",
    "    y = np.zeros(n) # targets\n",
    "    X = np.zeros((n,d)) # input matrix each row is a sample data point\n",
    "    li = 0 \n",
    "    with open(filename, \"rb\") as f:\n",
    "        for line in f:\n",
    "           if li>=n : \n",
    "             break;\n",
    "           parts = line.split()\n",
    "           y[li] = float(parts[0])\n",
    "           for i in range(len(parts)): \n",
    "                if i >0 and parts[i] != '\\n': \n",
    "                    fparts = parts[i].split(\":\")\n",
    "                    X[li,int(fparts[0])-1] = float(fparts[1])\n",
    "           li = li +1\n",
    "    return (y,X)\n"
   ]
  },
  {
   "cell_type": "code",
   "execution_count": 11,
   "metadata": {
    "collapsed": false
   },
   "outputs": [],
   "source": [
    "def grad_ridge(w,X,y,lambd): \n",
    "    n, d = X.shape\n",
    "    g = np.zeros(d)\n",
    "    for i in range(n):\n",
    "        dot = np.dot(X[i,:],np.transpose(w))\n",
    "        g = np.add(g,(2*(dot-y[i])*X[i,:])/float(n))\n",
    "    g = np.add(g,lambd*w)\n",
    "    return g,1.0\n",
    "def risk_ridge(w,X,y,lambd): \n",
    "    n, d = X.shape\n",
    "    delta = (np.dot(X,w)-y)/float(math.sqrt(n))\n",
    "    return np.dot(np.transpose(delta),delta) + 0.5*lambd*np.dot(np.transpose(w),w)\n",
    "    \n",
    "def gradient_desc(X,y,lambd,step_size,grad,risk,itrs,w0 = None): \n",
    "    n, d = X.shape\n",
    "    if w0 is None: \n",
    "        w = np.zeros(d)\n",
    "    else: \n",
    "        w = w0\n",
    "    effective_iters = 0\n",
    "    stat = [0,risk(w,X,y,lambd)]\n",
    "    while effective_iters < itrs: \n",
    "        g, c = grad(w,X,y,lambd) \n",
    "        w = w -step_size*g\n",
    "        effective_iters = effective_iters+c\n",
    "        risk_value = risk(w,X,y,lambd)\n",
    "        n_stat = [effective_iters,risk_value]\n",
    "        stat = np.c_[stat,n_stat]\n",
    "        #print(\"loss[{}]={}\".format(effective_iters,risk_value))\n",
    "    return stat,w\n",
    "def theortical_bound(X,y,lambd,step_size,risk,itrs,w0 = None): \n",
    "    n, d = X.shape\n",
    "    if w0 is None: \n",
    "        w = np.zeros(d)\n",
    "    else: \n",
    "        w = w0\n",
    "    effective_iters = 0\n",
    "    init_error = risk(w,X,y,lambd)\n",
    "    stat = [0,init_error]\n",
    "    while effective_iters < itrs: \n",
    "        effective_iters = effective_iters+1\n",
    "        error = pow(1-2*step_size*lambd,2*effective_iters)*init_error\n",
    "        n_stat = [effective_iters,error]\n",
    "        stat = np.c_[stat,n_stat]\n",
    "    return stat"
   ]
  },
  {
   "cell_type": "code",
   "execution_count": 29,
   "metadata": {
    "collapsed": false
   },
   "outputs": [],
   "source": [
    "def empirical_vs_theoretical(X,y,lambd,step_size, epochs, plotname):\n",
    "    cov_mat = np.dot(np.transpose(X),X)/float(n)\n",
    "    w_start = np.dot(np.linalg.inv(np.add(2*cov_mat,lambd*np.eye(d))),2.0*np.dot(np.transpose(X),y)/float(n))\n",
    "    opt_risk = risk_ridge(w_start,X,y,lambd)\n",
    "    mu = np.dot(np.transpose(X),y)/float(n)\n",
    "    def grad_eff(w,X,y,lambd): \n",
    "        g = 2*np.dot(cov_mat,w)\n",
    "        g = (g-2*mu)\n",
    "        g = g + lambd*w\n",
    "        return g,1.0\n",
    "    def risk(w,X,y,lambd):\n",
    "        return risk_ridge(w,X,y,lambd)-opt_risk\n",
    "    [stat,w] = gradient_desc(X,y,lambd,step_size,grad_eff,risk,epochs)\n",
    "    stat2 = theortical_bound(X,y,lambd,step_size,risk,epochs)\n",
    "    plt.plot((stat[0,:]),np.log10(stat[1,:]),label='empirical')\n",
    "    plt.plot((stat2[0,:]),np.log10(stat2[1,:]),label='theortical')\n",
    "    lgd = plt.legend(loc='upper center', bbox_to_anchor=(0.5, -0.05),\n",
    "              fancybox=True, shadow=True, ncol=5)\n",
    "    plt.savefig(plotname, facecolor='w', edgecolor='w',\n",
    "             orientation='portrait',  format='eps', bbox_extra_artists=(lgd,), bbox_inches='tight')\n",
    "def initialization(X,y,lambd,step_size, epochs, plotname):\n",
    "    cov_mat = np.dot(np.transpose(X),X)/float(n)\n",
    "    w_start = np.dot(np.linalg.inv(np.add(2*cov_mat,lambd*np.eye(d))),2.0*np.dot(np.transpose(X),y)/float(n))\n",
    "    opt_risk = risk_ridge(w_start,X,y,lambd)\n",
    "    mu = np.dot(np.transpose(X),y)/float(n)\n",
    "    diag,U = np.linalg.eig(cov_mat)\n",
    "    def grad_eff(w,X,y,lambd): \n",
    "        g = 2*np.dot(cov_mat,w)\n",
    "        g = (g-2*mu)\n",
    "        g = g + lambd*w\n",
    "        return g,1.0\n",
    "    def risk(w,X,y,lambd):\n",
    "        return risk_ridge(w,X,y,lambd)-opt_risk\n",
    "    [stat,w] = gradient_desc(X,y,lambd,step_size,grad_eff,risk,epochs)\n",
    "    [stat2,w] = gradient_desc(X,y,lambd,step_size,grad_eff,risk,epochs,w0 = 100*U[:,0])\n",
    "    [stat3,w] = gradient_desc(X,y,lambd,step_size,grad_eff,risk,epochs,w0 = 100*U[:,d-1])\n",
    "    plt.plot((stat[0,:]),np.log10(stat[1,:]),label='$w_0 = 0$')\n",
    "    plt.plot((stat2[0,:]),np.log10(stat2[1,:]),label='$w_0 = 100 u_1$')\n",
    "    plt.plot((stat3[0,:]),np.log10(stat3[1,:]),label='$w_0 = 100 u_d$')\n",
    "    lgd = plt.legend(loc='upper center', bbox_to_anchor=(0.5, -0.05),\n",
    "              fancybox=True, shadow=True, ncol=5)\n",
    "    plt.savefig(plotname, facecolor='w', edgecolor='w',\n",
    "             orientation='portrait',  format='eps', bbox_extra_artists=(lgd,), bbox_inches='tight')\n",
    "def without_reg(X,y,step_size, epochs, plotname):\n",
    "    lambd = 0.0\n",
    "    cov_mat = np.dot(np.transpose(X),X)/float(n)\n",
    "    diag_v,U = np.linalg.eig(cov_mat)\n",
    "    diag_v = np.abs(diag_v)\n",
    "    mu = np.dot(np.transpose(X),y)/float(n)\n",
    "    inds = diag_v>pow(10,-6)\n",
    "    w_start = np.dot(np.dot(np.dot(U[:,inds],np.diag(1.0/diag_v[inds])),np.transpose(U[:,inds])),mu)\n",
    "    opt_risk = risk_ridge(w_start,X,y,0)\n",
    "    print(opt_risk)\n",
    "    def grad_eff(w,X,y,lambd): \n",
    "        g = 2*np.dot(cov_mat,w)\n",
    "        g = (g-2*mu)\n",
    "        g = g + lambd*w\n",
    "        return g,1.0\n",
    "    def risk(w,X,y,lambd):\n",
    "        return risk_ridge(w,X,y,lambd)-opt_risk\n",
    "    [stat,w] = gradient_desc(X,y,lambd,step_size,grad_eff,risk,epochs)\n",
    "    plt.plot((stat[0,:]),np.log10(stat[1,:]))\n",
    "    #lgd = plt.legend(loc='upper center', bbox_to_anchor=(0.5, -0.05),\n",
    "    #          fancybox=True, shadow=True, ncol=5)\n",
    "    plt.savefig(plotname)"
   ]
  },
  {
   "cell_type": "code",
   "execution_count": 32,
   "metadata": {
    "collapsed": false
   },
   "outputs": [
    {
     "name": "stdout",
     "output_type": "stream",
     "text": [
      "(0.354887661516+0j)\n"
     ]
    },
    {
     "data": {
      "image/png": "[encoded data removed]",
      "text/plain": [
       "<matplotlib.figure.Figure at 0x120d29390>"
      ]
     },
     "metadata": {},
     "output_type": "display_data"
    }
   ],
   "source": [
    "# empirical convergence vs theoretical convergence\n",
    "\n",
    "n = 49749; \n",
    "d = 300; \n",
    "filename = \"../datasets/w8a\"\n",
    "plotname = \"plot/reg_free_w8a.eps\"\n",
    "epochs = 100\n",
    "y, X = readfile(filename,n,d)\n",
    "for i in range(n):\n",
    "    if(y[i]==2 or y[i] == 0):\n",
    "        y[i] = -1;\n",
    "\n",
    "step_size = 0.1\n",
    "lambd = 10/float(n)\n",
    "#empirical_vs_theoretical(X,y,lambd,step_size, epochs, plotname)\n",
    "#initialization(X,y,lambd,step_size, epochs, plotname)\n",
    "without_reg(X,y,step_size, epochs, plotname)"
   ]
  },
  {
   "cell_type": "code",
   "execution_count": 31,
   "metadata": {
    "collapsed": false
   },
   "outputs": [
    {
     "name": "stdout",
     "output_type": "stream",
     "text": [
      "0.699799284562\n"
     ]
    },
    {
     "data": {
      "image/png": "[encoded data removed]",
      "text/plain": [
       "<matplotlib.figure.Figure at 0x110d648d0>"
      ]
     },
     "metadata": {},
     "output_type": "display_data"
    }
   ],
   "source": [
    "n = 581012; \n",
    "d = 54; \n",
    "filename = \"../datasets/covtype.libsvm.binary.scale\"\n",
    "plotname = \"plot/reg_free_covtype.eps\"\n",
    "epochs = 100\n",
    "y, X = readfile(filename,n,d)\n",
    "for i in range(n):\n",
    "    if(y[i]==2 or y[i] == 0):\n",
    "        y[i] = -1;\n",
    "\n",
    "step_size = 0.1\n",
    "lambd = 10/float(n)\n",
    "#empirical_vs_theoretical(X,y,lambd,step_size, epochs, plotname)\n",
    "#initialization(X,y,lambd,step_size, epochs, plotname)\n",
    "without_reg(X,y,step_size, epochs, plotname)"
   ]
  },
  {
   "cell_type": "code",
   "execution_count": 30,
   "metadata": {
    "collapsed": false
   },
   "outputs": [
    {
     "name": "stdout",
     "output_type": "stream",
     "text": [
      "(0.448429474558+0j)\n"
     ]
    },
    {
     "data": {
      "image/png": "[encoded data removed]",
      "text/plain": [
       "<matplotlib.figure.Figure at 0x11a2c3890>"
      ]
     },
     "metadata": {},
     "output_type": "display_data"
    }
   ],
   "source": [
    "n = 32560; \n",
    "d = 123; \n",
    "filename = \"../datasets/a9a\"\n",
    "plotname = \"plot/reg_free_a9a.eps\"\n",
    "epochs = 100.0\n",
    "y, X = readfile(filename,n,d)\n",
    "for i in range(n):\n",
    "    if(y[i]==2 or y[i] == 0):\n",
    "        y[i] = -1;\n",
    "\n",
    "step_size = 0.1\n",
    "lambd = 10/float(n)\n",
    "#empirical_vs_theoretical(X,y,lambd,step_size, epochs, plotname)\n",
    "#initialization(X,y,lambd,step_size, epochs, plotname)\n",
    "without_reg(X,y,step_size, epochs, plotname)"
   ]
  },
  {
   "cell_type": "code",
   "execution_count": 47,
   "metadata": {
    "collapsed": false
   },
   "outputs": [
    {
     "data": {
      "text/plain": [
       "<matplotlib.legend.Legend at 0x112ae1590>"
      ]
     },
     "execution_count": 47,
     "metadata": {},
     "output_type": "execute_result"
    },
    {
     "data": {
      "image/png": "[encoded data removed]",
      "text/plain": [
       "<matplotlib.figure.Figure at 0x110368750>"
      ]
     },
     "metadata": {},
     "output_type": "display_data"
    }
   ],
   "source": [
    "import math\n",
    "n = 10100; \n",
    "d = 54; \n",
    "filename = \"../datasets/covtype.libsvm.binary.scale\"\n",
    "y, X = readfile(filename,n,d)\n",
    "for i in range(n):\n",
    "    if(y[i]==2 or y[i] == 0):\n",
    "        y[i] = -1;\n",
    "step_size = 0.01\n",
    "c = 10.0\n",
    "lambd_large = c/float(n)\n",
    "lambd_small = c/float(n)\n",
    "cov_mat = np.dot(np.transpose(X),X)/float(n)\n",
    "w_start = np.dot(np.linalg.inv(np.add(2*cov_mat,lambd_small*np.eye(d))),2.0*np.dot(np.transpose(X),y)/float(n))\n",
    "w_start2 = np.dot(np.linalg.inv(np.add(2*cov_mat,lambd_large*np.eye(d))),2.0*np.dot(np.transpose(X),y)/float(n))\n",
    "opt_risk = risk_ridge(w_start,X,y,lambd_small)\n",
    "opt_risk2 = risk_ridge(w_start2,X,y,lambd_large)\n",
    "diag,U = np.linalg.eig(cov_mat)\n",
    "def risk_small(w,X,y,lambd):\n",
    "    return risk_ridge(w,X,y,lambd)-opt_risk\n",
    "def risk_large(w,X,y,lambd): \n",
    "    return risk_ridge(w,X,y,lambd)-opt_risk2\n",
    "mu = np.dot(np.transpose(X),y)/float(n)\n",
    "def grad_eff(w,X,y,lambd): \n",
    "    g = 2*np.dot(cov_mat,w)\n",
    "    g = (g-2*mu)\n",
    "    g = g + lambd*w\n",
    "    return g,1.0\n",
    "epochs = 10000\n",
    "[stat,w] = gradient_desc(X,y,lambd_small,step_size,grad_eff,risk_small,epochs)\n",
    "[stat2,w2] = gradient_desc(X,y,lambd_small,step_size,grad_eff,risk_small,epochs,10*U[:,0])\n",
    "[stat3,w3] = gradient_desc(X,y,lambd_small,step_size,grad_eff,risk_small,epochs,10*U[:,d-1])\n",
    "plt.plot((stat[0,:]),np.log2(stat[1,:]),label='gd-zero')\n",
    "plt.plot((stat2[0,:]),np.log2(stat2[1,:]),label='v_large')\n",
    "plt.plot((stat3[0,:]),np.log2(stat3[1,:]),label='v_small')\n",
    "plt.legend()"
   ]
  },
  {
   "cell_type": "code",
   "execution_count": 34,
   "metadata": {
    "collapsed": false
   },
   "outputs": [
    {
     "data": {
      "text/plain": [
       "1.17951504741694"
      ]
     },
     "execution_count": 34,
     "metadata": {},
     "output_type": "execute_result"
    }
   ],
   "source": [
    "np.linalg.norm(mu)"
   ]
  },
  {
   "cell_type": "code",
   "execution_count": 26,
   "metadata": {
    "collapsed": false
   },
   "outputs": [
    {
     "ename": "KeyboardInterrupt",
     "evalue": "",
     "output_type": "error",
     "traceback": [
      "\u001b[0;31m---------------------------------------------------------------------------\u001b[0m",
      "\u001b[0;31mKeyboardInterrupt\u001b[0m                         Traceback (most recent call last)",
      "\u001b[0;32m<ipython-input-26-42720d74ae7b>\u001b[0m in \u001b[0;36m<module>\u001b[0;34m()\u001b[0m\n\u001b[1;32m     19\u001b[0m \u001b[0;32mdef\u001b[0m \u001b[0mrisk_large\u001b[0m\u001b[0;34m(\u001b[0m\u001b[0mw\u001b[0m\u001b[0;34m,\u001b[0m\u001b[0mX\u001b[0m\u001b[0;34m,\u001b[0m\u001b[0my\u001b[0m\u001b[0;34m,\u001b[0m\u001b[0mlambd\u001b[0m\u001b[0;34m)\u001b[0m\u001b[0;34m:\u001b[0m\u001b[0;34m\u001b[0m\u001b[0m\n\u001b[1;32m     20\u001b[0m     \u001b[0;32mreturn\u001b[0m \u001b[0mrisk_ridge\u001b[0m\u001b[0;34m(\u001b[0m\u001b[0mw\u001b[0m\u001b[0;34m,\u001b[0m\u001b[0mX\u001b[0m\u001b[0;34m,\u001b[0m\u001b[0my\u001b[0m\u001b[0;34m,\u001b[0m\u001b[0mlambd\u001b[0m\u001b[0;34m)\u001b[0m\u001b[0;34m-\u001b[0m\u001b[0mopt_risk2\u001b[0m\u001b[0;34m\u001b[0m\u001b[0m\n\u001b[0;32m---> 21\u001b[0;31m \u001b[0;34m[\u001b[0m\u001b[0mstat\u001b[0m\u001b[0;34m,\u001b[0m\u001b[0mw\u001b[0m\u001b[0;34m]\u001b[0m \u001b[0;34m=\u001b[0m \u001b[0mgradient_desc\u001b[0m\u001b[0;34m(\u001b[0m\u001b[0mX\u001b[0m\u001b[0;34m,\u001b[0m\u001b[0my\u001b[0m\u001b[0;34m,\u001b[0m\u001b[0mlambd_small\u001b[0m\u001b[0;34m,\u001b[0m\u001b[0;36m0.1\u001b[0m\u001b[0;34m,\u001b[0m\u001b[0mgrad_ridge\u001b[0m\u001b[0;34m,\u001b[0m\u001b[0mrisk_small\u001b[0m\u001b[0;34m,\u001b[0m\u001b[0;36m1000\u001b[0m\u001b[0;34m)\u001b[0m\u001b[0;34m\u001b[0m\u001b[0m\n\u001b[0m\u001b[1;32m     22\u001b[0m \u001b[0;31m#[stat2,w2] = gradient_desc(X,y,lambd_large,0.1,grad_ridge,risk_large,1000)\u001b[0m\u001b[0;34m\u001b[0m\u001b[0;34m\u001b[0m\u001b[0m\n\u001b[1;32m     23\u001b[0m \u001b[0mplt\u001b[0m\u001b[0;34m.\u001b[0m\u001b[0mplot\u001b[0m\u001b[0;34m(\u001b[0m\u001b[0;34m(\u001b[0m\u001b[0mstat\u001b[0m\u001b[0;34m[\u001b[0m\u001b[0;36m0\u001b[0m\u001b[0;34m,\u001b[0m\u001b[0;36m500\u001b[0m\u001b[0;34m:\u001b[0m\u001b[0;34m-\u001b[0m\u001b[0;36m1\u001b[0m\u001b[0;34m]\u001b[0m\u001b[0;34m)\u001b[0m\u001b[0;34m,\u001b[0m\u001b[0mnp\u001b[0m\u001b[0;34m.\u001b[0m\u001b[0mlog2\u001b[0m\u001b[0;34m(\u001b[0m\u001b[0mstat\u001b[0m\u001b[0;34m[\u001b[0m\u001b[0;36m1\u001b[0m\u001b[0;34m,\u001b[0m\u001b[0;36m500\u001b[0m\u001b[0;34m:\u001b[0m\u001b[0;34m-\u001b[0m\u001b[0;36m1\u001b[0m\u001b[0;34m]\u001b[0m\u001b[0;34m)\u001b[0m\u001b[0;34m,\u001b[0m\u001b[0mlabel\u001b[0m\u001b[0;34m=\u001b[0m\u001b[0;34m'lambda-small'\u001b[0m\u001b[0;34m)\u001b[0m\u001b[0;34m\u001b[0m\u001b[0m\n",
      "\u001b[0;32m<ipython-input-21-21032b58f33c>\u001b[0m in \u001b[0;36mgradient_desc\u001b[0;34m(X, y, lambd, step_size, grad, risk, itrs, w0)\u001b[0m\n\u001b[1;32m     21\u001b[0m     \u001b[0mstat\u001b[0m \u001b[0;34m=\u001b[0m \u001b[0;34m[\u001b[0m\u001b[0;36m0\u001b[0m\u001b[0;34m,\u001b[0m\u001b[0mrisk\u001b[0m\u001b[0;34m(\u001b[0m\u001b[0mw\u001b[0m\u001b[0;34m,\u001b[0m\u001b[0mX\u001b[0m\u001b[0;34m,\u001b[0m\u001b[0my\u001b[0m\u001b[0;34m,\u001b[0m\u001b[0mlambd\u001b[0m\u001b[0;34m)\u001b[0m\u001b[0;34m]\u001b[0m\u001b[0;34m\u001b[0m\u001b[0m\n\u001b[1;32m     22\u001b[0m     \u001b[0;32mwhile\u001b[0m \u001b[0meffective_iters\u001b[0m \u001b[0;34m<\u001b[0m \u001b[0mitrs\u001b[0m\u001b[0;34m:\u001b[0m\u001b[0;34m\u001b[0m\u001b[0m\n\u001b[0;32m---> 23\u001b[0;31m         \u001b[0mg\u001b[0m\u001b[0;34m,\u001b[0m \u001b[0mc\u001b[0m \u001b[0;34m=\u001b[0m \u001b[0mgrad\u001b[0m\u001b[0;34m(\u001b[0m\u001b[0mw\u001b[0m\u001b[0;34m,\u001b[0m\u001b[0mX\u001b[0m\u001b[0;34m,\u001b[0m\u001b[0my\u001b[0m\u001b[0;34m,\u001b[0m\u001b[0mlambd\u001b[0m\u001b[0;34m)\u001b[0m\u001b[0;34m\u001b[0m\u001b[0m\n\u001b[0m\u001b[1;32m     24\u001b[0m         \u001b[0mw\u001b[0m \u001b[0;34m=\u001b[0m \u001b[0mw\u001b[0m \u001b[0;34m-\u001b[0m\u001b[0mstep_size\u001b[0m\u001b[0;34m*\u001b[0m\u001b[0mg\u001b[0m\u001b[0;34m\u001b[0m\u001b[0m\n\u001b[1;32m     25\u001b[0m         \u001b[0meffective_iters\u001b[0m \u001b[0;34m=\u001b[0m \u001b[0meffective_iters\u001b[0m\u001b[0;34m+\u001b[0m\u001b[0mc\u001b[0m\u001b[0;34m\u001b[0m\u001b[0m\n",
      "\u001b[0;32m<ipython-input-21-21032b58f33c>\u001b[0m in \u001b[0;36mgrad_ridge\u001b[0;34m(w, X, y, lambd)\u001b[0m\n\u001b[1;32m      4\u001b[0m     \u001b[0;32mfor\u001b[0m \u001b[0mi\u001b[0m \u001b[0;32min\u001b[0m \u001b[0mrange\u001b[0m\u001b[0;34m(\u001b[0m\u001b[0mn\u001b[0m\u001b[0;34m)\u001b[0m\u001b[0;34m:\u001b[0m\u001b[0;34m\u001b[0m\u001b[0m\n\u001b[1;32m      5\u001b[0m         \u001b[0mdot\u001b[0m \u001b[0;34m=\u001b[0m \u001b[0mnp\u001b[0m\u001b[0;34m.\u001b[0m\u001b[0mdot\u001b[0m\u001b[0;34m(\u001b[0m\u001b[0mX\u001b[0m\u001b[0;34m[\u001b[0m\u001b[0mi\u001b[0m\u001b[0;34m,\u001b[0m\u001b[0;34m:\u001b[0m\u001b[0;34m]\u001b[0m\u001b[0;34m,\u001b[0m\u001b[0mnp\u001b[0m\u001b[0;34m.\u001b[0m\u001b[0mtranspose\u001b[0m\u001b[0;34m(\u001b[0m\u001b[0mw\u001b[0m\u001b[0;34m)\u001b[0m\u001b[0;34m)\u001b[0m\u001b[0;34m\u001b[0m\u001b[0m\n\u001b[0;32m----> 6\u001b[0;31m         \u001b[0mg\u001b[0m \u001b[0;34m=\u001b[0m \u001b[0mnp\u001b[0m\u001b[0;34m.\u001b[0m\u001b[0madd\u001b[0m\u001b[0;34m(\u001b[0m\u001b[0mg\u001b[0m\u001b[0;34m,\u001b[0m\u001b[0;34m(\u001b[0m\u001b[0;36m2\u001b[0m\u001b[0;34m*\u001b[0m\u001b[0;34m(\u001b[0m\u001b[0mdot\u001b[0m\u001b[0;34m-\u001b[0m\u001b[0my\u001b[0m\u001b[0;34m[\u001b[0m\u001b[0mi\u001b[0m\u001b[0;34m]\u001b[0m\u001b[0;34m)\u001b[0m\u001b[0;34m*\u001b[0m\u001b[0mX\u001b[0m\u001b[0;34m[\u001b[0m\u001b[0mi\u001b[0m\u001b[0;34m,\u001b[0m\u001b[0;34m:\u001b[0m\u001b[0;34m]\u001b[0m\u001b[0;34m)\u001b[0m\u001b[0;34m/\u001b[0m\u001b[0mfloat\u001b[0m\u001b[0;34m(\u001b[0m\u001b[0mn\u001b[0m\u001b[0;34m)\u001b[0m\u001b[0;34m)\u001b[0m\u001b[0;34m\u001b[0m\u001b[0m\n\u001b[0m\u001b[1;32m      7\u001b[0m     \u001b[0mg\u001b[0m \u001b[0;34m=\u001b[0m \u001b[0mnp\u001b[0m\u001b[0;34m.\u001b[0m\u001b[0madd\u001b[0m\u001b[0;34m(\u001b[0m\u001b[0mg\u001b[0m\u001b[0;34m,\u001b[0m\u001b[0mlambd\u001b[0m\u001b[0;34m*\u001b[0m\u001b[0mw\u001b[0m\u001b[0;34m)\u001b[0m\u001b[0;34m\u001b[0m\u001b[0m\n\u001b[1;32m      8\u001b[0m     \u001b[0;32mreturn\u001b[0m \u001b[0mg\u001b[0m\u001b[0;34m,\u001b[0m\u001b[0;36m1.0\u001b[0m\u001b[0;34m\u001b[0m\u001b[0m\n",
      "\u001b[0;31mKeyboardInterrupt\u001b[0m: "
     ]
    }
   ],
   "source": [
    "n = 581012; \n",
    "d = 54; \n",
    "filename = \"../datasets/covtype.libsvm.binary.scale\"\n",
    "y, X = readfile(filename,n,d)\n",
    "for i in range(n):\n",
    "    if(y[i]==2 or y[i] == 0):\n",
    "        y[i] = -1;\n",
    "step_size = 0.3\n",
    "c = 500\n",
    "lambd_small = 1.0/float(n)\n",
    "lambd_large = c/float(n)\n",
    "cov_mat = 2*np.dot(np.transpose(X),X)/float(n)\n",
    "w_start = np.dot(np.linalg.inv(np.add(cov_mat,lambd_small*np.eye(d))),2.0*np.dot(np.transpose(X),y)/float(n))\n",
    "w_start2 = np.dot(np.linalg.inv(np.add(cov_mat,lambd_large*np.eye(d))),2.0*np.dot(np.transpose(X),y)/float(n))\n",
    "opt_risk = risk_ridge(w_start,X,y,lambd_small)\n",
    "opt_risk2 = risk_ridge(w_start2,X,y,lambd_large)\n",
    "def risk_small(w,X,y,lambd):\n",
    "    return risk_ridge(w,X,y,lambd)-opt_risk\n",
    "def risk_large(w,X,y,lambd): \n",
    "    return risk_ridge(w,X,y,lambd)-opt_risk2\n",
    "[stat,w] = gradient_desc(X,y,lambd_small,0.1,grad_ridge,risk_small,1000)\n",
    "#[stat2,w2] = gradient_desc(X,y,lambd_large,0.1,grad_ridge,risk_large,1000)\n",
    "plt.plot((stat[0,500:-1]),np.log2(stat[1,500:-1]),label='lambda-small')\n",
    "#plt.plot((stat2[0,:]),np.log10(stat2[1,:]),label='lambda-large')\n",
    "plt.legend()"
   ]
  },
  {
   "cell_type": "code",
   "execution_count": null,
   "metadata": {
    "collapsed": false
   },
   "outputs": [],
   "source": [
    "opt_risk2"
   ]
  },
  {
   "cell_type": "code",
   "execution_count": 19,
   "metadata": {
    "collapsed": false
   },
   "outputs": [
    {
     "data": {
      "text/plain": [
       "<matplotlib.legend.Legend at 0x11c218c50>"
      ]
     },
     "execution_count": 19,
     "metadata": {},
     "output_type": "execute_result"
    },
    {
     "data": {
      "image/png": "[encoded data removed]",
      "text/plain": [
       "<matplotlib.figure.Figure at 0x11c218d10>"
      ]
     },
     "metadata": {},
     "output_type": "display_data"
    }
   ],
   "source": [
    "n = 5810; \n",
    "d = 54; \n",
    "filename = \"../datasets/covtype.libsvm.binary.scale\"\n",
    "y, X = readfile(filename,n,d)\n",
    "for i in range(n):\n",
    "    if(y[i]==2 or y[i] == 0):\n",
    "        y[i] = -1;\n",
    "step_size = 0.1\n",
    "c = 50.0\n",
    "lambda_main = 1.0/float(n)\n",
    "cov_mat = np.dot(np.transpose(X),X)/float(n)\n",
    "[U,S,V] = np.linalg.svd(cov_mat)\n",
    "w_star = np.dot(np.linalg.inv(np.add(cov_mat,0.5*lambda_main*np.eye(d))),np.dot(np.transpose(X),y)/float(n))\n",
    "opt_risk = risk_ridge(w_star,X,y,lambda_main)\n",
    "mu = np.dot(np.transpose(X),y)/float(n)\n",
    "def grad_eff(w,X,y,lambd): \n",
    "    g = 2*np.dot(cov_mat,w)\n",
    "    g = (g-2*mu)\n",
    "    g = g + lambd*w\n",
    "    return g,1.0\n",
    "def risk_eval(w,X,y,lambd):\n",
    "        ind = 35\n",
    "        delta = np.dot(w_star,U[:,ind].transpose()) \n",
    "        return abs(delta)\n",
    "def risk_eval2(w,X,y,lambd):\n",
    "        return risk_ridge(w,X,y,lambd) -opt_risk\n",
    "for j in range(5):\n",
    "    lambd = (j)*100*lambda_main + lambda_main\n",
    "    [stat,w] = gradient_desc(X,y,lambd,step_size,grad_eff,risk_eval2,400)\n",
    "    label_i = 'lambda:%f' % lambd\n",
    "    plt.plot((stat[0,:]),np.log10(stat[1,:]),label= label_i)\n",
    "plt.legend()"
   ]
  },
  {
   "cell_type": "code",
   "execution_count": null,
   "metadata": {
    "collapsed": false
   },
   "outputs": [],
   "source": [
    "n = 3256; \n",
    "d = 123; \n",
    "y, X = readfile(filename,n,d)\n",
    "for i in range(n):\n",
    "    if(y[i]==2 or y[i] == 0):\n",
    "        y[i] = -1;\n",
    "step_size = 0.1\n",
    "c = 50.0\n",
    "lambd_small = 1.0/float(n)\n",
    "lambd_large = c/float(n)\n",
    "cov_mat = 2*np.dot(np.transpose(X),X)/float(n)\n",
    "w_start = np.dot(np.linalg.inv(np.add(cov_mat,lambd_small*np.eye(d))),2.0*np.dot(np.transpose(X),y)/float(n))\n",
    "w_start2 = np.dot(np.linalg.inv(np.add(cov_mat,lambd_large*np.eye(d))),2.0*np.dot(np.transpose(X),y)/float(n))\n",
    "opt_risk = risk_ridge(w_start,X,y,lambd_small)\n",
    "opt_risk2 = risk_ridge(w_start2,X,y,lambd_large)\n",
    "def risk_small2(w,X,y,lambd):\n",
    "    return risk_ridge(w,X,y,lambd_small)-opt_risk\n",
    "[stat,w] = gradient_desc(X,y,lambd_small,step_size,grad_ridge,risk_small2,200)\n",
    "[stat2,w2] = gradient_desc(X,y,lambd_large,step_size,grad_ridge,risk_small2,200)\n",
    "plt.plot((stat[0,:]),np.log10(stat[1,:]),label='lambda-small')\n",
    "plt.plot((stat2[0,:]),np.log10(stat2[1,:]),label='lambda-large')\n",
    "plt.legend()"
   ]
  },
  {
   "cell_type": "code",
   "execution_count": null,
   "metadata": {
    "collapsed": false
   },
   "outputs": [],
   "source": [
    "n = 581012; \n",
    "d = 54; \n",
    "filename = \"../datasets/covtype.libsvm.binary.scale\"\n",
    "y, X = readfile(filename,n,d)\n",
    "for i in range(n):\n",
    "    if(y[i]==2 or y[i] == 0):\n",
    "        y[i] = -1;\n",
    "tr_size = 400000\n",
    "te_size = 181012\n",
    "rperm = np.random.permutation(n)\n",
    "X = np.c_[X,np.ones(n)]\n",
    "Xtr = X[rperm[0:tr_size],:]\n",
    "ytr = y[rperm[0:tr_size]]\n",
    "Xte = X[rperm[tr_size:tr_size+te_size],:]\n",
    "yte = y[rperm[tr_size:tr_size+te_size]]\n",
    "mu = np.dot(np.transpose(Xtr),ytr)/float(n)\n",
    "cov_mat = np.dot(np.transpose(Xtr)/math.sqrt(n),Xtr/math.sqrt(n))\n",
    "w, v = np.linalg.eig(cov_mat)\n",
    "T = 11\n",
    "test_error = np.zeros(T)\n",
    "def classfication_error(w,X,y): \n",
    "    error = 0 \n",
    "    n = len(y)\n",
    "    for i in range(n): \n",
    "        out = np.sign(np.dot(w,X[i,:]))\n",
    "        if out != y[i]: \n",
    "            error = error + 1.0/float(n)\n",
    "    return error\n",
    "for i in range(T): \n",
    "    si = min(5*(i+1),d+1)\n",
    "    sub_v = v[:,0:si]\n",
    "    sub_w = w[0:si]\n",
    "    w_star = np.dot(np.dot(np.dot(sub_v,np.diag(1.0/sub_w)),np.transpose(sub_v)),mu)\n",
    "    test_error[i] = classfication_error(w_star,Xtr,ytr)\n",
    "    print(test_error[i])"
   ]
  },
  {
   "cell_type": "code",
   "execution_count": null,
   "metadata": {
    "collapsed": false
   },
   "outputs": [],
   "source": [
    "def classfication_error(w,X,y): \n",
    "        error = 0 \n",
    "        n = len(y)\n",
    "        for i in range(n): \n",
    "            out = np.sign(np.dot(w,X[i,:]))\n",
    "            if out != y[i]: \n",
    "                error = error + 1.0/float(n)\n",
    "        return error\n",
    "n = 581012; \n",
    "d = 54; \n",
    "filename = \"../datasets/covtype.libsvm.binary.scale\"\n",
    "y, X = readfile(filename,n,d)\n",
    "for i in range(n):\n",
    "    if(y[i]==2 or y[i] == 0):\n",
    "        y[i] = -1;\n",
    "tr_size = 481012\n",
    "te_size = 100000\n",
    "rep = 5 \n",
    "T = 20\n",
    "test_error = np.zeros(T)\n",
    "sizes = np.zeros(T)\n",
    "\n",
    "for j in range(rep): \n",
    "    print(j)\n",
    "    rperm = np.random.permutation(n)\n",
    "    X = np.c_[X,np.ones(n)]\n",
    "    Xtr = X[rperm[0:tr_size],:]\n",
    "    ytr = y[rperm[0:tr_size]]\n",
    "    Xte = X[rperm[tr_size:tr_size+te_size],:]\n",
    "    yte = y[rperm[tr_size:tr_size+te_size]]\n",
    "    mu = np.dot(np.transpose(Xtr),ytr)/float(tr_size)\n",
    "    cov_mat = np.dot(np.transpose(Xtr)/math.sqrt(tr_size),Xtr/math.sqrt(tr_size))\n",
    "    w, v = np.linalg.eig(cov_mat)\n",
    "\n",
    "    for i in range(T): \n",
    "        si = min(5*(i+1),d+1)\n",
    "        sizes[i] = si\n",
    "        sub_v = v[:,0:si]\n",
    "        sub_w = w[0:si]\n",
    "        w_star = np.dot(np.dot(np.dot(sub_v,np.diag(1.0/sub_w)),np.transpose(sub_v)),mu)\n",
    "        test_error[i] = test_error[i] + classfication_error(w_star,Xte,yte)\n",
    "test_error = test_error/float(rep)\n",
    "plt.plot(sizes,test_error)"
   ]
  },
  {
   "cell_type": "code",
   "execution_count": null,
   "metadata": {
    "collapsed": false
   },
   "outputs": [],
   "source": [
    "def classfication_error(w,X,y): \n",
    "        error = 0 \n",
    "        n = len(y)\n",
    "        for i in range(n): \n",
    "            out = np.sign(np.dot(w,X[i,:]))\n",
    "            if out != y[i]: \n",
    "                error = error + 1.0/float(n)\n",
    "        return error\n",
    "n = 32560; \n",
    "d = 123; \n",
    "filename = \"../datasets/a9a\"\n",
    "y, X = readfile(filename,n,d)\n",
    "for i in range(n):\n",
    "    if(y[i]==2 or y[i] == 0):\n",
    "        y[i] = -1;\n",
    "tr_size = 22569\n",
    "te_size = 10000\n",
    "rep = 5 \n",
    "T = 20\n",
    "test_error = np.zeros(T)\n",
    "sizes = np.zeros(T)\n",
    "\n",
    "for j in range(rep): \n",
    "    print(j)\n",
    "    rperm = np.random.permutation(n)\n",
    "    X = np.c_[X,np.ones(n)]\n",
    "    Xtr = X[rperm[0:tr_size],:]\n",
    "    ytr = y[rperm[0:tr_size]]\n",
    "    Xte = X[rperm[tr_size:tr_size+te_size],:]\n",
    "    yte = y[rperm[tr_size:tr_size+te_size]]\n",
    "    mu = np.dot(np.transpose(Xtr),ytr)/float(tr_size)\n",
    "    cov_mat = np.dot(np.transpose(Xtr)/math.sqrt(tr_size),Xtr/math.sqrt(tr_size))\n",
    "    w, v = np.linalg.eig(cov_mat)\n",
    "\n",
    "    for i in range(T): \n",
    "        si = min(5*(i+1),d+1)\n",
    "        sizes[i] = si\n",
    "        sub_v = v[:,0:si]\n",
    "        sub_w = w[0:si]\n",
    "        w_star = np.dot(np.dot(np.dot(sub_v,np.diag(1.0/sub_w)),np.transpose(sub_v)),mu)\n",
    "        test_error[i] = test_error[i] + classfication_error(w_star,Xte,yte)\n",
    "test_error = test_error/float(rep)\n",
    "plt.plot(sizes,test_error)"
   ]
  },
  {
   "cell_type": "code",
   "execution_count": null,
   "metadata": {
    "collapsed": false
   },
   "outputs": [],
   "source": [
    "def classfication_error(w,X,y): \n",
    "        error = 0 \n",
    "        n = len(y)\n",
    "        for i in range(n): \n",
    "            out = np.sign(np.dot(w,X[i,:]))\n",
    "            if out != y[i]: \n",
    "                error = error + 1.0/float(n)\n",
    "        return error\n",
    "n = 49749; \n",
    "d = 300; \n",
    "filename = \"../datasets/w8a\"\n",
    "y, X = readfile(filename,n,d)\n",
    "for i in range(n):\n",
    "    if(y[i]==2 or y[i] == 0):\n",
    "        y[i] = -1;\n",
    "tr_size = 39749\n",
    "te_size = 1000\n",
    "rep = 5 \n",
    "T = 20\n",
    "test_error = np.zeros(T)\n",
    "sizes = np.zeros(T)\n",
    "\n",
    "for j in range(rep): \n",
    "    print(j)\n",
    "    rperm = np.random.permutation(n)\n",
    "    X = np.c_[X,0.1*np.ones(n)]\n",
    "    Xtr = X[rperm[0:tr_size],:]\n",
    "    ytr = y[rperm[0:tr_size]]\n",
    "    Xte = X[rperm[tr_size:tr_size+te_size],:]\n",
    "    yte = y[rperm[tr_size:tr_size+te_size]]\n",
    "    mu = np.dot(np.transpose(Xtr),ytr)/float(tr_size)\n",
    "    cov_mat = np.dot(np.transpose(Xtr)/math.sqrt(tr_size),Xtr/math.sqrt(tr_size))\n",
    "    w, v = np.linalg.eig(cov_mat)\n",
    "\n",
    "    for i in range(T): \n",
    "        si = min(5*(i)+1,d+1)\n",
    "        sizes[i] = si\n",
    "        sub_v = v[:,0:si]\n",
    "        sub_w = w[0:si]\n",
    "        w_star = np.dot(np.dot(np.dot(sub_v,np.diag(1.0/sub_w)),np.transpose(sub_v)),mu)\n",
    "        test_error[i] = test_error[i] + classfication_error(w_star,Xte,yte)\n",
    "test_error = test_error/float(rep)\n",
    "plt.plot(sizes,test_error)"
   ]
  },
  {
   "cell_type": "code",
   "execution_count": null,
   "metadata": {
    "collapsed": false
   },
   "outputs": [],
   "source": [
    "y[1:1000]"
   ]
  },
  {
   "cell_type": "code",
   "execution_count": 14,
   "metadata": {
    "collapsed": false,
    "scrolled": false
   },
   "outputs": [
    {
     "data": {
      "text/plain": [
       "<matplotlib.legend.Legend at 0x1107c9750>"
      ]
     },
     "execution_count": 14,
     "metadata": {},
     "output_type": "execute_result"
    },
    {
     "data": {
      "image/png": "[encoded data removed]",
      "text/plain": [
       "<matplotlib.figure.Figure at 0x1106ff2d0>"
      ]
     },
     "metadata": {},
     "output_type": "display_data"
    }
   ],
   "source": [
    "n = 581000; \n",
    "d = 54; \n",
    "filename = \"../datasets/covtype.libsvm.binary.scale\"\n",
    "y, X = readfile(filename,n,d)\n",
    "for i in range(n):\n",
    "    if(y[i]==2 or y[i] == 0):\n",
    "        y[i] = -1;\n",
    "step_size = 0.1\n",
    "c = 50.0\n",
    "lambda_main = 1.0/float(n)\n",
    "cov_mat = np.dot(np.transpose(X),X)/float(n)\n",
    "diag, v = np.linalg.eig(cov_mat)\n",
    "w_star = np.dot(np.linalg.inv(np.add(cov_mat,0.5*lambda_main*np.eye(d))),np.dot(np.transpose(X),y)/float(n))\n",
    "#opt_risk = risk_ridge(w_start,X,y,lambda_main)\n",
    "mu = np.dot(np.transpose(X),y)/float(n)\n",
    "dots = np.dot(v.transpose(),mu)\n",
    "def grad_eff(w,X,y,lambd): \n",
    "    g = 2*np.dot(cov_mat,w)\n",
    "    g = (g-2*mu)\n",
    "    g = g + lambd*w\n",
    "    return g,1.0\n",
    "def gradient_desc_adapt_steps(X,y,lambd,step_size,grad,risk,itrs,w0 = None): \n",
    "    n, d = X.shape\n",
    "    if w0 is None: \n",
    "        w = np.zeros(d)\n",
    "    else: \n",
    "        w = w0\n",
    "    effective_iters = 0\n",
    "    stat = [0,risk(w,X,y,lambd)]\n",
    "    for i in range()\n",
    "    stepsizes = [64,0.2,32,0.2,8,0.2]\n",
    "    iter_per_step = [1,10,2,10,4,10]\n",
    "    ind_stepsize = 0\n",
    "    itr_stepsize = 0\n",
    "    while effective_iters < itrs: \n",
    "        g, c = grad(w,X,y,lambd)\n",
    "        if itr_stepsize>iter_per_step[ind_stepsize] : \n",
    "            ind_stepsize = (ind_stepsize+1) % len(stepsizes)\n",
    "            itr_stepsize = 0\n",
    "        step_size = stepsizes[ind_stepsize]\n",
    "        itr_stepsize = itr_stepsize + 1\n",
    "        w = w-step_size*g\n",
    "        step_size = step_size\n",
    "        effective_iters = effective_iters+c\n",
    "        risk_value = risk(w,X,y,lambd)\n",
    "        n_stat = [effective_iters,risk_value]\n",
    "        stat = np.c_[stat,n_stat]\n",
    "        #print(\"loss[{}]={}\".format(effective_iters,risk_value))\n",
    "    return stat,w\n",
    "\n",
    "for j in range(4):\n",
    "    ind = (j)*6\n",
    "    def risk_eval(w,X,y,lambd):\n",
    "        delta = np.dot(v.transpose(),w )\n",
    "        hat = np.dot(v.transpose(),mu)\n",
    "        delta = delta[ind]-hat[ind]/(diag[ind]+lambda_main)\n",
    "        return abs(delta)\n",
    "    lambd = (j)*10*lambda_main + lambda_main\n",
    "    [stat,w] = gradient_desc_adapt_steps(X,y,lambda_main,10,grad_eff,risk_eval,60)\n",
    "    label_i = 'lambda:%f' % diag[ind]\n",
    "    plt.plot((stat[0,:]),np.log2(stat[1,:]),label= label_i)\n",
    "plt.legend(loc='center left', bbox_to_anchor=(1, 0.5))"
   ]
  },
  {
   "cell_type": "code",
   "execution_count": 21,
   "metadata": {
    "collapsed": false
   },
   "outputs": [
    {
     "data": {
      "image/png": "[encoded data removed]",
      "text/plain": [
       "<matplotlib.figure.Figure at 0x1129b9250>"
      ]
     },
     "metadata": {},
     "output_type": "display_data"
    }
   ],
   "source": [
    "d = 3 \n",
    "mu = 1.0/100.0\n",
    "cov_mat = np.zeros((d,d))\n",
    "mean = np.ones(d)\n",
    "for i in range(d): \n",
    "    cov_mat[i,i] = pow(2.5,-i)\n",
    "    mean[i] = pow(2.5,-i)\n",
    "\n",
    "diag, v = np.linalg.eig(cov_mat)\n",
    "\n",
    "w_star = np.dot(np.linalg.inv(cov_mat),mean)\n",
    "#opt_risk = risk_ridge(w_start,X,y,lambda_main)\n",
    "\n",
    "def grad_eff(w): \n",
    "    g = np.dot(cov_mat,w)\n",
    "    g = (g-mean)\n",
    "    return g,1.0\n",
    "def gradient_desc_adapt_steps(grad,risk,itrs,w0 = None): \n",
    "    if w0 is None: \n",
    "        w = np.zeros(d)\n",
    "    else: \n",
    "        w = w0\n",
    "    effective_iters = 0\n",
    "    stat = [0,risk(w)]\n",
    "   # stepsizes = [1000-1,0.9]\n",
    "   # iter_per_step = [1,4]\n",
    "    stepsizes = np.ones(2*d)\n",
    "    iter_per_step = np.ones(2*d)\n",
    "    for i in range(d): \n",
    "        stepsizes[i] = pow(2,d-1-i)\n",
    "        iter_per_step[i] = d*i + 1\n",
    "    ind_stepsize = 0\n",
    "    itr_stepsize = 0\n",
    "    while effective_iters < itrs: \n",
    "        g, c = grad(w)\n",
    "        if itr_stepsize>=iter_per_step[ind_stepsize] : \n",
    "            ind_stepsize = (ind_stepsize+1) % len(stepsizes)\n",
    "            itr_stepsize = 0\n",
    "        step_size = stepsizes[ind_stepsize]\n",
    "        itr_stepsize = itr_stepsize + 1\n",
    "        w = w-step_size*g\n",
    "        step_size = step_size\n",
    "        effective_iters = effective_iters+c\n",
    "        risk_value = risk(w)\n",
    "        n_stat = [effective_iters,risk_value]\n",
    "        stat = np.c_[stat,n_stat]\n",
    "        #print(\"loss[{}]={}\".format(effective_iters,risk_value))\n",
    "    return stat,w\n",
    "def gradient_desc_simple(grad,risk,itrs,w0 = None): \n",
    "    if w0 is None: \n",
    "        w = np.zeros(d)\n",
    "    else: \n",
    "        w = w0\n",
    "    effective_iters = 0\n",
    "    stat = [0,risk(w)]\n",
    "   # stepsizes = [1000-1,0.9]\n",
    "   # iter_per_step = [1,4]\n",
    "    stepsizes = [0.9]\n",
    "    iter_per_step = [10]\n",
    "    ind_stepsize = 0\n",
    "    itr_stepsize = 0\n",
    "    while effective_iters < itrs: \n",
    "        g, c = grad(w)\n",
    "        if itr_stepsize>=iter_per_step[ind_stepsize] : \n",
    "            ind_stepsize = (ind_stepsize+1) % len(stepsizes)\n",
    "            itr_stepsize = 0\n",
    "        step_size = stepsizes[ind_stepsize]\n",
    "        itr_stepsize = itr_stepsize + 1\n",
    "        w = w-step_size*g\n",
    "        step_size = step_size\n",
    "        effective_iters = effective_iters+c\n",
    "        risk_value = risk(w)\n",
    "        n_stat = [effective_iters,risk_value]\n",
    "        stat = np.c_[stat,n_stat]\n",
    "        #print(\"loss[{}]={}\".format(effective_iters,risk_value))\n",
    "    return stat,w\n",
    "\n",
    "def general_risk_eval(w): \n",
    "    delta = w-w_star\n",
    "    return pow(np.linalg.norm(delta),2)\n",
    "[stat,w] = gradient_desc_adapt_steps(grad_eff,general_risk_eval,24)\n",
    "[stat2,w2] = gradient_desc_simple(grad_eff,general_risk_eval,24)\n",
    "plt.plot((stat[0,:]),np.log2(stat[1,:]),label= 'accelerated')\n",
    "plt.plot((stat2[0,:]),np.log2(stat2[1,:]),label= 'gradient descent')\n",
    "plt.legend(loc='bottom left')\n",
    "plt.savefig('fantastic_result.eps')\n",
    "# for j in range(2):\n",
    "#     ind = (1-j)\n",
    "#     def risk_eval(w):\n",
    "#         delta = np.dot(v.transpose(),w )\n",
    "#         hat = np.dot(v.transpose(),mean)\n",
    "#         delta = delta[ind]-hat[ind]/(diag[ind])\n",
    "#         return abs(delta)\n",
    "#     [stat,w] = gradient_desc_adapt_steps(grad_eff,risk_eval,6)\n",
    "#     label_i = 'lambda:%f' % diag[ind]\n",
    "#     plt.plot((stat[0,:]),np.log2(stat[1,:]),label= label_i)\n",
    "# plt.legend(loc='center left', bbox_to_anchor=(1, 0.5))"
   ]
  },
  {
   "cell_type": "code",
   "execution_count": 10,
   "metadata": {
    "collapsed": false
   },
   "outputs": [
    {
     "data": {
      "text/plain": [
       "array([ 99.999999 ,   6.9772368])"
      ]
     },
     "execution_count": 10,
     "metadata": {},
     "output_type": "execute_result"
    }
   ],
   "source": [
    "w2"
   ]
  },
  {
   "cell_type": "code",
   "execution_count": null,
   "metadata": {
    "collapsed": false
   },
   "outputs": [],
   "source": [
    "def obj_nest(w,mu,reg): \n",
    "    d = len(w)\n",
    "    error = 0.5*w[0]*w[0]- w[0]\n",
    "    for i in range(d-1): \n",
    "        delta = w[i]-w[i+1]\n",
    "        error = error + 0.5*(delta*delta)\n",
    "    error = .25*(1-mu)*error\n",
    "    error = error + .5*reg*pow(np.linalg.norm(w),2)\n",
    "    return error\n",
    "def get_star(d,mu): \n",
    "    w = np.zeros(d)\n",
    "    q = (math.sqrt(1.0/mu)-1)/(math.sqrt(1.0/mu)+1)\n",
    "    for i in range(d): \n",
    "        w[i] = pow(q,i+1)\n",
    "    return w\n",
    "def grad_nest(w,mu,reg): \n",
    "    d = len(w)\n",
    "    A = np.diag(2*np.ones(d))\n",
    "    for i in range(d-1): \n",
    "        A[i,i+1] = -1\n",
    "        A[i+1,i] = -1\n",
    "    e1 = np.zeros(d)\n",
    "    e1[0] = 1\n",
    "    return np.dot(0.25*(1-mu)*A + reg* np.eye(d),w) - 0.25*(1-mu)*e1\n",
    "\n",
    "d = 100; \n",
    "mu = 0.001\n",
    "w_star = get_star(d,mu)\n",
    "opt_obj = obj_nest(w_star,mu,mu)\n",
    "inital_vec = 10*np.random.randn(d)\n",
    "inital_vec = np.zeros(d)\n",
    "w = inital_vec\n",
    "w_acc = inital_vec\n",
    "T = 1000; \n",
    "mu2 = 10*mu \n",
    "errors = np.zeros(T)\n",
    "errors_acc = np.zeros(T)\n",
    "step_size = 0.1\n",
    "for t in range(T): \n",
    "   #print(grad_nest(w,mu))\n",
    "   w = w - step_size*grad_nest(w,mu,mu)\n",
    "   w_acc = w_acc - step_size*grad_nest(w_acc,mu,mu2) \n",
    "   delta = w - w_star\n",
    "   delta2 = w_acc - w_star\n",
    "   errors[t] = obj_nest(w,mu,mu)-opt_obj\n",
    "   errors_acc[t] = obj_nest(w_acc,mu,mu)-opt_obj\n",
    "#    errors[t] = pow(np.linalg.norm(delta),2)\n",
    "#    errors_acc[t] = pow(np.linalg.norm(delta2),2)\n",
    "plt.plot(range(T),np.log2(errors),label = 'nest')\n",
    "plt.plot(range(T),np.log2(errors_acc), label = 'acc_nest')\n",
    "plt.legend()"
   ]
  },
  {
   "cell_type": "code",
   "execution_count": null,
   "metadata": {
    "collapsed": false
   },
   "outputs": [],
   "source": [
    "opt_obj"
   ]
  },
  {
   "cell_type": "code",
   "execution_count": null,
   "metadata": {
    "collapsed": false
   },
   "outputs": [],
   "source": [
    "print(obj_nest(w_acc,mu2)-obj_nest(get_star(d,mu,mu),mu))"
   ]
  },
  {
   "cell_type": "code",
   "execution_count": null,
   "metadata": {
    "collapsed": false
   },
   "outputs": [],
   "source": [
    "get_star(d,0.0000001)"
   ]
  },
  {
   "cell_type": "code",
   "execution_count": null,
   "metadata": {
    "collapsed": false
   },
   "outputs": [],
   "source": [
    "opt_obj"
   ]
  },
  {
   "cell_type": "code",
   "execution_count": null,
   "metadata": {
    "collapsed": false
   },
   "outputs": [],
   "source": [
    "A[d-10:d,d-10:d]"
   ]
  },
  {
   "cell_type": "code",
   "execution_count": null,
   "metadata": {
    "collapsed": false
   },
   "outputs": [],
   "source": [
    "w"
   ]
  },
  {
   "cell_type": "code",
   "execution_count": 4,
   "metadata": {
    "collapsed": false
   },
   "outputs": [
    {
     "data": {
      "text/plain": [
       "1"
      ]
     },
     "execution_count": 4,
     "metadata": {},
     "output_type": "execute_result"
    }
   ],
   "source": [
    "int(1.0)"
   ]
  },
  {
   "cell_type": "code",
   "execution_count": 25,
   "metadata": {
    "collapsed": false
   },
   "outputs": [
    {
     "data": {
      "text/plain": [
       "sys.long_info(bits_per_digit=30, sizeof_digit=4)"
      ]
     },
     "execution_count": 25,
     "metadata": {},
     "output_type": "execute_result"
    }
   ],
   "source": [
    "import sys\n",
    "sys.long_info\n"
   ]
  },
  {
   "cell_type": "code",
   "execution_count": 28,
   "metadata": {
    "collapsed": false
   },
   "outputs": [],
   "source": [
    "a = 1"
   ]
  },
  {
   "cell_type": "code",
   "execution_count": 29,
   "metadata": {
    "collapsed": true
   },
   "outputs": [],
   "source": [
    "a = 1 + 1000**10"
   ]
  },
  {
   "cell_type": "code",
   "execution_count": 30,
   "metadata": {
    "collapsed": false
   },
   "outputs": [
    {
     "data": {
      "text/plain": [
       "1000000000000000000000000000001L"
      ]
     },
     "execution_count": 30,
     "metadata": {},
     "output_type": "execute_result"
    }
   ],
   "source": [
    "a"
   ]
  },
  {
   "cell_type": "code",
   "execution_count": null,
   "metadata": {
    "collapsed": true
   },
   "outputs": [],
   "source": []
  }
 ],
 "metadata": {
  "kernelspec": {
   "display_name": "Python 2",
   "language": "python",
   "name": "python2"
  },
  "language_info": {
   "codemirror_mode": {
    "name": "ipython",
    "version": 2
   },
   "file_extension": ".py",
   "mimetype": "text/x-python",
   "name": "python",
   "nbconvert_exporter": "python",
   "pygments_lexer": "ipython2",
   "version": "2.7.11"
  }
 },
 "nbformat": 4,
 "nbformat_minor": 0
}
