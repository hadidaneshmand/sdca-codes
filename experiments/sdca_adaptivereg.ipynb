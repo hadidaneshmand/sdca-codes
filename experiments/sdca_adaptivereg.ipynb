{
 "cells": [
  {
   "cell_type": "code",
   "execution_count": 1,
   "metadata": {
    "collapsed": false
   },
   "outputs": [
    {
     "name": "stdout",
     "output_type": "stream",
     "text": [
      "Using matplotlib backend: MacOSX\n",
      "Populating the interactive namespace from numpy and matplotlib\n"
     ]
    }
   ],
   "source": [
    "# @author = Hadi Daneshmand (ETH Zurich)\n",
    "# X is n times d data matrix where n is number of samples and d is the dimension \n",
    "# lambd is the regularizer \n",
    "\n",
    "%pylab\n",
    "%matplotlib inline\n",
    "\n",
    "from sklearn import svm\n",
    "from sklearn import preprocessing\n",
    "from sklearn.linear_model import Ridge\n",
    "from sklearn.linear_model import LogisticRegression\n",
    "import numpy as np\n",
    "def readfile(filename, n,d):\n",
    "    y = np.zeros(n) # targets\n",
    "    X = np.zeros((n,d)) # input matrix each row is a sample data point\n",
    "    li = 0 \n",
    "    with open(filename, \"rb\") as f:\n",
    "        for line in f:\n",
    "           if li>=n : \n",
    "             break;\n",
    "           parts = line.split()\n",
    "           y[li] = float(parts[0])\n",
    "           for i in range(len(parts)): \n",
    "                if i >0 and parts[i] != '\\n': \n",
    "                    fparts = parts[i].split(\":\")\n",
    "                    X[li,int(fparts[0])-1] = float(fparts[1])\n",
    "           li = li +1\n",
    "    return (y,X)\n"
   ]
  },
  {
   "cell_type": "code",
   "execution_count": 2,
   "metadata": {
    "collapsed": false
   },
   "outputs": [],
   "source": [
    "class Ridge_Risk: # this class presents the ridge regression objective function \n",
    "    def __init__(self, X, y,lambd,primal = True):\n",
    "        self.X = X\n",
    "        self.y = y\n",
    "        self.lambd = lambd\n",
    "        self.optimal = -1 \n",
    "        self.primal = primal\n",
    "        self.row_norms_sq = np.square(np.linalg.norm(X, axis=1))\n",
    "    def __str__(self):\n",
    "        return (\"square loss with lambd = %f\" % self.lambd)\n",
    "    def get_w(self,alpha): \n",
    "        n, d = self.X.shape\n",
    "        w = np.zeros(d)\n",
    "        for i in range(n): \n",
    "            w = w + alpha[i]*self.X[i,:]/(self.lambd*n)\n",
    "        return w\n",
    "    def get_dual(self,alpha): \n",
    "        da = 0\n",
    "        n, d = self.X.shape\n",
    "        for i in range(n):         \n",
    "            da = da + alpha[i]*self.y[i] - 0.25*alpha[i]*alpha[i]\n",
    "        da = da/float(n)\n",
    "        da = da - 0.5*self.lambd*np.square(np.linalg.norm(self.get_w(alpha)))\n",
    "        return da\n",
    "    def get_primal(self,w): \n",
    "        n, d = self.X.shape\n",
    "        pw = 0\n",
    "        for i in range(n): \n",
    "            dif = np.dot(self.X[i,:],w) - self.y[i]\n",
    "            pw = pw + dif*dif\n",
    "        pw = pw/float(n)\n",
    "        pw = pw + 0.5*self.lambd*np.square(np.linalg.norm(w))\n",
    "        return pw\n",
    "    def get_sdca_update(self,w,ii,alpha_i_old): \n",
    "        xi = self.X[ii,:] \n",
    "        yi = self.y[ii] \n",
    "        sqi = self.row_norms_sq[ii]\n",
    "        n, d = self.X.shape\n",
    "        return (yi- np.dot(xi,w)-0.5*alpha_i_old)/(0.5+sqi/(self.lambd*n)) \n",
    "    def get_w_update(self,ii,delta_alpha_i): \n",
    "        n, d = self.X.shape\n",
    "        return delta_alpha_i*self.X[ii,:]/(self.lambd*n)\n",
    "    def get_sub_risk(self,indeces,lambd): \n",
    "        return Ridge_Risk(self.X[indeces,:],self.y[indeces],lambd)\n",
    "    def get_suboptimality(self,w,alpha): \n",
    "        if self.optimal == -1:\n",
    "           n, d = self.X.shape\n",
    "           mu = np.dot(np.transpose(self.X),self.y)/float(n)\n",
    "           cov = np.dot(np.transpose(self.X)/math.sqrt(n),X/math.sqrt(n))\n",
    "           self.opt_w = np.dot(np.linalg.inv(np.add(2*cov,np.multiply(np.eye(d),self.lambd))),2*mu)\n",
    "           self.optimal = self.get_primal(self.opt_w)\n",
    "        if(self.primal): \n",
    "            return self.get_primal(w) - self.optimal\n",
    "        else: \n",
    "            return self.optimal - self.get_dual(alpha)\n",
    "def sdca_opt(risk, num_effective_passes, lambd0 = -1, alpha0 = None, verbose = False, stat_per_iter = False): \n",
    "  n, d = risk.X.shape\n",
    "  rperm = np.random.permutation(n);\n",
    "  if alpha0 is None: \n",
    "    alpha = np.zeros(n)\n",
    "  else : \n",
    "    alpha = np.copy(alpha0)\n",
    "  w = risk.get_w(alpha)\n",
    "  obj_value = risk.get_suboptimality(w,alpha) \n",
    "  sample_size = n\n",
    "  if verbose:\n",
    "    print(\" Initial objective value: {}\".format(obj_value))\n",
    "  past_ef_pass = 0\n",
    "  itrs = [0.0]\n",
    "  optimality = [obj_value]\n",
    "  completed_effective_passes = 0.0\n",
    "  while completed_effective_passes < num_effective_passes:\n",
    "    coords = rperm[np.random.permutation(sample_size)] \n",
    "    t = 0 \n",
    "    for ii in coords:\n",
    "        t = t + 1\n",
    "        alpha_i_old = alpha[ii]\n",
    "        # coordinate update step \n",
    "        delta_alpha_i = risk.get_sdca_update(w,ii,alpha_i_old)\n",
    "        alpha[ii] = alpha[ii] + delta_alpha_i\n",
    "        w = w + risk.get_w_update(ii,delta_alpha_i)\n",
    "        if stat_per_iter == True and (t % 100 == 0): \n",
    "            obj_value = risk.get_suboptimality(w,alpha)\n",
    "            itrs.append(completed_effective_passes + (t/float(n)))\n",
    "            optimality.append(obj_value)\n",
    "    past_ef_pass = completed_effective_passes\n",
    "    completed_effective_passes += len(coords) / float(n)\n",
    "    obj_value = risk.get_suboptimality(w,alpha)\n",
    "    itrs.append(completed_effective_passes)\n",
    "    optimality.append(obj_value)\n",
    "    if verbose:\n",
    "      print(\"Obj[{}]= {},delta_alpha = {},sqi={}\".format(completed_effective_passes, obj_value,(np.dot(xi,w)),sqi))\n",
    "  return (alpha, itrs,optimality,w)"
   ]
  },
  {
   "cell_type": "code",
   "execution_count": 3,
   "metadata": {
    "collapsed": false
   },
   "outputs": [
    {
     "name": "stderr",
     "output_type": "stream",
     "text": [
      "/usr/local/lib/python2.7/site-packages/ipykernel/__main__.py:18: RuntimeWarning: invalid value encountered in log10\n"
     ]
    },
    {
     "data": {
      "text/plain": [
       "[<matplotlib.lines.Line2D at 0x10587c110>]"
      ]
     },
     "execution_count": 3,
     "metadata": {},
     "output_type": "execute_result"
    },
    {
     "data": {
      "image/png": "[encoded data removed]",
      "text/plain": [
       "<matplotlib.figure.Figure at 0x10ab95dd0>"
      ]
     },
     "metadata": {},
     "output_type": "display_data"
    }
   ],
   "source": [
    "n = 32561; \n",
    "d = 123; \n",
    "import math\n",
    "lambd1 = 10.0/float(n)\n",
    "epochs = 150\n",
    "#filename = \"../datasets/rcv1_train.binary\"\n",
    "filename = \"../datasets/a9a\"\n",
    "y, X = readfile(filename,n,d)\n",
    "rperm = np.random.permutation(n)\n",
    "X = X[rperm,:]\n",
    "y = y[rperm]\n",
    "for i in range(n):\n",
    "    if(y[i]==2 or y[i] == 0):\n",
    "        y[i] = -1;\n",
    "risk_ridge = Ridge_Risk(X,y,lambd1,False)\n",
    "#_,steps_sgd_sdca,dual_sgd_sdca,_ = sgd_for_sdca(risk = risk_ridge,num_effective_passes = epochs,obj = objective_dual)\n",
    "(alpha, itrs,optimality,w) = sdca_opt(risk = risk_ridge, num_effective_passes = epochs)\n",
    "plt.plot(itrs,np.log10(optimality))\n",
    "#plt.plot(steps_sgd_sdca,np.log10(dual_sgd_sdca),label = 'sgd for sdca')\n",
    "#plt.savefig('plot/a9a_adaptive_sdca_dual_convergence.eps',format = 'eps')\n",
    "#clustered_distributed_test(X,y,lambd,k)\n",
    "#dual_transfer_test(X,y,lambd,k)\n",
    "#partial_distributed_test(X,y,lambd,k)\n",
    "#alpha = run_small_experiment(X,y, lambd,passes,\"plot/a9a_ridge_dual.eps\",primal_accuracy =False)"
   ]
  },
  {
   "cell_type": "code",
   "execution_count": 40,
   "metadata": {
    "collapsed": false
   },
   "outputs": [
    {
     "data": {
      "text/plain": [
       "0.22426141712695319"
      ]
     },
     "execution_count": 40,
     "metadata": {},
     "output_type": "execute_result"
    }
   ],
   "source": [
    "risk_ridge.get_dual(alpha)"
   ]
  },
  {
   "cell_type": "code",
   "execution_count": 11,
   "metadata": {
    "collapsed": false
   },
   "outputs": [
    {
     "data": {
      "text/plain": [
       "[<matplotlib.lines.Line2D at 0x110f61f10>]"
      ]
     },
     "execution_count": 11,
     "metadata": {},
     "output_type": "execute_result"
    },
    {
     "data": {
      "image/png": "[encoded data removed]",
      "text/plain": [
       "<matplotlib.figure.Figure at 0x110b7d4d0>"
      ]
     },
     "metadata": {},
     "output_type": "display_data"
    }
   ],
   "source": [
    "lambd_small = lambd1/100\n",
    "risk_small = Ridge_Risk(X,y,lambd_small,False)\n",
    "new_alpha, new_itrs, new_opts, new_w = sdca_opt(risk = risk_small, num_effective_passes =3, alpha0= alpha, stat_per_iter=False)\n",
    "nitr = np.multiply(new_itrs,n)\n",
    "plt.plot((new_itrs),np.log10(new_opts))\n"
   ]
  },
  {
   "cell_type": "code",
   "execution_count": 6,
   "metadata": {
    "collapsed": false
   },
   "outputs": [
    {
     "name": "stderr",
     "output_type": "stream",
     "text": [
      "/usr/local/lib/python2.7/site-packages/ipykernel/__main__.py:5: RuntimeWarning: divide by zero encountered in log10\n"
     ]
    },
    {
     "data": {
      "text/plain": [
       "[<matplotlib.lines.Line2D at 0x110954950>]"
      ]
     },
     "execution_count": 6,
     "metadata": {},
     "output_type": "execute_result"
    },
    {
     "data": {
      "image/png": "[encoded data removed]",
      "text/plain": [
       "<matplotlib.figure.Figure at 0x1108fa9d0>"
      ]
     },
     "metadata": {},
     "output_type": "display_data"
    }
   ],
   "source": [
    "lambd_small = lambd1/10.0\n",
    "risk_small = Ridge_Risk(X,y,lambd_small,False)\n",
    "new_alpha, new_itrs, new_opts, new_w = sdca_opt(risk = risk_small, num_effective_passes =3, alpha0= alpha, stat_per_iter=False)\n",
    "nitr = np.multiply(new_itrs,n)\n",
    "plt.plot(np.log10(new_itrs),np.log10(new_opts))"
   ]
  },
  {
   "cell_type": "code",
   "execution_count": 20,
   "metadata": {
    "collapsed": false
   },
   "outputs": [
    {
     "name": "stderr",
     "output_type": "stream",
     "text": [
      "/usr/local/lib/python2.7/site-packages/ipykernel/__main__.py:2: RuntimeWarning: divide by zero encountered in log10\n",
      "  from ipykernel import kernelapp as app\n"
     ]
    },
    {
     "data": {
      "text/plain": [
       "[<matplotlib.lines.Line2D at 0x113e88550>]"
      ]
     },
     "execution_count": 20,
     "metadata": {},
     "output_type": "execute_result"
    },
    {
     "data": {
      "image/png": "[encoded data removed]",
      "text/plain": [
       "<matplotlib.figure.Figure at 0x12161c550>"
      ]
     },
     "metadata": {},
     "output_type": "display_data"
    }
   ],
   "source": []
  },
  {
   "cell_type": "code",
   "execution_count": null,
   "metadata": {
    "collapsed": false,
    "scrolled": false
   },
   "outputs": [],
   "source": [
    "n = 32561; \n",
    "d = 123; \n",
    "from sklearn.cluster import KMeans\n",
    "import math\n",
    "lambd = 1.0/math.sqrt(n)\n",
    "epochs = 4\n",
    "k = 2\n",
    "#filename = \"../datasets/rcv1_train.binary\"\n",
    "filename = \"../datasets/a9a\"\n",
    "y, X = readfile(filename,n,d)\n",
    "rperm = np.random.permutation(n)\n",
    "X = X[rperm,:]\n",
    "y = y[rperm]\n",
    "for i in range(n):\n",
    "    if(y[i]==2 or y[i] == 0):\n",
    "        y[i] = -1;\n",
    "clf = Ridge(alpha=lambd*n,fit_intercept=False)\n",
    "clf.fit(X, y)\n",
    "risk_ridge = Ridge_Risk_C(X,y,lambd)\n",
    "primal_opt =  risk_ridge.get_primal(clf.coef_)\n",
    "def objective_dual(w,alpha,risk): \n",
    "    return primal_opt - risk.get_dual(alpha)\n",
    "def objective_primal(w,alpha,risk): \n",
    "    #print( primal_func(w,alpha,X,y,lambd) - primal_opt)\n",
    "    return   risk.get_primal(w) - primal_opt\n",
    "#_,steps_sgd_sdca,dual_sgd_sdca,_ = sgd_for_sdca(risk = risk_ridge,num_effective_passes = epochs,obj = objective_dual)\n",
    "steps_adap, dual_adapt = distributed_simulation(risk_ridge,k,epochs,obj = objective_dual)\n",
    "_,steps_sdca,dual_sdca,_ = sdca_opt(risk = risk_ridge, num_effective_passes = epochs,obj = objective_dual)\n",
    "\n",
    "plt.plot(steps_adap,np.log10(dual_adapt),label = 'adaptive sdca')\n",
    "plt.plot(steps_sdca,np.log10(dual_sdca), label = 'sdca')\n",
    "#plt.plot(steps_sgd_sdca,np.log10(dual_sgd_sdca),label = 'sgd for sdca')\n",
    "plt.legend()\n",
    "plt.savefig('plot/a9a_adaptive_sdca_dual_convergence.eps',format = 'eps')\n",
    "#clustered_distributed_test(X,y,lambd,k)\n",
    "#dual_transfer_test(X,y,lambd,k)\n",
    "#partial_distributed_test(X,y,lambd,k)\n",
    "#alpha = run_small_experiment(X,y, lambd,passes,\"plot/a9a_ridge_dual.eps\",primal_accuracy =False)"
   ]
  },
  {
   "cell_type": "code",
   "execution_count": null,
   "metadata": {
    "collapsed": false
   },
   "outputs": [],
   "source": [
    "n = 32561; \n",
    "d = 123; \n",
    "from sklearn.cluster import KMeans\n",
    "lambd = 1.0/math.sqrt(n)\n",
    "epochs = 4\n",
    "k = 2\n",
    "#filename = \"../datasets/rcv1_train.binary\"\n",
    "filename = \"../datasets/a9a\"\n",
    "y, X = readfile(filename,n,d)\n",
    "rperm = np.random.permutation(n)\n",
    "X = X[rperm,:]\n",
    "y = y[rperm]\n",
    "clf = Ridge(alpha=lambd*n,fit_intercept=False)\n",
    "clf.fit(X, y)\n",
    "risk_ridge = Ridge_Risk_C(X,y,lambd)\n",
    "primal_opt =  risk_ridge.get_primal(clf.coef_)\n",
    "def objective_dual(w,alpha,risk): \n",
    "    return primal_opt - risk.get_dual(alpha)\n",
    "def objective_primal(w,alpha,risk): \n",
    "    #print( primal_func(w,alpha,X,y,lambd) - primal_opt)\n",
    "    return   risk.get_primal(w) - primal_opt\n",
    "#_,steps_sgd_sdca,dual_sgd_sdca,_ = sgd_for_sdca(risk = risk_ridge,num_effective_passes = epochs,obj = objective_dual)\n",
    "steps_adap, dual_adapt = distributed_simulation(risk_ridge,k,epochs,obj = objective_primal)\n",
    "_,steps_sdca,dual_sdca,_ = sdca_opt(risk = risk_ridge, num_effective_passes = epochs,obj = objective_primal)\n",
    "\n",
    "plt.plot(steps_adap,np.log10(dual_adapt),label = 'adaptive sdca')\n",
    "plt.plot(steps_sdca,np.log10(dual_sdca), label = 'sdca')\n",
    "#plt.plot(steps_sgd_sdca,np.log10(dual_sgd_sdca),label = 'sgd for sdca')\n",
    "plt.legend()\n",
    "plt.savefig('plot/a9a_adaptive_sdca_primal_convergence.eps',format = 'eps')\n",
    "#clustered_distributed_test(X,y,lambd,k)\n",
    "#dual_transfer_test(X,y,lambd,k)\n",
    "#partial_distributed_test(X,y,lambd,k)\n",
    "#alpha = run_small_experiment(X,y, lambd,passes,\"plot/a9a_ridge_dual.eps\",primal_accuracy =False)"
   ]
  },
  {
   "cell_type": "code",
   "execution_count": null,
   "metadata": {
    "collapsed": true
   },
   "outputs": [],
   "source": []
  }
 ],
 "metadata": {
  "kernelspec": {
   "display_name": "Python 2",
   "language": "python",
   "name": "python2"
  },
  "language_info": {
   "codemirror_mode": {
    "name": "ipython",
    "version": 2
   },
   "file_extension": ".py",
   "mimetype": "text/x-python",
   "name": "python",
   "nbconvert_exporter": "python",
   "pygments_lexer": "ipython2",
   "version": "2.7.11"
  }
 },
 "nbformat": 4,
 "nbformat_minor": 0
}
