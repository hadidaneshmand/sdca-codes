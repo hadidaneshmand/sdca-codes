{
 "cells": [
  {
   "cell_type": "code",
   "execution_count": 1,
   "metadata": {
    "collapsed": false
   },
   "outputs": [
    {
     "name": "stdout",
     "output_type": "stream",
     "text": [
      "Using matplotlib backend: MacOSX\n",
      "Populating the interactive namespace from numpy and matplotlib\n"
     ]
    }
   ],
   "source": [
    "%pylab\n",
    "%matplotlib inline\n",
    "import numpy as np \n",
    "import matplotlib.pyplot as plt\n",
    "from sklearn.linear_model import LogisticRegression\n",
    "from sklearn.linear_model import Ridge\n",
    "from sklearn import svm\n",
    "def readfile(filename, n,d):\n",
    "    y = np.zeros(n) # targets\n",
    "    X = np.zeros((n,d)) # input matrix each row is a sample data point\n",
    "    li = 0 \n",
    "    with open(filename, \"rb\") as f:\n",
    "        for line in f:\n",
    "           if li>=n : \n",
    "             break;\n",
    "           parts = line.split()\n",
    "           y[li] = float(parts[0])\n",
    "           for i in range(len(parts)): \n",
    "                if i >0 and parts[i] != '\\n': \n",
    "                    fparts = parts[i].split(\":\")\n",
    "                    X[li,int(fparts[0])-1] = float(fparts[1])\n",
    "           li = li +1\n",
    "    return (y,X)\n"
   ]
  },
  {
   "cell_type": "code",
   "execution_count": 2,
   "metadata": {
    "collapsed": true
   },
   "outputs": [],
   "source": [
    "def dots_sample(X,y,steps,d,n,num_rep,run_svm = False):\n",
    "    tracks = np.zeros(steps)\n",
    "    sample_sizes = np.zeros(steps)\n",
    "    for i in range(steps): \n",
    "        norms = 0\n",
    "        for j in range(num_rep):\n",
    "            rperm = np.random.permutation(n)\n",
    "            isize = min( 500*pow(2,i),n)\n",
    "            sample_sizes[i] = isize\n",
    "            Xs = X[rperm[1:isize],:]\n",
    "            ys = y[rperm[1:isize]]\n",
    "            #clf = LogisticRegression(C=1.0)\n",
    "            if run_svm :\n",
    "             clf =  svm.LinearSVC(loss = 'hinge', C = 1.0, tol = 0.0000001, max_iter = 10000000, fit_intercept=True)\n",
    "            else :  \n",
    "             clf = LogisticRegression(C=1.0)\n",
    "            clf.fit(Xs,ys) # s is lambda matrix in the write-up and  U and V are changed here\n",
    "            norms = norms + np.dot(clf.coef_,np.transpose(clf.coef_))\n",
    "        tracks[i] = norms/float(num_rep)\n",
    "    plt.plot(sample_sizes,tracks)\n",
    "    #plt.plot(sample_sizes,np.sqrt(sample_sizes))\n",
    "    #plt.plot(sample_sizes,40*np.log(sample_sizes))\n"
   ]
  },
  {
   "cell_type": "code",
   "execution_count": 3,
   "metadata": {
    "collapsed": false
   },
   "outputs": [
    {
     "data": {
      "image/png": "[encoded data removed]",
      "text/plain": [
       "<matplotlib.figure.Figure at 0x111883110>"
      ]
     },
     "metadata": {},
     "output_type": "display_data"
    }
   ],
   "source": [
    "n = 50101; \n",
    "d = 54; \n",
    "\n",
    "filename = \"../datasets/covtype.libsvm.binary.scale\"\n",
    "y, X = readfile(filename,n,d)\n",
    "num_rep = 3\n",
    "steps = 8\n",
    "for i in range(n):\n",
    "    if(y[i] == 2 or y[i] == 0):\n",
    "        y[i] = -1;\n",
    "dots_sample(X,y,steps,d,n,num_rep,run_svm=False)"
   ]
  },
  {
   "cell_type": "code",
   "execution_count": 4,
   "metadata": {
    "collapsed": false
   },
   "outputs": [
    {
     "data": {
      "image/png": "[encoded data removed]",
      "text/plain": [
       "<matplotlib.figure.Figure at 0x112ea6ed0>"
      ]
     },
     "metadata": {},
     "output_type": "display_data"
    }
   ],
   "source": [
    "n = 128101; \n",
    "d = 18; \n",
    "\n",
    "filename = \"../datasets/SUSY\"\n",
    "y, X = readfile(filename,n,d)\n",
    "num_rep = 3\n",
    "steps = 9\n",
    "for i in range(n):\n",
    "    if(y[i]==2 or y[i] == 0):\n",
    "        y[i] = -1;\n",
    "dots_sample(X,y,steps,d,n,num_rep,run_svm=True)"
   ]
  },
  {
   "cell_type": "code",
   "execution_count": 5,
   "metadata": {
    "collapsed": false
   },
   "outputs": [
    {
     "data": {
      "image/png": "[encoded data removed]",
      "text/plain": [
       "<matplotlib.figure.Figure at 0x11a09dd10>"
      ]
     },
     "metadata": {},
     "output_type": "display_data"
    }
   ],
   "source": [
    "n = 49749; \n",
    "d = 300; \n",
    "filename = \"../datasets/w8a\"\n",
    "y, X = readfile(filename,n,d)\n",
    "num_rep = 4\n",
    "steps = 8\n",
    "for i in range(n):\n",
    "    if(y[i]==2 or y[i] == 0):\n",
    "        y[i] = -1;\n",
    "dots_sample(X,y,steps,d,n,num_rep,run_svm=True)"
   ]
  },
  {
   "cell_type": "code",
   "execution_count": 6,
   "metadata": {
    "collapsed": false
   },
   "outputs": [
    {
     "data": {
      "image/png": "[encoded data removed]",
      "text/plain": [
       "<matplotlib.figure.Figure at 0x11a284a90>"
      ]
     },
     "metadata": {},
     "output_type": "display_data"
    }
   ],
   "source": [
    "n = 32561; \n",
    "d = 123; \n",
    "filename = \"../datasets/a9a\"\n",
    "y, X = readfile(filename,n,d)\n",
    "for i in range(n):\n",
    "    if(y[i]==2 or y[i] == 0):\n",
    "        y[i] = -1;\n",
    "steps = 7\n",
    "num_rep = 10\n",
    "dots_sample(X,y,steps,d,n,num_rep,run_svm= True)"
   ]
  },
  {
   "cell_type": "code",
   "execution_count": 29,
   "metadata": {
    "collapsed": false
   },
   "outputs": [
    {
     "name": "stdout",
     "output_type": "stream",
     "text": [
      "0.959954249181\n"
     ]
    },
    {
     "data": {
      "image/png": "[encoded data removed]",
      "text/plain": [
       "<matplotlib.figure.Figure at 0x112a59550>"
      ]
     },
     "metadata": {},
     "output_type": "display_data"
    }
   ],
   "source": [
    "mu1 = [0.00001,0.00001]\n",
    "mu2 = [0,0]\n",
    "sig1 = np.zeros((2,2))\n",
    "n = 100000\n",
    "sig1[1,1] = 0.00001 \n",
    "sig1[0,0] = 0.00001\n",
    "sig2 = sig1 \n",
    "x1 = np.random.multivariate_normal(mu1,sig1,n)\n",
    "x2 = np.random.multivariate_normal(mu2,sig2,n)\n",
    "x = np.zeros((2*n,2))\n",
    "x[0:n,:] = x1\n",
    "x[n:2*n,:] = x2\n",
    "y = np.ones((2*n,1))\n",
    "y[n:-1] = -1\n",
    "scatter(x1[:,0],x1[:,1],c='b')\n",
    "scatter(x2[:,0],x2[:,1],c ='r')\n",
    "clf = LogisticRegression(C=1.0,tol=0.0000001,max_iter=100000) \n",
    "clf.fit(x,y)\n",
    "l = np.zeros((50,2))\n",
    "for i in range(50): \n",
    "    a = -4 + i/float(5)\n",
    "    b = (-clf.intercept_ - clf.coef_[0,0]*a)/clf.coef_[0,1]\n",
    "    l[i,0] = a \n",
    "    l[i,1] = b\n",
    "plot(l[:,0],l[:,1])\n",
    "print(np.linalg.norm(clf.coef_))"
   ]
  },
  {
   "cell_type": "code",
   "execution_count": 30,
   "metadata": {
    "collapsed": false
   },
   "outputs": [
    {
     "data": {
      "text/plain": [
       "<matplotlib.collections.PathCollection at 0x111eea8d0>"
      ]
     },
     "execution_count": 30,
     "metadata": {},
     "output_type": "execute_result"
    },
    {
     "data": {
      "image/png": "[encoded data removed]",
      "text/plain": [
       "<matplotlib.figure.Figure at 0x11529d650>"
      ]
     },
     "metadata": {},
     "output_type": "display_data"
    }
   ],
   "source": [
    "xp = x\n",
    "alphas = np.zeros(2*n)\n",
    "for i in range(2*n): \n",
    "    a = -y[i]*(np.dot(clf.coef_,x[i,:])+clf.intercept_)\n",
    "    alphas[i] = math.exp(a)/(1+math.exp(a))\n",
    "    xp[i,:] = -1*y[i]*x[i,:]* math.exp(a)/(1+math.exp(a))\n",
    "scatter(xp[0:n,1],xp[0:n,1],c='b')\n",
    "scatter(xp[n:2*n,1],xp[n:2*n,1],c='r')\n"
   ]
  },
  {
   "cell_type": "code",
   "execution_count": 31,
   "metadata": {
    "collapsed": false
   },
   "outputs": [
    {
     "data": {
      "text/plain": [
       "0.95995424918066519"
      ]
     },
     "execution_count": 31,
     "metadata": {},
     "output_type": "execute_result"
    }
   ],
   "source": [
    "np.linalg.norm(clf.coef_)"
   ]
  },
  {
   "cell_type": "code",
   "execution_count": 102,
   "metadata": {
    "collapsed": false
   },
   "outputs": [
    {
     "data": {
      "text/plain": [
       "(array([  1.99999000e+05,   0.00000000e+00,   0.00000000e+00,\n",
       "          0.00000000e+00,   0.00000000e+00,   0.00000000e+00,\n",
       "          0.00000000e+00,   0.00000000e+00,   0.00000000e+00,\n",
       "          1.00000000e+00]),\n",
       " array([  2.02989608e-08,   9.99928549e-02,   1.99985689e-01,\n",
       "          2.99978524e-01,   3.99971359e-01,   4.99964193e-01,\n",
       "          5.99957028e-01,   6.99949862e-01,   7.99942697e-01,\n",
       "          8.99935532e-01,   9.99928366e-01]),\n",
       " <a list of 10 Patch objects>)"
      ]
     },
     "execution_count": 102,
     "metadata": {},
     "output_type": "execute_result"
    },
    {
     "data": {
      "image/png": "[encoded data removed]",
      "text/plain": [
       "<matplotlib.figure.Figure at 0x11e347950>"
      ]
     },
     "metadata": {},
     "output_type": "display_data"
    }
   ],
   "source": [
    "plt.hist(alphas)"
   ]
  },
  {
   "cell_type": "code",
   "execution_count": 15,
   "metadata": {
    "collapsed": false
   },
   "outputs": [
    {
     "name": "stdout",
     "output_type": "stream",
     "text": [
      "p=0.9,n=1048576,norm=[[ 149542.45152331]],eps=0.01, t =3.61241262606e-06\n",
      "p=0.45,n=1048576,norm=[[ 109753.68738]],eps=0.01, t =3.05097087748e-06\n",
      "p=0.225,n=1048576,norm=[[ 76601.38197454]],eps=0.01, t =2.50260749516e-06\n",
      "p=0.1125,n=1048576,norm=[[ 48915.30821378]],eps=0.01, t =2.0047449266e-06\n",
      "p=0.05625,n=1048576,norm=[[ 29089.23212692]],eps=0.01, t =1.4630967624e-06\n",
      "p=0.028125,n=1048576,norm=[[ 15104.80322658]],eps=0.01, t =9.86900841451e-07\n",
      "p=0.0140625,n=1048576,norm=[[ 7522.06940321]],eps=0.01, t =5.87872062337e-07\n",
      "p=0.00703125,n=1048576,norm=[[ 1082.03173399]],eps=0.01, t =3.4833446132e-07\n",
      "p=0.003515625,n=1048576,norm=[[ 138.47241326]],eps=0.01, t =1.56267105339e-05\n",
      "p=0.0017578125,n=1048576,norm=[[ 128.65441727]],eps=0.01, t =2.37589746185e-05\n",
      "p=0.00087890625,n=1048576,norm=[[ 124.78615018]],eps=0.01, t =2.81784392713e-05\n"
     ]
    }
   ],
   "source": [
    "ps = np.zeros(size(range(1,13,1)))\n",
    "norms = np.zeros(size(ps))\n",
    "for i in range(1,12,1): \n",
    "   ep = 0.01\n",
    "   p = 1.8*pow(2,-i);\n",
    "   for j in range(20,21,1):\n",
    "     n = pow(2,j)\n",
    "     #p = pow(math.log(n),3)/float(n)\n",
    "     x = np.zeros((2*n,2))\n",
    "     y = np.zeros(2*n)\n",
    "     z = np.zeros((2*n,2))\n",
    "     for k in range(n): \n",
    "        r = np.random.rand(1)\n",
    "        if r<p:\n",
    "          x[k,0] = ep\n",
    "        else: \n",
    "          x[k,0] = 1\n",
    "        y[k] = 1\n",
    "        z[k,0] = -1*x[k,0]*y[k]\n",
    "     for k in range(n): \n",
    "        r = np.random.rand(1)\n",
    "        if r<p:\n",
    "          x[k+n,0] = -ep\n",
    "        else: \n",
    "          x[k+n,0] = -1\n",
    "        y[k+n] = -1\n",
    "        z[k+n,0] = -1*x[k+n,0]*y[k+n]\n",
    "     clf = LogisticRegression(C=1.0) \n",
    "     clf.fit(x,y)\n",
    "     norm = np.dot(clf.coef_,np.transpose(clf.coef_));\n",
    "     ps[i] = p \n",
    "     norms[i] = norm\n",
    "     v = z[:,0]*clf.coef_[0,0]; \n",
    "     hs = np.power(x[:,0],2)*np.divide(np.exp(v),np.power(np.exp(v)+1,2))\n",
    "     t = sum(hs)/n\n",
    "     print('p={},n={},norm={},eps={}, t ={}'.format(p,n,norm,ep,t))"
   ]
  },
  {
   "cell_type": "code",
   "execution_count": 9,
   "metadata": {
    "collapsed": false
   },
   "outputs": [
    {
     "data": {
      "text/plain": [
       "<matplotlib.collections.PathCollection at 0x10daa3650>"
      ]
     },
     "execution_count": 9,
     "metadata": {},
     "output_type": "execute_result"
    },
    {
     "data": {
      "image/png": "[encoded data removed]",
      "text/plain": [
       "<matplotlib.figure.Figure at 0x115f85710>"
      ]
     },
     "metadata": {},
     "output_type": "display_data"
    }
   ],
   "source": [
    "plt.scatter(ps,norms)"
   ]
  },
  {
   "cell_type": "code",
   "execution_count": 100,
   "metadata": {
    "collapsed": false
   },
   "outputs": [
    {
     "data": {
      "text/plain": [
       "array([[ 8.3778537,  0.       ]])"
      ]
     },
     "execution_count": 100,
     "metadata": {},
     "output_type": "execute_result"
    }
   ],
   "source": [
    "clf.coef_"
   ]
  },
  {
   "cell_type": "code",
   "execution_count": 112,
   "metadata": {
    "collapsed": false
   },
   "outputs": [
    {
     "data": {
      "text/plain": [
       "(array([ 32733.,      0.,      0.,      0.,      0.,      0.,      0.,\n",
       "             0.,      0.,     35.]),\n",
       " array([-8.279251  , -7.45215382, -6.62505665, -5.79795947, -4.9708623 ,\n",
       "        -4.14376512, -3.31666795, -2.48957077, -1.6624736 , -0.83537643,\n",
       "        -0.00827925]),\n",
       " <a list of 10 Patch objects>)"
      ]
     },
     "execution_count": 112,
     "metadata": {},
     "output_type": "execute_result"
    },
    {
     "data": {
      "image/png": "[encoded data removed]",
      "text/plain": [
       "<matplotlib.figure.Figure at 0x10d8f19d0>"
      ]
     },
     "metadata": {},
     "output_type": "display_data"
    }
   ],
   "source": [
    "plt.hist(v)"
   ]
  },
  {
   "cell_type": "code",
   "execution_count": 113,
   "metadata": {
    "collapsed": false
   },
   "outputs": [
    {
     "data": {
      "text/plain": [
       "array([-8.279251, -8.279251, -8.279251, ..., -8.279251, -8.279251,\n",
       "       -8.279251])"
      ]
     },
     "execution_count": 113,
     "metadata": {},
     "output_type": "execute_result"
    }
   ],
   "source": [
    "v"
   ]
  },
  {
   "cell_type": "code",
   "execution_count": 7,
   "metadata": {
    "collapsed": false
   },
   "outputs": [
    {
     "data": {
      "text/plain": [
       "(array([  2.04000000e+02,   1.08020000e+04,   1.24450000e+04,\n",
       "          3.91600000e+03,   8.59000000e+02,   3.81000000e+02,\n",
       "          1.87000000e+02,   6.00000000e+01,   2.50000000e+01,\n",
       "          1.10000000e+01]),\n",
       " array([-6.6686388 , -5.55095096, -4.43326311, -3.31557526, -2.19788741,\n",
       "        -1.08019956,  0.03748829,  1.15517614,  2.27286399,  3.39055184,\n",
       "         4.50823968]),\n",
       " <a list of 10 Patch objects>)"
      ]
     },
     "execution_count": 7,
     "metadata": {},
     "output_type": "execute_result"
    },
    {
     "data": {
      "image/png": "[encoded data removed]",
      "text/plain": [
       "<matplotlib.figure.Figure at 0x10e094e10>"
      ]
     },
     "metadata": {},
     "output_type": "display_data"
    }
   ],
   "source": [
    "n = 50101; \n",
    "d = 54; \n",
    "\n",
    "filename = \"../datasets/covtype.libsvm.binary.scale\"\n",
    "y, X = readfile(filename,n,d)\n",
    "num_rep = 3\n",
    "steps = 8\n",
    "for i in range(n):\n",
    "    if(y[i] == 2 or y[i] == 0):\n",
    "        y[i] = -1;\n",
    "m = LogisticRegression(C = 1.0)\n",
    "fm = m.fit(X,y)\n",
    "w = fm.coef_\n",
    "dots = np.dot(X[y<0],np.transpose(w))\n",
    "plt.hist(dots)"
   ]
  },
  {
   "cell_type": "code",
   "execution_count": 51,
   "metadata": {
    "collapsed": false
   },
   "outputs": [],
   "source": [
    "def grad_logistic(w,X,y,lambd): \n",
    "    n, d = X.shape\n",
    "    g = np.zeros(d)\n",
    "    for i in range(n):\n",
    "        dot = y[i]*np.dot(X[i,:],np.transpose(w))\n",
    "        g = np.add(g,(-1*y[i]/(exp(dot)+1))*X[i,:]/float(n))\n",
    "    g = np.add(g,lambd*w)\n",
    "    return g,1.0\n",
    "def risk_logistic(w,X,y,lambd): \n",
    "    n, d = X.shape\n",
    "    error = 0 \n",
    "    for i in range(n): \n",
    "        error = error + math.log(1+exp(-y[i]*np.dot(X[i,:],np.transpose(w))))/float(n)\n",
    "    error += 0.5*lambd*pow(np.linalg.norm(w),2)\n",
    "    return error\n",
    "    \n",
    "def gradient_desc(X,y,lambd,step_size,grad,risk,itrs, w0 = None): \n",
    "    n, d = X.shape\n",
    "    if(w0 is  None): \n",
    "        w = np.zeros(d)\n",
    "    else:\n",
    "        w = w0\n",
    "    effective_iters = 0\n",
    "    stat = [0,risk(w,X,y,lambd)]\n",
    "    while effective_iters < itrs: \n",
    "        g, c = grad(w,X,y,lambd) \n",
    "        w = w -step_size*g\n",
    "        effective_iters = effective_iters+c\n",
    "        risk_value = risk(w,X,y,lambd)\n",
    "        n_stat = [effective_iters,risk_value]\n",
    "        stat = np.c_[stat,n_stat]\n",
    "        #print(\"loss[{}]={}\".format(effective_iters,risk_value))\n",
    "    return stat,w\n",
    "def AdaptiveGD(X,y,lambda_in,step_size,grad,risk,itrs,optimal_risk, w0 = None): \n",
    "    n, d = X.shape\n",
    "    lambd = 20*lambda_in\n",
    "    if(w0 is None): \n",
    "        w = np.zeros(d)\n",
    "    else:\n",
    "        w = w0\n",
    "    effective_iters = 0\n",
    "    stat = [0,risk(w,X,y,lambda_in)]\n",
    "    while effective_iters < itrs: \n",
    "        g, c = grad(w,X,y,lambd) \n",
    "        w = w -step_size*g\n",
    "        effective_iters = effective_iters+c\n",
    "        risk_value = risk(w,X,y,lambda_in)-optimal_risk\n",
    "        #lambd = 0.9*lambd\n",
    "        n_stat = [effective_iters,risk_value]\n",
    "        stat = np.c_[stat,n_stat]\n",
    "        #print(\"loss[{}]={}\".format(effective_iters,risk_value))\n",
    "    return stat,w\n",
    "def theortical_bound(X,y,lambd,step_size,risk,itrs,w0 = None): \n",
    "    n, d = X.shape\n",
    "    if w0 is None: \n",
    "        w = np.zeros(d)\n",
    "    else: \n",
    "        w = w0\n",
    "    effective_iters = 0\n",
    "    init_error = risk(w,X,y,lambd)\n",
    "    stat = [0,init_error]\n",
    "    while effective_iters < itrs: \n",
    "        effective_iters = effective_iters+1\n",
    "        error = pow(1-2*step_size*lambd,2*effective_iters)*init_error\n",
    "        n_stat = [effective_iters,error]\n",
    "        stat = np.c_[stat,n_stat]\n",
    "    return stat\n"
   ]
  },
  {
   "cell_type": "code",
   "execution_count": 82,
   "metadata": {
    "collapsed": true
   },
   "outputs": [],
   "source": [
    "def initialization(X,y,step_size,epochs,plotname): \n",
    "    fm = LogisticRegression(C = 1.0,fit_intercept=False)\n",
    "    fm = m.fit(X,y)\n",
    "    w_star = fm.coef_\n",
    "    x_hard = X[0,:]\n",
    "    for i in range(n): \n",
    "        if(np.sign(np.dot(w_star,X[i,:])) != y[i]): \n",
    "            x_hard = X[i,:]\n",
    "            break\n",
    "    print(diag)\n",
    "    lambd = 1.0/float(n)\n",
    "    opt_risk = risk_logistic(w_star,X,y,lambd)\n",
    "    def risk(w,X,y,lambd): \n",
    "        return risk_logistic(w,X,y,lambd) - opt_risk\n",
    "    \n",
    "    stat, w = gradient_desc(X,y,lambd,step_size,grad_logistic,risk,epochs)\n",
    "    plt.plot(stat[0,:],np.log(stat[1,:]),label = 'w0 = 0')\n",
    "    #stat2, w2 = gradient_desc(X,y,lambd,step_size,grad_logistic,risk,epochs,w0 = x_hard)\n",
    "    #plt.plot(stat2[0,:],np.log(stat2[1,:]),label = 'w0 = 1')\n",
    "    stat3 =  theortical_bound(X,y,lambd,step_size,risk,epochs,w0 = None)\n",
    "    plt.plot(stat3[0,:],np.log(stat3[1,:]),label = 'theoretical')\n",
    "    lgd = plt.legend(loc='upper center', bbox_to_anchor=(0.5, -0.05), fancybox=True, shadow=True, ncol=5)\n",
    "    plt.savefig(plotname, facecolor='w', edgecolor='w', orientation='portrait',  format='eps', bbox_extra_artists=(lgd,), bbox_inches='tight')"
   ]
  },
  {
   "cell_type": "code",
   "execution_count": 83,
   "metadata": {
    "collapsed": false
   },
   "outputs": [
    {
     "name": "stdout",
     "output_type": "stream",
     "text": [
      "[  1.88674678e+00   3.94087208e-01  -3.02272790e-01   2.07013050e-01\n",
      "   1.06322698e-01   1.01056468e-01   8.67710002e-02   5.86016382e-02\n",
      "   5.02238986e-02   4.02370978e-02   3.31576264e-02   3.09374518e-02\n",
      "   2.78244951e-02   2.62434149e-02   2.55207864e-02   2.37575374e-02\n",
      "   2.28440813e-02   2.20418377e-02   2.14251410e-02   2.12640055e-02\n",
      "   2.09897933e-02   1.97639630e-02   1.80331511e-02   1.61093181e-02\n",
      "   1.45966701e-02   1.43703436e-02   1.36044540e-02   1.20709804e-02\n",
      "   1.15659106e-02   1.08253445e-02   9.29021074e-03   8.95075650e-03\n",
      "   6.67747177e-03   5.45548386e-03   3.86268366e-03   3.72667155e-03\n",
      "   2.30482870e-03   1.94194783e-03   1.81854219e-03   1.66502867e-03\n",
      "   1.07882456e-03   9.72422753e-04   7.44354345e-04   5.41800223e-04\n",
      "   5.03823736e-04   3.01741369e-04   3.27712910e-04   3.49497724e-04\n",
      "   2.41069308e-05   3.50458172e-05   3.32575133e-05  -5.62551366e-18\n",
      "   0.00000000e+00   0.00000000e+00]\n"
     ]
    },
    {
     "data": {
      "image/png": "[encoded data removed]",
      "text/plain": [
       "<matplotlib.figure.Figure at 0x117c0b290>"
      ]
     },
     "metadata": {},
     "output_type": "display_data"
    }
   ],
   "source": [
    "n = 32561; \n",
    "d = 123;\n",
    "filename = \"../datasets/a9a\"\n",
    "plotname = 'plot/logistic_gd_a9a.eps'\n",
    "epochs = 100\n",
    "y, X = readfile(filename,n,d)\n",
    "step_size = 0.2\n",
    "num_rep = 3\n",
    "for i in range(n):\n",
    "    if(y[i] == 2 or y[i] == 0):\n",
    "        y[i] = -1;\n",
    "initialization(X,y,step_size,epochs,plotname)"
   ]
  },
  {
   "cell_type": "code",
   "execution_count": 75,
   "metadata": {
    "collapsed": false
   },
   "outputs": [
    {
     "name": "stdout",
     "output_type": "stream",
     "text": [
      "[  1.88674678e+00   3.94087208e-01  -3.02272790e-01   2.07013050e-01\n",
      "   1.06322698e-01   1.01056468e-01   8.67710002e-02   5.86016382e-02\n",
      "   5.02238986e-02   4.02370978e-02   3.31576264e-02   3.09374518e-02\n",
      "   2.78244951e-02   2.62434149e-02   2.55207864e-02   2.37575374e-02\n",
      "   2.28440813e-02   2.20418377e-02   2.14251410e-02   2.12640055e-02\n",
      "   2.09897933e-02   1.97639630e-02   1.80331511e-02   1.61093181e-02\n",
      "   1.45966701e-02   1.43703436e-02   1.36044540e-02   1.20709804e-02\n",
      "   1.15659106e-02   1.08253445e-02   9.29021074e-03   8.95075650e-03\n",
      "   6.67747177e-03   5.45548386e-03   3.86268366e-03   3.72667155e-03\n",
      "   2.30482870e-03   1.94194783e-03   1.81854219e-03   1.66502867e-03\n",
      "   1.07882456e-03   9.72422753e-04   7.44354345e-04   5.41800223e-04\n",
      "   5.03823736e-04   3.01741369e-04   3.27712910e-04   3.49497724e-04\n",
      "   2.41069308e-05   3.50458172e-05   3.32575133e-05  -5.62551366e-18\n",
      "   0.00000000e+00   0.00000000e+00]\n"
     ]
    },
    {
     "data": {
      "image/png": "[encoded data removed]",
      "text/plain": [
       "<matplotlib.figure.Figure at 0x117aaa6d0>"
      ]
     },
     "metadata": {},
     "output_type": "display_data"
    }
   ],
   "source": [
    "n = 49749; \n",
    "d = 300; \n",
    "filename = \"../datasets/w8a\"\n",
    "plotname = 'plot/logistic_gd_w8a.eps'\n",
    "epochs = 100\n",
    "y, X = readfile(filename,n,d)\n",
    "step_size = 0.2\n",
    "num_rep = 3\n",
    "for i in range(n):\n",
    "    if(y[i] == 2 or y[i] == 0):\n",
    "        y[i] = -1;\n",
    "initialization(X,y,step_size,epochs,plotname)"
   ]
  },
  {
   "cell_type": "code",
   "execution_count": 128,
   "metadata": {
    "collapsed": true
   },
   "outputs": [],
   "source": [
    "stat2, w2 = AdaptiveGD(X,y,lambd,0.2,grad_logistic,risk_logistic,100,opt_risk)"
   ]
  },
  {
   "cell_type": "code",
   "execution_count": 129,
   "metadata": {
    "collapsed": false
   },
   "outputs": [
    {
     "data": {
      "text/plain": [
       "<matplotlib.legend.Legend at 0x11377e350>"
      ]
     },
     "execution_count": 129,
     "metadata": {},
     "output_type": "execute_result"
    },
    {
     "data": {
      "image/png": "[encoded data removed]",
      "text/plain": [
       "<matplotlib.figure.Figure at 0x114b857d0>"
      ]
     },
     "metadata": {},
     "output_type": "display_data"
    }
   ],
   "source": [
    "plt.plot(stat[0,:],np.log(stat[1,:]),label='gd')\n",
    "plt.plot(stat2[0,:],np.log(stat2[1,:]),label='adaptive_gd')\n",
    "plt.legend()"
   ]
  },
  {
   "cell_type": "code",
   "execution_count": null,
   "metadata": {
    "collapsed": true
   },
   "outputs": [],
   "source": []
  }
 ],
 "metadata": {
  "kernelspec": {
   "display_name": "Python 2",
   "language": "python",
   "name": "python2"
  },
  "language_info": {
   "codemirror_mode": {
    "name": "ipython",
    "version": 2
   },
   "file_extension": ".py",
   "mimetype": "text/x-python",
   "name": "python",
   "nbconvert_exporter": "python",
   "pygments_lexer": "ipython2",
   "version": "2.7.11"
  }
 },
 "nbformat": 4,
 "nbformat_minor": 0
}
