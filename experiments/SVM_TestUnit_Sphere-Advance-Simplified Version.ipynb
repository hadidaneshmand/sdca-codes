{
 "cells": [
  {
   "cell_type": "code",
   "execution_count": 42,
   "metadata": {
    "collapsed": false
   },
   "outputs": [],
   "source": [
    "import math\n",
    "import numpy as np\n",
    "import matplotlib.pyplot as plt\n",
    "%matplotlib inline  \n",
    "from abc import ABCMeta\n",
    "from scipy import stats\n",
    "from mpl_toolkits.mplot3d import Axes3D"
   ]
  },
  {
   "cell_type": "code",
   "execution_count": 63,
   "metadata": {
    "collapsed": false
   },
   "outputs": [
    {
     "data": {
      "image/png": "[encoded data removed]",
      "text/plain": [
       "<matplotlib.figure.Figure at 0x10f70e210>"
      ]
     },
     "metadata": {},
     "output_type": "display_data"
    }
   ],
   "source": [
    "fig = plt.figure()\n",
    "ax = fig.add_subplot(111, projection='3d')\n",
    "\n",
    "# Creating a simple data set\n",
    "n = 6\n",
    "d = 2 \n",
    "X = np.zeros((n,d))\n",
    "y = np.zeros(n)\n",
    "A = np.zeros((n,d))\n",
    "\n",
    "X[0,:] = [1,1]\n",
    "X[1,:] = [0,2]\n",
    "X[2,:] = [0,3]\n",
    "X[3,:] = [1,0]\n",
    "X[4,:] = [2,0]\n",
    "X[5,:] = [3,0]\n",
    "y = np.zeros(n)\n",
    "y[0:3] = 1\n",
    "y[3:6] = -1\n",
    "plt.scatter(X[0:3,0],X[0:3,1], c = \"r\")\n",
    "plt.scatter(X[3:6,0],X[3:6,1], c = \"b\")\n",
    "for i in range(n): \n",
    "    A[i,:] = y[i]*X[i,:]"
   ]
  },
  {
   "cell_type": "code",
   "execution_count": 44,
   "metadata": {
    "collapsed": false
   },
   "outputs": [
    {
     "data": {
      "text/plain": [
       "(200, 3)"
      ]
     },
     "execution_count": 44,
     "metadata": {},
     "output_type": "execute_result"
    }
   ],
   "source": [
    "X.shape"
   ]
  },
  {
   "cell_type": "code",
   "execution_count": 64,
   "metadata": {
    "collapsed": false
   },
   "outputs": [],
   "source": [
    "import operator\n",
    "    \n",
    "def sortbyindeces(a):\n",
    "  return [i[0] for i in sorted(enumerate(a), key=lambda a:a[1],reverse=True)]\n",
    "\n",
    "class SVM_DCA(object):\n",
    "    def __init__(self, X,lambd,verbose = False):\n",
    "        self.X = X\n",
    "        self.verbose = verbose\n",
    "        self.lambd = lambd\n",
    "        self.n, self.d = X.shape\n",
    "    def w_alpha(self,alpha): # check the equation 3 of (SDCA) paper\n",
    "        X = self.X\n",
    "        lambd = self.lambd\n",
    "        n, d = X.shape\n",
    "        pw = np.zeros(d)\n",
    "        for i in range(n): \n",
    "            pw = pw + alpha[i]*X[i,:]/lambd\n",
    "        pw = pw/n\n",
    "        return pw \n",
    "    def dual_func(self,alpha): # computes the dual function value for a given parameter alpha \n",
    "        da = 0\n",
    "        n, d = self.X.shape\n",
    "        for i in range(n): \n",
    "            if alpha[i] <= 1 and alpha[i] >= 0:\n",
    "                da = da + alpha[i]\n",
    "            else:\n",
    "                da = da + float(\"inf\")\n",
    "        da = da / n \n",
    "        da = da - 0.5*self.lambd*np.square(np.linalg.norm(self.w_alpha(alpha)))\n",
    "        return da\n",
    "    def primal_func(self,w): # computes the primal value for the given parameter w\n",
    "        n, d = self.X.shape\n",
    "        pw = 0\n",
    "        for i in range(n): \n",
    "           pw = pw + max(0,1-np.dot(w,self.X[i,:]))\n",
    "        pw = pw/n \n",
    "        pw = pw + 0.5*self.lambd*np.square(np.linalg.norm(w))\n",
    "        return pw\n",
    "    def get_name(self): \n",
    "        return (\"Stochastic coordinate Ascent for SVM\")\n",
    "    def get_coordinate(self,alpha,w):\n",
    "        return ( np.random.randint(0, self.n))\n",
    "    def opt(self,num_steps,T0):\n",
    "      X = self.X\n",
    "      lambd = self.lambd\n",
    "      verbose= self.verbose\n",
    "      if verbose:\n",
    "        print(self.get_name())\n",
    "      inv_sq_row_norms = np.divide(1.0, np.square(np.linalg.norm(X, axis=1)))\n",
    "      n, d = X.shape\n",
    "      # it might be better to change initial value of alpha \n",
    "      alpha = np.zeros(n)\n",
    "      #setting w(alpha_0)\n",
    "      w = self.w_alpha(alpha)\n",
    "      duals = np.zeros(num_steps)# dual function values per iteration\n",
    "      primals = np.zeros(num_steps) #primal function values per iteration \n",
    "      if verbose:\n",
    "        primal_value = self.primal_func(w)\n",
    "        dual_value = self.dual_func(alpha)\n",
    "        print(\"Initial primal objective value: {}, Intial dual objective value: {}\".format(primal_value, dual_value))\n",
    "      w_bar = np.zeros(d)\n",
    "      T_T0 = 0\n",
    "      alpha_bar = np.zeros(n)\n",
    "      for cur_step in range(num_steps):\n",
    "        ii = self.get_coordinate(alpha,w)\n",
    "        alpha_i_old = alpha[ii]\n",
    "        xi = X[ii,:]\n",
    "        inv_sqi = inv_sq_row_norms[ii]\n",
    "        # coordinate update step \n",
    "        delta_alpha_i = max(0,min(1,(lambd*n*(1-np.dot(xi,w))*inv_sqi)+alpha_i_old)) - alpha_i_old\n",
    "        # update the dual and primal paramters\n",
    "        alpha[ii] = alpha[ii] + delta_alpha_i\n",
    "        w = w + delta_alpha_i*xi/(lambd*n)\n",
    "        if cur_step > T0:\n",
    "           w_bar = w_bar + w\n",
    "           alpha_bar = alpha_bar + alpha\n",
    "           T_T0 = T_T0 +1 \n",
    "        duals[cur_step] = self.dual_func(alpha)\n",
    "        primals[cur_step] = self.primal_func(w)\n",
    "        if verbose: #and cur_step % n == 0 and cur_step > 0\n",
    "          print(\"step:{},primal: {},dual: {},ii = {}\\n\".format(cur_step,primals[cur_step], duals[cur_step], ii))\n",
    "      return (w_bar/T_T0, alpha_bar/T_T0 ,primals,duals)\n",
    "class SVM_Steepest(SVM_DCA):\n",
    "     def get_name(self): \n",
    "        return (\"Steepest coordinate Ascent for SVM\")\n",
    "     def get_coordinate(self,alpha,w):\n",
    "        prods = np.dot(self.X,w)\n",
    "        g_alpha = 1 - prods\n",
    "        inds = sortbyindeces(abs(g_alpha))\n",
    "        ii = inds[0]\n",
    "        for i in range(self.n): \n",
    "            j = inds[i]\n",
    "            if (alpha[j]> 0 and alpha[j]<1) or ((alpha[j] == 0) and (g_alpha[j] >= 0)) or ((alpha[j] == 1) and (g_alpha[j] <= 0)):\n",
    "                ii = j\n",
    "                break\n",
    "            else: \n",
    "                print(\"Something bad :( {}\")\n",
    "        return (ii)\n",
    "    \n",
    "class LSH_Angle:\n",
    "    def __init__(self,points,rep):\n",
    "        n, d = points.shape\n",
    "        HV = np.zeros((n,rep))\n",
    "        SK = np.zeros((d,rep))\n",
    "        for i in range(rep):\n",
    "            SK[:,i] = np.random.normal(0,1,d)\n",
    "            HV[:,i] = np.sign(np.dot(points,SK[:,i]))\n",
    "        self.HV = HV\n",
    "        self.SK = SK \n",
    "        self.rep = rep\n",
    "    def query(self,q): \n",
    "        ii = np.random.randint(0, self.rep)\n",
    "        bockets = self.HV[:,ii]\n",
    "        sk = self.SK[:,ii]\n",
    "        sq = np.sign(np.dot(q,sk))\n",
    "        opposit_hashed = [j for j, e in enumerate(bockets) if e != sq]\n",
    "        return (opposit_hashed)\n",
    "    \n",
    "class LSH_PI:\n",
    "    def __init__(self,points,rep):\n",
    "        n, d = points.shape\n",
    "        HV1 = np.zeros((n,rep))\n",
    "        HV2 = np.zeros((n,rep))\n",
    "        SK1 = np.zeros((d,rep))\n",
    "        SK2 = np.zeros((d,rep))\n",
    "        for i in range(rep):\n",
    "            SK1[:,i] = np.random.normal(0,1,d)\n",
    "            SK2[:,i] = np.random.normal(0,1,d)\n",
    "            HV1[:,i] = np.sign(np.dot(points,SK1[:,i]))\n",
    "            HV2[:,i] = np.sign(np.dot(points,SK2[:,i]))\n",
    "        self.HV1 = HV1\n",
    "        self.HV2 = HV2\n",
    "        self.SK1 = SK1\n",
    "        self.SK2 = SK2\n",
    "        self.rep = rep\n",
    "    def query(self,q): \n",
    "        n, rep = self.HV1.shape\n",
    "        ii = np.random.randint(0, self.rep)\n",
    "        bockets1 = self.HV1[:,ii]\n",
    "        sk1 = self.SK1[:,ii]\n",
    "        bockets2 = self.HV2[:,ii]\n",
    "        sk2 = self.SK2[:,ii]\n",
    "        sq1 = np.sign(np.dot(q,sk1))\n",
    "        sq2 = np.sign(np.dot(q,sk2))\n",
    "        inds = np.zeros(n)\n",
    "        for i in range(n): \n",
    "            if (bockets1[i] == sq1 ) and (bockets2[i] != sq2):\n",
    "                inds[i] = 1\n",
    "        opposit_hashed = [j for j, e in enumerate(inds) if e > 0]\n",
    "        return (opposit_hashed)\n",
    "\n",
    "class LSH_Angle_Level:\n",
    "    def __init__(self,points,levels,rep):\n",
    "        n, d = points.shape\n",
    "        HV = np.zeros((n,levels,rep))\n",
    "        SK = np.zeros((d,levels,rep))\n",
    "        for i in range(rep):\n",
    "            ProMat = np.random.normal(0,1,(d,levels))\n",
    "            signs = np.sign(np.dot(points,ProMat));\n",
    "            for j in range(n): \n",
    "                signs[j,:] = signs[j,:]\n",
    "            HV[:,:,i] = signs\n",
    "            SK[:,:,i] = ProMat\n",
    "        self.HV = HV\n",
    "        self.SK = SK \n",
    "        self.rep = rep\n",
    "        self.levels = levels\n",
    "    def query(self,q): \n",
    "        ii = np.random.randint(0, self.rep)\n",
    "        cur_step = self.levels\n",
    "        n,l,r = self.HV.shape\n",
    "        while cur_step > 0: \n",
    "            bockets = self.HV[:,0:cur_step,ii]\n",
    "            sk = self.SK[:,0:cur_step,ii] \n",
    "            sq = np.sign(np.dot(q,sk))  \n",
    "            opposit_hashed = [j for j, e in enumerate(bockets) if (e != sq).all()]\n",
    "            if(len(opposit_hashed) != 0):\n",
    "              break\n",
    "            else: \n",
    "              cur_step = cur_step -1 \n",
    "        return (opposit_hashed)   \n",
    "class SVM_LSHANG(SVM_DCA):\n",
    "     def __init__(self, X,lambd,lsh,verbose = False):\n",
    "        super(SVM_LSHANG, self).__init__(X,lambd,verbose = False)\n",
    "        # LSH construction\n",
    "        self.catches = 0\n",
    "        self.lsh = lsh    \n",
    "     def get_coordinate(self,alpha,w):\n",
    "        opposit_hashed = self.lsh.query(w)\n",
    "        if len(opposit_hashed)!=0: \n",
    "         ii = opposit_hashed[np.random.randint(0, len(opposit_hashed))]\n",
    "        else: \n",
    "         ii = np.random.randint(0,self.n)\n",
    "        g_alpha_y = (1 - np.dot(self.X[ii,],w))\n",
    "        if ((alpha[ii] == 0) and (g_alpha_y <= 0)) or ((alpha[ii] == 1) and (g_alpha_y >= 0)):\n",
    "          if self.verbose: \n",
    "            print(\"Blocked: alpha = {}, target value = {}\".format(alpha[ii],g_alpha_y))\n",
    "        else: \n",
    "          self.catches = self.catches +1\n",
    "          if self.verbose:\n",
    "            print(\"Catched:alpha ={},target value = {}\".format(alpha[ii],g_alpha_y))\n",
    "        return(ii)"
   ]
  },
  {
   "cell_type": "code",
   "execution_count": 65,
   "metadata": {
    "collapsed": false
   },
   "outputs": [],
   "source": [
    "lambd = 0.001\n",
    "itr = 500\n",
    "svm_r = SVM_DCA(A,lambd,verbose= False)\n",
    "#svm_s = SVM_Steepest(X,lambd,verbose=True)\n",
    "#ls = LSH_Angle_Level(X,3,20)\n",
    "#svm_l = SVM_LSHANG(X,lambd,ls)\n",
    "w, alpha, primals, duals = svm_r.opt(itr,itr -2)\n",
    "#w_s, alpha_s, primals_s, duals_s = svm_s.opt(itr,itr -2)\n",
    "#w_l, alpha_l, primals_l, duals_l = svm_l.opt(itr,itr -2)"
   ]
  },
  {
   "cell_type": "code",
   "execution_count": 68,
   "metadata": {
    "collapsed": false
   },
   "outputs": [
    {
     "data": {
      "text/plain": [
       "array([[-0.9999644,  1.9999644]])"
      ]
     },
     "execution_count": 68,
     "metadata": {},
     "output_type": "execute_result"
    }
   ],
   "source": [
    "from sklearn import svm\n",
    "clf = svm.LinearSVC(C = float(\"inf\"),fit_intercept=False)\n",
    "clf.fit(X, y) \n",
    "clf.coef_"
   ]
  },
  {
   "cell_type": "code",
   "execution_count": 33,
   "metadata": {
    "collapsed": false
   },
   "outputs": [
    {
     "data": {
      "text/plain": [
       "<matplotlib.text.Text at 0x10e1cc050>"
      ]
     },
     "execution_count": 33,
     "metadata": {},
     "output_type": "execute_result"
    },
    {
     "data": {
      "image/png": "[encoded data removed]",
      "text/plain": [
       "<matplotlib.figure.Figure at 0x10ed624d0>"
      ]
     },
     "metadata": {},
     "output_type": "display_data"
    }
   ],
   "source": [
    "plt.plot(duals,label = 'Rand')\n",
    "plt.legend(bbox_to_anchor=(1.05, 1), loc=2, borderaxespad=0.)\n",
    "plt.title(\"Dual on Syntactic Data\")"
   ]
  },
  {
   "cell_type": "code",
   "execution_count": 70,
   "metadata": {
    "collapsed": false
   },
   "outputs": [
    {
     "data": {
      "text/plain": [
       "array([[-0.9999644,  1.9999644]])"
      ]
     },
     "execution_count": 70,
     "metadata": {},
     "output_type": "execute_result"
    }
   ],
   "source": [
    "clf.coef_"
   ]
  },
  {
   "cell_type": "code",
   "execution_count": 69,
   "metadata": {
    "collapsed": false
   },
   "outputs": [
    {
     "data": {
      "text/plain": [
       "array([-1.,  2.])"
      ]
     },
     "execution_count": 69,
     "metadata": {},
     "output_type": "execute_result"
    }
   ],
   "source": [
    "w"
   ]
  },
  {
   "cell_type": "code",
   "execution_count": null,
   "metadata": {
    "collapsed": true
   },
   "outputs": [],
   "source": []
  }
 ],
 "metadata": {
  "kernelspec": {
   "display_name": "Python 2",
   "language": "python",
   "name": "python2"
  },
  "language_info": {
   "codemirror_mode": {
    "name": "ipython",
    "version": 2
   },
   "file_extension": ".py",
   "mimetype": "text/x-python",
   "name": "python",
   "nbconvert_exporter": "python",
   "pygments_lexer": "ipython2",
   "version": "2.7.11"
  }
 },
 "nbformat": 4,
 "nbformat_minor": 0
}
