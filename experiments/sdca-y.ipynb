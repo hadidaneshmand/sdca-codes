{
 "cells": [
  {
   "cell_type": "code",
   "execution_count": 9,
   "metadata": {
    "collapsed": false
   },
   "outputs": [
    {
     "name": "stdout",
     "output_type": "stream",
     "text": [
      "Using matplotlib backend: MacOSX\n",
      "Populating the interactive namespace from numpy and matplotlib\n"
     ]
    }
   ],
   "source": [
    "%pylab\n",
    "%matplotlib inline"
   ]
  },
  {
   "cell_type": "code",
   "execution_count": 10,
   "metadata": {
    "collapsed": true
   },
   "outputs": [],
   "source": [
    "from __future__ import print_function\n",
    "import math\n",
    "import numpy as np\n",
    "import time\n",
    "from sklearn import linear_model\n",
    "import sys\n",
    "import os\n",
    "lib_path = os.path.abspath('../falconn/python_swig')\n",
    "sys.path.append(lib_path)\n",
    "import falconn\n",
    "import readsvm \n",
    "from cdexperiments import *"
   ]
  },
  {
   "cell_type": "code",
   "execution_count": 11,
   "metadata": {
    "collapsed": false
   },
   "outputs": [],
   "source": [
    "def get_data_plot(stats):\n",
    "    xvals = np.array([x1 for x1, y1 in stats])\n",
    "    yvals = np.array([y1 for x1, y1 in stats])\n",
    "    return (xvals,yvals)\n",
    "def readfile(filename, n,d):\n",
    "    y = np.zeros(n) # targets\n",
    "    X = np.zeros((n,d)) # input matrix each row is a sample data point\n",
    "    li = 0 \n",
    "    with open(filename, \"rb\") as f:\n",
    "        for line in f:\n",
    "           if li>=n : \n",
    "             break;\n",
    "           parts = line.split()\n",
    "           y[li] = float(parts[0])\n",
    "           for i in range(len(parts)): \n",
    "                if i >0 and parts[i] != '\\n': \n",
    "                    fparts = parts[i].split(\":\")\n",
    "                    X[li,int(fparts[0])-1] = float(fparts[1])\n",
    "           li = li +1\n",
    "    return (y,X)\n",
    "\n",
    "def w_alpha(alpha,X,lambd,verbose=False): # check the equation 3 of (SDCA) paper\n",
    "    n, d = X.shape\n",
    "    w = np.zeros(d)\n",
    "    for i in range(n): \n",
    "        w = w + alpha[i]*X[i,:]/lambd\n",
    "    w = w/n\n",
    "    return w\n",
    "\n",
    "\n",
    "def dual_obj(alpha,y,X,lambd,verbose=False): # computes the dual function value for a given parameter alpha \n",
    "    da = 0\n",
    "    n, d = X.shape\n",
    "    for i in range(n): \n",
    "        if alpha[i]*y[i] <= 1 and alpha[i]*y[i] >= 0:\n",
    "            da = da + alpha[i]*y[i]\n",
    "        else:\n",
    "            da = da + float(\"inf\")\n",
    "    da = da / n \n",
    "    da = da - 0.5*lambd*np.square(np.linalg.norm(w_alpha(alpha,X,lambd)))\n",
    "    return da  "
   ]
  },
  {
   "cell_type": "code",
   "execution_count": 12,
   "metadata": {
    "collapsed": true
   },
   "outputs": [],
   "source": [
    "def meta_svm(y,A, lambd, num_effective_passes, order_generator, verbose=False):\n",
    "  #each row contains a data point with dim d \n",
    "  inv_sq_row_norms = np.divide(1.0, np.square(np.linalg.norm(A, axis=1)))\n",
    "  n, d = A.shape\n",
    "  alpha = np.zeros(n)\n",
    "  w = w_alpha(alpha,A,lambd)\n",
    "\n",
    "  obj_value = dual_obj(alpha,y,A,lambd)\n",
    "  if verbose:\n",
    "    print(\" Initial objective value: {}\".format(obj_value))\n",
    "    \n",
    "  stats = [(0.0, obj_value)]\n",
    "  completed_effective_passes = 0.0\n",
    "  while completed_effective_passes < num_effective_passes:\n",
    "    coords = order_generator( A, alpha)\n",
    "    for ii in coords:\n",
    "        alpha_i_old = alpha[ii]\n",
    "        xi = X[ii,:]\n",
    "        yi = y[ii]\n",
    "        inv_sqi = inv_sq_row_norms[ii]\n",
    "        # coordinate update step \n",
    "        delta_alpha_i = yi*max(0,min(1,(lambd*n*(1-yi*np.dot(xi,w))*inv_sqi)+alpha_i_old*yi)) - alpha_i_old\n",
    "        # update the dual and primal paramters\n",
    "        alpha[ii] = alpha[ii] + delta_alpha_i\n",
    "        w = w + delta_alpha_i*xi/(lambd*n)\n",
    "    completed_effective_passes += len(coords) / float(n)\n",
    "    obj_value = dual_obj(alpha,y,A,lambd)\n",
    "    stats.append((completed_effective_passes, obj_value))\n",
    "    if verbose:\n",
    "      print(\"  Objective value after {} effective passes: {}\".format(completed_effective_passes, obj_value))\n",
    "    \n",
    "  return (alpha, stats,w)\n"
   ]
  },
  {
   "cell_type": "code",
   "execution_count": 13,
   "metadata": {
    "collapsed": true
   },
   "outputs": [],
   "source": [
    "def svm_randomiid( y,A, lambd, num_passes, verbose=False):\n",
    "  n, d = A.shape\n",
    "  def randiid_order_generator(*unused):\n",
    "    return np.random.randint(n, size=n)\n",
    "  if verbose:\n",
    "    print(\"Random iid coordinate descent DCA solver\")\n",
    "  return meta_svm(y, A, lambd, num_passes, randiid_order_generator, verbose)\n",
    "def svm_cyclic( y,A, lambd, num_passes, verbose=False):\n",
    "  n,d = A.shape\n",
    "  def cyclic_order_generator(*unused):\n",
    "    return range(n)\n",
    "  if verbose:\n",
    "    print(\"Cyclic coordinate descent Lasso solver\")\n",
    "  return meta_svm(y, A, lambd, num_passes, cyclic_order_generator, verbose)"
   ]
  },
  {
   "cell_type": "code",
   "execution_count": 14,
   "metadata": {
    "collapsed": false
   },
   "outputs": [],
   "source": [
    "n = 10000; \n",
    "d = 24; \n",
    "import readsvm \n",
    "filename = \"../datasets/ijcnn1\"\n",
    "y, X = readfile(filename,n,d)\n",
    "A = np.zeros((n,d))\n",
    "for i in range(n): \n",
    "    A[i,:] = y[i]*X[i,:]"
   ]
  },
  {
   "cell_type": "code",
   "execution_count": 15,
   "metadata": {
    "collapsed": false
   },
   "outputs": [
    {
     "data": {
      "text/plain": [
       "[<matplotlib.lines.Line2D at 0x105c3ee90>]"
      ]
     },
     "execution_count": 15,
     "metadata": {},
     "output_type": "execute_result"
    },
    {
     "data": {
      "image/png": "[encoded data removed]",
      "text/plain": [
       "<matplotlib.figure.Figure at 0x105c3ed50>"
      ]
     },
     "metadata": {},
     "output_type": "display_data"
    }
   ],
   "source": [
    "lambd = 1.0/n\n",
    "(alpha,stats,w_r) = svm_randomiid(y,X, lambd, 10)\n",
    "t, f_r = get_data_plot(stats);\n",
    "(alpha_s,stats_s,w_s) = svm_cyclic(y,X,lambd,10)\n",
    "t, f_s = get_data_plot(stats_s)\n",
    "plot(t,f_r,color='blue')\n",
    "plot(t,f_s,color='red')"
   ]
  },
  {
   "cell_type": "code",
   "execution_count": 99,
   "metadata": {
    "collapsed": false
   },
   "outputs": [],
   "source": [
    "w = w_alpha(alpha_s,A,lambd)"
   ]
  },
  {
   "cell_type": "code",
   "execution_count": 21,
   "metadata": {
    "collapsed": false
   },
   "outputs": [
    {
     "data": {
      "text/plain": [
       "2.3280935001845298"
      ]
     },
     "execution_count": 21,
     "metadata": {},
     "output_type": "execute_result"
    }
   ],
   "source": [
    "from sklearn import svm\n",
    "clf = svm.LinearSVC(C = 1./(n*lambd),fit_intercept=False)\n",
    "clf.fit(X, y) \n",
    "np.sqrt(np.linalg.norm(clf.coef_-w_r))"
   ]
  },
  {
   "cell_type": "code",
   "execution_count": 18,
   "metadata": {
    "collapsed": false
   },
   "outputs": [
    {
     "data": {
      "text/plain": [
       "29.025278938629629"
      ]
     },
     "execution_count": 18,
     "metadata": {},
     "output_type": "execute_result"
    }
   ],
   "source": [
    "np.linalg.norm(clf.coef_)"
   ]
  },
  {
   "cell_type": "code",
   "execution_count": null,
   "metadata": {
    "collapsed": true
   },
   "outputs": [],
   "source": []
  }
 ],
 "metadata": {
  "kernelspec": {
   "display_name": "Python 2",
   "language": "python",
   "name": "python2"
  },
  "language_info": {
   "codemirror_mode": {
    "name": "ipython",
    "version": 2
   },
   "file_extension": ".py",
   "mimetype": "text/x-python",
   "name": "python",
   "nbconvert_exporter": "python",
   "pygments_lexer": "ipython2",
   "version": "2.7.11"
  }
 },
 "nbformat": 4,
 "nbformat_minor": 0
}
