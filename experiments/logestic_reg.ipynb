{
 "cells": [
  {
   "cell_type": "code",
   "execution_count": 2,
   "metadata": {
    "collapsed": false
   },
   "outputs": [],
   "source": [
    "import math\n",
    "import numpy as np\n",
    "import matplotlib.pyplot as plt\n",
    "%matplotlib inline  \n",
    "import math\n",
    "from sklearn import linear_model\n",
    "\n",
    "def primal_func(w,y,X,lambd,verbose=False): # computes the primal value for the given parameter w\n",
    "    n, d = X.shape\n",
    "    pw = 0\n",
    "    for i in range(n): \n",
    "        pw = pw + math.log(1+ math.exp(-1*y[i]*np.dot(w,X[i,:])))\n",
    "    pw = pw/float(n)\n",
    "    pw = pw + 0.5*lambd*np.square(np.linalg.norm(w)) \n",
    "    return pw\n",
    "\n",
    "def readfile(filename, n,d):\n",
    "    y = np.zeros(n) # targets\n",
    "    X = np.zeros((n,d)) # input matrix each row is a sample data point\n",
    "    li = 0 \n",
    "    with open(filename, \"rb\") as f:\n",
    "        for line in f:\n",
    "           if li>=n : \n",
    "             break;\n",
    "           parts = line.split()\n",
    "           y[li] = float(parts[0])\n",
    "           for i in range(len(parts)): \n",
    "                if i >0 and parts[i] != '\\n': \n",
    "                    fparts = parts[i].split(\":\")\n",
    "                    X[li,int(fparts[0])-1] = float(fparts[1])\n",
    "           li = li +1\n",
    "    return (y,X)\n",
    "    \n",
    "def distance_plot(X,y,n,d,lambd,nr,pivotsi,verbose = False):\n",
    "\n",
    "    print(max(np.linalg.norm(X,axis =1 )))\n",
    "    if(verbose):\n",
    "        print(\"Loading Data Accomblished\")\n",
    "    indices = np.random.choice(n, pivotsi, replace=False)\n",
    "    sfilename = \"outputs/optimals_%s\" % dataname\n",
    "    f = open(sfilename,'w');\n",
    "    X = X[indices,:]\n",
    "    y = y[indices]\n",
    "    t1,t2 = X.shape\n",
    "    print('t1:{},t2:{}'.format(t1,t2))\n",
    "    for i in range(len(y)): \n",
    "        if y[i] == 2 :\n",
    "            y[i] = -1\n",
    "    n = pivotsi\n",
    "    x0 = np.zeros(d)\n",
    "    f.write(\"{}\\n\".format(d))\n",
    "    \n",
    "    csize = 256\n",
    "    sizes = [csize]\n",
    "    while csize < (n/2):\n",
    "        csize = 2* csize\n",
    "        sizes.append(csize)\n",
    "    clf = linear_model.LogisticRegression(penalty='l2', dual=False, tol=0.0000000000001, C=1.0/lambd, fit_intercept=False, class_weight=None, random_state=None, solver='lbfgs', max_iter=100000, multi_class='ovr', verbose=1)\n",
    "    pivot = clf.fit(X, y).coef_\n",
    "    print(\"precision:{},pivot_norm:{}\".format(primal_func(pivot,y,X,lambd,verbose=False),np.square(np.linalg.norm(pivot))))\n",
    "    spivot = str(pivot)[2:-2]\n",
    "    spivot = spivot.replace(',',' ')\n",
    "    f.write(\"{}\\n\".format(pivotsi))\n",
    "    for k in range(pivotsi):\n",
    "      f.write(\"{} \".format(indices[k]))\n",
    "    f.write(\"\\n\")\n",
    "    f.write(spivot)\n",
    "    f.write(\"\\n\")\n",
    "    dists= np.zeros((len(sizes),nr))\n",
    "    angles = np.zeros((len(sizes),nr))\n",
    "    for i in range(len(sizes)):\n",
    "        subsamplsi = sizes[i]\n",
    "        f.write(\"{} {}\\n\".format(subsamplsi,nr))\n",
    "        for j in range(nr):\n",
    "            f.write(\"{}\\n\".format(j))\n",
    "            print('subsample size:{}'.format(subsamplsi))\n",
    "            subindices = np.random.choice(n, subsamplsi, replace=True)\n",
    "            for k in range(subsamplsi):\n",
    "                f.write(\"{} \".format(indices[subindices[k]]))\n",
    "            f.write(\"\\n\")\n",
    "            subX = X[subindices,:]\n",
    "            suby = y[subindices]\n",
    "            print(len(suby))\n",
    "            clf = linear_model.LogisticRegression(penalty='l2', dual=False, tol=0.0000000001, C=1.0/lambd, fit_intercept=True, class_weight=None, random_state=None, solver='lbfgs', max_iter=1000000, multi_class='ovr', verbose=1)\n",
    "            clf.fit(subX, suby)\n",
    "            ws = clf.coef_\n",
    "            sws = str(ws)[2:-2]\n",
    "            sws = sws.replace(',',' ')\n",
    "            f.write(sws)\n",
    "            f.write(\"\\n\")\n",
    "            dist = pivot - ws\n",
    "            dists[i,j] = np.square(np.linalg.norm(dist))\n",
    "            x0xm = x0-ws\n",
    "            angles[i,j] = np.arccos(np.dot(dist,np.transpose(x0xm))/(np.linalg.norm(x0xm)*np.linalg.norm(dist)))\n",
    "        if(verbose):\n",
    "          print(\"step: {}\".format(i))   \n",
    "    f.close()\n",
    "    mdist = np.mean(dists,axis=1)\n",
    "    vdist = np.var(dists,axis =1)\n",
    "    xd = np.log(sizes)\n",
    "    yd = np.log(mdist)\n",
    "    par = np.polyfit(xd, yd, 1, full=True)\n",
    "    slope=par[0][0]\n",
    "    intercept=par[0][1]\n",
    "    xl = [min(xd), max(xd)]\n",
    "    yl = [slope*xx + intercept  for xx in xl]\n",
    "    mang = np.mean(angles,axis = 1)\n",
    "    vang = np.var(angles,axis= 1)\n",
    "    #plt.errorbar(np.log(sizes),np.log(mdist),yerr=np.log(vdist))\n",
    "    plt.plot(np.log(sizes),np.log(mdist),marker='o')\n",
    "    label_l = \"y =%.2f x + %.2f\" % (slope,intercept)\n",
    "    print(label_l)\n",
    "    plt.plot(xl,yl,label = label_l)\n",
    "    plt.xlabel(\"Log(m)\")\n",
    "    plt.ylabel(\"Log(|w_m^* - w_n^*|^2)\")\n",
    "   # plt.title(\"Distance Plot For %s\" % dataname)\n",
    "    filename = 'outputs/distance_%s.eps' % dataname\n",
    "    plt.legend()\n",
    "    plt.savefig(filename, format='eps')\n",
    "    plt.close()\n",
    "    "
   ]
  },
  {
   "cell_type": "code",
   "execution_count": 9,
   "metadata": {
    "collapsed": false
   },
   "outputs": [
    {
     "name": "stderr",
     "output_type": "stream",
     "text": [
      "[Parallel(n_jobs=1)]: Done   1 out of   1 | elapsed:    5.4s finished\n",
      "[Parallel(n_jobs=1)]: Done   1 out of   1 | elapsed:    0.0s finished\n",
      "[Parallel(n_jobs=1)]: Done   1 out of   1 | elapsed:    0.0s finished\n",
      "[Parallel(n_jobs=1)]: Done   1 out of   1 | elapsed:    0.0s finished\n",
      "[Parallel(n_jobs=1)]: Done   1 out of   1 | elapsed:    0.0s finished\n",
      "[Parallel(n_jobs=1)]: Done   1 out of   1 | elapsed:    0.1s finished\n",
      "[Parallel(n_jobs=1)]: Done   1 out of   1 | elapsed:    0.1s finished\n",
      "[Parallel(n_jobs=1)]: Done   1 out of   1 | elapsed:    0.1s finished\n",
      "[Parallel(n_jobs=1)]: Done   1 out of   1 | elapsed:    0.0s finished\n",
      "[Parallel(n_jobs=1)]: Done   1 out of   1 | elapsed:    0.0s finished\n",
      "[Parallel(n_jobs=1)]: Done   1 out of   1 | elapsed:    0.0s finished\n",
      "[Parallel(n_jobs=1)]: Done   1 out of   1 | elapsed:    0.0s finished\n",
      "[Parallel(n_jobs=1)]: Done   1 out of   1 | elapsed:    0.0s finished\n",
      "[Parallel(n_jobs=1)]: Done   1 out of   1 | elapsed:    0.0s finished\n",
      "[Parallel(n_jobs=1)]: Done   1 out of   1 | elapsed:    0.0s finished\n",
      "[Parallel(n_jobs=1)]: Done   1 out of   1 | elapsed:    0.0s finished\n",
      "[Parallel(n_jobs=1)]: Done   1 out of   1 | elapsed:    0.0s finished\n",
      "[Parallel(n_jobs=1)]: Done   1 out of   1 | elapsed:    0.0s finished\n",
      "[Parallel(n_jobs=1)]: Done   1 out of   1 | elapsed:    0.0s finished\n",
      "[Parallel(n_jobs=1)]: Done   1 out of   1 | elapsed:    0.0s finished\n",
      "[Parallel(n_jobs=1)]: Done   1 out of   1 | elapsed:    0.1s finished\n",
      "[Parallel(n_jobs=1)]: Done   1 out of   1 | elapsed:    0.0s finished\n",
      "[Parallel(n_jobs=1)]: Done   1 out of   1 | elapsed:    0.0s finished\n",
      "[Parallel(n_jobs=1)]: Done   1 out of   1 | elapsed:    0.0s finished\n",
      "[Parallel(n_jobs=1)]: Done   1 out of   1 | elapsed:    0.1s finished\n",
      "[Parallel(n_jobs=1)]: Done   1 out of   1 | elapsed:    0.0s finished\n",
      "[Parallel(n_jobs=1)]: Done   1 out of   1 | elapsed:    0.0s finished\n",
      "[Parallel(n_jobs=1)]: Done   1 out of   1 | elapsed:    0.0s finished\n",
      "[Parallel(n_jobs=1)]: Done   1 out of   1 | elapsed:    0.1s finished\n",
      "[Parallel(n_jobs=1)]: Done   1 out of   1 | elapsed:    0.0s finished\n",
      "[Parallel(n_jobs=1)]: Done   1 out of   1 | elapsed:    0.1s finished\n",
      "[Parallel(n_jobs=1)]: Done   1 out of   1 | elapsed:    0.0s finished\n",
      "[Parallel(n_jobs=1)]: Done   1 out of   1 | elapsed:    0.1s finished\n",
      "[Parallel(n_jobs=1)]: Done   1 out of   1 | elapsed:    0.0s finished\n",
      "[Parallel(n_jobs=1)]: Done   1 out of   1 | elapsed:    0.1s finished\n",
      "[Parallel(n_jobs=1)]: Done   1 out of   1 | elapsed:    0.1s finished\n",
      "[Parallel(n_jobs=1)]: Done   1 out of   1 | elapsed:    0.1s finished\n",
      "[Parallel(n_jobs=1)]: Done   1 out of   1 | elapsed:    0.0s finished\n",
      "[Parallel(n_jobs=1)]: Done   1 out of   1 | elapsed:    0.1s finished\n",
      "[Parallel(n_jobs=1)]: Done   1 out of   1 | elapsed:    0.1s finished\n",
      "[Parallel(n_jobs=1)]: Done   1 out of   1 | elapsed:    0.1s finished\n",
      "[Parallel(n_jobs=1)]: Done   1 out of   1 | elapsed:    0.1s finished\n",
      "[Parallel(n_jobs=1)]: Done   1 out of   1 | elapsed:    0.0s finished\n",
      "[Parallel(n_jobs=1)]: Done   1 out of   1 | elapsed:    0.0s finished\n",
      "[Parallel(n_jobs=1)]: Done   1 out of   1 | elapsed:    0.0s finished\n",
      "[Parallel(n_jobs=1)]: Done   1 out of   1 | elapsed:    0.1s finished\n",
      "[Parallel(n_jobs=1)]: Done   1 out of   1 | elapsed:    0.1s finished\n",
      "[Parallel(n_jobs=1)]: Done   1 out of   1 | elapsed:    0.1s finished\n",
      "[Parallel(n_jobs=1)]: Done   1 out of   1 | elapsed:    0.1s finished\n",
      "[Parallel(n_jobs=1)]: Done   1 out of   1 | elapsed:    0.1s finished\n",
      "[Parallel(n_jobs=1)]: Done   1 out of   1 | elapsed:    0.1s finished\n",
      "[Parallel(n_jobs=1)]: Done   1 out of   1 | elapsed:    0.1s finished\n",
      "[Parallel(n_jobs=1)]: Done   1 out of   1 | elapsed:    0.0s finished\n",
      "[Parallel(n_jobs=1)]: Done   1 out of   1 | elapsed:    0.1s finished\n",
      "[Parallel(n_jobs=1)]: Done   1 out of   1 | elapsed:    0.1s finished\n",
      "[Parallel(n_jobs=1)]: Done   1 out of   1 | elapsed:    0.0s finished\n",
      "[Parallel(n_jobs=1)]: Done   1 out of   1 | elapsed:    0.0s finished\n",
      "[Parallel(n_jobs=1)]: Done   1 out of   1 | elapsed:    0.1s finished\n",
      "[Parallel(n_jobs=1)]: Done   1 out of   1 | elapsed:    0.0s finished\n",
      "[Parallel(n_jobs=1)]: Done   1 out of   1 | elapsed:    0.1s finished\n",
      "[Parallel(n_jobs=1)]: Done   1 out of   1 | elapsed:    0.1s finished\n",
      "[Parallel(n_jobs=1)]: Done   1 out of   1 | elapsed:    0.1s finished\n",
      "[Parallel(n_jobs=1)]: Done   1 out of   1 | elapsed:    0.1s finished\n",
      "[Parallel(n_jobs=1)]: Done   1 out of   1 | elapsed:    0.0s finished\n",
      "[Parallel(n_jobs=1)]: Done   1 out of   1 | elapsed:    0.0s finished\n",
      "[Parallel(n_jobs=1)]: Done   1 out of   1 | elapsed:    0.0s finished\n",
      "[Parallel(n_jobs=1)]: Done   1 out of   1 | elapsed:    0.0s finished\n",
      "[Parallel(n_jobs=1)]: Done   1 out of   1 | elapsed:    0.0s finished\n",
      "[Parallel(n_jobs=1)]: Done   1 out of   1 | elapsed:    0.0s finished\n",
      "[Parallel(n_jobs=1)]: Done   1 out of   1 | elapsed:    0.0s finished\n",
      "[Parallel(n_jobs=1)]: Done   1 out of   1 | elapsed:    0.1s finished\n",
      "[Parallel(n_jobs=1)]: Done   1 out of   1 | elapsed:    0.1s finished\n",
      "[Parallel(n_jobs=1)]: Done   1 out of   1 | elapsed:    0.1s finished\n",
      "[Parallel(n_jobs=1)]: Done   1 out of   1 | elapsed:    0.0s finished\n",
      "[Parallel(n_jobs=1)]: Done   1 out of   1 | elapsed:    0.0s finished\n",
      "[Parallel(n_jobs=1)]: Done   1 out of   1 | elapsed:    0.1s finished\n",
      "[Parallel(n_jobs=1)]: Done   1 out of   1 | elapsed:    0.0s finished\n",
      "[Parallel(n_jobs=1)]: Done   1 out of   1 | elapsed:    0.0s finished\n",
      "[Parallel(n_jobs=1)]: Done   1 out of   1 | elapsed:    0.1s finished\n",
      "[Parallel(n_jobs=1)]: Done   1 out of   1 | elapsed:    0.1s finished\n",
      "[Parallel(n_jobs=1)]: Done   1 out of   1 | elapsed:    0.0s finished\n",
      "[Parallel(n_jobs=1)]: Done   1 out of   1 | elapsed:    0.1s finished\n",
      "[Parallel(n_jobs=1)]: Done   1 out of   1 | elapsed:    0.0s finished\n",
      "[Parallel(n_jobs=1)]: Done   1 out of   1 | elapsed:    0.1s finished\n",
      "[Parallel(n_jobs=1)]: Done   1 out of   1 | elapsed:    0.0s finished\n",
      "[Parallel(n_jobs=1)]: Done   1 out of   1 | elapsed:    0.0s finished\n",
      "[Parallel(n_jobs=1)]: Done   1 out of   1 | elapsed:    0.0s finished\n",
      "[Parallel(n_jobs=1)]: Done   1 out of   1 | elapsed:    0.0s finished\n",
      "[Parallel(n_jobs=1)]: Done   1 out of   1 | elapsed:    0.0s finished\n",
      "[Parallel(n_jobs=1)]: Done   1 out of   1 | elapsed:    0.0s finished\n",
      "[Parallel(n_jobs=1)]: Done   1 out of   1 | elapsed:    0.0s finished\n",
      "[Parallel(n_jobs=1)]: Done   1 out of   1 | elapsed:    0.0s finished\n",
      "[Parallel(n_jobs=1)]: Done   1 out of   1 | elapsed:    0.0s finished\n",
      "[Parallel(n_jobs=1)]: Done   1 out of   1 | elapsed:    0.0s finished\n",
      "[Parallel(n_jobs=1)]: Done   1 out of   1 | elapsed:    0.0s finished\n",
      "[Parallel(n_jobs=1)]: Done   1 out of   1 | elapsed:    0.0s finished\n",
      "[Parallel(n_jobs=1)]: Done   1 out of   1 | elapsed:    0.0s finished\n",
      "[Parallel(n_jobs=1)]: Done   1 out of   1 | elapsed:    0.0s finished\n",
      "[Parallel(n_jobs=1)]: Done   1 out of   1 | elapsed:    0.0s finished\n",
      "[Parallel(n_jobs=1)]: Done   1 out of   1 | elapsed:    0.1s finished\n",
      "[Parallel(n_jobs=1)]: Done   1 out of   1 | elapsed:    0.0s finished\n",
      "[Parallel(n_jobs=1)]: Done   1 out of   1 | elapsed:    0.0s finished\n",
      "[Parallel(n_jobs=1)]: Done   1 out of   1 | elapsed:    0.0s finished\n",
      "[Parallel(n_jobs=1)]: Done   1 out of   1 | elapsed:    0.0s finished\n",
      "[Parallel(n_jobs=1)]: Done   1 out of   1 | elapsed:    0.0s finished\n",
      "[Parallel(n_jobs=1)]: Done   1 out of   1 | elapsed:    0.1s finished\n",
      "[Parallel(n_jobs=1)]: Done   1 out of   1 | elapsed:    0.0s finished\n",
      "[Parallel(n_jobs=1)]: Done   1 out of   1 | elapsed:    0.1s finished\n",
      "[Parallel(n_jobs=1)]: Done   1 out of   1 | elapsed:    0.0s finished\n",
      "[Parallel(n_jobs=1)]: Done   1 out of   1 | elapsed:    0.0s finished\n",
      "[Parallel(n_jobs=1)]: Done   1 out of   1 | elapsed:    0.0s finished\n",
      "[Parallel(n_jobs=1)]: Done   1 out of   1 | elapsed:    0.0s finished\n",
      "[Parallel(n_jobs=1)]: Done   1 out of   1 | elapsed:    0.0s finished\n",
      "[Parallel(n_jobs=1)]: Done   1 out of   1 | elapsed:    0.0s finished\n",
      "[Parallel(n_jobs=1)]: Done   1 out of   1 | elapsed:    0.0s finished\n",
      "[Parallel(n_jobs=1)]: Done   1 out of   1 | elapsed:    0.0s finished\n",
      "[Parallel(n_jobs=1)]: Done   1 out of   1 | elapsed:    0.0s finished\n",
      "[Parallel(n_jobs=1)]: Done   1 out of   1 | elapsed:    0.0s finished\n",
      "[Parallel(n_jobs=1)]: Done   1 out of   1 | elapsed:    0.1s finished\n",
      "[Parallel(n_jobs=1)]: Done   1 out of   1 | elapsed:    0.0s finished\n",
      "[Parallel(n_jobs=1)]: Done   1 out of   1 | elapsed:    0.1s finished\n",
      "[Parallel(n_jobs=1)]: Done   1 out of   1 | elapsed:    0.0s finished\n",
      "[Parallel(n_jobs=1)]: Done   1 out of   1 | elapsed:    0.0s finished\n",
      "[Parallel(n_jobs=1)]: Done   1 out of   1 | elapsed:    0.0s finished\n",
      "[Parallel(n_jobs=1)]: Done   1 out of   1 | elapsed:    0.1s finished\n",
      "[Parallel(n_jobs=1)]: Done   1 out of   1 | elapsed:    0.1s finished\n",
      "[Parallel(n_jobs=1)]: Done   1 out of   1 | elapsed:    0.0s finished\n",
      "[Parallel(n_jobs=1)]: Done   1 out of   1 | elapsed:    0.0s finished\n",
      "[Parallel(n_jobs=1)]: Done   1 out of   1 | elapsed:    0.0s finished\n",
      "[Parallel(n_jobs=1)]: Done   1 out of   1 | elapsed:    0.1s finished\n",
      "[Parallel(n_jobs=1)]: Done   1 out of   1 | elapsed:    0.1s finished\n",
      "[Parallel(n_jobs=1)]: Done   1 out of   1 | elapsed:    0.1s finished\n",
      "[Parallel(n_jobs=1)]: Done   1 out of   1 | elapsed:    0.1s finished\n",
      "[Parallel(n_jobs=1)]: Done   1 out of   1 | elapsed:    0.1s finished\n",
      "[Parallel(n_jobs=1)]: Done   1 out of   1 | elapsed:    0.0s finished\n",
      "[Parallel(n_jobs=1)]: Done   1 out of   1 | elapsed:    0.1s finished\n",
      "[Parallel(n_jobs=1)]: Done   1 out of   1 | elapsed:    0.1s finished\n",
      "[Parallel(n_jobs=1)]: Done   1 out of   1 | elapsed:    0.0s finished\n",
      "[Parallel(n_jobs=1)]: Done   1 out of   1 | elapsed:    0.0s finished\n",
      "[Parallel(n_jobs=1)]: Done   1 out of   1 | elapsed:    0.1s finished\n",
      "[Parallel(n_jobs=1)]: Done   1 out of   1 | elapsed:    0.1s finished\n",
      "[Parallel(n_jobs=1)]: Done   1 out of   1 | elapsed:    0.1s finished\n",
      "[Parallel(n_jobs=1)]: Done   1 out of   1 | elapsed:    0.1s finished\n",
      "[Parallel(n_jobs=1)]: Done   1 out of   1 | elapsed:    0.1s finished\n",
      "[Parallel(n_jobs=1)]: Done   1 out of   1 | elapsed:    0.0s finished\n",
      "[Parallel(n_jobs=1)]: Done   1 out of   1 | elapsed:    0.0s finished\n",
      "[Parallel(n_jobs=1)]: Done   1 out of   1 | elapsed:    0.0s finished\n",
      "[Parallel(n_jobs=1)]: Done   1 out of   1 | elapsed:    0.0s finished\n",
      "[Parallel(n_jobs=1)]: Done   1 out of   1 | elapsed:    0.0s finished\n",
      "[Parallel(n_jobs=1)]: Done   1 out of   1 | elapsed:    0.0s finished\n",
      "[Parallel(n_jobs=1)]: Done   1 out of   1 | elapsed:    0.0s finished\n"
     ]
    },
    {
     "data": {
      "text/plain": [
       "[<matplotlib.lines.Line2D at 0x11babecd0>]"
      ]
     },
     "execution_count": 9,
     "metadata": {},
     "output_type": "execute_result"
    },
    {
     "data": {
      "image/png": "[encoded data removed]",
      "text/plain": [
       "<matplotlib.figure.Figure at 0x1124e2510>"
      ]
     },
     "metadata": {},
     "output_type": "display_data"
    }
   ],
   "source": [
    "dataname = \"a9a\"\n",
    "n = 32561;\n",
    "d = 123; \n",
    "lambd = 1.0/(n*math.sqrt(n))\n",
    "nr = 150 \n",
    "floc = \"datasets/%s\" % dataname; \n",
    "X, y = ReadData(n,d,floc)\n",
    "clf = linear_model.LogisticRegression(penalty='l2', dual=False, tol=0.0000000001, C=1.0/lambd,warm_start = True, fit_intercept=True, class_weight=None, random_state=None, solver='lbfgs', max_iter=1, multi_class='ovr', verbose=1)\n",
    "clfo = linear_model.LogisticRegression(penalty='l2', dual=False, tol=0.0000000001, C=1.0/lambd,warm_start = False, fit_intercept=True, class_weight=None, random_state=None, solver='lbfgs', max_iter=1000000, multi_class='ovr', verbose=1)\n",
    "clfo.fit(X, y)\n",
    "ws = clfo.coef_\n",
    "dists = np.zeros((nr,1))\n",
    "for i in range(nr): \n",
    "    clf.fit(X,y)\n",
    "    dists[i] = np.linalg.norm(np.subtract(clf.coef_,ws))\n",
    "plt.plot(dists)"
   ]
  },
  {
   "cell_type": "code",
   "execution_count": 8,
   "metadata": {
    "collapsed": false
   },
   "outputs": [
    {
     "data": {
      "text/plain": [
       "array([[ 12.45977206],\n",
       "       [ 12.22838581],\n",
       "       [ 11.93834182],\n",
       "       [ 11.73975321],\n",
       "       [ 11.67580837],\n",
       "       [ 11.60516581],\n",
       "       [ 11.56344075],\n",
       "       [ 11.53214044],\n",
       "       [ 11.50951339],\n",
       "       [ 11.49081949],\n",
       "       [ 11.47863443],\n",
       "       [ 11.45736106],\n",
       "       [ 11.44591498],\n",
       "       [ 11.43202819],\n",
       "       [ 11.42281263],\n",
       "       [ 11.40967154],\n",
       "       [ 11.40100397],\n",
       "       [ 11.38305373],\n",
       "       [ 11.37220573],\n",
       "       [ 11.35686828],\n",
       "       [ 11.34881529],\n",
       "       [ 11.33629215],\n",
       "       [ 11.32773329],\n",
       "       [ 11.23825205],\n",
       "       [ 11.2313779 ],\n",
       "       [ 11.19727692],\n",
       "       [ 11.19083988],\n",
       "       [ 11.05099196],\n",
       "       [ 11.04535463],\n",
       "       [ 10.71270285],\n",
       "       [ 10.70910518],\n",
       "       [ 10.65462995],\n",
       "       [ 10.65092378],\n",
       "       [ 10.63916276],\n",
       "       [ 10.6346142 ],\n",
       "       [ 10.56453409],\n",
       "       [ 10.56094706],\n",
       "       [ 10.53769698],\n",
       "       [ 10.53212753],\n",
       "       [ 10.52383287],\n",
       "       [ 10.38244638],\n",
       "       [ 10.38015726],\n",
       "       [ 10.35303856],\n",
       "       [ 10.35061772],\n",
       "       [ 10.33800531],\n",
       "       [ 10.33464853],\n",
       "       [ 10.28003515],\n",
       "       [ 10.27041021],\n",
       "       [ 10.24305903],\n",
       "       [ 10.23710058],\n",
       "       [ 10.21519464],\n",
       "       [ 10.21022872],\n",
       "       [ 10.16741673],\n",
       "       [ 10.163594  ],\n",
       "       [ 10.15865671],\n",
       "       [ 10.15551267],\n",
       "       [ 10.14857041],\n",
       "       [ 10.14489729],\n",
       "       [ 10.12730743],\n",
       "       [ 10.1095497 ],\n",
       "       [ 10.10600251],\n",
       "       [ 10.10038737],\n",
       "       [ 10.09710178],\n",
       "       [ 10.0917288 ],\n",
       "       [ 10.08871689],\n",
       "       [ 10.07382328],\n",
       "       [ 10.06938016],\n",
       "       [ 10.06208965],\n",
       "       [ 10.05706503],\n",
       "       [ 10.04523898],\n",
       "       [ 10.03737542],\n",
       "       [ 10.01990762],\n",
       "       [ 10.01720174],\n",
       "       [ 10.00080756],\n",
       "       [  9.9863853 ],\n",
       "       [  9.98269804],\n",
       "       [  9.97752747],\n",
       "       [  9.9572645 ],\n",
       "       [  9.9509473 ],\n",
       "       [  9.9479516 ],\n",
       "       [  9.94372391],\n",
       "       [  9.94140335],\n",
       "       [  9.93721554],\n",
       "       [  9.93489123],\n",
       "       [  9.93074251],\n",
       "       [  9.9284138 ],\n",
       "       [  9.92430348],\n",
       "       [  9.92196964],\n",
       "       [  9.91789704],\n",
       "       [  9.91555725],\n",
       "       [  9.91152165],\n",
       "       [  9.90917501],\n",
       "       [  9.90517569],\n",
       "       [  9.90282124],\n",
       "       [  9.89885741],\n",
       "       [  9.89649409],\n",
       "       [  9.89256493],\n",
       "       [  9.89019161],\n",
       "       [  9.74365341],\n",
       "       [  9.74121709]])"
      ]
     },
     "execution_count": 8,
     "metadata": {},
     "output_type": "execute_result"
    }
   ],
   "source": [
    "dists"
   ]
  },
  {
   "cell_type": "code",
   "execution_count": null,
   "metadata": {
    "collapsed": false,
    "scrolled": true
   },
   "outputs": [],
   "source": [
    "n = 49990;\n",
    "d = 22; \n",
    "dataname = \"ijcnn1\"\n",
    "lambd = 1.0/(n*math.sqrt(n))\n",
    "nr = 10 \n",
    "distance_plot(dataname,n,d,lambd,nr,n)"
   ]
  },
  {
   "cell_type": "code",
   "execution_count": null,
   "metadata": {
    "collapsed": true
   },
   "outputs": [],
   "source": []
  },
  {
   "cell_type": "code",
   "execution_count": null,
   "metadata": {
    "collapsed": false
   },
   "outputs": [],
   "source": [
    "dataname = \"w8a\"\n",
    "n = 49749;\n",
    "d = 300; \n",
    "lambd = 1.0/(math.sqrt(n))\n",
    "nr = 1 \n",
    "distance_plot(dataname,n,d,lambd,1,n,verbose=True)"
   ]
  },
  {
   "cell_type": "code",
   "execution_count": null,
   "metadata": {
    "collapsed": false
   },
   "outputs": [],
   "source": [
    "\n",
    "dataname = \"rcv1_train.binary\"\n",
    "n = 20242;\n",
    "d = 47236; \n",
    "lambd = 1.0/(n*math.sqrt(n))\n",
    "nr = 5 \n",
    "distance_plot(dataname,n,d,lambd,1,n,verbose=True)"
   ]
  },
  {
   "cell_type": "code",
   "execution_count": null,
   "metadata": {
    "collapsed": false
   },
   "outputs": [],
   "source": [
    "dataname = \"a9a\"\n",
    "n = 32561;\n",
    "d = 123; \n",
    "lambd = 1.0/(n*math.sqrt(n))\n",
    "nr = 10 \n",
    "distance_plot(dataname,n,d,lambd,1,n,verbose=True)"
   ]
  },
  {
   "cell_type": "code",
   "execution_count": null,
   "metadata": {
    "collapsed": false
   },
   "outputs": [],
   "source": [
    "dataname = \"covtype.libsvm.binary.scale\"\n",
    "n = 581012;\n",
    "d = 54; \n",
    "lambd = 1.0/(n*math.sqrt(n))\n",
    "nr = 3 \n",
    "distance_plot(dataname,n,d,lambd,1,n,verbose=True)"
   ]
  },
  {
   "cell_type": "code",
   "execution_count": null,
   "metadata": {
    "collapsed": false
   },
   "outputs": [],
   "source": [
    "def ls_loss(X,y,b): \n",
    "    n, d = X.shape\n",
    "    return np.square(np.linalg.norm(X.dot(np.transpose(b))-y))/n\n",
    "def distance_plot_ls(X,y,b,n,d,nr,pivotsi,dataname,verbose = False):\n",
    "    print(max(np.linalg.norm(X,axis =1 )))\n",
    "    if(verbose):\n",
    "        print(\"Loading Data Accomblished\")\n",
    "    indices = np.random.choice(n, pivotsi, replace=False)\n",
    "    sfilename = \"outputs/optimals_%s\" % dataname\n",
    "    f = open(sfilename,'w');\n",
    "    X = X[indices,:]\n",
    "    y = y[indices]\n",
    "    n = pivotsi\n",
    "    x0 = np.zeros(d)\n",
    "    f.write(\"{}\\n\".format(d))\n",
    "    sizes = [64,128,256,512,1024,2048,4096,8192,16000,32000,64000]\n",
    "    clf = linear_model.LinearRegression()\n",
    "    res = clf.fit(X,y)\n",
    "    pivot = res.coef_ \n",
    "    spivot = str(pivot)[2:-2]\n",
    "    spivot = spivot.replace(',',' ')\n",
    "    f.write(\"{}\\n\".format(pivotsi))\n",
    "    for k in range(pivotsi):\n",
    "      f.write(\"{} \".format(indices[k]))\n",
    "    f.write(\"\\n\")\n",
    "    f.write(spivot)\n",
    "    f.write(\"\\n\")\n",
    "    dists= np.zeros((len(sizes),nr))\n",
    "    angles = np.zeros((len(sizes),nr))\n",
    "    for i in range(len(sizes)):\n",
    "        subsamplsi = sizes[i]\n",
    "        f.write(\"{} {}\\n\".format(subsamplsi,nr))\n",
    "        for j in range(nr):\n",
    "            f.write(\"{}\\n\".format(j))\n",
    "            subindices = np.random.choice(n, subsamplsi, replace=True)\n",
    "            for k in range(subsamplsi):\n",
    "                f.write(\"{} \".format(indices[subindices[k]]))\n",
    "            f.write(\"\\n\")\n",
    "            subX = X[subindices,:]\n",
    "            suby = y[subindices]\n",
    "            print(len(suby))\n",
    "            clf = linear_model.LinearRegression()\n",
    "            res = clf.fit(subX,suby)\n",
    "            ws = res.coef_\n",
    "            sws = str(ws)[2:-2]\n",
    "            sws = sws.replace(',',' ')\n",
    "            f.write(sws)\n",
    "            f.write(\"\\n\")\n",
    "            dist = ls_loss(X,y,ws)-ls_loss(X,y,b)\n",
    "            dists[i,j] = np.log10(dist)\n",
    "            x0xm = x0-ws\n",
    "           # angles[i,j] = np.arccos(np.dot(dist,np.transpose(x0xm))/(np.linalg.norm(x0xm)*np.linalg.norm(dist)))\n",
    "        if(verbose):\n",
    "          print(\"step: {}\".format(i))   \n",
    "    f.close()\n",
    "    mdist = np.mean(dists,axis=1)\n",
    "    vdist = np.var(dists,axis =1)\n",
    "    mang = np.mean(angles,axis = 1)\n",
    "    vang = np.var(angles,axis= 1)\n",
    "    plt.errorbar(np.log10(sizes),mdist,yerr=vdist)\n",
    "    plt.xlabel(\"Log(m)\")\n",
    "    plt.ylabel(\"Log(|x_m^* - x_n^*|^2)\")\n",
    "    plt.title(\"Distance Plot For %s\" % dataname)\n",
    "    filename = 'outputs/distance_%s.pdf' % dataname\n",
    "    plt.savefig(filename, format='pdf')\n",
    "    plt.close()\n",
    "    plt.errorbar(sizes,mang,yerr=vang)\n",
    "    plt.xlabel(\"m\")\n",
    "    plt.ylabel(\"Angle(x_n^* - x_m^*, -x_m^*)\")\n",
    "    plt.title(\"Angle Plot For %s\" % dataname)\n",
    "    filename = 'outputs/angle_%s.pdf' % dataname\n",
    "    plt.savefig(filename, format='pdf')\n",
    "    plt.close()"
   ]
  },
  {
   "cell_type": "code",
   "execution_count": null,
   "metadata": {
    "collapsed": false
   },
   "outputs": [],
   "source": [
    "d = 50 \n",
    "n = 64000\n",
    "nr = 3 \n",
    "pivotsi=n \n",
    "X = np.random.normal(loc=0.0, scale=1.0, size=(n,d))\n",
    "b = np.random.uniform(low = 0.0, high =1.0,size= (d,1))\n",
    "y = np.dot(X,b) + np.random.normal(loc=0.0,scale=1.0,size=(n,1))\n",
    "distance_plot_ls(X,y,np.transpose(b),n,d,nr,pivotsi,\"syntatic_4\",verbose = False)"
   ]
  },
  {
   "cell_type": "code",
   "execution_count": null,
   "metadata": {
    "collapsed": true
   },
   "outputs": [],
   "source": [
    "?np.random.uniform"
   ]
  },
  {
   "cell_type": "code",
   "execution_count": null,
   "metadata": {
    "collapsed": false
   },
   "outputs": [],
   "source": [
    "pow(2,-4)"
   ]
  },
  {
   "cell_type": "code",
   "execution_count": null,
   "metadata": {
    "collapsed": false
   },
   "outputs": [],
   "source": [
    "n = 49990;\n",
    "d = 22; \n",
    "dataname = \"ijcnn1\"\n",
    "floc = \"datasets/%s\" % dataname; \n",
    "def mis_class(w,X,y): \n",
    "    n,d = X.shape\n",
    "    pw = 0\n",
    "    for i in range(n): \n",
    "       if (y[i]*np.dot(w,X[i,:])<0):\n",
    "        pw = pw + 1\n",
    "    pw = pw/(1.0*n)\n",
    "    return pw\n",
    "#############################\n",
    "X, y = ReadData(n,d,floc)\n",
    "sub = np.random.choice(n, n, replace=False)\n",
    "X = X[sub,:]\n",
    "y = y[sub]\n",
    "Xt = X[40000:,:]\n",
    "yt = y[40000:]\n",
    "X = X[1:40000,:]\n",
    "y = y[1:40000]\n",
    "n,d = X.shape; \n",
    "ls = 10; \n",
    "lams = [0]*ls; \n",
    "sizes = [64,128,256,512,1024,2048,4096,8192,16000,32000]\n",
    "for i in range(ls):\n",
    "    lams[i]= pow(4,-1*(i+1))\n",
    "opt_lams = [0]*len(sizes) \n",
    "for i in range(len(sizes)):\n",
    "    subsamplsi = sizes[i]\n",
    "    print(subsamplsi)\n",
    "    subindices = np.random.choice(n, subsamplsi, replace=False)\n",
    "    subX = X[subindices,:]\n",
    "    suby = y[subindices]\n",
    "    err = float(\"inf\"); \n",
    "    for j in range(ls):\n",
    "     clf = linear_model.LogisticRegression(penalty='l2', dual=False, tol=0.0000000001, C=1.0/lams[j], fit_intercept=False, class_weight=None, random_state=None, solver='lbfgs', max_iter=1000000, multi_class='ovr', verbose=1)\n",
    "     clf.fit(subX, suby)\n",
    "     ws = clf.coef_\n",
    "     err_n = mis_class(ws,subX,suby)\n",
    "     print(err_n)\n",
    "     if err_n<err: \n",
    "        err = err_n\n",
    "        opt_lams[i] = lams[j]\n",
    "     \n",
    "####################################\n",
    "#distance_plot(dataname,n,d,lambd,nr,n)"
   ]
  },
  {
   "cell_type": "code",
   "execution_count": null,
   "metadata": {
    "collapsed": false
   },
   "outputs": [],
   "source": [
    "opt_lams"
   ]
  },
  {
   "cell_type": "code",
   "execution_count": null,
   "metadata": {
    "collapsed": false
   },
   "outputs": [],
   "source": [
    "plt.plot(np.log(opt_lams))"
   ]
  },
  {
   "cell_type": "code",
   "execution_count": null,
   "metadata": {
    "collapsed": false
   },
   "outputs": [],
   "source": [
    "yt"
   ]
  },
  {
   "cell_type": "code",
   "execution_count": null,
   "metadata": {
    "collapsed": false
   },
   "outputs": [],
   "source": [
    "yt>0"
   ]
  },
  {
   "cell_type": "code",
   "execution_count": null,
   "metadata": {
    "collapsed": false
   },
   "outputs": [],
   "source": [
    "sum(yt>0)"
   ]
  },
  {
   "cell_type": "code",
   "execution_count": null,
   "metadata": {
    "collapsed": false
   },
   "outputs": [],
   "source": [
    "sum(yt<0)"
   ]
  },
  {
   "cell_type": "code",
   "execution_count": null,
   "metadata": {
    "collapsed": false
   },
   "outputs": [],
   "source": [
    "sum(y>0)/(1.0*n)"
   ]
  },
  {
   "cell_type": "code",
   "execution_count": null,
   "metadata": {
    "collapsed": false
   },
   "outputs": [],
   "source": [
    "sum(y<0)/(1.0*n)"
   ]
  },
  {
   "cell_type": "code",
   "execution_count": null,
   "metadata": {
    "collapsed": true
   },
   "outputs": [],
   "source": [
    "a = [1]"
   ]
  },
  {
   "cell_type": "code",
   "execution_count": null,
   "metadata": {
    "collapsed": true
   },
   "outputs": [],
   "source": [
    "a.append(2)"
   ]
  },
  {
   "cell_type": "code",
   "execution_count": null,
   "metadata": {
    "collapsed": false
   },
   "outputs": [],
   "source": [
    "a"
   ]
  },
  {
   "cell_type": "code",
   "execution_count": null,
   "metadata": {
    "collapsed": false
   },
   "outputs": [],
   "source": [
    "import math\n",
    "\n",
    "string = \"%.2f\" % math.sqrt(2)\n",
    "print(string)"
   ]
  },
  {
   "cell_type": "code",
   "execution_count": null,
   "metadata": {
    "collapsed": false
   },
   "outputs": [],
   "source": [
    "from sklearn import linear_model, datasets\n",
    "iris = datasets.load_iris()\n",
    "X = iris.data[:, :2]  # we only take the first two features.\n",
    "Y = iris.target\n"
   ]
  },
  {
   "cell_type": "code",
   "execution_count": 3,
   "metadata": {
    "collapsed": false
   },
   "outputs": [
    {
     "ename": "NameError",
     "evalue": "name 'X' is not defined",
     "output_type": "error",
     "traceback": [
      "\u001b[0;31m---------------------------------------------------------------------------\u001b[0m",
      "\u001b[0;31mNameError\u001b[0m                                 Traceback (most recent call last)",
      "\u001b[0;32m<ipython-input-3-9deae6c88df3>\u001b[0m in \u001b[0;36m<module>\u001b[0;34m()\u001b[0m\n\u001b[0;32m----> 1\u001b[0;31m \u001b[0mU\u001b[0m\u001b[0;34m,\u001b[0m \u001b[0ms\u001b[0m\u001b[0;34m,\u001b[0m \u001b[0mV\u001b[0m \u001b[0;34m=\u001b[0m \u001b[0mnp\u001b[0m\u001b[0;34m.\u001b[0m\u001b[0mlinalg\u001b[0m\u001b[0;34m.\u001b[0m\u001b[0msvd\u001b[0m\u001b[0;34m(\u001b[0m\u001b[0mX\u001b[0m\u001b[0;34m,\u001b[0m \u001b[0mfull_matrices\u001b[0m\u001b[0;34m=\u001b[0m\u001b[0mFalse\u001b[0m\u001b[0;34m)\u001b[0m\u001b[0;34m\u001b[0m\u001b[0m\n\u001b[0m",
      "\u001b[0;31mNameError\u001b[0m: name 'X' is not defined"
     ]
    }
   ],
   "source": [
    "eigs = np.e"
   ]
  },
  {
   "cell_type": "code",
   "execution_count": null,
   "metadata": {
    "collapsed": true
   },
   "outputs": [],
   "source": []
  }
 ],
 "metadata": {
  "kernelspec": {
   "display_name": "Python 2",
   "language": "python",
   "name": "python2"
  },
  "language_info": {
   "codemirror_mode": {
    "name": "ipython",
    "version": 2
   },
   "file_extension": ".py",
   "mimetype": "text/x-python",
   "name": "python",
   "nbconvert_exporter": "python",
   "pygments_lexer": "ipython2",
   "version": "2.7.11"
  }
 },
 "nbformat": 4,
 "nbformat_minor": 0
}
