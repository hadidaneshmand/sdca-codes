{
 "cells": [
  {
   "cell_type": "code",
   "execution_count": 2,
   "metadata": {
    "collapsed": false
   },
   "outputs": [
    {
     "name": "stdout",
     "output_type": "stream",
     "text": [
      "Using matplotlib backend: MacOSX\n",
      "Populating the interactive namespace from numpy and matplotlib\n"
     ]
    }
   ],
   "source": [
    "%pylab\n",
    "%matplotlib inline\n"
   ]
  },
  {
   "cell_type": "code",
   "execution_count": 3,
   "metadata": {
    "collapsed": false
   },
   "outputs": [
    {
     "name": "stderr",
     "output_type": "stream",
     "text": [
      "/usr/local/lib/python2.7/site-packages/matplotlib/__init__.py:1350: UserWarning:  This call to matplotlib.use() has no effect\n",
      "because the backend has already been chosen;\n",
      "matplotlib.use() must be called *before* pylab, matplotlib.pyplot,\n",
      "or matplotlib.backends is imported for the first time.\n",
      "\n",
      "  warnings.warn(_use_error_msg)\n"
     ]
    }
   ],
   "source": [
    "from sdca import *\n",
    "from sklearn import svm\n",
    "from sklearn import preprocessing\n"
   ]
  },
  {
   "cell_type": "code",
   "execution_count": 5,
   "metadata": {
    "collapsed": false
   },
   "outputs": [],
   "source": [
    "def run_small_experiment(X,y,A_in,lambd,passes,plotname,primal_opt = -1,primal_accuracy = False):\n",
    "    num = 4\n",
    "    rep = 4\n",
    "    N,d = A_in.shape\n",
    "    #if primal_opt == -1:\n",
    "    #    clf = svm.LinearSVC(loss = 'hinge', C = 1.0/(N*lambd),fit_intercept=False, tol=1e-6, max_iter=N*passes*20)\n",
    "    #    clf.fit(X, y)\n",
    "    #    primal_opt =  primal_func(clf.coef_,A_in,lambd)\n",
    "    \n",
    "    \n",
    "    print(\"primal_obj[opt]={}\".format(primal_opt))\n",
    "    main_opt = 0\n",
    "    for i in range(num):\n",
    "        n = int(1.0*N/(power(2,i)))\n",
    "        print(\"n:{}\".format(n))\n",
    "        inds = np.random.randint(N, size=n);\n",
    "        A = np.zeros((n,d))\n",
    "        A = A_in[inds,:]\n",
    "        X_sub = X[inds,:]\n",
    "        y_sub = y[inds]\n",
    "        lambd = 1.0/n\n",
    "        \n",
    "        clf = svm.LinearSVC(loss = 'hinge', C = 1.0, tol = 0.00000001, max_iter = 100000000, fit_intercept=False)\n",
    "        clf.fit(X_sub, y_sub)\n",
    "        primal_opt =  primal_func(clf.coef_,A,lambd)\n",
    "        print('primal[{}] = {}'.format(n,primal_opt))\n",
    "       # (alpha_s,stats_s,w_s) = svm_randomperm( A, lambd, passes*200, obj = dual_obj)\n",
    "       # primal_opt = primal_func(w_s,A,lambd)\n",
    "        print(\"primal obj={}\".format(primal_opt))\n",
    "        if i == 1: \n",
    "            main_opt = primal_opt\n",
    "        def dist_opt(w,alpha,A,lambd):\n",
    "          if primal_accuracy == True: \n",
    "            return primal_func(w,A,lambd) - primal_opt\n",
    "          return primal_opt - dual_obj(w, alpha,A,lambd)\n",
    "            #da = 0\n",
    "            #for i in range(n): \n",
    "            #    if alpha[i] <= 1 and alpha[i] >= 0:\n",
    "            #        da = da + alpha[i]\n",
    "            #    else:\n",
    "            #        da = da + float(\"inf\")\n",
    "            #da = da / n \n",
    "            #da = da - 0.5*lambd*np.square(((1.0*n)/N)*np.linalg.norm(w_alpha(alpha,A,lambd)))\n",
    "            #return primal_opt - da\n",
    "#         (alpha_n,stats_n,w_n) =svm_randomperm( A, 1.0/n, passes*power(2,i), obj = dist_opt)\n",
    "#         t_randomperm, f_randomperm = get_data_plot(stats_n)  \n",
    "#         converge_rate = f_randomperm\n",
    "#         for cc in range(rep):\n",
    "#           (alpha_n,stats_n,w_n) =svm_randomperm( A, lambd, passes*power(2,i), obj = dist_opt)\n",
    "#           t_randomperm, f_randomperm = get_data_plot(stats_n)\n",
    "#           converge_rate = np.add(converge_rate,f_randomperm)\n",
    "#         converge_rate = np.divide(converge_rate,rep)\n",
    "#         t_randomperm = np.multiply(t_randomperm,n)\n",
    "#         plabel = \"size=%i\" % n\n",
    "#         plt.plot(t_randomperm,np.log(f_randomperm),label = plabel, marker='o')\n",
    "#     lgd = plt.legend(loc='upper center', bbox_to_anchor=(0.5, -0.05),\n",
    "#           fancybox=True, shadow=True, ncol=5)\n",
    "#     plt.savefig(plotname, facecolor='w', edgecolor='w',\n",
    "#         orientation='portrait',  format='eps', bbox_extra_artists=(lgd,), bbox_inches='tight')"
   ]
  },
  {
   "cell_type": "code",
   "execution_count": 6,
   "metadata": {
    "collapsed": false
   },
   "outputs": [
    {
     "name": "stdout",
     "output_type": "stream",
     "text": [
      "primal_obj[opt]=-1\n",
      "n:6000\n",
      "primal[6000] = [  7.54103426e-05]\n",
      "primal obj=[  7.54103426e-05]\n",
      "n:3000\n",
      "primal[3000] = [  9.62096750e-05]\n",
      "primal obj=[  9.62096750e-05]\n",
      "n:1500\n",
      "primal[1500] = [ 0.0001202]\n",
      "primal obj=[ 0.0001202]\n",
      "n:750\n",
      "primal[750] = [ 0.00015027]\n",
      "primal obj=[ 0.00015027]\n"
     ]
    }
   ],
   "source": [
    "n = 6000; \n",
    "d = 5000; \n",
    "import readsvm \n",
    "#filename = \"../datasets/rcv1_train.binary\"\n",
    "filename = \"../datasets/gisette_scale\"\n",
    "y, X = readfile(filename,n,d)\n",
    "#X = preprocessing.scale(X)\n",
    "A = np.zeros((n,d))\n",
    "for i in range(n): \n",
    "    if(y[i]==2 or y[i] == 0):\n",
    "        y[i] = -1;\n",
    "    A[i,:] = y[i]*X[i,:]\n",
    "lambd = 0.01\n",
    "passes = 6\n",
    "run_small_experiment(X,y, A,lambd,passes,\"plot/gisette_scale_primal.eps\",primal_accuracy = True)"
   ]
  },
  {
   "cell_type": "code",
   "execution_count": 5,
   "metadata": {
    "collapsed": false
   },
   "outputs": [
    {
     "name": "stdout",
     "output_type": "stream",
     "text": [
      "primal_obj[opt]=-1\n",
      "n:50101\n",
      "primal obj=[ 0.34836738]\n",
      "n:25050\n",
      "primal obj=[ 0.34381418]\n",
      "n:12525\n",
      "primal obj=[ 0.34766485]\n",
      "n:6262\n",
      "primal obj=[ 0.3702931]\n"
     ]
    },
    {
     "data": {
      "image/png": "[encoded data removed]",
      "text/plain": [
       "<matplotlib.figure.Figure at 0x10d81cf50>"
      ]
     },
     "metadata": {},
     "output_type": "display_data"
    }
   ],
   "source": [
    "n = 50101; \n",
    "d = 54; \n",
    "filename = \"../datasets/covtype.libsvm.binary.scale\"\n",
    "y, X = readfile(filename,n,d)\n",
    "A = np.zeros((n,d))\n",
    "for i in range(n):\n",
    "    if(y[i]==2 or y[i] == 0):\n",
    "        y[i] = -1;\n",
    "    A[i,:] = y[i]*X[i,:]\n",
    "lambd = 0.001\n",
    "passes = 6\n",
    "run_small_experiment(X,y, A,lambd,passes,\"plot/covtype_dual.eps\",primal_accuracy = False)"
   ]
  },
  {
   "cell_type": "code",
   "execution_count": null,
   "metadata": {
    "collapsed": false
   },
   "outputs": [],
   "source": [
    "n = 32561; \n",
    "d = 123; \n",
    "import readsvm \n",
    "#filename = \"../datasets/rcv1_train.binary\"\n",
    "filename = \"../datasets/a9a\"\n",
    "y, X = readfile(filename,n,d)\n",
    "#X = preprocessing.scale(X)\n",
    "A = np.zeros((n,d))\n",
    "for i in range(n): \n",
    "    if(y[i]==2 or y[i] == 0):\n",
    "        y[i] = -1;\n",
    "    A[i,:] = y[i]*X[i,:]\n",
    "lambd = 0.00001\n",
    "passes = 6\n",
    "run_small_experiment(X,y, A,lambd,passes,\"plot/a9a_dual.eps\",primal_accuracy=False)"
   ]
  },
  {
   "cell_type": "code",
   "execution_count": null,
   "metadata": {
    "collapsed": false
   },
   "outputs": [],
   "source": [
    "n = 49749; \n",
    "d = 300; \n",
    "filename = \"../datasets/w8a\"\n",
    "y, X = readfile(filename,n,d)\n",
    "A = np.zeros((n,d))\n",
    "for i in range(n):\n",
    "    if(y[i]==2 or y[i] == 0):\n",
    "        y[i] = -1;\n",
    "    A[i,:] = y[i]*X[i,:]\n",
    "lambd = 1.0/n\n",
    "passes = 6\n",
    "run_small_experiment(X,y, A,lambd,passes,\"plot/w8a_primal.eps\",primal_accuracy = False)"
   ]
  },
  {
   "cell_type": "code",
   "execution_count": null,
   "metadata": {
    "collapsed": true
   },
   "outputs": [],
   "source": [
    "-"
   ]
  },
  {
   "cell_type": "code",
   "execution_count": null,
   "metadata": {
    "collapsed": true
   },
   "outputs": [],
   "source": []
  }
 ],
 "metadata": {
  "kernelspec": {
   "display_name": "Python 2",
   "language": "python",
   "name": "python2"
  },
  "language_info": {
   "codemirror_mode": {
    "name": "ipython",
    "version": 2
   },
   "file_extension": ".py",
   "mimetype": "text/x-python",
   "name": "python",
   "nbconvert_exporter": "python",
   "pygments_lexer": "ipython2",
   "version": "2.7.11"
  }
 },
 "nbformat": 4,
 "nbformat_minor": 0
}
