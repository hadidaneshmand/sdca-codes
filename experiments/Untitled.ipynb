{
 "cells": [
  {
   "cell_type": "code",
   "execution_count": 1,
   "metadata": {
    "collapsed": false
   },
   "outputs": [],
   "source": [
    "\n",
    "from __future__ import print_function\n",
    "import numpy as np\n",
    "import numpy.random\n",
    "import numpy.linalg\n",
    "\n",
    "#import sys\n",
    "#import os\n",
    "#lib_path = os.path.abspath('cppcd')\n",
    "#sys.path.append(lib_path)\n",
    "#import cppcd\n",
    "#import lasso\n",
    "\n",
    "\n",
    "def gen_normalized_gaussian_matrix(m, n):\n",
    "  A = np.random.randn(m, n)\n",
    "  # normalize\n",
    "  col_norms = np.linalg.norm(A, axis=0)\n",
    "  A = np.divide(A, col_norms)\n",
    "  return A\n",
    "\n",
    "\n",
    "def gen_sparse_rademacher_vector(n, k):\n",
    "  x = np.zeros(n)\n",
    "  coords = np.random.choice(n, k, replace=False)\n",
    "  x[coords] = 1.0 - 2.0 * np.random.randint(0, 2, k)\n",
    "  return x\n",
    "\n",
    "\n",
    "def get_pyplot_data_iter(stats, opt=None):\n",
    "  xvals = np.array([x for x, y in stats])\n",
    "  yvals = np.array([y for x, y in stats])\n",
    "  if not opt:\n",
    "    opt = np.min(yvals)\n",
    "  yvals -= opt\n",
    "  yvals /= np.max(yvals)\n",
    "  return xvals, yvals\n",
    "\n",
    "\n",
    "def get_plot_data_time(progress, opt=None):\n",
    "  xvals = [te.elapsed_time for te in progress]\n",
    "  yvals = [te.current_objective_value for te in progress]\n",
    "  if not opt:\n",
    "    opt = np.min(yvals)\n",
    "  yvals -= opt\n",
    "  yvals /= np.max(yvals)\n",
    "  return xvals, yvals\n",
    "\n",
    "def get_plot_data_iter(progress, opt=None):\n",
    "  yvals = [te.current_objective_value for te in progress]\n",
    "  if not opt:\n",
    "    opt = np.min(yvals)\n",
    "  yvals -= opt\n",
    "  yvals /= np.max(yvals)\n",
    "  return yvals\n",
    "\n",
    "import math\n",
    "import numpy as np\n",
    "import time\n",
    "from sklearn import linear_model\n",
    "\n",
    "import sys\n",
    "import os\n",
    "lib_path = os.path.abspath('../falconn/python_swig')\n",
    "sys.path.append(lib_path)\n",
    "import falconn\n",
    "\n",
    "def soft_thresholding(x, threshold):\n",
    "  if x >= threshold:\n",
    "    return x - threshold\n",
    "  elif x <= -threshold:\n",
    "    return x + threshold\n",
    "  else:\n",
    "    return 0.0\n",
    "\n",
    "\n",
    "def compute_objective_value(y, A, x, lambd):\n",
    "  return 0.5 * np.linalg.norm(y - np.dot(A, x), ord=2)**2 + lambd * np.linalg.norm(x, ord=1)\n",
    "\n",
    "\n",
    "def compute_x_error(xhat, x):\n",
    "  return np.linalg.norm(xhat - x, ord=2) / np.linalg.norm(x, ord=2)\n",
    "\n",
    "\n",
    "def meta_lasso(y, A, lambd, num_effective_passes, order_generator, verbose=False):\n",
    "  inv_sq_col_norms = np.divide(1.0, np.square(np.linalg.norm(A, axis=0)))\n",
    "  m, n = A.shape\n",
    "  x = np.zeros(n)\n",
    "  r = y\n",
    "  \n",
    "  obj_value = 0.5 * np.linalg.norm(r)**2 + lambd * np.linalg.norm(x, ord=1)\n",
    "  if verbose:\n",
    "    print(\"  Initial objective value: {}\".format(obj_value))\n",
    "  \n",
    "  stats = [(0.0, obj_value)]\n",
    "  \n",
    "  completed_effective_passes = 0.0\n",
    "  while completed_effective_passes < num_effective_passes:\n",
    "    coords = order_generator(y, A, x, r)\n",
    "    for ii in coords:\n",
    "      xiold = x[ii]\n",
    "      thresh = lambd * inv_sq_col_norms[ii]\n",
    "      val = np.dot(A[:,ii], r) * inv_sq_col_norms[ii] + xiold\n",
    "      xinew = soft_thresholding(val, thresh)\n",
    "      r = r + A[:,ii] * (xiold - xinew)\n",
    "      x[ii] = xinew\n",
    "    completed_effective_passes += len(coords) / float(n)\n",
    "    obj_value = 0.5 * np.linalg.norm(r)**2 + lambd * np.linalg.norm(x, ord=1)\n",
    "    stats.append((completed_effective_passes, obj_value))\n",
    "    if verbose:\n",
    "      print(\"  Objective value after {} effective passes: {}\".format(completed_effective_passes, obj_value))\n",
    "\n",
    "  return (x, stats)\n",
    "\n",
    "\n",
    "def lasso_cyclic(y, A, lambd, num_passes, verbose=False):\n",
    "  _, n = A.shape\n",
    "  def cyclic_order_generator(*unused):\n",
    "    return range(n)\n",
    "  if verbose:\n",
    "    print(\"Cyclic coordinate descent Lasso solver\")\n",
    "  return meta_lasso(y, A, lambd, num_passes, cyclic_order_generator, verbose)\n",
    "\n",
    "\n",
    "def lasso_randomiid(y, A, lambd, num_passes, verbose=False):\n",
    "  _, n = A.shape\n",
    "  def randiid_order_generator(*unused):\n",
    "    return np.random.randint(n, size=n)\n",
    "  if verbose:\n",
    "    print(\"Random iid coordinate descent Lasso solver\")\n",
    "  return meta_lasso(y, A, lambd, num_passes, randiid_order_generator, verbose)\n",
    "\n",
    "\n",
    "def lasso_randomperm(y, A, lambd, num_passes, verbose=False):\n",
    "  _, n = A.shape\n",
    "  def randomperm_order_generator(*unused):\n",
    "    return np.random.permutation(n)\n",
    "  if verbose:\n",
    "    print(\"Random permutation coordinate descent Lasso solver\")\n",
    "  return meta_lasso(y, A, lambd, num_passes, randomperm_order_generator, verbose)\n",
    "\n",
    "def lasso_maxip(y, A, lambd, num_passes, prefix_length=-1, verbose=False):\n",
    "  _, n = A.shape\n",
    "  if prefix_length < 0:\n",
    "    prefix_length = n\n",
    "  def maxip_order_generator(y, A, x, r):\n",
    "    ips = np.dot(A.transpose(), r)\n",
    "    indices = np.flipud(np.argsort(np.abs(ips)))\n",
    "    print(indices[:10])\n",
    "    return indices[:prefix_length]\n",
    "  if verbose:\n",
    "    print(\"Maximum inner product coordinate descent Lasso solver\")\n",
    "  return meta_lasso(y, A, lambd, num_passes, maxip_order_generator, verbose)\n",
    "\n",
    "def lasso_lsh(y, A, lambd, num_passes, prefix_length=-1, verbose=False):\n",
    "  m, n = A.shape\n",
    "  \n",
    "  params = falconn.LSHConstructionParameters()\n",
    "  params.dimension = m\n",
    "  params.lsh_family = 'hyperplane'\n",
    "  params.distance_function = 'negative_inner_product'\n",
    "  params.k = int(math.floor(math.log(n, 2)))\n",
    "  params.l = 10\n",
    "  params.seed = 833840234\n",
    "  AT = np.transpose(A)\n",
    "  AT = AT.astype(np.float32)\n",
    "  table = falconn.construct_table_dense_float(AT, params)\n",
    "  table.set_num_probes(2 ** params.k * params.l)\n",
    "\n",
    "  if prefix_length < 0:\n",
    "    prefix_length = n\n",
    "\n",
    "  def lsh_order_generator(y, A, x, r):\n",
    "    r2 = r.astype(np.float32)\n",
    "    res1 = table.get_unique_candidates(r2)\n",
    "    res2 = table.get_unique_candidates(-r2)\n",
    "    seq = [index for pair in zip(res1, res2) for index in pair]\n",
    "    print(seq[:10])\n",
    "    return seq[:prefix_length]\n",
    "  if verbose:\n",
    "    print(\"LSH coordinate descent Lasso solver\")\n",
    "  return meta_lasso(y, A, lambd, num_passes, lsh_order_generator, verbose)\n",
    "\n",
    "  \n",
    "\n",
    "def lasso_cyclic_explicit(y, A, lambd, num_passes, verbose=False):\n",
    "  if verbose:\n",
    "    print(\"Cyclic coordinate descent Lasso solver\")\n",
    "  inv_sq_col_norms = np.divide(1.0, np.square(np.linalg.norm(A, axis=0)))\n",
    "  m, n = A.shape\n",
    "  x = np.zeros(n)\n",
    "  r = y\n",
    "\n",
    "  if verbose:\n",
    "    obj_value = 0.5 * np.linalg.norm(r)**2 + lambd * np.linalg.norm(x, ord=1)\n",
    "    print(\"  Initial objective value: {}\".format(obj_value))\n",
    "\n",
    "\n",
    "  for cur_cycle in range(num_passes):\n",
    "    num_nonzero = 0\n",
    "    for ii in range(n):\n",
    "      xiold = x[ii]\n",
    "      thresh = lambd * inv_sq_col_norms[ii]\n",
    "      val = np.dot(A[:,ii], r) * inv_sq_col_norms[ii] + xiold\n",
    "      xinew = soft_thresholding(val, thresh)\n",
    "      r = r + A[:,ii] * (xiold - xinew)\n",
    "      x[ii] = xinew\n",
    "      if abs(xinew) > 1e-6:\n",
    "        num_nonzero += 1\n",
    "\n",
    "    if verbose:\n",
    "      obj_value = 0.5 * np.linalg.norm(r)**2 + lambd * np.linalg.norm(x, ord=1)\n",
    "      print(\"  Current objective value: {}  ({} nonzero coordinates)\".format(obj_value, num_nonzero))\n",
    "  return x\n",
    "\n",
    "\n",
    "def lasso_random_explicit(y, A, lambd, num_steps, verbose=False):\n",
    "  if verbose:\n",
    "    print(\"Random coordinate descent Lasso solver\")\n",
    "  inv_sq_col_norms = np.divide(1.0, np.square(np.linalg.norm(A, axis=0)))\n",
    "  m, n = A.shape\n",
    "  x = np.zeros(n)\n",
    "  r = y\n",
    "\n",
    "  if verbose:\n",
    "    obj_value = 0.5 * np.linalg.norm(r)**2 + lambd * np.linalg.norm(x, ord=1)\n",
    "    print(\"  Initial objective value: {}\".format(obj_value))\n",
    "\n",
    "  for cur_step in range(num_steps):\n",
    "    ii = np.random.randint(0, n)\n",
    "    xiold = x[ii]\n",
    "    thresh = lambd * inv_sq_col_norms[ii]\n",
    "    val = np.dot(A[:,ii], r) * inv_sq_col_norms[ii] + xiold\n",
    "    xinew = soft_thresholding(val, thresh)\n",
    "    r = r + A[:,ii] * (xiold - xinew)\n",
    "    x[ii] = xinew\n",
    "    \n",
    "    if verbose and cur_step % n == 0 and cur_step > 0:\n",
    "      obj_value = 0.5 * np.linalg.norm(r)**2 + lambd * np.linalg.norm(x, ord=1)\n",
    "      print(\"  Current objective value: {}\".format(obj_value))\n",
    "  return x\n",
    "\n",
    "\n",
    "def lasso_steepest(y, A, lambd, num_steps, verbose=False):\n",
    "  if verbose:\n",
    "    print(\"Steepest coordinate descent Lasso solver\")\n",
    "  inv_sq_col_norms = np.divide(1.0, np.square(np.linalg.norm(A, axis=0)))\n",
    "  m, n = A.shape\n",
    "  x = np.zeros(n)\n",
    "  r = y\n",
    "  r_values = []\n",
    "\n",
    "  if verbose:\n",
    "    obj_value = 0.5 * np.linalg.norm(r)**2 + lambd * np.linalg.norm(x, ord=1)\n",
    "    print(\"  Initial objective value: {}\".format(obj_value))\n",
    "\n",
    "  for cur_step in range(num_steps):\n",
    "    derivatives = np.abs(np.dot(np.transpose(A), r / np.linalg.norm(r, ord=2)))\n",
    "    r_values.append(r / np.linalg.norm(r, ord=2))\n",
    "    ii = np.argmax(derivatives)\n",
    "    # Alternative coordinate selection methods (e.g., largest progress)\n",
    "    #  #derivatives = np.abs(np.dot(np.transpose(A), r) - lambd * np.sign(x))\n",
    "    #print(\"  Largest inner product: {}\".format(derivatives[ii]))\n",
    "    #ii = -1\n",
    "    #best_abs = 0.0\n",
    "    #for jj in range(n):\n",
    "    #  xjold = x[jj]\n",
    "    #  thresh = lambd * inv_sq_col_norms[jj]\n",
    "    #  val = np.dot(A[:,jj], r) * inv_sq_col_norms[jj] + xjold\n",
    "    #  xjnew = soft_thresholding(val, thresh)\n",
    "    #  if abs(xjold - xjnew) > best_abs:\n",
    "    #    ii = jj\n",
    "    #    best_abs = abs(xjold - xjnew)\n",
    "      \n",
    "    xiold = x[ii]\n",
    "    thresh = lambd * inv_sq_col_norms[ii]\n",
    "    val = np.dot(A[:,ii], r) * inv_sq_col_norms[ii] + xiold\n",
    "    xinew = soft_thresholding(val, thresh)\n",
    "    #print(\"    diff = {}  thresh = {}  xiold = {}  xinew = {}\".format(np.dot(A[:,ii], r) * inv_sq_col_norms[ii], thresh, xiold, xinew))\n",
    "    r = r + A[:,ii] * (xiold - xinew)\n",
    "    x[ii] = xinew\n",
    "   \n",
    "    if verbose: \n",
    "      obj_value = 0.5 * np.linalg.norm(r)**2 + lambd * np.linalg.norm(x, ord=1)\n",
    "      #print(\"  Actually largest inner product: {} (coord {})\".format(np.max(derivatives), np.argmax(derivatives)))\n",
    "      print(\"  Largest inner product: {:.3} (coord {})  Average inner product: {:.4}  Current objective value: {}\".format(derivatives[ii], ii, np.mean(derivatives), obj_value))\n",
    "  return x, r_values\n",
    "\n",
    "\n",
    "# From https://github.com/adarshvjois/LASSO/blob/master/HW2/shooting_algorithm.py\n",
    "def lasso_cyclic_reference(y, X, lambda_reg, num_iter, w_init=None):\n",
    "    \"\"\"\n",
    "    X - Training set\n",
    "    y - training values to classify/do regression on.\n",
    "    w_init - my initial guess for the weights\n",
    "    lambda_reg - hyper parameter\n",
    "    \n",
    "    returns the final weight vector.\n",
    "    \"\"\"\n",
    "    lambda_reg *= 2   # added by Ludwig\n",
    "    #TODO add a way in which I can include tolerance.\n",
    "    if w_init is not None:\n",
    "        w = w_init \n",
    "    else:\n",
    "        w = np.zeros(X.shape[1])\n",
    "    D = X.shape[1]\n",
    "\n",
    "    XX2 = np.dot(X.T, X) * 2\n",
    "    Xy2 = np.dot(X.T, y) * 2\n",
    "    i = 0\n",
    "    while i < num_iter:\n",
    "        i += 1\n",
    "        for j in range(D):\n",
    "            c_j = Xy2[j] - XX2[j, :].dot(w) + XX2[j, j] * w[j]\n",
    "            a_j = XX2[j, j]\n",
    "            \n",
    "            if c_j < -lambda_reg:\n",
    "                w[j] = (c_j + lambda_reg) / a_j\n",
    "            elif c_j > lambda_reg:\n",
    "                w[j] = (c_j - lambda_reg) / a_j\n",
    "            else:\n",
    "                w[j] = 0\n",
    "    return w\n",
    "\n",
    "\n",
    "def lasso_sklearn(y, A, lambd, tol=1e-5, max_iter=100000, selection='random'):\n",
    "  m, n = A.shape\n",
    "  lambda_prime = lambd / n\n",
    "\n",
    "  lasso = linear_model.Lasso(alpha=lambda_prime, copy_X=True, normalize=False, positive=False, tol=tol, max_iter=max_iter, fit_intercept=False, selection=selection)\n",
    "  lasso.fit(A, y)\n",
    "  return lasso.coef_\n"
   ]
  },
  {
   "cell_type": "code",
   "execution_count": 6,
   "metadata": {
    "collapsed": false
   },
   "outputs": [
    {
     "name": "stdout",
     "output_type": "stream",
     "text": [
      "lambda = 0.115272340045\n"
     ]
    }
   ],
   "source": [
    "np.random.seed(5673932)\n",
    "algo_random_seed = np.random.randint(0, 1000000000)\n",
    "n = 10000\n",
    "m = 2000\n",
    "k = 200\n",
    "\n",
    "# Generate data\n",
    "A = gen_normalized_gaussian_matrix(m, n)\n",
    "x = gen_sparse_rademacher_vector(n, k)\n",
    "y = np.dot(A, x)\n",
    "\n",
    "#lambd = 0.01 * math.log(n, 2) / m\n",
    "lambd =  math.sqrt(2.0 * math.log(n, 2) / m)\n",
    "print(\"lambda = {}\".format(lambd))\n",
    "num_passes = 20"
   ]
  },
  {
   "cell_type": "code",
   "execution_count": 7,
   "metadata": {
    "collapsed": false
   },
   "outputs": [
    {
     "name": "stdout",
     "output_type": "stream",
     "text": [
      "LSH coordinate descent Lasso solver\n",
      "  Initial objective value: 97.5539232301\n",
      "[6269, 7686, 4117, 7689, 3449, 90, 9321, 918, 3284, 3286]\n",
      "  Objective value after 1.0 effective passes: 48.4698471426\n",
      "[8172, 9816, 1831, 9193, 3876, 7067, 5082, 6610, 3421, 3287]\n",
      "  Objective value after 2.0 effective passes: 35.2043914999\n",
      "[4450, 6124, 7473, 4588, 573, 5290, 4586, 6299, 1558, 9137]\n",
      "  Objective value after 3.0 effective passes: 29.8173234311\n",
      "[8163, 4085, 7473, 2545, 2746, 516, 7492, 872, 2782, 9803]\n",
      "  Objective value after 4.0 effective passes: 26.5254800898\n",
      "[7962, 9518, 9356, 6657, 7388, 8620, 6817, 5317, 2866, 5180]\n",
      "  Objective value after 5.0 effective passes: 24.6546313731\n",
      "[4358, 6125, 9224, 6050, 8250, 3075, 4769, 5687, 9126, 6385]\n",
      "  Objective value after 6.0 effective passes: 23.335961528\n",
      "[7962, 9518, 491, 6657, 4354, 8620, 9356, 5317, 4358, 3545]\n",
      "  Objective value after 7.0 effective passes: 22.4807063936\n",
      "[7962, 5180, 9356, 4478, 6817, 7917, 7659, 9518, 2437, 6657]\n",
      "  Objective value after 8.0 effective passes: 21.9526858363\n",
      "[6817, 8346, 9356, 9518, 7962, 6657, 1876, 8620, 3388, 5317]\n",
      "  Objective value after 9.0 effective passes: 21.668883977\n",
      "[1876, 5156, 3388, 4234, 659, 6729, 6817, 314, 5041, 8346]\n",
      "  Objective value after 10.0 effective passes: 21.5650690899\n",
      "[6817, 5156, 5041, 4234, 1876, 8346, 3388, 1855, 659, 943]\n",
      "  Objective value after 11.0 effective passes: 21.5407140739\n",
      "[6817, 5156, 5041, 4234, 9356, 8346, 7670, 1855, 118, 943]\n",
      "  Objective value after 12.0 effective passes: 21.5364314368\n",
      "[6817, 5156, 7670, 4234, 118, 8346, 3727, 6578, 5041, 8658]\n",
      "  Objective value after 13.0 effective passes: 21.5357831026\n",
      "[6817, 5156, 7670, 4234, 118, 8346, 3727, 6578, 9321, 8658]\n",
      "  Objective value after 14.0 effective passes: 21.5356908502\n",
      "[6817, 5156, 7670, 4234, 118, 8346, 3727, 6578, 9321, 8658]\n",
      "  Objective value after 15.0 effective passes: 21.5356781192\n",
      "[6817, 5156, 7670, 4234, 118, 8346, 3727, 6578, 9321, 8658]\n",
      "  Objective value after 16.0 effective passes: 21.5356764241\n",
      "[6817, 5156, 7670, 4234, 118, 8346, 3727, 6578, 9321, 8658]\n",
      "  Objective value after 17.0 effective passes: 21.5356761924\n",
      "[6817, 5156, 7670, 4234, 118, 8346, 3727, 6578, 9321, 8658]\n",
      "  Objective value after 18.0 effective passes: 21.5356761612\n",
      "[6817, 5156, 7670, 4234, 118, 8346, 3727, 6578, 9321, 8658]\n",
      "  Objective value after 19.0 effective passes: 21.5356761571\n",
      "[6817, 5156, 7670, 4234, 118, 8346, 3727, 6578, 9321, 8658]\n",
      "  Objective value after 20.0 effective passes: 21.5356761565\n"
     ]
    }
   ],
   "source": [
    "x_lsh, stats_lsh = lasso_lsh(y, A, lambd, num_passes, verbose=True)"
   ]
  },
  {
   "cell_type": "code",
   "execution_count": 2,
   "metadata": {
    "collapsed": false
   },
   "outputs": [
    {
     "data": {
      "text/plain": [
       "True"
      ]
     },
     "execution_count": 2,
     "metadata": {},
     "output_type": "execute_result"
    }
   ],
   "source": [
    "bool('False')"
   ]
  },
  {
   "cell_type": "code",
   "execution_count": 3,
   "metadata": {
    "collapsed": false
   },
   "outputs": [
    {
     "data": {
      "text/plain": [
       "True"
      ]
     },
     "execution_count": 3,
     "metadata": {},
     "output_type": "execute_result"
    }
   ],
   "source": [
    "bool('True')"
   ]
  },
  {
   "cell_type": "code",
   "execution_count": 8,
   "metadata": {
    "collapsed": false
   },
   "outputs": [
    {
     "data": {
      "text/plain": [
       "True"
      ]
     },
     "execution_count": 8,
     "metadata": {},
     "output_type": "execute_result"
    }
   ],
   "source": [
    "bool('f')"
   ]
  },
  {
   "cell_type": "code",
   "execution_count": 11,
   "metadata": {
    "collapsed": false
   },
   "outputs": [
    {
     "data": {
      "text/plain": [
       "True"
      ]
     },
     "execution_count": 11,
     "metadata": {},
     "output_type": "execute_result"
    }
   ],
   "source": [
    "def str2bool(v):\n",
    "  return v.lower() in (\"yes\", \"true\", \"t\", \"1\")\n",
    "str2bool('true')"
   ]
  },
  {
   "cell_type": "code",
   "execution_count": 11,
   "metadata": {
    "collapsed": false
   },
   "outputs": [],
   "source": [
    "import numpy as np\n",
    "ii = np.random.randint(10)"
   ]
  },
  {
   "cell_type": "code",
   "execution_count": 12,
   "metadata": {
    "collapsed": false
   },
   "outputs": [
    {
     "data": {
      "text/plain": [
       "1"
      ]
     },
     "execution_count": 12,
     "metadata": {},
     "output_type": "execute_result"
    }
   ],
   "source": [
    "ii"
   ]
  },
  {
   "cell_type": "code",
   "execution_count": 1,
   "metadata": {
    "collapsed": true
   },
   "outputs": [],
   "source": [
    "a = [1,3,5]"
   ]
  },
  {
   "cell_type": "code",
   "execution_count": 5,
   "metadata": {
    "collapsed": false
   },
   "outputs": [
    {
     "name": "stdout",
     "output_type": "stream",
     "text": [
      "1\n",
      "12\n",
      "3\n",
      "12\n",
      "5\n",
      "5\n"
     ]
    }
   ],
   "source": [
    "for b in a:\n",
    "  print(b)\n",
    "  if(b <5):\n",
    "    b = 12\n",
    "  print(b)"
   ]
  },
  {
   "cell_type": "code",
   "execution_count": null,
   "metadata": {
    "collapsed": true
   },
   "outputs": [],
   "source": []
  }
 ],
 "metadata": {
  "kernelspec": {
   "display_name": "Python 2",
   "language": "python",
   "name": "python2"
  },
  "language_info": {
   "codemirror_mode": {
    "name": "ipython",
    "version": 2
   },
   "file_extension": ".py",
   "mimetype": "text/x-python",
   "name": "python",
   "nbconvert_exporter": "python",
   "pygments_lexer": "ipython2",
   "version": "2.7.11"
  }
 },
 "nbformat": 4,
 "nbformat_minor": 0
}
