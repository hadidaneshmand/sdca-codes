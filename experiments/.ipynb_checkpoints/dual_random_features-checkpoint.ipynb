{
 "cells": [
  {
   "cell_type": "code",
   "execution_count": 4,
   "metadata": {
    "collapsed": true
   },
   "outputs": [],
   "source": [
    "# svm sdca \n",
    "def svm_primal(w,y,X,lambd,verbose=False): # computes the primal value for the given parameter w\n",
    "    n, d = X.shape\n",
    "    pw = 0\n",
    "    for i in range(n): \n",
    "        if verbose:\n",
    "            print(\"P({}):y={},dot={},delta_pw={}\".format(i,y[i],np.dot(w,X[i,:]),max(0,1-y[i]*np.dot(w,X[i,:]))))\n",
    "        pw = pw + max(0,1-y[i]*np.dot(w,X[i,:]))\n",
    "    pw = pw/n \n",
    "    pw = pw + 0.5*lambd*np.square(np.linalg.norm(w))\n",
    "    return pw\n",
    "def svm_dual(alpha,y,X,lambd,verbose=False): # computes the dual function value for a given parameter alpha \n",
    "    da = 0\n",
    "    n, d = X.shape\n",
    "    for i in range(n): \n",
    "        if alpha[i]*y[i] <= 1 and alpha[i]*y[i] >= 0:\n",
    "            da = da + alpha[i]*y[i]\n",
    "        else:\n",
    "            da = da + float(\"inf\")\n",
    "    da = da / float(n) \n",
    "    da = da - 0.5*lambd*np.square(np.linalg.norm(w_alpha(alpha,X,lambd)))\n",
    "    return da \n",
    "def w_alpha(alpha,X,lambd,verbose=False): # check the equation 3 of (SDCA) paper\n",
    "    n, d = X.shape\n",
    "    w = np.zeros(d)\n",
    "    for i in range(n): \n",
    "        w = w + (alpha[i]*X[i,:]/(lambd*n))\n",
    "    return w\n",
    "\n",
    "def svm_sdca(y, X, lambd, num_steps, primal_func = svm_primal, dual_func = svm_dual, verbose=False):\n",
    "  # y_n \\in {-1,1} is target,\n",
    "  # X_{n \\time d}: is the row-wise arrange of observations , so each observation has dimension d \n",
    "  # Please note that this implementation just includes the output averaging option with paramter T0\n",
    "  if verbose:\n",
    "    print(\"Stochastic coordinate Ascent for SVM\")\n",
    "  inv_sq_row_norms = np.divide(1.0, np.square(np.linalg.norm(X, axis=1)))\n",
    "  n, d = X.shape\n",
    "  # it might be better to change initial value of alpha \n",
    "  alpha = np.zeros(n)\n",
    "  #setting w(alpha_0)\n",
    "  w = w_alpha(alpha,X,lambd)\n",
    "  duals = np.zeros(num_steps)# dual function values per iteration\n",
    "  primals = np.zeros(num_steps) #primal function values per iteration \n",
    "  if verbose:\n",
    "    primal_value = primal_func(w,y,X,lambd)\n",
    "    dual_value = dual_func(alpha,y,X,lambd)\n",
    "    print(\"  Initial primal objective value: {}, Intial dual objective value: {}\".format(primal_value, dual_value))\n",
    "  w_bar = np.zeros(d)\n",
    "  T_T0 = 0\n",
    "  alpha_bar = np.zeros(n)\n",
    "  for cur_step in range(num_steps):\n",
    "    # pick a random dual coordinate\n",
    "    rperm = np.random.permutation(n)\n",
    "    for ii in rperm: \n",
    "        alpha_i_old = alpha[ii]\n",
    "        xi = X[ii,:]\n",
    "        yi = y[ii]\n",
    "        inv_sqi = inv_sq_row_norms[ii]\n",
    "        # coordinate update step \n",
    "        delta_alpha_i = yi*max(0,min(1,(lambd*n*(1-yi*np.dot(xi,w))*inv_sqi)+alpha_i_old*yi)) - alpha_i_old\n",
    "        # update the dual and primal paramters\n",
    "        alpha[ii] = alpha[ii] + delta_alpha_i\n",
    "        w = w + delta_alpha_i*xi/(lambd*n)\n",
    "    \n",
    "    # output averaging \n",
    "#     if cur_step > T0:\n",
    "#        w_bar = w_bar + w\n",
    "#        alpha_bar = alpha_bar + alpha\n",
    "#        T_T0 = T_T0 +1 \n",
    "    \n",
    "    duals[cur_step] = dual_func(alpha,y,X,lambd)\n",
    "    primals[cur_step] = primal_func(w,y,X,lambd)\n",
    "    if verbose: #and cur_step % n == 0 and cur_step > 0\n",
    "      print(\"step:{},primal: {},dual: {}\\n\".format(cur_step,primals[cur_step], duals[cur_step] ))\n",
    "  return (w, alpha ,primals,duals)"
   ]
  },
  {
   "cell_type": "code",
   "execution_count": 5,
   "metadata": {
    "collapsed": false
   },
   "outputs": [
    {
     "name": "stdout",
     "output_type": "stream",
     "text": [
      "Using matplotlib backend: MacOSX\n",
      "Populating the interactive namespace from numpy and matplotlib\n"
     ]
    }
   ],
   "source": [
    "def readfile(filename, n,d):\n",
    "    y = np.zeros(n) # targets\n",
    "    X = np.zeros((n,d)) # input matrix each row is a sample data point\n",
    "    li = 0 \n",
    "    with open(filename, \"rb\") as f:\n",
    "        for line in f:\n",
    "           if li>=n : \n",
    "             break;\n",
    "           parts = line.split()\n",
    "           y[li] = float(parts[0])\n",
    "           for i in range(len(parts)): \n",
    "                if i >0 and parts[i] != '\\n': \n",
    "                    fparts = parts[i].split(\":\")\n",
    "                    X[li,int(fparts[0])-1] = float(fparts[1])\n",
    "           li = li +1\n",
    "    return (y,X)\n",
    "def get_data_plot(stats):\n",
    "    xvals = np.array([x1 for x1, y1 in stats])\n",
    "    yvals = np.array([y1 for x1, y1 in stats])\n",
    "    return (xvals,yvals)\n",
    "\n",
    "%pylab\n",
    "%matplotlib inline\n",
    "\n",
    "from sklearn import svm\n",
    "from sklearn import preprocessing\n",
    "from sklearn.linear_model import Ridge\n",
    "from sklearn.linear_model import LogisticRegression"
   ]
  },
  {
   "cell_type": "code",
   "execution_count": 15,
   "metadata": {
    "collapsed": false
   },
   "outputs": [],
   "source": [
    "n = 32561; \n",
    "d = 123; \n",
    "\n",
    "#filename = \"../datasets/rcv1_train.binary\"\n",
    "filename = \"../datasets/a9a\"\n",
    "y, X = readfile(filename,n,d)\n",
    "# X = preprocessing.normalize(X, norm='l2')\n",
    "lambd = 100.0/float(n)\n",
    "passes = 100"
   ]
  },
  {
   "cell_type": "code",
   "execution_count": 26,
   "metadata": {
    "collapsed": false
   },
   "outputs": [],
   "source": [
    "from sklearn import svm\n",
    "classi = svm.LinearSVC(C = 1.0/(n*lambd), loss = 'hinge', fit_intercept=False,tol = 0.000000001, max_iter = 1000000000)\n",
    "classi = classi.fit(X,y)\n",
    "w = classi.coef_\n",
    "opt_primal = svm_primal(w,y,X,lambd)\n",
    "def primal_sub(w,y,X,lambd):\n",
    "   return svm_primal(w,y,X,lambd) - opt_primal\n",
    "def dual_sub(alpha,y,X,lambd): \n",
    "   return opt_primal - svm_dual(alpha,y,X,lambd) \n",
    "\n"
   ]
  },
  {
   "cell_type": "code",
   "execution_count": 27,
   "metadata": {
    "collapsed": false
   },
   "outputs": [],
   "source": [
    "epochs = 200\n",
    "w, alpha ,primals,duals = svm_sdca(y, X, lambd, epochs, primal_func = primal_sub, dual_func = dual_sub, verbose=False)"
   ]
  },
  {
   "cell_type": "code",
   "execution_count": 28,
   "metadata": {
    "collapsed": false
   },
   "outputs": [
    {
     "data": {
      "text/plain": [
       "[<matplotlib.lines.Line2D at 0x11a3394d0>]"
      ]
     },
     "execution_count": 28,
     "metadata": {},
     "output_type": "execute_result"
    },
    {
     "data": {
      "image/png": "[encoded data removed]",
      "text/plain": [
       "<matplotlib.figure.Figure at 0x11a061950>"
      ]
     },
     "metadata": {},
     "output_type": "display_data"
    }
   ],
   "source": [
    "plt.plot(range(epochs) ,np.log10(duals))"
   ]
  },
  {
   "cell_type": "code",
   "execution_count": 29,
   "metadata": {
    "collapsed": false
   },
   "outputs": [
    {
     "data": {
      "text/plain": [
       "[<matplotlib.lines.Line2D at 0x11a45cf50>]"
      ]
     },
     "execution_count": 29,
     "metadata": {},
     "output_type": "execute_result"
    },
    {
     "data": {
      "image/png": "[encoded data removed]",
      "text/plain": [
       "<matplotlib.figure.Figure at 0x119fd1410>"
      ]
     },
     "metadata": {},
     "output_type": "display_data"
    }
   ],
   "source": [
    "plt.plot(range(epochs) ,np.log10(primals))"
   ]
  },
  {
   "cell_type": "code",
   "execution_count": 35,
   "metadata": {
    "collapsed": false
   },
   "outputs": [
    {
     "data": {
      "text/plain": [
       "array([ 0.35115587])"
      ]
     },
     "execution_count": 35,
     "metadata": {},
     "output_type": "execute_result"
    }
   ],
   "source": [
    "opt_primal"
   ]
  },
  {
   "cell_type": "code",
   "execution_count": null,
   "metadata": {
    "collapsed": true
   },
   "outputs": [],
   "source": []
  }
 ],
 "metadata": {
  "kernelspec": {
   "display_name": "Python 2",
   "language": "python",
   "name": "python2"
  },
  "language_info": {
   "codemirror_mode": {
    "name": "ipython",
    "version": 2
   },
   "file_extension": ".py",
   "mimetype": "text/x-python",
   "name": "python",
   "nbconvert_exporter": "python",
   "pygments_lexer": "ipython2",
   "version": "2.7.11"
  }
 },
 "nbformat": 4,
 "nbformat_minor": 0
}
