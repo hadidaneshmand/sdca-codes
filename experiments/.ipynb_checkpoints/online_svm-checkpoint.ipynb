{
 "cells": [
  {
   "cell_type": "code",
   "execution_count": 3,
   "metadata": {
    "collapsed": false
   },
   "outputs": [
    {
     "name": "stdout",
     "output_type": "stream",
     "text": [
      "Using matplotlib backend: MacOSX\n",
      "Populating the interactive namespace from numpy and matplotlib\n"
     ]
    },
    {
     "name": "stderr",
     "output_type": "stream",
     "text": [
      "WARNING: pylab import has clobbered these variables: ['clf']\n",
      "`%matplotlib` prevents importing * from pylab and numpy\n"
     ]
    }
   ],
   "source": [
    "%pylab\n",
    "%matplotlib inline\n",
    "\n",
    "from sklearn import svm\n",
    "from sklearn import preprocessing\n",
    "def readfile(filename, n,d):\n",
    "    y = np.zeros(n) # targets\n",
    "    X = np.zeros((n,d)) # input matrix each row is a sample data point\n",
    "    li = 0 \n",
    "    with open(filename, \"rb\") as f:\n",
    "        for line in f:\n",
    "           if li>=n : \n",
    "             break;\n",
    "           parts = line.split()\n",
    "           y[li] = float(parts[0])\n",
    "           for i in range(len(parts)): \n",
    "                if i >0 and parts[i] != '\\n': \n",
    "                    fparts = parts[i].split(\":\")\n",
    "                    X[li,int(fparts[0])-1] = float(fparts[1])\n",
    "           li = li +1\n",
    "    return (y,X)\n",
    "def get_data_plot(stats):\n",
    "    xvals = np.array([x1 for x1, y1 in stats])\n",
    "    yvals = np.array([y1 for x1, y1 in stats])\n",
    "    return (xvals,yvals)\n"
   ]
  },
  {
   "cell_type": "code",
   "execution_count": 4,
   "metadata": {
    "collapsed": false
   },
   "outputs": [
    {
     "ename": "SyntaxError",
     "evalue": "invalid syntax (<ipython-input-4-2be4afcb6bb4>, line 21)",
     "output_type": "error",
     "traceback": [
      "\u001b[0;36m  File \u001b[0;32m\"<ipython-input-4-2be4afcb6bb4>\"\u001b[0;36m, line \u001b[0;32m21\u001b[0m\n\u001b[0;31m    pw = pw +\u001b[0m\n\u001b[0m              ^\u001b[0m\n\u001b[0;31mSyntaxError\u001b[0m\u001b[0;31m:\u001b[0m invalid syntax\n"
     ]
    }
   ],
   "source": [
    "def w_alpha(alpha,X): # check the equation 3 of (SDCA) paper\n",
    "    n, d = X.shape\n",
    "    w = np.zeros(d)\n",
    "    for i in range(n): \n",
    "        w = w + alpha[i]*X[i,:]\n",
    "    return w\n",
    "def dual_obj(w, alpha,X,C): # computes the dual function value for a given parameter alpha \n",
    "    da = 0\n",
    "    n, d = X.shape\n",
    "    for i in range(n): \n",
    "        if alpha[i] <= C and alpha[i] >= 0:\n",
    "            da = da + alpha[i]\n",
    "        else:\n",
    "            da = da + float(\"inf\")\n",
    "    da = da - 0.5*np.square(np.linalg.norm(w_alpha(alpha,X)))\n",
    "    return da\n",
    "def primal_func(w,alpha,X,C): # computes the primal value for the given parameter w\n",
    "    n, d = X.shape\n",
    "    pw = 0\n",
    "    for i in range(n): \n",
    "        pw = pw + max(0,1-np.dot(w,X[i,:]))\n",
    "    pw = pw*C\n",
    "    pw = pw + 0.5*np.square(np.linalg.norm(w))\n",
    "    return pw"
   ]
  },
  {
   "cell_type": "code",
   "execution_count": 5,
   "metadata": {
    "collapsed": false
   },
   "outputs": [
    {
     "data": {
      "text/plain": [
       "Ridge(alpha=1.0, copy_X=True, fit_intercept=True, max_iter=None,\n",
       "   normalize=False, random_state=None, solver='auto', tol=0.001)"
      ]
     },
     "execution_count": 5,
     "metadata": {},
     "output_type": "execute_result"
    }
   ],
   "source": [
    "from sklearn.linear_model import Ridge\n",
    "\n",
    "n = 32561; \n",
    "d = 123; \n",
    "import readsvm \n",
    "#filename = \"../datasets/rcv1_train.binary\"\n",
    "filename = \"../datasets/a9a\"\n",
    "y, X = readfile(filename,n,d)\n",
    "clf = Ridge(alpha=1.0)\n",
    "clf.fit(X, y)"
   ]
  },
  {
   "cell_type": "code",
   "execution_count": 6,
   "metadata": {
    "collapsed": false
   },
   "outputs": [
    {
     "data": {
      "text/plain": [
       "array([-0.10867908, -0.12945306,  0.02629357,  0.1197598 ,  0.09207876,\n",
       "        0.06585366, -0.0634794 ,  0.18998216,  0.19872722, -0.00420835,\n",
       "       -0.02607207, -0.27030544,  0.07529419, -0.0359315 ,  0.00759868,\n",
       "        0.00376339,  0.00851887,  0.01605056, -0.15131084, -0.02367359,\n",
       "        0.05180304, -0.06797777,  0.20335344, -0.00589927, -0.00590632,\n",
       "       -0.06101817, -0.1238294 ,  0.09779827,  0.00349539, -0.07916451,\n",
       "        0.02175246,  0.2633781 , -0.06536794, -0.0574329 , -0.21545915,\n",
       "       -0.06797777, -0.02367359, -0.01180559,  0.31891609,  0.12000135,\n",
       "       -0.12072957, -0.09375826, -0.08047217, -0.05331644, -0.04979319,\n",
       "        0.27806828,  0.14926676, -0.02441446, -0.02804767,  0.08006896,\n",
       "        0.24434508,  0.13386585, -0.09262492, -0.09057021,  0.012441  ,\n",
       "       -0.1960744 , -0.07996604,  0.02266473,  0.16803914, -0.20849604,\n",
       "        0.36885461, -0.10052963,  0.14010704, -0.16489979, -0.09879277,\n",
       "       -0.14473946,  0.03002925,  0.03947572, -0.05131313, -0.02305079,\n",
       "        0.00485894, -0.05358953,  0.05358953, -0.25578708,  0.25578708,\n",
       "       -0.1711941 ,  0.1711941 , -0.12630447, -0.04537827, -0.03604957,\n",
       "        0.07897151,  0.12876081,  0.10203828,  0.29327788,  0.15327374,\n",
       "        0.00628297,  0.14838411,  0.14169985, -0.19397912, -0.02898336,\n",
       "        0.16102145, -0.15598327, -0.10496069, -0.11252183,  0.07666916,\n",
       "        0.0794495 ,  0.06146147,  0.13792299,  0.19885723,  0.00193968,\n",
       "        0.08439965, -0.10607015,  0.01664183, -0.00108953,  0.19160638,\n",
       "        0.20256455,  0.00257817, -0.09388095,  0.01973732,  0.00946229,\n",
       "        0.03575116, -0.11392328, -0.06152682,  0.13726577, -0.04443177,\n",
       "        0.02250786, -0.04328014,  0.19042406,  0.06362444, -0.02044917,\n",
       "       -0.04684993,  0.06011125, -0.03425539])"
      ]
     },
     "execution_count": 6,
     "metadata": {},
     "output_type": "execute_result"
    }
   ],
   "source": [
    "primal clf.coef_"
   ]
  },
  {
   "cell_type": "code",
   "execution_count": 11,
   "metadata": {
    "collapsed": false
   },
   "outputs": [],
   "source": [
    "def online_svm(A, C, num_effective_passes,init_sample_size,obj = dual_obj, verbose=False):\n",
    "  #each row contains a data point with dim d\n",
    "  # active_stargey: case -1 (nothing), case 1 (reset the block list in each iteration), case 2 ( holding a queue with a limited size), case 3 (online random permutation replacement) \n",
    "  inv_sq_row_norms = np.divide(1.0, np.square(np.linalg.norm(A, axis=1)))\n",
    "  n, d = A.shape\n",
    "  rperm = np.random.permutation(n);\n",
    "  alpha = np.zeros(n)\n",
    "  w = w_alpha(alpha,A)\n",
    "  obj_value = obj(w,alpha,A,C) \n",
    "  sample_size = init_sample_size\n",
    "  if verbose:\n",
    "    print(\" Initial objective value: {}\".format(obj_value))\n",
    "  past_ef_pass = 0\n",
    " \n",
    "  stats = [(0.0, obj_value)]\n",
    "  completed_effective_passes = 0.0\n",
    "\n",
    "  while completed_effective_passes < num_effective_passes:\n",
    "    coords = rperm[np.random.permutation(sample_size)] \n",
    "    for ii in coords:\n",
    "        alpha_i_old = alpha[ii]\n",
    "        xi = A[ii,:]\n",
    "        inv_sqi = inv_sq_row_norms[ii]\n",
    "       \n",
    "        # coordinate update step \n",
    "        delta_alpha_i = max(0,min(C,((1-np.dot(xi,w))*inv_sqi)+alpha_i_old)) - alpha_i_old\n",
    "        alpha[ii] = alpha[ii] + delta_alpha_i\n",
    "        w = w + delta_alpha_i*xi\n",
    "    \n",
    "    past_ef_pass = completed_effective_passes\n",
    "    completed_effective_passes += len(coords) / float(n)\n",
    "    obj_value = obj(w,alpha,A,C)\n",
    "    stats.append((completed_effective_passes, obj_value))\n",
    "    if verbose:\n",
    "      print(\"Obj[{}]= {}\".format(completed_effective_passes, obj_value))\n",
    "  return (alpha, stats,w)"
   ]
  },
  {
   "cell_type": "code",
   "execution_count": 26,
   "metadata": {
    "collapsed": false
   },
   "outputs": [],
   "source": [
    "def run_small_experiment(X,y,A_in,passes,plotname,primal_accuracy = False):\n",
    "    num = 4\n",
    "    rep = 4\n",
    "    N,d = A_in.shape\n",
    "   \n",
    "    main_opt = 0\n",
    "   \n",
    "    c = 1.00\n",
    "    clf = svm.LinearSVC(loss = 'hinge', C = c, tol = 0.000001, max_iter = 1000000, fit_intercept=False)\n",
    "    clf.fit(X, y)\n",
    "    primal_opt =  primal_func(clf.coef_,0,A_in,c)\n",
    "    print(\"primal obj={}\".format(primal_opt))\n",
    "\n",
    "    def dist_opt(w,alpha,A,C):\n",
    "      if primal_accuracy == True: \n",
    "        return primal_func(w,alpha,A,C) - primal_opt\n",
    "      return primal_opt - dual_obj(w, alpha,A,C)\n",
    "            #da = 0\n",
    "            #for i in range(n): \n",
    "            #    if alpha[i] <= 1 and alpha[i] >= 0:\n",
    "            #        da = da + alpha[i]\n",
    "            #    else:\n",
    "            #        da = da + float(\"inf\")\n",
    "            #da = da / n \n",
    "            #da = da - 0.5*lambd*np.square(((1.0*n)/N)*np.linalg.norm(w_alpha(alpha,A,lambd)))\n",
    "            #return primal_opt - da\n",
    "    (alpha_n,stats_n,w_n) = online_svm( A_in, c, passes, obj = dual_obj,init_sample_size = N, verbose=True)\n",
    "    return alpha_n\n",
    "#     t_randomperm, f_randomperm = get_data_plot(stats_n)  \n",
    "#     converge_rate = f_randomperm\n",
    "#     plabel = \"subsampled\"\n",
    "#     plt.plot(t_randomperm,(f_randomperm),label = plabel, marker='o')\n",
    "#     (alpha_f,stats_f,w_f) =online_svm( A_in, c, passes, obj = dual_obj,init_sample_size = N, verbose=True)\n",
    "#     t_randomperm, f_randomperm = get_data_plot(stats_f)  \n",
    "#     converge_rate = f_randomperm\n",
    "#     plabel = \"all\"\n",
    "#     plt.plot(t_randomperm,(f_randomperm),label = plabel, marker='o')\n",
    "#     lgd = plt.legend(loc='upper center', bbox_to_anchor=(0.5, -0.05), fancybox=True, shadow=True, ncol=5)\n",
    "#     plt.savefig(plotname, facecolor='w', edgecolor='w', orientation='portrait',  format='eps', bbox_extra_artists=(lgd,), bbox_inches='tight')"
   ]
  },
  {
   "cell_type": "code",
   "execution_count": 27,
   "metadata": {
    "collapsed": false
   },
   "outputs": [
    {
     "name": "stdout",
     "output_type": "stream",
     "text": [
      "primal obj=[ 0.66871158]\n",
      " Initial objective value: 0.0\n",
      "Obj[1.0]= 0.177722746585\n",
      "Obj[2.0]= 0.291194981912\n",
      "Obj[3.0]= 0.357857896594\n",
      "Obj[4.0]= 0.408916589404\n",
      "Obj[5.0]= 0.447337763417\n",
      "Obj[6.0]= 0.479741632084\n",
      "Obj[7.0]= 0.506638715073\n",
      "Obj[8.0]= 0.529228913117\n",
      "Obj[9.0]= 0.547870168187\n",
      "Obj[10.0]= 0.563514465112\n",
      "Obj[11.0]= 0.576829948317\n",
      "Obj[12.0]= 0.587765870569\n",
      "Obj[13.0]= 0.59710896824\n",
      "Obj[14.0]= 0.605819413167\n",
      "Obj[15.0]= 0.613304328943\n",
      "Obj[16.0]= 0.61978880076\n",
      "Obj[17.0]= 0.625548922551\n",
      "Obj[18.0]= 0.630154167077\n",
      "Obj[19.0]= 0.634500175107\n",
      "Obj[20.0]= 0.638100688609\n",
      "Obj[21.0]= 0.641361427718\n",
      "Obj[22.0]= 0.644119984803\n",
      "Obj[23.0]= 0.646696309404\n",
      "Obj[24.0]= 0.648951368568\n",
      "Obj[25.0]= 0.65089038827\n",
      "Obj[26.0]= 0.652689992139\n",
      "Obj[27.0]= 0.654328624657\n",
      "Obj[28.0]= 0.655686085612\n",
      "Obj[29.0]= 0.656967829583\n",
      "Obj[30.0]= 0.658103484655\n",
      "Obj[31.0]= 0.659061082967\n",
      "Obj[32.0]= 0.659926430167\n",
      "Obj[33.0]= 0.660732222959\n",
      "Obj[34.0]= 0.661423738994\n",
      "Obj[35.0]= 0.662082128872\n",
      "Obj[36.0]= 0.662647518478\n",
      "Obj[37.0]= 0.663164019242\n",
      "Obj[38.0]= 0.663649779974\n",
      "Obj[39.0]= 0.664063806474\n",
      "Obj[40.0]= 0.664471918394\n",
      "Obj[41.0]= 0.664838025924\n",
      "Obj[42.0]= 0.665142988984\n",
      "Obj[43.0]= 0.665444307097\n",
      "Obj[44.0]= 0.665730285516\n",
      "Obj[45.0]= 0.665970555178\n",
      "Obj[46.0]= 0.666190631889\n",
      "Obj[47.0]= 0.66638821517\n",
      "Obj[48.0]= 0.666565457381\n",
      "Obj[49.0]= 0.666742390188\n",
      "Obj[50.0]= 0.666898525995\n",
      "Obj[51.0]= 0.667046072084\n",
      "Obj[52.0]= 0.667176685229\n",
      "Obj[53.0]= 0.667301031671\n",
      "Obj[54.0]= 0.667406021181\n",
      "Obj[55.0]= 0.667507594634\n",
      "Obj[56.0]= 0.667603214184\n",
      "Obj[57.0]= 0.667687676914\n",
      "Obj[58.0]= 0.667765400833\n",
      "Obj[59.0]= 0.667834703597\n",
      "Obj[60.0]= 0.667900164487\n",
      "Obj[61.0]= 0.667959301435\n",
      "Obj[62.0]= 0.668011386739\n",
      "Obj[63.0]= 0.668059707505\n",
      "Obj[64.0]= 0.668104742017\n",
      "Obj[65.0]= 0.668146339525\n",
      "Obj[66.0]= 0.668183762648\n",
      "Obj[67.0]= 0.668218477429\n",
      "Obj[68.0]= 0.668252083083\n",
      "Obj[69.0]= 0.668282671426\n",
      "Obj[70.0]= 0.668309698006\n",
      "Obj[71.0]= 0.668337024976\n",
      "Obj[72.0]= 0.668360915859\n",
      "Obj[73.0]= 0.668382865141\n",
      "Obj[74.0]= 0.668402183344\n",
      "Obj[75.0]= 0.668421427185\n",
      "Obj[76.0]= 0.668439893366\n",
      "Obj[77.0]= 0.668456321021\n",
      "Obj[78.0]= 0.668471402792\n",
      "Obj[79.0]= 0.668484984616\n",
      "Obj[80.0]= 0.668498306587\n",
      "Obj[81.0]= 0.668510687269\n",
      "Obj[82.0]= 0.66852234782\n",
      "Obj[83.0]= 0.668532965558\n",
      "Obj[84.0]= 0.668542832654\n",
      "Obj[85.0]= 0.668552583231\n",
      "Obj[86.0]= 0.668561211283\n",
      "Obj[87.0]= 0.668568888917\n",
      "Obj[88.0]= 0.668576277082\n",
      "Obj[89.0]= 0.668583322858\n",
      "Obj[90.0]= 0.668589751667\n",
      "Obj[91.0]= 0.668595553728\n",
      "Obj[92.0]= 0.668601303275\n",
      "Obj[93.0]= 0.668606664784\n",
      "Obj[94.0]= 0.66861145618\n",
      "Obj[95.0]= 0.668616231603\n",
      "Obj[96.0]= 0.668620504914\n",
      "Obj[97.0]= 0.66862442604\n",
      "Obj[98.0]= 0.668628115925\n",
      "Obj[99.0]= 0.668631205281\n",
      "Obj[100.0]= 0.668634573282\n",
      "0.0\n",
      "0.0\n",
      "0.000280525506817\n",
      "0.00259885743194\n",
      "0.000241424707911\n",
      "0.00181030277298\n",
      "0.0\n",
      "0.0\n",
      "0.00302892201993\n",
      "0.0\n"
     ]
    }
   ],
   "source": [
    "n = 6000; \n",
    "d = 5000; \n",
    "import readsvm \n",
    "#filename = \"../datasets/rcv1_train.binary\"\n",
    "filename = \"../datasets/gisette_scale\"\n",
    "y, X = readfile(filename,n,d)\n",
    "#X = preprocessing.scale(X)\n",
    "A = np.zeros((n,d))\n",
    "for i in range(n): \n",
    "    if(y[i]==2 or y[i] == 0):\n",
    "        y[i] = -1;\n",
    "    A[i,:] = y[i]*X[i,:]\n",
    "passes = 100\n",
    "alpha = run_small_experiment(X,y, A,passes,\"plot/gisette_scale_primal.eps\",primal_accuracy =False)\n",
    "for i in range(10): \n",
    "    print(alpha[i])"
   ]
  },
  {
   "cell_type": "code",
   "execution_count": 5,
   "metadata": {
    "collapsed": false
   },
   "outputs": [
    {
     "name": "stdout",
     "output_type": "stream",
     "text": [
      "primal obj=[ 11433.8077058]\n",
      " Initial objective value: 0.0\n",
      "Obj[0.499984644206]= 580.932525068\n",
      "Obj[0.999969288413]= 1109.36225934\n",
      "Obj[1.49995393262]= 1628.31385485\n",
      "Obj[1.99993857683]= 2149.12398033\n",
      "Obj[2.49992322103]= 2628.57838193\n",
      "Obj[2.99990786524]= 3096.56792444\n",
      "Obj[3.49989250944]= 3532.05820985\n",
      "Obj[3.99987715365]= 3920.46240756\n",
      "Obj[4.49986179786]= 4258.7174582\n",
      "Obj[4.99984644206]= 4534.1935542\n",
      "Obj[5.49983108627]= 4764.43295429\n",
      "Obj[5.99981573048]= 4944.87205045\n",
      "Obj[6.49980037468]= 5088.0975754\n",
      " Initial objective value: 0.0\n",
      "Obj[1.0]= 1169.63006732\n",
      "Obj[2.0]= 2227.50132145\n",
      "Obj[3.0]= 3258.77514592\n",
      "Obj[4.0]= 4279.19038825\n",
      "Obj[5.0]= 5257.66549275\n",
      "Obj[6.0]= 6192.28699689\n"
     ]
    },
    {
     "data": {
      "image/png": "[encoded data removed]",
      "text/plain": [
       "<matplotlib.figure.Figure at 0x11278fa90>"
      ]
     },
     "metadata": {},
     "output_type": "display_data"
    }
   ],
   "source": [
    "n = 32561; \n",
    "d = 123; \n",
    "import readsvm \n",
    "#filename = \"../datasets/rcv1_train.binary\"\n",
    "filename = \"../datasets/a9a\"\n",
    "y, X = readfile(filename,n,d)\n",
    "#X = preprocessing.scale(X)\n",
    "A = np.zeros((n,d))\n",
    "for i in range(n): \n",
    "    if(y[i]==2 or y[i] == 0):\n",
    "        y[i] = -1;\n",
    "    A[i,:] = y[i]*X[i,:]\n",
    "passes = 6\n",
    "run_small_experiment(X,y, A,passes,\"plot/a9a_primal.eps\",primal_accuracy =False)"
   ]
  },
  {
   "cell_type": "code",
   "execution_count": 16,
   "metadata": {
    "collapsed": true
   },
   "outputs": [],
   "source": [
    "def run_small_experiment2(X,y,A_in,lambd,passes,plotname,primal_opt = -1,primal_accuracy = False):\n",
    "    num = 4\n",
    "    rep = 4\n",
    "    N,d = A_in.shape\n",
    "    #if primal_opt == -1:\n",
    "    #    clf = svm.LinearSVC(loss = 'hinge', C = 1.0/(N*lambd),fit_intercept=False, tol=1e-6, max_iter=N*passes*20)\n",
    "    #    clf.fit(X, y)\n",
    "    #    primal_opt =  primal_func(clf.coef_,A_in,lambd)\n",
    "    \n",
    "    \n",
    "    print(\"primal_obj[opt]={}\".format(primal_opt))\n",
    "    main_opt = 0\n",
    "    for i in range(num):\n",
    "        n = int(1.0*N/(power(2,i)))\n",
    "        print(\"n:{}\".format(n))\n",
    "        inds = np.random.randint(N, size=n);\n",
    "        A = np.zeros((n,d))\n",
    "        A = A_in[inds,:]\n",
    "        X_sub = X[inds,:]\n",
    "        y_sub = y[inds]\n",
    "        lambd = 1.0/n\n",
    "        \n",
    "        clf = svm.LinearSVC(loss = 'hinge', C = 1.0, tol = 0.00001, max_iter = 100000, fit_intercept=False)\n",
    "        clf.fit(X_sub, y_sub)\n",
    "        primal_opt =  primal_func(clf.coef_,0,A,1.0)\n",
    "        print('primal[{}] = {}'.format(n,primal_opt))\n",
    "       # (alpha_s,stats_s,w_s) = svm_randomperm( A, lambd, passes*200, obj = dual_obj)\n",
    "       # primal_opt = primal_func(w_s,A,lambd)\n",
    "        print(\"primal obj={}\".format(primal_opt))\n",
    "        if i == 1: \n",
    "            main_opt = primal_opt\n",
    "        def dist_opt(w,alpha,A,lambd):\n",
    "          if primal_accuracy == True: \n",
    "            return primal_func(w,A,lambd) - primal_opt\n",
    "          return primal_opt - dual_obj(w, alpha,A,lambd)\n",
    "            #da = 0\n",
    "            #for i in range(n): \n",
    "            #    if alpha[i] <= 1 and alpha[i] >= 0:\n",
    "            #        da = da + alpha[i]\n",
    "            #    else:\n",
    "            #        da = da + float(\"inf\")\n",
    "            #da = da / n \n",
    "            #da = da - 0.5*lambd*np.square(((1.0*n)/N)*np.linalg.norm(w_alpha(alpha,A,lambd)))\n",
    "            #return primal_opt - da\n",
    "#         (alpha_n,stats_n,w_n) =svm_randomperm( A, 1.0/n, passes*power(2,i), obj = dist_opt)\n",
    "#         t_randomperm, f_randomperm = get_data_plot(stats_n)  \n",
    "#         converge_rate = f_randomperm\n",
    "#         for cc in range(rep):\n",
    "#           (alpha_n,stats_n,w_n) =svm_randomperm( A, lambd, passes*power(2,i), obj = dist_opt)\n",
    "#           t_randomperm, f_randomperm = get_data_plot(stats_n)\n",
    "#           converge_rate = np.add(converge_rate,f_randomperm)\n",
    "#         converge_rate = np.divide(converge_rate,rep)\n",
    "#         t_randomperm = np.multiply(t_randomperm,n)\n",
    "#         plabel = \"size=%i\" % n\n",
    "#         plt.plot(t_randomperm,np.log(f_randomperm),label = plabel, marker='o')\n",
    "#     lgd = plt.legend(loc='upper center', bbox_to_anchor=(0.5, -0.05),\n",
    "#           fancybox=True, shadow=True, ncol=5)\n",
    "#     plt.savefig(plotname, facecolor='w', edgecolor='w',\n",
    "#         orientation='portrait',  format='eps', bbox_extra_artists=(lgd,), bbox_inches='tight')"
   ]
  },
  {
   "cell_type": "code",
   "execution_count": 17,
   "metadata": {
    "collapsed": false
   },
   "outputs": [
    {
     "name": "stdout",
     "output_type": "stream",
     "text": [
      "primal_obj[opt]=-1\n",
      "n:6000\n",
      "primal[6000] = [ 0.47667857]\n",
      "primal obj=[ 0.47667857]\n",
      "n:3000\n",
      "primal[3000] = [ 0.29890367]\n",
      "primal obj=[ 0.29890367]\n",
      "n:1500\n",
      "primal[1500] = [ 0.17830362]\n",
      "primal obj=[ 0.17830362]\n",
      "n:750\n",
      "primal[750] = [ 0.10398927]\n",
      "primal obj=[ 0.10398927]\n"
     ]
    }
   ],
   "source": [
    "n = 6000; \n",
    "d = 5000; \n",
    "import readsvm \n",
    "#filename = \"../datasets/rcv1_train.binary\"\n",
    "filename = \"../datasets/gisette_scale\"\n",
    "y, X = readfile(filename,n,d)\n",
    "#X = preprocessing.scale(X)\n",
    "A = np.zeros((n,d))\n",
    "for i in range(n): \n",
    "    if(y[i]==2 or y[i] == 0):\n",
    "        y[i] = -1;\n",
    "    A[i,:] = y[i]*X[i,:]\n",
    "lambd = 0.01\n",
    "passes = 6\n",
    "run_small_experiment2(X,y, A,lambd,passes,\"plot/gisette_scale_primal.eps\",primal_accuracy = True)"
   ]
  },
  {
   "cell_type": "code",
   "execution_count": 3,
   "metadata": {
    "collapsed": false
   },
   "outputs": [
    {
     "data": {
      "text/plain": [
       "(array([ 1.,  0.,  0.,  1.,  0.,  0.,  4.,  0.,  0.,  1.]),\n",
       " array([ 1. ,  1.3,  1.6,  1.9,  2.2,  2.5,  2.8,  3.1,  3.4,  3.7,  4. ]),\n",
       " <a list of 10 Patch objects>)"
      ]
     },
     "execution_count": 3,
     "metadata": {},
     "output_type": "execute_result"
    },
    {
     "data": {
      "image/png": "[encoded data removed]",
      "text/plain": [
       "<matplotlib.figure.Figure at 0x109317a50>"
      ]
     },
     "metadata": {},
     "output_type": "display_data"
    }
   ],
   "source": [
    "a = [1,2,3,4,3,3,3]\n",
    "plt.hist(a)"
   ]
  },
  {
   "cell_type": "code",
   "execution_count": 36,
   "metadata": {
    "collapsed": false
   },
   "outputs": [
    {
     "data": {
      "text/plain": [
       "6000"
      ]
     },
     "execution_count": 36,
     "metadata": {},
     "output_type": "execute_result"
    }
   ],
   "source": [
    "sum(alpha>=0)"
   ]
  },
  {
   "cell_type": "code",
   "execution_count": null,
   "metadata": {
    "collapsed": true
   },
   "outputs": [],
   "source": []
  }
 ],
 "metadata": {
  "kernelspec": {
   "display_name": "Python 2",
   "language": "python",
   "name": "python2"
  },
  "language_info": {
   "codemirror_mode": {
    "name": "ipython",
    "version": 2
   },
   "file_extension": ".py",
   "mimetype": "text/x-python",
   "name": "python",
   "nbconvert_exporter": "python",
   "pygments_lexer": "ipython2",
   "version": "2.7.11"
  }
 },
 "nbformat": 4,
 "nbformat_minor": 0
}
