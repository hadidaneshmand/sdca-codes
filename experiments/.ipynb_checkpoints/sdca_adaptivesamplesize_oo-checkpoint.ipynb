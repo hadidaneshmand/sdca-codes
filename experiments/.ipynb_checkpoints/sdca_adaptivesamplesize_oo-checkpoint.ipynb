{
 "cells": [
  {
   "cell_type": "code",
   "execution_count": 21,
   "metadata": {
    "collapsed": false
   },
   "outputs": [
    {
     "name": "stdout",
     "output_type": "stream",
     "text": [
      "Using matplotlib backend: MacOSX\n",
      "Populating the interactive namespace from numpy and matplotlib\n"
     ]
    },
    {
     "name": "stderr",
     "output_type": "stream",
     "text": [
      "WARNING: pylab import has clobbered these variables: ['clf']\n",
      "`%matplotlib` prevents importing * from pylab and numpy\n"
     ]
    }
   ],
   "source": [
    "# @author = Hadi Daneshmand (ETH Zurich)\n",
    "# X is n times d data matrix where n is number of samples and d is the dimension \n",
    "# lambd is the regularizer \n",
    "\n",
    "%pylab\n",
    "%matplotlib inline\n",
    "\n",
    "from sklearn import svm\n",
    "from sklearn import preprocessing\n",
    "from sklearn.linear_model import Ridge\n",
    "from sklearn.linear_model import LogisticRegression\n",
    "import numpy as np\n",
    "def readfile(filename, n,d):\n",
    "    y = np.zeros(n) # targets\n",
    "    X = np.zeros((n,d)) # input matrix each row is a sample data point\n",
    "    li = 0 \n",
    "    with open(filename, \"rb\") as f:\n",
    "        for line in f:\n",
    "           if li>=n : \n",
    "             break;\n",
    "           parts = line.split()\n",
    "           y[li] = float(parts[0])\n",
    "           for i in range(len(parts)): \n",
    "                if i >0 and parts[i] != '\\n': \n",
    "                    fparts = parts[i].split(\":\")\n",
    "                    X[li,int(fparts[0])-1] = float(fparts[1])\n",
    "           li = li +1\n",
    "    return (y,X)\n"
   ]
  },
  {
   "cell_type": "code",
   "execution_count": 32,
   "metadata": {
    "collapsed": false
   },
   "outputs": [],
   "source": [
    "class Ridge_Risk_C: # this class presents the ridge regression objective function without rescaling\n",
    "    def __init__(self, X, y,lambd,optimality_measure = 1):\n",
    "        # optimality_measure [1 : primal, 2: dual, 3: primal and dual, else: nothing]  \n",
    "        self.X = X\n",
    "        self.y = y\n",
    "        self.lambd = lambd\n",
    "        self.optimal = -1 \n",
    "        self.optimality_measure = optimality_measure\n",
    "        self.sq_row_norms = np.square(np.linalg.norm(X, axis=1))\n",
    "    def __str__(self):\n",
    "        return (\"square loss with lambd = %f\" % self.lambd)\n",
    "    def get_w(self,alpha): \n",
    "        n, d = self.X.shape\n",
    "        w = np.zeros(d)\n",
    "        for i in range(n): \n",
    "            w = np.add(w, (alpha[i]*self.X[i,:]/(self.lambd)))\n",
    "        return w\n",
    "    def get_dual(self,alpha): \n",
    "        da = 0\n",
    "        n, d = self.X.shape\n",
    "        for i in range(n):         \n",
    "            da = da + alpha[i]*self.y[i] - 0.5*n*alpha[i]*alpha[i]\n",
    "        da = da\n",
    "        da = da - 0.5*pow(np.linalg.norm(np.dot(alpha,self.X)),2)/self.lambd\n",
    "        return da\n",
    "    def get_primal(self,w): \n",
    "        n, d = self.X.shape\n",
    "        pw = 0\n",
    "        for i in range(n): \n",
    "            dif = np.dot(self.X[i,:],w) - self.y[i]\n",
    "            pw = pw + dif*dif\n",
    "        pw = pw/(2*float(n))\n",
    "        pw = pw + 0.5*self.lambd*pow(np.linalg.norm(w),2)\n",
    "        return pw\n",
    "    def get_sdca_update(self,w,ii,alpha_old): \n",
    "        xi = self.X[ii,:]\n",
    "        yi = self.y[ii]\n",
    "        sample_size = self.X.shape[0]\n",
    "        lambd = self.lambd\n",
    "        sqi = self.sq_row_norms[ii]\n",
    "        return (yi- np.dot(xi,w)-sample_size*alpha_old)/(sample_size+(sqi/lambd))\n",
    "    def get_w_update(self,ii,delta_alpha_i):\n",
    "        xi = self.X[ii,:]\n",
    "        return delta_alpha_i*xi/float(self.lambd)\n",
    "    def get_sub_risk(self,indeces): \n",
    "        return Ridge_Risk_C(self.X[indeces,:],self.y[indeces],self.lambd,self.optimality_measure)\n",
    "    def get_suboptimality(self,w,alpha): \n",
    "        if self.optimal == -1:\n",
    "           n, d = self.X.shape\n",
    "           mu = np.dot(np.transpose(self.X),self.y)/float(n)\n",
    "           cov = np.dot(np.transpose(self.X)/math.sqrt(n),self.X/math.sqrt(n))\n",
    "           self.opt_w = np.dot(np.linalg.inv(np.add(cov,np.multiply(np.eye(d),self.lambd))),mu)\n",
    "           self.optimal = self.get_primal(self.opt_w)\n",
    "        if(self.optimality_measure == 1): \n",
    "            return (-1, self.get_primal(w) - self.optimal)\n",
    "        elif self.optimality_measure == 2: \n",
    "            return (self.optimal - self.get_dual(alpha),-1)\n",
    "        elif self.optimality_measure == 3: \n",
    "            return (self.optimal - self.get_dual(alpha), self.get_primal(w) - self.optimal)\n",
    "def sdca_opt(risk, num_effective_passes, lambd0 = -1, alpha0 = None, verbose = False): \n",
    "  n, d = risk.X.shape\n",
    "  rperm = np.random.permutation(n);\n",
    "  if alpha0 is None: \n",
    "    alpha = np.zeros(n)\n",
    "  else : \n",
    "    alpha = np.copy(alpha0)\n",
    "  w = risk.get_w(alpha)\n",
    "  dual_sub,primal_sub = risk.get_suboptimality(w,alpha) \n",
    "  sample_size = n\n",
    "  if verbose:\n",
    "    print(\" Initial objective value: {}\".format(obj_value))\n",
    "  itrs = [0.0]\n",
    "  optimality_primal = [primal_sub]\n",
    "  optimality_dual = [dual_sub]\n",
    "  completed_effective_passes = 0.0\n",
    "  while completed_effective_passes < num_effective_passes:\n",
    "    coords = rperm[np.random.permutation(sample_size)] \n",
    "    t = 0 \n",
    "    for ii in coords:\n",
    "        t = t + 1\n",
    "        alpha_i_old = alpha[ii]\n",
    "        # coordinate update step \n",
    "        delta_alpha_i = risk.get_sdca_update(w,ii,alpha_i_old)\n",
    "        alpha[ii] = alpha[ii] + delta_alpha_i\n",
    "        w = w + risk.get_w_update(ii,delta_alpha_i)\n",
    "    completed_effective_passes += len(coords) / float(n)\n",
    "    dual_sub,primal_sub = risk.get_suboptimality(w,alpha)\n",
    "    itrs.append(completed_effective_passes)\n",
    "    optimality_primal.append(primal_sub)\n",
    "    optimality_dual.append(dual_sub)\n",
    "    if verbose:\n",
    "      print(\"dual[{}]= {},primal[{}]={}\".format(completed_effective_passes, dual_sub,completed_effective_passes,primal_sub))\n",
    "  return (alpha, w, itrs,optimality_dual,optimality_primal)"
   ]
  },
  {
   "cell_type": "code",
   "execution_count": 33,
   "metadata": {
    "collapsed": false
   },
   "outputs": [
    {
     "data": {
      "text/plain": [
       "<matplotlib.legend.Legend at 0x118964d10>"
      ]
     },
     "execution_count": 33,
     "metadata": {},
     "output_type": "execute_result"
    },
    {
     "data": {
      "image/png": "[encoded data removed]",
      "text/plain": [
       "<matplotlib.figure.Figure at 0x11891f650>"
      ]
     },
     "metadata": {},
     "output_type": "display_data"
    }
   ],
   "source": [
    "n = 32561; \n",
    "d = 123; \n",
    "import math\n",
    "lambd1 = 2.0/float(n)\n",
    "epochs = 60\n",
    "#filename = \"../datasets/rcv1_train.binary\"\n",
    "filename = \"../datasets/a9a\"\n",
    "y, X = readfile(filename,n,d)\n",
    "rperm = np.random.permutation(n)\n",
    "X = X[rperm,:]\n",
    "y = y[rperm]\n",
    "for i in range(n):\n",
    "    if(y[i]==2 or y[i] == 0):\n",
    "        y[i] = -1;\n",
    "risk_ridge = Ridge_Risk_C(X,y,lambd1,optimality_measure=3)\n",
    "#_,steps_sgd_sdca,dual_sgd_sdca,_ = sgd_for_sdca(risk = risk_ridge,num_effective_passes = epochs,obj = objective_dual)\n",
    "(alpha,w, itrs,dual_opt,primal_opt) = sdca_opt(risk = risk_ridge, num_effective_passes = epochs)\n",
    "plt.plot(itrs,np.log10(dual_opt),label = 'dual')\n",
    "plt.plot(itrs,np.log10(primal_opt),label = 'primal')\n",
    "plt.legend()\n",
    "#plt.plot(steps_sgd_sdca,np.log10(dual_sgd_sdca),label = 'sgd for sdca')\n",
    "#plt.savefig('plot/a9a_adaptive_sdca_dual_convergence.eps',format = 'eps')\n",
    "#clustered_distributed_test(X,y,lambd,k)\n",
    "#dual_transfer_test(X,y,lambd,k)\n",
    "#partial_distributed_test(X,y,lambd,k)\n",
    "#alpha = run_small_experiment(X,y, lambd,passes,\"plot/a9a_ridge_dual.eps\",primal_accuracy =False)"
   ]
  },
  {
   "cell_type": "code",
   "execution_count": 37,
   "metadata": {
    "collapsed": true
   },
   "outputs": [],
   "source": [
    "from sklearn.model_selection import KFold\n",
    "def distributed_simulation(risk,k,epochs, measure_step = 1.0):\n",
    "    n, d = risk.X.shape\n",
    "    kf = KFold(n_splits=k)\n",
    "    alpha_agg = np.zeros(n)\n",
    "    duals,primals = risk.get_suboptimality(np.zeros(d), alpha_agg/float(k))\n",
    "    steps = 0 \n",
    "    T  = 0 \n",
    "    while T < epochs:\n",
    "        w = np.zeros(d)\n",
    "        for train, test in kf.split(risk.X):\n",
    "            sub_risk = risk.get_sub_risk(test)\n",
    "            m = len(test)\n",
    "            (sub_alpha,sub_w,_,_,_) = sdca_opt(risk = sub_risk, num_effective_passes = measure_step,alpha0 = alpha_agg[test])\n",
    "            w = np.add(sub_w,w)\n",
    "            alpha_agg[test] = sub_alpha\n",
    "        w = w/float(k)\n",
    "        d_sub,p_sub = risk.get_suboptimality(w,alpha_agg/float(k))\n",
    "        duals = np.append(duals,d_sub)\n",
    "        primals = np.append(primals,p_sub)\n",
    "        T = T + measure_step/float(k)\n",
    "        steps = np.append(steps,T)\n",
    "        print('[{}]: dual ={},primal={}'.format(T,d_sub,p_sub))\n",
    "    alpha_agg = alpha_agg/float(k)\n",
    "#     for i in range(n): \n",
    "#         w = np.add(w,alpha_agg[i]*X[i,:])\n",
    "#     w = w/(lambd*k)\n",
    "#     final_subopt = risk.get_suboptimality(w,alpha_agg)\n",
    "#     print('final dual optimality = {}'.format(final_subopt))\n",
    "    return steps,duals,primals"
   ]
  },
  {
   "cell_type": "code",
   "execution_count": 38,
   "metadata": {
    "collapsed": false,
    "scrolled": false
   },
   "outputs": [
    {
     "name": "stdout",
     "output_type": "stream",
     "text": [
      "[0.5]: dual =0.0166923823702,primal=0.00911721785972\n",
      "[1.0]: dual =0.00147806051124,primal=0.000431719696281\n",
      "[1.5]: dual =0.000316783264123,primal=3.9313929723e-05\n",
      "[2.0]: dual =0.000228503829849,primal=4.55325243409e-06\n",
      "[2.5]: dual =0.00022129562959,primal=9.22979504131e-07\n",
      "[3.0]: dual =0.000220871340323,primal=4.45246595537e-07\n",
      "[3.5]: dual =0.000220796050067,primal=4.54773839087e-07\n",
      "[4.0]: dual =0.00022079423955,primal=4.52532500722e-07\n"
     ]
    }
   ],
   "source": [
    "n = 32561; \n",
    "d = 123; \n",
    "from sklearn.cluster import KMeans\n",
    "import math\n",
    "lambd = 1.0/math.sqrt(n)\n",
    "epochs = 4\n",
    "k = 2\n",
    "#filename = \"../datasets/rcv1_train.binary\"\n",
    "filename = \"../datasets/a9a\"\n",
    "y, X = readfile(filename,n,d)\n",
    "rperm = np.random.permutation(n)\n",
    "X = X[rperm,:]\n",
    "y = y[rperm]\n",
    "for i in range(n):\n",
    "    if(y[i]==2 or y[i] == 0):\n",
    "        y[i] = -1;\n",
    "clf = Ridge(alpha=lambd*n,fit_intercept=False)\n",
    "clf.fit(X, y)\n",
    "risk_ridge = Ridge_Risk_C(X,y,lambd,optimality_measure=3)\n",
    "steps_adap, dual_adapt,primal_adapt = distributed_simulation(risk_ridge,k,epochs)\n",
    "_,_,steps_sdca,dual_sdca,primal_sdca = sdca_opt(risk = risk_ridge, num_effective_passes = epochs)\n",
    "\n",
    "\n",
    "#clustered_distributed_test(X,y,lambd,k)\n",
    "#dual_transfer_test(X,y,lambd,k)\n",
    "#partial_distributed_test(X,y,lambd,k)\n",
    "#alpha = run_small_experiment(X,y, lambd,passes,\"plot/a9a_ridge_dual.eps\",primal_accuracy =False)"
   ]
  },
  {
   "cell_type": "code",
   "execution_count": 39,
   "metadata": {
    "collapsed": false
   },
   "outputs": [
    {
     "data": {
      "image/png": "[encoded data removed]",
      "text/plain": [
       "<matplotlib.figure.Figure at 0x1189c8610>"
      ]
     },
     "metadata": {},
     "output_type": "display_data"
    }
   ],
   "source": [
    "plt.plot(steps_adap,np.log10(dual_adapt),label = 'adaptive sdca')\n",
    "plt.plot(steps_sdca,np.log10(dual_sdca), label = 'sdca')\n",
    "#plt.plot(steps_sgd_sdca,np.log10(dual_sgd_sdca),label = 'sgd for sdca')\n",
    "plt.legend()\n",
    "plt.savefig('plot/a9a_adaptive_sdca_dual_convergence.eps',format = 'eps')"
   ]
  },
  {
   "cell_type": "code",
   "execution_count": 40,
   "metadata": {
    "collapsed": false
   },
   "outputs": [
    {
     "data": {
      "image/png": "[encoded data removed]",
      "text/plain": [
       "<matplotlib.figure.Figure at 0x118ce2f90>"
      ]
     },
     "metadata": {},
     "output_type": "display_data"
    }
   ],
   "source": [
    "plt.plot(steps_adap,np.log10(primal_adapt),label = 'adaptive sdca')\n",
    "plt.plot(steps_sdca,np.log10(primal_sdca), label = 'sdca')\n",
    "#plt.plot(steps_sgd_sdca,np.log10(dual_sgd_sdca),label = 'sgd for sdca')\n",
    "plt.legend()\n",
    "plt.savefig('plot/a9a_adaptive_sdca_primal_convergence.eps',format = 'eps')"
   ]
  },
  {
   "cell_type": "code",
   "execution_count": null,
   "metadata": {
    "collapsed": true
   },
   "outputs": [],
   "source": []
  }
 ],
 "metadata": {
  "kernelspec": {
   "display_name": "Python 2",
   "language": "python",
   "name": "python2"
  },
  "language_info": {
   "codemirror_mode": {
    "name": "ipython",
    "version": 2
   },
   "file_extension": ".py",
   "mimetype": "text/x-python",
   "name": "python",
   "nbconvert_exporter": "python",
   "pygments_lexer": "ipython2",
   "version": "2.7.11"
  }
 },
 "nbformat": 4,
 "nbformat_minor": 0
}
