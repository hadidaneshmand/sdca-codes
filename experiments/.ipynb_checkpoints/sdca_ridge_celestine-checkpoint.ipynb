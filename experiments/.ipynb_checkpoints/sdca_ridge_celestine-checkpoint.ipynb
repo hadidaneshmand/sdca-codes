{
 "cells": [
  {
   "cell_type": "code",
   "execution_count": 3,
   "metadata": {
    "collapsed": false
   },
   "outputs": [
    {
     "name": "stdout",
     "output_type": "stream",
     "text": [
      "Using matplotlib backend: MacOSX\n",
      "Populating the interactive namespace from numpy and matplotlib\n"
     ]
    }
   ],
   "source": [
    "%pylab\n",
    "%matplotlib inline\n",
    "\n",
    "from sklearn import svm\n",
    "from sklearn import preprocessing\n",
    "from sklearn.linear_model import Ridge\n",
    "from sklearn.linear_model import LogisticRegression\n",
    "\n",
    "def readfile(filename, n,d):\n",
    "    y = np.zeros(n) # targets\n",
    "    X = np.zeros((n,d)) # input matrix each row is a sample data point\n",
    "    li = 0 \n",
    "    with open(filename, \"rb\") as f:\n",
    "        for line in f:\n",
    "           if li>=n : \n",
    "             break;\n",
    "           parts = line.split()\n",
    "           y[li] = float(parts[0])\n",
    "           for i in range(len(parts)): \n",
    "                if i >0 and parts[i] != '\\n': \n",
    "                    fparts = parts[i].split(\":\")\n",
    "                    X[li,int(fparts[0])-1] = float(fparts[1])\n",
    "           li = li +1\n",
    "    return (y,X)\n",
    "def get_data_plot(stats):\n",
    "    xvals = np.array([x1 for x1, y1 in stats])\n",
    "    yvals = np.array([y1 for x1, y1 in stats])\n",
    "    return (xvals,yvals)\n"
   ]
  },
  {
   "cell_type": "code",
   "execution_count": 4,
   "metadata": {
    "collapsed": true
   },
   "outputs": [],
   "source": [
    "def w_alpha(alpha,X,lambd): # check the equation 3 of (SDCA) paper\n",
    "    n, d = X.shape\n",
    "    w = np.zeros(d)\n",
    "    for i in range(n): \n",
    "        w = w + alpha[i]*X[i,:]/(lambd)\n",
    "    return w\n",
    "\n",
    "def dual_obj(w, alpha,X,y,lambd): # computes the dual function value for a given parameter alpha \n",
    "    da = 0\n",
    "    n, d = X.shape\n",
    "    for i in range(n):         \n",
    "        da = da + alpha[i]*y[i] - 0.5*n*alpha[i]*alpha[i]\n",
    "    da = da\n",
    "    da = da - 0.5*pow(np.linalg.norm(np.dot(alpha,X)),2)/lambd\n",
    "    return da\n",
    "def dual_printer(w, alpha,X,y,lambd): # computes the dual function value for a given parameter alpha \n",
    "    da = 0\n",
    "    n, d = X.shape\n",
    "    for i in range(n):         \n",
    "        da = da - 0.5*n*alpha[i]*alpha[i]\n",
    "    print('first term = {}'.format(da))\n",
    "    da2 = 0\n",
    "    for i in range(n): \n",
    "        da2 = da2 + alpha[i]*y[i] \n",
    "    print('second term = {}'.format(da2))\n",
    "    da3 = -0.5*pow(np.linalg.norm(np.dot(alpha,X)),2)/lambd\n",
    "    print('third term = {}'.format(da3))\n",
    "    da = da + da2 + da3\n",
    "    return da\n",
    "def primal_func(w,alpha,X,y,lambd): # computes the primal value for the given parameter w\n",
    "    n, d = X.shape\n",
    "    pw = 0\n",
    "    for i in range(n): \n",
    "        dif = np.dot(X[i,:],w) - y[i]\n",
    "        pw = pw + dif*dif\n",
    "    pw = pw/(2*float(n))\n",
    "    pw = pw + 0.5*lambd*pow(np.linalg.norm(w),2)\n",
    "    return pw"
   ]
  },
  {
   "cell_type": "code",
   "execution_count": 5,
   "metadata": {
    "collapsed": false
   },
   "outputs": [],
   "source": [
    "def dual_rigde(X,y, lambd, num_effective_passes,obj = dual_obj, verbose = False):\n",
    "  # each row contains a data point with dim d\n",
    "  # active_stargey: case -1 (nothing), case 1 (reset the block list in each iteration), case 2 ( holding a queue with a limited size), case 3 (online random permutation replacement) \n",
    "  sq_row_norms =  np.square(np.linalg.norm(X, axis=1))\n",
    "  n, d = X.shape\n",
    "  rperm = np.random.permutation(n);\n",
    "  alpha = np.zeros(n)\n",
    "  w = w_alpha(alpha,X,lambd)\n",
    "  obj_value = obj(w,alpha,X,y,lambd) \n",
    "  sample_size = n\n",
    "  if verbose:\n",
    "    print(\" Initial objective value: {}\".format(obj_value))\n",
    "  past_ef_pass = 0\n",
    " \n",
    "  stats = [(0.0, obj_value)]\n",
    "  completed_effective_passes = 0.0\n",
    "  while completed_effective_passes < num_effective_passes:\n",
    "    #if(completed_effective_passes>20.0):\n",
    "    #    sample_size_old = sample_size # Celestine's pointer\n",
    "    #    sample_size = n\n",
    "    #    w = (sample_size_old/sample_size)*w\n",
    "#     if(completed_effective_passes>30.0): \n",
    "#        lambd = 1.0/n     \n",
    "    coords = rperm[np.random.permutation(sample_size)] \n",
    "    for ii in coords:\n",
    "        alpha_i_old = alpha[ii]\n",
    "        xi = X[ii,:]\n",
    "        sqi = sq_row_norms[ii]\n",
    "        yi = y[ii]\n",
    "        # coordinate update step \n",
    "        delta_alpha_i = (yi- np.dot(xi,w)-sample_size*alpha_i_old)/(sample_size+(sqi/lambd)) \n",
    "        alpha[ii] = alpha[ii] + delta_alpha_i\n",
    "        w = w + delta_alpha_i*xi/(lambd)\n",
    "    past_ef_pass = completed_effective_passes\n",
    "    completed_effective_passes += len(coords) / float(n)\n",
    "    obj_value = obj(w,alpha,X,y,lambd)\n",
    "    stats.append((completed_effective_passes, obj_value))\n",
    "    if verbose:\n",
    "      print(\"Obj[{}]= {},delta_alpha = {},sqi={}\".format(completed_effective_passes, obj_value,(np.dot(xi,w)),sqi))\n",
    "  return (alpha, stats,w)"
   ]
  },
  {
   "cell_type": "code",
   "execution_count": 6,
   "metadata": {
    "collapsed": true
   },
   "outputs": [],
   "source": [
    "def partial_dual_rigde(X,y, lambd, num_effective_passes,main_samplesize,obj = dual_obj, verbose = False):\n",
    "  # each row contains a data point with dim d\n",
    "  # active_stargey: case -1 (nothing), case 1 (reset the block list in each iteration), case 2 ( holding a queue with a limited size), case 3 (online random permutation replacement) \n",
    "  sq_row_norms =  np.square(np.linalg.norm(X, axis=1))\n",
    "  n, d = X.shape\n",
    "  rperm = np.random.permutation(n);\n",
    "  alpha = np.zeros(n)\n",
    "  w = w_alpha(alpha,X,lambd)\n",
    "  obj_value = obj(w,alpha,X,y,lambd) \n",
    "  sample_size = n\n",
    "  if verbose:\n",
    "    print(\" Initial objective value: {}\".format(obj_value))\n",
    "  past_ef_pass = 0\n",
    " \n",
    "  stats = [(0.0, obj_value)]\n",
    "  completed_effective_passes = 0.0\n",
    "  while completed_effective_passes < num_effective_passes:\n",
    "    #if(completed_effective_passes>20.0):\n",
    "    #    sample_size_old = sample_size # Celestine's pointer\n",
    "    #    sample_size = n\n",
    "    #    w = (sample_size_old/sample_size)*w\n",
    "#     if(completed_effective_passes>30.0): \n",
    "#        lambd = 1.0/n     \n",
    "    coords = rperm[np.random.permutation(sample_size)] \n",
    "    for ii in coords:\n",
    "        alpha_i_old = alpha[ii]\n",
    "        xi = X[ii,:]\n",
    "        sqi = sq_row_norms[ii]\n",
    "        yi = y[ii]\n",
    "        # coordinate update step \n",
    "        delta_alpha_i = (yi- np.dot(xi,w)-main_samplesize*alpha_i_old)/(main_samplesize+(sqi/lambd)) \n",
    "        alpha[ii] = alpha[ii] + delta_alpha_i\n",
    "        w = w + delta_alpha_i*xi/(lambd)\n",
    "    past_ef_pass = completed_effective_passes\n",
    "    completed_effective_passes += len(coords) / float(n)\n",
    "    obj_value = obj(w,alpha,X,y,lambd)\n",
    "    stats.append((completed_effective_passes, obj_value))\n",
    "    if verbose:\n",
    "      print(\"Obj[{}]= {},delta_alpha = {},sqi={}\".format(completed_effective_passes, obj_value,(np.dot(xi,w)),sqi))\n",
    "  return (alpha, stats,w)"
   ]
  },
  {
   "cell_type": "code",
   "execution_count": 7,
   "metadata": {
    "collapsed": false
   },
   "outputs": [],
   "source": [
    "def dual_adaptreg_rigde(X,y, lambd_main, num_effective_passes,init_lambda,obj = dual_obj, verbose = False):\n",
    "  # each row contains a data point with dim d\n",
    "  # active_stargey: case -1 (nothing), case 1 (reset the block list in each iteration), case 2 ( holding a queue with a limited size), case 3 (online random permutation replacement) \n",
    "  sq_row_norms =  np.square(np.linalg.norm(X, axis=1))\n",
    "  n, d = X.shape\n",
    "  rperm = np.random.permutation(n);\n",
    "  alpha = np.zeros(n)\n",
    "  lambd = init_lambda\n",
    "  w = w_alpha(alpha,X,lambd)\n",
    "  obj_value = obj(w,alpha,X,y,lambd_main) \n",
    "  sample_size = n\n",
    "  if verbose:\n",
    "    print(\" Initial objective value: {}\".format(obj_value))\n",
    "  past_ef_pass = 0\n",
    "  stats = [(0.0, obj_value)]\n",
    "  completed_effective_passes = 0.0\n",
    "  while completed_effective_passes < num_effective_passes:\n",
    "#     if(completed_effective_passes==10.0):\n",
    "#         print('befor={}'.format(obj(w,alpha,X,y,lambd_main)))\n",
    "#         w = w*5.0\n",
    "#         lambd = lambd/5.0\n",
    "#         print('after={}'.format(obj(w,alpha,X,y,lambd_main)))\n",
    "    if(completed_effective_passes==15.0):\n",
    "#         print('befor={}'.format(obj(w,alpha,X,y,lambd_main)))\n",
    "        w = (lambd/lambd_main)*w\n",
    "        lambd = lambd_main\n",
    "#         print('after={}'.format(obj(w,alpha,X,y,lambd_main)))\n",
    "#     if(lambd>lambd_main and (completed_effective_passes % 3 == 0)): \n",
    "#         new_lambd = max(lambd/2.0,lambd_main)\n",
    "#         w = (lambd/new_lambd)*w\n",
    "#         lambd = new_lambd\n",
    "    coords = rperm[np.random.permutation(sample_size)] \n",
    "    for ii in coords:\n",
    "        alpha_i_old = alpha[ii]\n",
    "        xi = X[ii,:]\n",
    "        sqi = sq_row_norms[ii]\n",
    "        yi = y[ii]\n",
    "        # coordinate update step \n",
    "        delta_alpha_i = (yi- np.dot(xi,w)-0.5*alpha_i_old)/(0.5+sqi/(lambd*sample_size)) \n",
    "        alpha[ii] = alpha[ii] + delta_alpha_i\n",
    "        w = w + delta_alpha_i*xi/(lambd*sample_size)\n",
    "    past_ef_pass = completed_effective_passes\n",
    "    completed_effective_passes += len(coords) / float(n)\n",
    "    obj_value = obj(w,alpha,X,y,lambd_main)\n",
    "    stats.append((completed_effective_passes, obj_value))\n",
    "    if verbose:\n",
    "      print(\"Obj[{}]= {},delta_alpha = {},sqi={}\".format(completed_effective_passes, obj_value,(np.dot(xi,w)),sqi))\n",
    "  return (alpha, stats,w)"
   ]
  },
  {
   "cell_type": "code",
   "execution_count": 8,
   "metadata": {
    "collapsed": false
   },
   "outputs": [],
   "source": [
    "def run_small_experiment(X,y,lambd,passes,plotname,primal_accuracy = False):\n",
    "    num = 4\n",
    "    rep = 4\n",
    "    N,d = X.shape\n",
    "    main_opt = 0\n",
    "    clf = Ridge(alpha=lambd*N,fit_intercept=False)\n",
    "    clf.fit(X, y)\n",
    "    primal_opt =  primal_func(clf.coef_,0,X,y,lambd)\n",
    "    print(\"primal obj={}\".format(primal_opt))\n",
    "    def dist_opt(w,alpha,X2,y2,lambd2):\n",
    "      if primal_accuracy == True: \n",
    "        return primal_func(w,alpha,X2,y2,lambd) - primal_opt\n",
    "      return primal_opt - dual_obj(w, alpha,X2,y2,lambd)\n",
    "            #da = 0\n",
    "            #for i in range(n): \n",
    "            #    if alpha[i] <= 1 and alpha[i] >= 0:\n",
    "            #        da = da + alpha[i]\n",
    "            #    else:\n",
    "            #        da = da + float(\"inf\")\n",
    "            #da = da / n \n",
    "            #da = da - 0.5*lambd*np.square(((1.0*n)/N)*np.linalg.norm(w_alpha(alpha,A,lambd)))\n",
    "            #return primal_opt - da\n",
    "    (alpha_n,stats_n,w_n) = dual_rigde( X, y, lambd, passes, obj = dist_opt,verbose=True)\n",
    "    t_randomperm, f_randomperm = get_data_plot(stats_n)  \n",
    "    converge_rate = f_randomperm\n",
    "    plabel = \"lambda = 1/n\"\n",
    "    plt.plot(t_randomperm,np.log10(f_randomperm),label = plabel, marker='o')\n",
    "#     (alpha_f,stats_f,w_f) =dual_adaptreg_rigde( X,y, lambd, passes, obj = dist_opt,init_lambda = 10*lambd)\n",
    "#     t_randomperm, f_randomperm = get_data_plot(stats_f)  \n",
    "#     converge_rate = f_randomperm\n",
    "#     plabel = \"lambda = 10/n\"\n",
    "#     plt.plot(t_randomperm,np.log10(f_randomperm),label = plabel, marker='o')\n",
    "#     lgd = plt.legend(loc='upper center', bbox_to_anchor=(0.5, -0.05), fancybox=True, shadow=True, ncol=5)\n",
    "#     plt.savefig(plotname, facecolor='w', edgecolor='w', orientation='portrait',  format='eps', bbox_extra_artists=(lgd,), bbox_inches='tight')\n",
    "    return alpha_n"
   ]
  },
  {
   "cell_type": "code",
   "execution_count": 9,
   "metadata": {
    "collapsed": false
   },
   "outputs": [],
   "source": [
    "from sklearn.model_selection import KFold\n",
    "def distributed_test(X_in,y_in,lambd,k):\n",
    "    n, d = X_in.shape\n",
    "    rperm = np.random.permutation(n)\n",
    "    X = X_in[rperm,:]\n",
    "    y = y_in[rperm]\n",
    "    clf = Ridge(alpha=lambd*n,fit_intercept=False)\n",
    "    clf.fit(X, y)\n",
    "    primal_opt =  primal_func(clf.coef_,0,X,y,lambd)\n",
    "    kf = KFold(n_splits=k)\n",
    "    alpha_agg = np.zeros(n)\n",
    "    T = 0\n",
    "    w = np.zeros(d)\n",
    "    for train, test in kf.split(X):\n",
    "        T = T + 1\n",
    "        sub_X = X[test,:]\n",
    "        sub_y = y[test] \n",
    "        m = len(test)\n",
    "        sub_lambd = lambd*k\n",
    "        clf = Ridge(alpha=sub_lambd*m,fit_intercept=False)\n",
    "        clf.fit(sub_X, sub_y)\n",
    "        primal_sub_opt =  primal_func(clf.coef_,0,sub_X,sub_y,sub_lambd)\n",
    "        (sub_alpha,_,sub_w) = dual_rigde( sub_X, sub_y, sub_lambd, num_effective_passes = 320, obj = primal_func)\n",
    "#         w = np.add(w,sub_w)\n",
    "        subopt = primal_sub_opt - primal_func(sub_w,0,sub_X,sub_y,sub_lambd)\n",
    "        alpha_agg[test] = sub_alpha/float(k)\n",
    "        print('optimalit[{}] = {}'.format(T,subopt))\n",
    "        print(alpha_agg[test[1:10]])\n",
    "#     w = w/float(k)\n",
    "    for i in range(n): \n",
    "        w = np.add(w,alpha_agg[i]*X[i,:])\n",
    "    w = w/(lambd*k)\n",
    "    final_subopt = primal_opt - dual_obj(0,alpha_agg,X,y,lambd)\n",
    "    primal_subopt = primal_func(w,0,X,y,lambd)-primal_opt \n",
    "    print('final dual optimality = {}, primal = {}'.format(final_subopt,primal_subopt))"
   ]
  },
  {
   "cell_type": "code",
   "execution_count": 10,
   "metadata": {
    "collapsed": true
   },
   "outputs": [],
   "source": [
    "from sklearn.model_selection import KFold\n",
    "def partial_distributed_test(X_in,y_in,lambd,k):\n",
    "    n, d = X_in.shape\n",
    "    rperm = np.random.permutation(n)\n",
    "    X = X_in[rperm,:]\n",
    "    y = y_in[rperm]\n",
    "    clf = Ridge(alpha=lambd*n,fit_intercept=False)\n",
    "    clf.fit(X, y)\n",
    "    primal_opt =  primal_func(clf.coef_,0,X,y,lambd)\n",
    "    kf = KFold(n_splits=k)\n",
    "    alpha_agg = np.zeros(n)\n",
    "    T = 0 \n",
    "    for train, test in kf.split(X):\n",
    "        T = T + 1\n",
    "        sub_X = X[test,:]\n",
    "        sub_y = y[test] \n",
    "        m = len(test)\n",
    "        sub_lambd = lambd\n",
    "        (sub_alpha,_,_) = partial_dual_rigde( sub_X, sub_y, sub_lambd, num_effective_passes = 260, obj = primal_func,main_samplesize = n)\n",
    "        alpha_agg[test] = sub_alpha\n",
    "    w = w_a\n",
    "    final_subopt = primal_opt - dual_obj(0,alpha_agg,X,y,lambd)\n",
    "    \n",
    "    print('final suboptimality = {}'.format(final_subopt))"
   ]
  },
  {
   "cell_type": "code",
   "execution_count": 11,
   "metadata": {
    "collapsed": true
   },
   "outputs": [],
   "source": [
    "from sklearn.model_selection import KFold\n",
    "def clustered_distributed_test(X_in,y_in,lambd,k):\n",
    "    n, d = X_in.shape\n",
    "    classes = KMeans(n_clusters=k).fit_predict(X)\n",
    "    clf = Ridge(alpha=lambd*n,fit_intercept=False)\n",
    "    clf.fit(X, y)\n",
    "    primal_opt =  primal_func(clf.coef_,0,X,y,lambd)\n",
    "    alpha_agg = np.zeros(n)\n",
    "    for i in range(k):\n",
    "        print(i)\n",
    "        inds = classes == i\n",
    "        sub_X = X[inds,:]\n",
    "        sub_y = y[inds] \n",
    "        m = sum(inds)\n",
    "        print(m)\n",
    "        sub_lambd = lambd\n",
    "        (sub_alpha,_,_) = partial_dual_rigde( sub_X, sub_y, sub_lambd, num_effective_passes = 210, obj = primal_func,main_samplesize = n)\n",
    "        alpha_agg[inds] = sub_alpha\n",
    "    final_subopt = primal_opt - dual_obj(0,alpha_agg,X,y,lambd)\n",
    "    print('final suboptimality = {}'.format(final_subopt))"
   ]
  },
  {
   "cell_type": "code",
   "execution_count": 14,
   "metadata": {
    "collapsed": true
   },
   "outputs": [],
   "source": [
    "from sklearn.model_selection import KFold\n",
    "def dual_transfer_test(X,y,lambd,k):\n",
    "    n, d = X.shape\n",
    "    clf = Ridge(alpha=lambd*n,fit_intercept=False)\n",
    "    clf.fit(X, y)\n",
    "    primal_opt =  primal_func(clf.coef_,0,X,y,lambd)\n",
    "    hn = int(n/2.0)\n",
    "    rperm = np.random.permutation(n)\n",
    "    alpha_full = np.zeros(n) \n",
    "    inds = rperm[0:hn]\n",
    "    sub_X = X[inds,:]\n",
    "    sub_y = y[inds] \n",
    "    sub_lambd = lambd\n",
    "    clf = Ridge(alpha=sub_lambd,fit_intercept=False)\n",
    "    clf.fit(sub_X, sub_y)\n",
    "    primal_sub_opt =  primal_func(clf.coef_,0,sub_X,sub_y,sub_lambd)\n",
    "    (sub_alpha,_,sub_w) = dual_rigde( sub_X, sub_y, sub_lambd, num_effective_passes = 280, obj = primal_func)\n",
    "    subopt = primal_sub_opt - primal_func(sub_w,0,sub_X,sub_y,sub_lambd)\n",
    "    alpha_full[inds] = sub_alpha/2.0\n",
    "    for ii in rperm[hn:n]:\n",
    "        best_index = 1 \n",
    "        best_dot = -1000\n",
    "        for jj in rperm[0:hn]: \n",
    "            dot = np.dot(X[jj,:],np.transpose(X[ii,:])) \n",
    "            if dot > best_dot : \n",
    "                best_index = jj\n",
    "                best_dot = dot\n",
    "        alpha_full[ii] = alpha_full[best_index]/2.0\n",
    "    final_subopt = primal_opt - dual_obj(0,alpha_full,X,y,lambd)\n",
    "    print('final dual optimality = {}'.format(final_subopt))"
   ]
  },
  {
   "cell_type": "code",
   "execution_count": 21,
   "metadata": {
    "collapsed": false,
    "scrolled": false
   },
   "outputs": [
    {
     "name": "stdout",
     "output_type": "stream",
     "text": [
      "optimalit[1] = -0.0136435863565\n",
      "[ -9.83061949e-05   3.38671192e-07   3.08201283e-04  -6.86767548e-05\n",
      "  -5.63138785e-05  -1.94882368e-04   1.77522737e-04  -2.23124725e-07\n",
      "   3.02233800e-04]\n",
      "optimalit[2] = -0.00152253811153\n",
      "[  3.88403681e-05  -3.47650938e-05  -9.79323702e-05  -2.54975254e-04\n",
      "   3.73469633e-04  -6.87368369e-05  -2.45124912e-04   2.91494405e-04\n",
      "  -9.47293159e-05]\n",
      "final dual optimality = 0.0114541301166, primal = 0.00568418512442\n"
     ]
    }
   ],
   "source": [
    "n = 3250; \n",
    "d = 123; \n",
    "import readsvm \n",
    "from sklearn.cluster import KMeans\n",
    "\n",
    "#filename = \"../datasets/rcv1_train.binary\"\n",
    "filename = \"../datasets/a9a\"\n",
    "y, X = readfile(filename,n,d)\n",
    "# X = preprocessing.normalize(X, norm='l2')\n",
    "lambd = 0.1/n\n",
    "passes = 160\n",
    "k = 2\n",
    "distributed_test(X,y,lambd,k)\n",
    "#clustered_distributed_test(X,y,lambd,k)\n",
    "#dual_transfer_test(X,y,lambd,k)\n",
    "#partial_distributed_test(X,y,lambd,k)\n",
    "#alpha = run_small_experiment(X,y, lambd,passes,\"plot/a9a_ridge_dual.eps\",primal_accuracy =False)"
   ]
  },
  {
   "cell_type": "code",
   "execution_count": 13,
   "metadata": {
    "collapsed": false
   },
   "outputs": [
    {
     "data": {
      "text/plain": [
       "array([2, 1, 2, 0, 0, 0, 2, 0, 2], dtype=int32)"
      ]
     },
     "execution_count": 13,
     "metadata": {},
     "output_type": "execute_result"
    }
   ],
   "source": [
    "y_pred[1:10]"
   ]
  },
  {
   "cell_type": "code",
   "execution_count": 40,
   "metadata": {
    "collapsed": false
   },
   "outputs": [
    {
     "name": "stdout",
     "output_type": "stream",
     "text": [
      "primal obj=0.224240528007\n",
      " Initial objective value: 0.224240528007\n",
      "Obj[1.0]= 0.196052202605,delta_alpha = -1.03235726574,sqi=14.0\n",
      "Obj[2.0]= 0.17129233873,delta_alpha = 0.952948655693,sqi=14.0\n",
      "Obj[3.0]= 0.149749475479,delta_alpha = -1.01700729517,sqi=14.0\n",
      "Obj[4.0]= 0.130924760908,delta_alpha = -0.957917441586,sqi=14.0\n",
      "Obj[5.0]= 0.11432671938,delta_alpha = 0.801435512708,sqi=14.0\n",
      "Obj[6.0]= 0.0999779834008,delta_alpha = 0.648313852258,sqi=14.0\n",
      "Obj[7.0]= 0.087277428298,delta_alpha = 0.610825293919,sqi=14.0\n",
      "Obj[8.0]= 0.0762273062746,delta_alpha = -0.805655864335,sqi=14.0\n",
      "Obj[9.0]= 0.0665727041678,delta_alpha = -0.991300364663,sqi=14.0\n",
      "Obj[10.0]= 0.0581411229077,delta_alpha = -0.8659987044,sqi=14.0\n",
      "Obj[11.0]= 0.0507915163947,delta_alpha = -0.988311633307,sqi=14.0\n",
      "Obj[12.0]= 0.0444214969007,delta_alpha = 0.374384834147,sqi=14.0\n",
      "Obj[13.0]= 0.0389016186705,delta_alpha = -0.945247489305,sqi=14.0\n",
      "Obj[14.0]= 0.034008814596,delta_alpha = -0.754250163874,sqi=14.0\n",
      "Obj[15.0]= 0.0296995346432,delta_alpha = -1.04460941259,sqi=14.0\n",
      "Obj[16.0]= 0.0259690317124,delta_alpha = -0.94130659403,sqi=14.0\n",
      "Obj[17.0]= 0.0226988928012,delta_alpha = -0.379451584668,sqi=14.0\n",
      "Obj[18.0]= 0.0198516974129,delta_alpha = 0.683638207219,sqi=14.0\n",
      "Obj[19.0]= 0.0173196991829,delta_alpha = -0.96398053206,sqi=12.0\n",
      "Obj[20.0]= 0.0151380508725,delta_alpha = -0.604949688584,sqi=14.0\n",
      "Obj[21.0]= 0.013235029149,delta_alpha = -1.33394177989,sqi=14.0\n",
      "Obj[22.0]= 0.0115742097068,delta_alpha = 1.16520697732,sqi=14.0\n",
      "Obj[23.0]= 0.0101090062727,delta_alpha = -0.134504587132,sqi=14.0\n",
      "Obj[24.0]= 0.008836840426,delta_alpha = -0.358616907925,sqi=14.0\n",
      "Obj[25.0]= 0.00771776859127,delta_alpha = -1.13885577932,sqi=14.0\n",
      "Obj[26.0]= 0.00673958798256,delta_alpha = -0.0774981866407,sqi=14.0\n",
      "Obj[27.0]= 0.00589326009318,delta_alpha = -0.864155274559,sqi=14.0\n",
      "Obj[28.0]= 0.00515428978276,delta_alpha = -1.13133696017,sqi=14.0\n",
      "Obj[29.0]= 0.00450439175127,delta_alpha = -0.0425554307625,sqi=14.0\n",
      "Obj[30.0]= 0.00393519478428,delta_alpha = -0.824572680459,sqi=14.0\n",
      "Obj[31.0]= 0.00344002147617,delta_alpha = -0.805254081869,sqi=14.0\n",
      "Obj[32.0]= 0.00300933145165,delta_alpha = -1.14798082534,sqi=14.0\n",
      "Obj[33.0]= 0.00263253805303,delta_alpha = -1.07894937805,sqi=14.0\n",
      "Obj[34.0]= 0.00230274733205,delta_alpha = -0.292268722313,sqi=14.0\n",
      "Obj[35.0]= 0.00201402167641,delta_alpha = -1.0328871434,sqi=14.0\n",
      "Obj[36.0]= 0.00176059953344,delta_alpha = -0.672040896698,sqi=14.0\n",
      "Obj[37.0]= 0.00153950491005,delta_alpha = -0.966290294788,sqi=14.0\n",
      "Obj[38.0]= 0.00134617194762,delta_alpha = -0.347738183309,sqi=14.0\n",
      "Obj[39.0]= 0.00117682993836,delta_alpha = 0.856660950651,sqi=14.0\n",
      "Obj[40.0]= 0.00102830864842,delta_alpha = -0.901714837163,sqi=14.0\n",
      "Obj[41.0]= 0.000899202618492,delta_alpha = -1.00774317084,sqi=14.0\n",
      "Obj[42.0]= 0.000787040397385,delta_alpha = -0.470332398521,sqi=14.0\n",
      "Obj[43.0]= 0.00068852482644,delta_alpha = -0.373783185723,sqi=14.0\n",
      "Obj[44.0]= 0.000601723828649,delta_alpha = -1.09624589127,sqi=14.0\n",
      "Obj[45.0]= 0.000526146136411,delta_alpha = -0.505381735575,sqi=14.0\n",
      "Obj[46.0]= 0.000460057175912,delta_alpha = -0.340919020931,sqi=14.0\n",
      "Obj[47.0]= 0.000402384133787,delta_alpha = -0.617892961068,sqi=14.0\n",
      "Obj[48.0]= 0.000352033615282,delta_alpha = -0.461248156383,sqi=14.0\n",
      "Obj[49.0]= 0.000307647296428,delta_alpha = -0.29367797014,sqi=14.0\n",
      "Obj[50.0]= 0.000268968605063,delta_alpha = -1.0648770338,sqi=14.0\n"
     ]
    },
    {
     "data": {
      "image/png": "[encoded data removed]",
      "text/plain": [
       "<matplotlib.figure.Figure at 0x111e87450>"
      ]
     },
     "metadata": {},
     "output_type": "display_data"
    }
   ],
   "source": [
    "n = 32561; \n",
    "d = 123; \n",
    "import readsvm \n",
    "\n",
    "filename = \"../datasets/a9a\"\n",
    "y, X = readfile(filename,n,d)\n",
    "# X = preprocessing.normalize(X, norm='l2')\n",
    "lambd = 1.0/float(n)\n",
    "passes = 50\n",
    "alpha = run_small_experiment(X,y, lambd,passes,\"plot/a9a_dual_sdca.eps\",primal_accuracy =False)"
   ]
  },
  {
   "cell_type": "code",
   "execution_count": null,
   "metadata": {
    "collapsed": true
   },
   "outputs": [],
   "source": []
  },
  {
   "cell_type": "code",
   "execution_count": null,
   "metadata": {
    "collapsed": false
   },
   "outputs": [],
   "source": [
    "n = 32561; \n",
    "d = 123; \n",
    "primal_accuracy = False\n",
    "epochs = int(20)\n",
    "import readsvm \n",
    "\n",
    "filename = \"../datasets/a9a\"\n",
    "y, X = readfile(filename,n,d)\n",
    "for i in range(n):\n",
    "    if(y[i]==2 or y[i] == 0):\n",
    "        y[i] = -1;\n",
    "lambd = 1.0/float(n)\n",
    "clf = Ridge(alpha=lambd*n,fit_intercept=False)\n",
    "clf.fit(X, y)\n",
    "primal_opt =  primal_func(clf.coef_,0,X,y,lambd)\n",
    "print(\"primal obj={}\".format(primal_opt))\n",
    "def dist_opt(w,alpha,X2,y2,lambd2):\n",
    "  if primal_accuracy == True: \n",
    "    return primal_func(w,alpha,X2,y2,lambd) - primal_opt\n",
    "  return primal_opt - dual_obj(w, alpha,X2,y2,lambd)\n",
    "alpha,stat_sgd,w = sgd_for_sdca_rigde(X,y,lambd,epochs,obj = dist_opt, verbose = True)\n",
    "alpha,stat_sdca,w = dual_rigde(X,y, lambd, epochs,n,obj = dist_opt, verbose = False)\n",
    "t_sgd,err_sgd = get_data_plot(stat_sgd)\n",
    "t_sdca,err_sdca = get_data_plot(stat_sdca)\n",
    "plt.plot(t_sgd,np.log10(err_sgd),label='sgd')\n",
    "plt.plot(t_sdca,np.log10(err_sdca),label='sdca')\n",
    "plt.legend()"
   ]
  },
  {
   "cell_type": "code",
   "execution_count": 38,
   "metadata": {
    "collapsed": false
   },
   "outputs": [
    {
     "name": "stdout",
     "output_type": "stream",
     "text": [
      "primal obj=0.177731070802\n"
     ]
    },
    {
     "data": {
      "text/plain": [
       "array([ -1.01014633e-05,  -1.86567276e-05,  -2.01009066e-05, ...,\n",
       "        -1.20243525e-05,   5.60481238e-06,  -2.18455798e-06])"
      ]
     },
     "execution_count": 38,
     "metadata": {},
     "output_type": "execute_result"
    },
    {
     "data": {
      "image/png": "[encoded data removed]",
      "text/plain": [
       "<matplotlib.figure.Figure at 0x109b3fc90>"
      ]
     },
     "metadata": {},
     "output_type": "display_data"
    }
   ],
   "source": [
    "n = 49749; \n",
    "d = 300; \n",
    "filename = \"../datasets/w8a\"\n",
    "y, X = readfile(filename,n,d)\n",
    "A = np.zeros((n,d))\n",
    "for i in range(n):\n",
    "    if(y[i]==2 or y[i] == 0):\n",
    "        y[i] = -1;\n",
    "    A[i,:] = y[i]*X[i,:]\n",
    "lambd = 1.0/n\n",
    "passes = 40\n",
    "run_small_experiment(X,y,lambd,passes,\"plot/w8a_ridge_primal.eps\",primal_accuracy = True)"
   ]
  },
  {
   "cell_type": "code",
   "execution_count": null,
   "metadata": {
    "collapsed": false
   },
   "outputs": [],
   "source": [
    "n = 49749; \n",
    "d = 300; \n",
    "filename = \"../datasets/w8a\"\n",
    "y, X = readfile(filename,n,d)\n",
    "# X = preprocessing.normalize(X, norm='l2')\n",
    "for i in range(n):\n",
    "    if(y[i]==2 or y[i] == 0):\n",
    "        y[i] = -1;\n",
    "lambd = 1.0/n\n",
    "passes = 40\n",
    "run_small_experiment(X,y,lambd,passes,\"plot/w8a_dual_sdca.eps\",primal_accuracy = False)"
   ]
  },
  {
   "cell_type": "code",
   "execution_count": null,
   "metadata": {
    "collapsed": false
   },
   "outputs": [],
   "source": [
    "n = 50100; \n",
    "d = 54; \n",
    "filename = \"../datasets/covtype.libsvm.binary.scale\"\n",
    "y, X = readfile(filename,n,d)\n",
    "for i in range(n):\n",
    "    if(y[i]==2 or y[i] == 0):\n",
    "        y[i] = -1;\n",
    "lambd = 1.0/n\n",
    "passes = 40\n",
    "run_small_experiment(X,y,lambd,passes,\"plot/covtype_dual_sdca.eps\",primal_accuracy = False)"
   ]
  },
  {
   "cell_type": "code",
   "execution_count": null,
   "metadata": {
    "collapsed": false
   },
   "outputs": [],
   "source": [
    "def distance_plot(X,y,n,d,lambd,nr,pivotsi,verbose = True):\n",
    "    print(max(np.linalg.norm(X,axis =1 )))\n",
    "    if(verbose):\n",
    "        print(\"Loading Data Accomblished\")\n",
    "    indices = np.random.choice(n, pivotsi, replace=False)\n",
    "    X = X[indices,:]\n",
    "    y = y[indices]\n",
    "    t1,t2 = X.shape\n",
    "    print('t1:{},t2:{}'.format(t1,t2))\n",
    "    for i in range(len(y)): \n",
    "        if y[i] == 2 :\n",
    "            y[i] = -1\n",
    "    n = pivotsi\n",
    "    x0 = np.zeros(d)\n",
    "    csize = 256\n",
    "    sizes = [csize]\n",
    "    while csize < (n/4.0):\n",
    "        csize = 2* csize\n",
    "        sizes.append(csize)\n",
    " \n",
    "    clf = Ridge(alpha=lambd*n,fit_intercept=False) \n",
    "    pivot = clf.fit(X, y).coef_\n",
    "    pivot_primal = primal_func(pivot,0,X,y,lambd)\n",
    "    print(\"precision:{},pivot_norm:{}\".format(primal_func(pivot,0,X,y,lambd),(np.linalg.norm(pivot))))\n",
    "    spivot = str(pivot)[2:-2]\n",
    "    \n",
    "    dists= np.zeros((len(sizes),nr))\n",
    "    angles = np.zeros((len(sizes),nr))\n",
    "    for i in range(len(sizes)):\n",
    "        subsamplsi = sizes[i]\n",
    "        for j in range(nr):\n",
    "#             print('subsample size:{}'.format(subsamplsi))\n",
    "            subindices = np.random.choice(n, subsamplsi, replace=False)\n",
    "            lambd_s = 1.0/subsamplsi\n",
    "            clf2 = Ridge(alpha=lambd_s*n,fit_intercept=False)\n",
    "            clf2.fit(X, y)\n",
    "            ws = clf2.coef_\n",
    "            dist = primal_func(ws,0,X,y,lambd_s) - pivot_primal\n",
    "            print(\"======================\")\n",
    "            print('mu={},nu={}'.format(lambd_s,lambd))\n",
    "            print('norm(wmu-wv) = {}'.format(np.linalg.norm(pivot-ws)))\n",
    "            print('norm(wmu)={},norm(wv)={}'.format(np.linalg.norm(ws),np.linalg.norm(pivot)))\n",
    "            dists[i,j] = abs(dist)\n",
    "            print(\"f_mu - fv= {}\".format(dists[i,j]))\n",
    "        if(verbose):\n",
    "          print(\"step: {}\".format(i))   \n",
    "    mdist = np.mean(dists,axis=1)\n",
    "    vdist = np.var(np.log(dists),axis =1)\n",
    "    print(vdist)\n",
    "    sizes = np.divide(1.0,sizes)\n",
    "    xd = np.log(sizes)\n",
    "    yd = np.log(mdist)\n",
    "    par = np.polyfit(xd, yd, 1, full=True)\n",
    "    slope=par[0][0]\n",
    "    intercept=par[0][1]\n",
    "    xl = [min(xd), max(xd)]\n",
    "    yl = [slope*xx + intercept  for xx in xl]\n",
    "    mang = np.mean(angles,axis = 1)\n",
    "    vang = np.var(angles,axis= 1)\n",
    "    plt.errorbar(np.log(sizes),np.log(mdist),yerr=vdist)\n",
    "    #plt.plot(np.log(sizes),np.log(mdist),marker='o')\n",
    "    label_l = \"y =%.2f x + %.2f\" % (slope,intercept)\n",
    "    print(label_l)\n",
    "    plt.plot(xl,yl,label = label_l)\n",
    "    plt.xlabel(\"Log(m)\")\n",
    "    plt.ylabel(\"Log(|P_m^* - P_n^*|)\")\n",
    "   # plt.title(\"Distance Plot For %s\" % dataname)\n",
    "    plt.legend()"
   ]
  },
  {
   "cell_type": "code",
   "execution_count": null,
   "metadata": {
    "collapsed": false
   },
   "outputs": [],
   "source": [
    "n = 49749; \n",
    "d = 300; \n",
    "filename = \"../datasets/w8a\"\n",
    "y, X = readfile(filename,n,d)\n",
    "#X = preprocessing.normalize(X, norm='l2')\n",
    "lambd = 1.0/n\n",
    "distance_plot(X,y,n,d,lambd,1,n)"
   ]
  },
  {
   "cell_type": "code",
   "execution_count": null,
   "metadata": {
    "collapsed": false
   },
   "outputs": [],
   "source": [
    "n = 32561; \n",
    "d = 123;\n",
    "filename = \"../datasets/a9a\"\n",
    "y, X = readfile(filename,n,d)\n",
    "#X = preprocessing.normalize(X, norm='l2')\n",
    "lambd = 1.0/n\n",
    "distance_plot(X,y,n,d,lambd,1,n)"
   ]
  },
  {
   "cell_type": "code",
   "execution_count": null,
   "metadata": {
    "collapsed": false
   },
   "outputs": [],
   "source": [
    "n = 50100; \n",
    "d = 54; \n",
    "filename = \"../datasets/covtype.libsvm.binary.scale\"\n",
    "y, X = readfile(filename,n,d)\n",
    "lambd = 1.0/n\n",
    "distance_plot(X,y,n,d,lambd,1,n)"
   ]
  },
  {
   "cell_type": "code",
   "execution_count": null,
   "metadata": {
    "collapsed": false
   },
   "outputs": [],
   "source": [
    "n = 32561; \n",
    "d = 123;\n",
    "filename = \"../datasets/a9a\"\n",
    "y, X = readfile(filename,n,d)\n",
    "#X = preprocessing.normalize(X, norm='l2')\n",
    "lambd = 1.0/n\n",
    "U, s, V = np.linalg.svd(X, full_matrices=False)\n",
    "s2 = np.power(s,2)\n",
    "s = s/float(n)\n",
    "s2 = s2/float(n)\n",
    "s2l = s2 + lambd\n",
    "d = np.divide(s,s2l)\n",
    "w = np.dot(np.transpose(V),np.dot(np.diag(d),np.dot(np.transpose(U),y)))"
   ]
  },
  {
   "cell_type": "code",
   "execution_count": null,
   "metadata": {
    "collapsed": false
   },
   "outputs": [],
   "source": [
    "d"
   ]
  },
  {
   "cell_type": "code",
   "execution_count": null,
   "metadata": {
    "collapsed": false
   },
   "outputs": [],
   "source": [
    "d = np.divide(s,s2l)\n",
    "p = np.dot(np.diag(d),np.dot(np.transpose(U),y))\n",
    "plt.hist(p)\n",
    "plt.savefig('histogram3.eps', facecolor='w', edgecolor='w', orientation='portrait',  format='eps')"
   ]
  },
  {
   "cell_type": "code",
   "execution_count": null,
   "metadata": {
    "collapsed": false
   },
   "outputs": [],
   "source": [
    "plt.hist(d)\n",
    "plt.savefig('histogram2.eps', facecolor='w', edgecolor='w', orientation='portrait',  format='eps')"
   ]
  },
  {
   "cell_type": "code",
   "execution_count": null,
   "metadata": {
    "collapsed": false
   },
   "outputs": [],
   "source": [
    "d"
   ]
  },
  {
   "cell_type": "code",
   "execution_count": null,
   "metadata": {
    "collapsed": false
   },
   "outputs": [],
   "source": [
    "plt.hist(d)"
   ]
  },
  {
   "cell_type": "code",
   "execution_count": null,
   "metadata": {
    "collapsed": false
   },
   "outputs": [],
   "source": [
    "np.linalg.norm(w)"
   ]
  },
  {
   "cell_type": "code",
   "execution_count": null,
   "metadata": {
    "collapsed": false
   },
   "outputs": [],
   "source": [
    "w.shape"
   ]
  },
  {
   "cell_type": "code",
   "execution_count": null,
   "metadata": {
    "collapsed": false
   },
   "outputs": [],
   "source": [
    "U.shape"
   ]
  },
  {
   "cell_type": "code",
   "execution_count": null,
   "metadata": {
    "collapsed": false
   },
   "outputs": [],
   "source": [
    "a = np.zeros(123)\n",
    "for i in range(123): \n",
    "    a[i] = np.linalg.norm(np.multiply(V[:,i],np.dot(U[:,i],y)))\n",
    "plt.hist(a)\n",
    "plt.savefig('histogram2.eps', facecolor='w', edgecolor='w', orientation='portrait',  format='eps')"
   ]
  },
  {
   "cell_type": "code",
   "execution_count": null,
   "metadata": {
    "collapsed": false
   },
   "outputs": [],
   "source": [
    "U[:,i]"
   ]
  },
  {
   "cell_type": "code",
   "execution_count": null,
   "metadata": {
    "collapsed": false
   },
   "outputs": [],
   "source": [
    "y"
   ]
  },
  {
   "cell_type": "code",
   "execution_count": null,
   "metadata": {
    "collapsed": false
   },
   "outputs": [],
   "source": [
    "V.shape"
   ]
  },
  {
   "cell_type": "code",
   "execution_count": null,
   "metadata": {
    "collapsed": false
   },
   "outputs": [],
   "source": [
    "tem = np.dot(np.transpose(U),y)\n",
    "plt.scatter(d,tem)\n",
    "plt.savefig('dot_vs_eign.eps', facecolor='w', edgecolor='w', orientation='portrait',  format='eps')"
   ]
  },
  {
   "cell_type": "code",
   "execution_count": null,
   "metadata": {
    "collapsed": false
   },
   "outputs": [],
   "source": [
    "d\n",
    "plt.hist(d)\n",
    "plt.savefig('histogram4.eps', facecolor='w', edgecolor='w', orientation='portrait',  format='eps')"
   ]
  },
  {
   "cell_type": "code",
   "execution_count": null,
   "metadata": {
    "collapsed": false
   },
   "outputs": [],
   "source": [
    "plt.hist(s*n)\n",
    "plt.savefig('histogram5.eps', facecolor='w', edgecolor='w', orientation='portrait',  format='eps')"
   ]
  },
  {
   "cell_type": "code",
   "execution_count": null,
   "metadata": {
    "collapsed": false
   },
   "outputs": [],
   "source": [
    "inds = s*n < 10 \n",
    "t = np.dot(np.transpose(U[:,inds]),y)\n",
    "plt.hist(t)\n",
    "plt.savefig('histogram_dots_for_small_lambad.eps', facecolor='w', edgecolor='w', orientation='portrait',  format='eps')"
   ]
  },
  {
   "cell_type": "code",
   "execution_count": null,
   "metadata": {
    "collapsed": false
   },
   "outputs": [],
   "source": [
    "sum(inds)"
   ]
  },
  {
   "cell_type": "code",
   "execution_count": null,
   "metadata": {
    "collapsed": false
   },
   "outputs": [],
   "source": []
  },
  {
   "cell_type": "code",
   "execution_count": null,
   "metadata": {
    "collapsed": true
   },
   "outputs": [],
   "source": [
    "np.transpose(U)"
   ]
  }
 ],
 "metadata": {
  "kernelspec": {
   "display_name": "Python 2",
   "language": "python",
   "name": "python2"
  },
  "language_info": {
   "codemirror_mode": {
    "name": "ipython",
    "version": 2
   },
   "file_extension": ".py",
   "mimetype": "text/x-python",
   "name": "python",
   "nbconvert_exporter": "python",
   "pygments_lexer": "ipython2",
   "version": "2.7.11"
  }
 },
 "nbformat": 4,
 "nbformat_minor": 0
}
