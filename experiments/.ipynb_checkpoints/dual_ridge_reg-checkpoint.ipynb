{
 "cells": [
  {
   "cell_type": "code",
   "execution_count": 8,
   "metadata": {
    "collapsed": false
   },
   "outputs": [
    {
     "name": "stdout",
     "output_type": "stream",
     "text": [
      "Using matplotlib backend: MacOSX\n",
      "Populating the interactive namespace from numpy and matplotlib\n"
     ]
    },
    {
     "name": "stderr",
     "output_type": "stream",
     "text": [
      "WARNING: pylab import has clobbered these variables: ['clf']\n",
      "`%matplotlib` prevents importing * from pylab and numpy\n"
     ]
    }
   ],
   "source": [
    "%pylab\n",
    "%matplotlib inline\n",
    "\n",
    "from sklearn import svm\n",
    "from sklearn import preprocessing\n",
    "from sklearn.linear_model import Ridge\n",
    "from sklearn.linear_model import LogisticRegression\n",
    "\n",
    "def readfile(filename, n,d):\n",
    "    y = np.zeros(n) # targets\n",
    "    X = np.zeros((n,d)) # input matrix each row is a sample data point\n",
    "    li = 0 \n",
    "    with open(filename, \"rb\") as f:\n",
    "        for line in f:\n",
    "           if li>=n : \n",
    "             break;\n",
    "           parts = line.split()\n",
    "           y[li] = float(parts[0])\n",
    "           for i in range(len(parts)): \n",
    "                if i >0 and parts[i] != '\\n': \n",
    "                    fparts = parts[i].split(\":\")\n",
    "                    X[li,int(fparts[0])-1] = float(fparts[1])\n",
    "           li = li +1\n",
    "    return (y,X)\n",
    "def get_data_plot(stats):\n",
    "    xvals = np.array([x1 for x1, y1 in stats])\n",
    "    yvals = np.array([y1 for x1, y1 in stats])\n",
    "    return (xvals,yvals)\n"
   ]
  },
  {
   "cell_type": "code",
   "execution_count": 9,
   "metadata": {
    "collapsed": true
   },
   "outputs": [],
   "source": [
    "def w_alpha(alpha,X,lambd): # check the equation 3 of (SDCA) paper\n",
    "    n, d = X.shape\n",
    "    w = np.zeros(d)\n",
    "    for i in range(n): \n",
    "        w = w + alpha[i]*X[i,:]/(lambd*n)\n",
    "    return w\n",
    "\n",
    "def dual_obj(w, alpha,X,y,lambd): # computes the dual function value for a given parameter alpha \n",
    "    da = 0\n",
    "    n, d = X.shape\n",
    "    for i in range(n):         \n",
    "        da = da + alpha[i]*y[i] - 0.25*alpha[i]*alpha[i]\n",
    "    da = da/float(n)\n",
    "    da = da - 0.5*lambd*np.square(np.linalg.norm(w_alpha(alpha,X,lambd)))\n",
    "    return da\n",
    "\n",
    "def primal_func(w,alpha,X,y,lambd): # computes the primal value for the given parameter w\n",
    "    n, d = X.shape\n",
    "    pw = 0\n",
    "    for i in range(n): \n",
    "        dif = np.dot(X[i,:],w) - y[i]\n",
    "        pw = pw + dif*dif\n",
    "    pw = pw/float(n)\n",
    "    pw = pw + 0.5*lambd*np.square(np.linalg.norm(w))\n",
    "    return pw"
   ]
  },
  {
   "cell_type": "code",
   "execution_count": 10,
   "metadata": {
    "collapsed": false
   },
   "outputs": [],
   "source": [
    "def dual_rigde(X,y, lambd, num_effective_passes,init_sample_size,obj = dual_obj, verbose = False):\n",
    "  # each row contains a data point with dim d\n",
    "  # active_stargey: case -1 (nothing), case 1 (reset the block list in each iteration), case 2 ( holding a queue with a limited size), case 3 (online random permutation replacement) \n",
    "  sq_row_norms =  np.square(np.linalg.norm(X, axis=1))\n",
    "  n, d = X.shape\n",
    "  rperm = np.random.permutation(n);\n",
    "  alpha = np.zeros(n)\n",
    "  w = w_alpha(alpha,X,lambd)\n",
    "  obj_value = obj(w,alpha,X,y,lambd) \n",
    "  sample_size = init_sample_size\n",
    "  if verbose:\n",
    "    print(\" Initial objective value: {}\".format(obj_value))\n",
    "  past_ef_pass = 0\n",
    " \n",
    "  stats = [(0.0, obj_value)]\n",
    "  completed_effective_passes = 0.0\n",
    "  while completed_effective_passes < num_effective_passes:\n",
    "    #if(completed_effective_passes>20.0):\n",
    "    #    sample_size_old = sample_size # Celestine's pointer\n",
    "    #    sample_size = n\n",
    "    #    w = (sample_size_old/sample_size)*w\n",
    "#     if(completed_effective_passes>30.0): \n",
    "#        lambd = 1.0/n     \n",
    "    coords = rperm[np.random.permutation(sample_size)] \n",
    "    for ii in coords:\n",
    "        alpha_i_old = alpha[ii]\n",
    "        xi = X[ii,:]\n",
    "        sqi = sq_row_norms[ii]\n",
    "        yi = y[ii]\n",
    "        # coordinate update step \n",
    "        delta_alpha_i = (yi- np.dot(xi,w)-0.5*alpha_i_old)/(0.5+sqi/(lambd*sample_size)) \n",
    "        alpha[ii] = alpha[ii] + delta_alpha_i\n",
    "        w = w + delta_alpha_i*xi/(lambd*sample_size)\n",
    "    past_ef_pass = completed_effective_passes\n",
    "    completed_effective_passes += len(coords) / float(n)\n",
    "    obj_value = obj(w,alpha,X,y,lambd)\n",
    "    stats.append((completed_effective_passes, obj_value))\n",
    "    if verbose:\n",
    "      print(\"Obj[{}]= {},delta_alpha = {},sqi={}\".format(completed_effective_passes, obj_value,(np.dot(xi,w)),sqi))\n",
    "  return (alpha, stats,w)"
   ]
  },
  {
   "cell_type": "code",
   "execution_count": 14,
   "metadata": {
    "collapsed": true
   },
   "outputs": [],
   "source": [
    "def sgd_for_sdca_rigde(X,y, lambd,epochs, obj = dual_obj, verbose = False):\n",
    "  # each row contains a data point with dim d\n",
    "  # active_stargey: case -1 (nothing), case 1 (reset the block list in each iteration), case 2 ( holding a queue with a limited size), case 3 (online random permutation replacement) \n",
    "  sq_row_norms =  np.square(np.linalg.norm(X, axis=1))\n",
    "  n, d = X.shape\n",
    "  rperm = np.random.permutation(n);\n",
    "  alpha = np.zeros(n)\n",
    "  w = w_alpha(alpha,X,lambd)\n",
    "  obj_value = obj(w,alpha,X,y,lambd) \n",
    "  if verbose:\n",
    "    print(\" Initial objective value: {}\".format(obj_value))\n",
    "  past_ef_pass = 0\n",
    " \n",
    "  stats = [(0.0, obj_value)]\n",
    "  T = 1\n",
    "    #if(completed_effective_passes>20.0):\n",
    "    #    sample_size_old = sample_size # Celestine's pointer\n",
    "    #    sample_size = n\n",
    "    #    w = (sample_size_old/sample_size)*w\n",
    "#     if(completed_effective_passes>30.0): \n",
    "#        lambd = 1.0/n     \n",
    "  for kk in range(epochs):\n",
    "      coords = rperm[np.random.permutation(n)] \n",
    "      for ii in coords:\n",
    "            alpha_i_old = alpha[ii]\n",
    "            xi = X[ii,:]\n",
    "            sqi = sq_row_norms[ii]\n",
    "            yi = y[ii]\n",
    "            # coordinate update step \n",
    "            delta_alpha_i = (yi- np.dot(xi,w)-0.5*alpha_i_old)/(0.5+sqi/(lambd*T)) \n",
    "            alpha[ii] = alpha[ii] + delta_alpha_i\n",
    "            w = (w*(lambd*T) + delta_alpha_i*xi)/(lambd*(T+1))\n",
    "            T = T + 1\n",
    "      obj_value = obj(w,alpha,X,y,lambd)\n",
    "      stats.append((kk+1, obj_value))\n",
    "      if verbose:\n",
    "        print(\"Obj[{}]= {}\".format(kk, obj_value))\n",
    "  return (alpha, stats,w)"
   ]
  },
  {
   "cell_type": "code",
   "execution_count": 12,
   "metadata": {
    "collapsed": false
   },
   "outputs": [],
   "source": [
    "def dual_adaptreg_rigde(X,y, lambd_main, num_effective_passes,init_lambda,obj = dual_obj, verbose = False):\n",
    "  # each row contains a data point with dim d\n",
    "  # active_stargey: case -1 (nothing), case 1 (reset the block list in each iteration), case 2 ( holding a queue with a limited size), case 3 (online random permutation replacement) \n",
    "  sq_row_norms =  np.square(np.linalg.norm(X, axis=1))\n",
    "  n, d = X.shape\n",
    "  rperm = np.random.permutation(n);\n",
    "  alpha = np.zeros(n)\n",
    "  lambd = init_lambda\n",
    "  w = w_alpha(alpha,X,lambd)\n",
    "  obj_value = obj(w,alpha,X,y,lambd_main) \n",
    "  sample_size = n\n",
    "  if verbose:\n",
    "    print(\" Initial objective value: {}\".format(obj_value))\n",
    "  past_ef_pass = 0\n",
    "  stats = [(0.0, obj_value)]\n",
    "  completed_effective_passes = 0.0\n",
    "  while completed_effective_passes < num_effective_passes:\n",
    "#     if(completed_effective_passes==10.0):\n",
    "#         print('befor={}'.format(obj(w,alpha,X,y,lambd_main)))\n",
    "#         w = w*5.0\n",
    "#         lambd = lambd/5.0\n",
    "#         print('after={}'.format(obj(w,alpha,X,y,lambd_main)))\n",
    "    if(completed_effective_passes==15.0):\n",
    "#         print('befor={}'.format(obj(w,alpha,X,y,lambd_main)))\n",
    "        w = (lambd/lambd_main)*w\n",
    "        lambd = lambd_main\n",
    "#         print('after={}'.format(obj(w,alpha,X,y,lambd_main)))\n",
    "#     if(lambd>lambd_main and (completed_effective_passes % 3 == 0)): \n",
    "#         new_lambd = max(lambd/2.0,lambd_main)\n",
    "#         w = (lambd/new_lambd)*w\n",
    "#         lambd = new_lambd\n",
    "    coords = rperm[np.random.permutation(sample_size)] \n",
    "    for ii in coords:\n",
    "        alpha_i_old = alpha[ii]\n",
    "        xi = X[ii,:]\n",
    "        sqi = sq_row_norms[ii]\n",
    "        yi = y[ii]\n",
    "        # coordinate update step \n",
    "        delta_alpha_i = (yi- np.dot(xi,w)-0.5*alpha_i_old)/(0.5+sqi/(lambd*sample_size)) \n",
    "        alpha[ii] = alpha[ii] + delta_alpha_i\n",
    "        w = w + delta_alpha_i*xi/(lambd*sample_size)\n",
    "    past_ef_pass = completed_effective_passes\n",
    "    completed_effective_passes += len(coords) / float(n)\n",
    "    obj_value = obj(w,alpha,X,y,lambd_main)\n",
    "    stats.append((completed_effective_passes, obj_value))\n",
    "    if verbose:\n",
    "      print(\"Obj[{}]= {},delta_alpha = {},sqi={}\".format(completed_effective_passes, obj_value,(np.dot(xi,w)),sqi))\n",
    "  return (alpha, stats,w)"
   ]
  },
  {
   "cell_type": "code",
   "execution_count": 13,
   "metadata": {
    "collapsed": false
   },
   "outputs": [],
   "source": [
    "def run_small_experiment(X,y,lambd,passes,plotname,primal_accuracy = False):\n",
    "    num = 4\n",
    "    rep = 4\n",
    "    N,d = X.shape\n",
    "    main_opt = 0\n",
    "    clf = Ridge(alpha=lambd*N,fit_intercept=False)\n",
    "    clf.fit(X, y)\n",
    "    primal_opt =  primal_func(clf.coef_,0,X,y,lambd)\n",
    "    print(\"primal obj={}\".format(primal_opt))\n",
    "    def dist_opt(w,alpha,X2,y2,lambd2):\n",
    "      if primal_accuracy == True: \n",
    "        return primal_func(w,alpha,X2,y2,lambd) - primal_opt\n",
    "      return primal_opt - dual_obj(w, alpha,X2,y2,lambd)\n",
    "            #da = 0\n",
    "            #for i in range(n): \n",
    "            #    if alpha[i] <= 1 and alpha[i] >= 0:\n",
    "            #        da = da + alpha[i]\n",
    "            #    else:\n",
    "            #        da = da + float(\"inf\")\n",
    "            #da = da / n \n",
    "            #da = da - 0.5*lambd*np.square(((1.0*n)/N)*np.linalg.norm(w_alpha(alpha,A,lambd)))\n",
    "            #return primal_opt - da\n",
    "    (alpha_n,stats_n,w_n) = dual_rigde( X, y, lambd, passes, obj = dist_opt,init_sample_size = N)\n",
    "    print(\"dual norm :::::: {}\".format(np.linalg.norm(alpha_n,2)))\n",
    "    t_randomperm, f_randomperm = get_data_plot(stats_n)  \n",
    "    converge_rate = f_randomperm\n",
    "    plabel = \"lambda = 1/n\"\n",
    "    plt.plot(t_randomperm,np.log10(f_randomperm),label = plabel, marker='o')\n",
    "#     inds = np.random.randint(N, size=n);\n",
    "#     A = np.zeros((N,d))\n",
    "#     X_sub = X[inds,:]\n",
    "#     y_sub = y[inds]\n",
    "    (alpha_f,stats_f,w_f) =dual_adaptreg_rigde( X,y, lambd, passes, obj = dist_opt,init_lambda = 10*lambd)\n",
    "    t_randomperm, f_randomperm = get_data_plot(stats_f)  \n",
    "    converge_rate = f_randomperm\n",
    "    plabel = \"lambda = 10/n\"\n",
    "    plt.plot(t_randomperm,np.log10(f_randomperm),label = plabel, marker='o')\n",
    "    lgd = plt.legend(loc='upper center', bbox_to_anchor=(0.5, -0.05), fancybox=True, shadow=True, ncol=5)\n",
    "    plt.savefig(plotname, facecolor='w', edgecolor='w', orientation='portrait',  format='eps', bbox_extra_artists=(lgd,), bbox_inches='tight')"
   ]
  },
  {
   "cell_type": "code",
   "execution_count": 7,
   "metadata": {
    "collapsed": false,
    "scrolled": false
   },
   "outputs": [
    {
     "name": "stdout",
     "output_type": "stream",
     "text": [
      "primal obj=0.448450687754\n",
      "dual norm :::::: 234.66390268\n"
     ]
    },
    {
     "name": "stderr",
     "output_type": "stream",
     "text": [
      "/usr/local/lib/python2.7/site-packages/ipykernel/__main__.py:37: RuntimeWarning: invalid value encountered in log10\n"
     ]
    },
    {
     "data": {
      "image/png": "[encoded data removed]",
      "text/plain": [
       "<matplotlib.figure.Figure at 0x112437b10>"
      ]
     },
     "metadata": {},
     "output_type": "display_data"
    }
   ],
   "source": [
    "n = 32561; \n",
    "d = 123; \n",
    "import readsvm \n",
    "#filename = \"../datasets/rcv1_train.binary\"\n",
    "filename = \"../datasets/a9a\"\n",
    "y, X = readfile(filename,n,d)\n",
    "# X = preprocessing.normalize(X, norm='l2')\n",
    "lambd = 1.0/n\n",
    "passes = 100\n",
    "alpha = run_small_experiment(X,y, lambd,passes,\"plot/a9a_ridge_dual.eps\",primal_accuracy =True)"
   ]
  },
  {
   "cell_type": "code",
   "execution_count": 10,
   "metadata": {
    "collapsed": false
   },
   "outputs": [
    {
     "name": "stdout",
     "output_type": "stream",
     "text": [
      "primal obj=0.448450687754\n"
     ]
    },
    {
     "data": {
      "image/png": "[encoded data removed]",
      "text/plain": [
       "<matplotlib.figure.Figure at 0x10ded8410>"
      ]
     },
     "metadata": {},
     "output_type": "display_data"
    }
   ],
   "source": [
    "n = 32561; \n",
    "d = 123; \n",
    "import readsvm \n",
    "\n",
    "filename = \"../datasets/a9a\"\n",
    "y, X = readfile(filename,n,d)\n",
    "# X = preprocessing.normalize(X, norm='l2')\n",
    "lambd = 1.0/float(n)\n",
    "passes = 50\n",
    "alpha = run_small_experiment(X,y, lambd,passes,\"plot/a9a_dual_sdca.eps\",primal_accuracy =False)"
   ]
  },
  {
   "cell_type": "code",
   "execution_count": 15,
   "metadata": {
    "collapsed": false
   },
   "outputs": [
    {
     "name": "stdout",
     "output_type": "stream",
     "text": [
      "primal obj=0.45076673682\n",
      " Initial objective value: 0.45076673682\n",
      "Obj[0]= 0.130165283058\n",
      "Obj[1]= 0.0132777953455\n",
      "Obj[2]= 0.00679908719638\n",
      "Obj[3]= 0.0133252424417\n",
      "Obj[4]= 0.022632946533\n",
      "Obj[5]= 0.0340870749246\n",
      "Obj[6]= 0.0475857279758\n",
      "Obj[7]= 0.0628641330084\n",
      "Obj[8]= 0.0798998001128\n",
      "Obj[9]= 0.0986319428904\n",
      "Obj[10]= 0.118857717826\n",
      "Obj[11]= 0.140682605927\n",
      "Obj[12]= 0.163919299016\n",
      "Obj[13]= 0.188553413281\n",
      "Obj[14]= 0.214511162865\n",
      "Obj[15]= 0.241569242581\n",
      "Obj[16]= 0.270152117231\n",
      "Obj[17]= 0.299679634522\n",
      "Obj[18]= 0.330498665245\n",
      "Obj[19]= 0.362255608059\n"
     ]
    },
    {
     "data": {
      "text/plain": [
       "<matplotlib.legend.Legend at 0x119e6fb50>"
      ]
     },
     "execution_count": 15,
     "metadata": {},
     "output_type": "execute_result"
    },
    {
     "data": {
      "image/png": "[encoded data removed]",
      "text/plain": [
       "<matplotlib.figure.Figure at 0x10cdc2550>"
      ]
     },
     "metadata": {},
     "output_type": "display_data"
    }
   ],
   "source": [
    "n = 32561; \n",
    "d = 123; \n",
    "primal_accuracy = False\n",
    "epochs = int(20)\n",
    "\n",
    "filename = \"../datasets/a9a\"\n",
    "y, X = readfile(filename,n,d)\n",
    "for i in range(n):\n",
    "    if(y[i]==2 or y[i] == 0):\n",
    "        y[i] = -1;\n",
    "lambd = 100.0/float(n)\n",
    "clf = Ridge(alpha=lambd*n,fit_intercept=False)\n",
    "clf.fit(X, y)\n",
    "primal_opt =  primal_func(clf.coef_,0,X,y,lambd)\n",
    "print(\"primal obj={}\".format(primal_opt))\n",
    "def dist_opt(w,alpha,X2,y2,lambd2):\n",
    "  if primal_accuracy == True: \n",
    "    return primal_func(w,alpha,X2,y2,lambd) - primal_opt\n",
    "  return primal_opt - dual_obj(w, alpha,X2,y2,lambd)\n",
    "alpha,stat_sgd,w = sgd_for_sdca_rigde(X,y,lambd,epochs,obj = dist_opt, verbose = True)\n",
    "alpha,stat_sdca,w = dual_rigde(X,y, lambd, epochs,n,obj = dist_opt, verbose = False)\n",
    "t_sgd,err_sgd = get_data_plot(stat_sgd)\n",
    "t_sdca,err_sdca = get_data_plot(stat_sdca)\n",
    "plt.plot(t_sgd,np.log10(err_sgd),label='sgd')\n",
    "plt.plot(t_sdca,np.log10(err_sdca),label='sdca')\n",
    "plt.legend()"
   ]
  },
  {
   "cell_type": "code",
   "execution_count": 21,
   "metadata": {
    "collapsed": false
   },
   "outputs": [
    {
     "name": "stdout",
     "output_type": "stream",
     "text": [
      "primal obj=0.355197469316\n"
     ]
    },
    {
     "data": {
      "image/png": "[encoded data removed]",
      "text/plain": [
       "<matplotlib.figure.Figure at 0x11bdb4650>"
      ]
     },
     "metadata": {},
     "output_type": "display_data"
    }
   ],
   "source": [
    "n = 49749; \n",
    "d = 300; \n",
    "filename = \"../datasets/w8a\"\n",
    "y, X = readfile(filename,n,d)\n",
    "A = np.zeros((n,d))\n",
    "for i in range(n):\n",
    "    if(y[i]==2 or y[i] == 0):\n",
    "        y[i] = -1;\n",
    "    A[i,:] = y[i]*X[i,:]\n",
    "lambd = 1.0/n\n",
    "passes = 40\n",
    "run_small_experiment(X,y,lambd,passes,\"plot/w8a_ridge_primal.eps\",primal_accuracy = True)"
   ]
  },
  {
   "cell_type": "code",
   "execution_count": 11,
   "metadata": {
    "collapsed": false
   },
   "outputs": [
    {
     "name": "stdout",
     "output_type": "stream",
     "text": [
      "primal obj=0.355197469316\n"
     ]
    },
    {
     "data": {
      "image/png": "[encoded data removed]",
      "text/plain": [
       "<matplotlib.figure.Figure at 0x10fe55d10>"
      ]
     },
     "metadata": {},
     "output_type": "display_data"
    }
   ],
   "source": [
    "n = 49749; \n",
    "d = 300; \n",
    "filename = \"../datasets/w8a\"\n",
    "y, X = readfile(filename,n,d)\n",
    "# X = preprocessing.normalize(X, norm='l2')\n",
    "for i in range(n):\n",
    "    if(y[i]==2 or y[i] == 0):\n",
    "        y[i] = -1;\n",
    "lambd = 1.0/n\n",
    "passes = 40\n",
    "run_small_experiment(X,y,lambd,passes,\"plot/w8a_dual_sdca.eps\",primal_accuracy = False)"
   ]
  },
  {
   "cell_type": "code",
   "execution_count": 12,
   "metadata": {
    "collapsed": false
   },
   "outputs": [
    {
     "name": "stdout",
     "output_type": "stream",
     "text": [
      "primal obj=0.48001585772\n"
     ]
    },
    {
     "data": {
      "image/png": "[encoded data removed]",
      "text/plain": [
       "<matplotlib.figure.Figure at 0x10fe3e950>"
      ]
     },
     "metadata": {},
     "output_type": "display_data"
    }
   ],
   "source": [
    "n = 50100; \n",
    "d = 54; \n",
    "filename = \"../datasets/covtype.libsvm.binary.scale\"\n",
    "y, X = readfile(filename,n,d)\n",
    "for i in range(n):\n",
    "    if(y[i]==2 or y[i] == 0):\n",
    "        y[i] = -1;\n",
    "lambd = 1.0/n\n",
    "passes = 40\n",
    "run_small_experiment(X,y,lambd,passes,\"plot/covtype_dual_sdca.eps\",primal_accuracy = False)"
   ]
  },
  {
   "cell_type": "code",
   "execution_count": 28,
   "metadata": {
    "collapsed": false
   },
   "outputs": [],
   "source": [
    "def distance_plot(X,y,n,d,lambd,nr,pivotsi,verbose = True):\n",
    "    print(max(np.linalg.norm(X,axis =1 )))\n",
    "    if(verbose):\n",
    "        print(\"Loading Data Accomblished\")\n",
    "    indices = np.random.choice(n, pivotsi, replace=False)\n",
    "    X = X[indices,:]\n",
    "    y = y[indices]\n",
    "    t1,t2 = X.shape\n",
    "    print('t1:{},t2:{}'.format(t1,t2))\n",
    "    for i in range(len(y)): \n",
    "        if y[i] == 2 :\n",
    "            y[i] = -1\n",
    "    n = pivotsi\n",
    "    x0 = np.zeros(d)\n",
    "    csize = 256\n",
    "    sizes = [csize]\n",
    "    while csize < (n/4.0):\n",
    "        csize = 2* csize\n",
    "        sizes.append(csize)\n",
    " \n",
    "    clf = Ridge(alpha=lambd*n,fit_intercept=False) \n",
    "    pivot = clf.fit(X, y).coef_\n",
    "    pivot_primal = primal_func(pivot,0,X,y,lambd)\n",
    "    print(\"precision:{},pivot_norm:{}\".format(primal_func(pivot,0,X,y,lambd),(np.linalg.norm(pivot))))\n",
    "    spivot = str(pivot)[2:-2]\n",
    "    \n",
    "    dists= np.zeros((len(sizes),nr))\n",
    "    angles = np.zeros((len(sizes),nr))\n",
    "    for i in range(len(sizes)):\n",
    "        subsamplsi = sizes[i]\n",
    "        for j in range(nr):\n",
    "#             print('subsample size:{}'.format(subsamplsi))\n",
    "            subindices = np.random.choice(n, subsamplsi, replace=False)\n",
    "            lambd_s = 1.0/subsamplsi\n",
    "            clf2 = Ridge(alpha=lambd_s*n,fit_intercept=False)\n",
    "            clf2.fit(X, y)\n",
    "            ws = clf2.coef_\n",
    "            dist = primal_func(ws,0,X,y,lambd_s) - pivot_primal\n",
    "            print(\"======================\")\n",
    "            print('mu={},nu={}'.format(lambd_s,lambd))\n",
    "            print('norm(wmu-wv) = {}'.format(np.linalg.norm(pivot-ws)))\n",
    "            print('norm(wmu)={},norm(wv)={}'.format(np.linalg.norm(ws),np.linalg.norm(pivot)))\n",
    "            dists[i,j] = abs(dist)\n",
    "            print(\"f_mu - fv= {}\".format(dists[i,j]))\n",
    "        if(verbose):\n",
    "          print(\"step: {}\".format(i))   \n",
    "    mdist = np.mean(dists,axis=1)\n",
    "    vdist = np.var(np.log(dists),axis =1)\n",
    "    print(vdist)\n",
    "    sizes = np.divide(1.0,sizes)\n",
    "    xd = np.log(sizes)\n",
    "    yd = np.log(mdist)\n",
    "    par = np.polyfit(xd, yd, 1, full=True)\n",
    "    slope=par[0][0]\n",
    "    intercept=par[0][1]\n",
    "    xl = [min(xd), max(xd)]\n",
    "    yl = [slope*xx + intercept  for xx in xl]\n",
    "    mang = np.mean(angles,axis = 1)\n",
    "    vang = np.var(angles,axis= 1)\n",
    "    plt.errorbar(np.log(sizes),np.log(mdist),yerr=vdist)\n",
    "    #plt.plot(np.log(sizes),np.log(mdist),marker='o')\n",
    "    label_l = \"y =%.2f x + %.2f\" % (slope,intercept)\n",
    "    print(label_l)\n",
    "    plt.plot(xl,yl,label = label_l)\n",
    "    plt.xlabel(\"Log(m)\")\n",
    "    plt.ylabel(\"Log(|P_m^* - P_n^*|)\")\n",
    "   # plt.title(\"Distance Plot For %s\" % dataname)\n",
    "    plt.legend()"
   ]
  },
  {
   "cell_type": "code",
   "execution_count": 29,
   "metadata": {
    "collapsed": false
   },
   "outputs": [
    {
     "name": "stdout",
     "output_type": "stream",
     "text": [
      "10.677078252\n",
      "Loading Data Accomblished\n",
      "t1:49749,t2:300\n",
      "precision:0.355197469316,pivot_norm:5.13170178348\n",
      "======================\n",
      "mu=0.00390625,nu=2.01009065509e-05\n",
      "norm(wmu-wv) = 4.21579342637\n",
      "norm(wmu)=1.54606598498,norm(wv)=5.13170178348\n",
      "f_mu - fv= 0.0168761820847\n",
      "step: 0\n",
      "======================\n",
      "mu=0.001953125,nu=2.01009065509e-05\n",
      "norm(wmu-wv) = 3.76636395165\n",
      "norm(wmu)=1.96409710474,norm(wv)=5.13170178348\n",
      "f_mu - fv= 0.0119679260088\n",
      "step: 1\n",
      "======================\n",
      "mu=0.0009765625,nu=2.01009065509e-05\n",
      "norm(wmu-wv) = 3.1856134041\n",
      "norm(wmu)=2.50596451445,norm(wv)=5.13170178348\n",
      "f_mu - fv= 0.00794231074247\n",
      "step: 2\n",
      "======================\n",
      "mu=0.00048828125,nu=2.01009065509e-05\n",
      "norm(wmu-wv) = 2.52665574095\n",
      "norm(wmu)=3.12797504459,norm(wv)=5.13170178348\n",
      "f_mu - fv= 0.00483652282827\n",
      "step: 3\n",
      "======================\n",
      "mu=0.000244140625,nu=2.01009065509e-05\n",
      "norm(wmu-wv) = 1.87363813603\n",
      "norm(wmu)=3.74081446209,norm(wv)=5.13170178348\n",
      "f_mu - fv= 0.00268075304756\n",
      "step: 4\n",
      "======================\n",
      "mu=0.0001220703125,nu=2.01009065509e-05\n",
      "norm(wmu-wv) = 1.28084450665\n",
      "norm(wmu)=4.26419388488,norm(wv)=5.13170178348\n",
      "f_mu - fv= 0.00134092746848\n",
      "step: 5\n",
      "======================\n",
      "mu=6.103515625e-05,nu=2.01009065509e-05\n",
      "norm(wmu-wv) = 0.746922124412\n",
      "norm(wmu)=4.672358008,norm(wv)=5.13170178348\n",
      "f_mu - fv= 0.000572831792009\n",
      "step: 6\n",
      "[ 0.  0.  0.  0.  0.  0.  0.]\n",
      "y =0.80 x + 0.61\n"
     ]
    },
    {
     "data": {
      "image/png": "[encoded data removed]",
      "text/plain": [
       "<matplotlib.figure.Figure at 0x110ae6a10>"
      ]
     },
     "metadata": {},
     "output_type": "display_data"
    }
   ],
   "source": [
    "n = 49749; \n",
    "d = 300; \n",
    "filename = \"../datasets/w8a\"\n",
    "y, X = readfile(filename,n,d)\n",
    "#X = preprocessing.normalize(X, norm='l2')\n",
    "lambd = 1.0/n\n",
    "distance_plot(X,y,n,d,lambd,1,n)"
   ]
  },
  {
   "cell_type": "code",
   "execution_count": 31,
   "metadata": {
    "collapsed": false
   },
   "outputs": [
    {
     "name": "stdout",
     "output_type": "stream",
     "text": [
      "3.74165738677\n",
      "Loading Data Accomblished\n",
      "t1:32561,t2:123\n",
      "precision:0.448450687754,pivot_norm:1.40628656539\n",
      "======================\n",
      "mu=0.00390625,nu=3.0711587482e-05\n",
      "norm(wmu-wv) = 0.715350430069\n",
      "norm(wmu)=1.03966172346,norm(wv)=1.40628656539\n",
      "f_mu - fv= 0.00285437647442\n",
      "step: 0\n",
      "======================\n",
      "mu=0.001953125,nu=3.0711587482e-05\n",
      "norm(wmu-wv) = 0.607532929037\n",
      "norm(wmu)=1.10104278513,norm(wv)=1.40628656539\n",
      "f_mu - fv= 0.00155789736638\n",
      "step: 1\n",
      "======================\n",
      "mu=0.0009765625,nu=3.0711587482e-05\n",
      "norm(wmu-wv) = 0.480726780024\n",
      "norm(wmu)=1.1641858363,norm(wv)=1.40628656539\n",
      "f_mu - fv= 0.000835541074375\n",
      "step: 2\n",
      "======================\n",
      "mu=0.00048828125,nu=3.0711587482e-05\n",
      "norm(wmu-wv) = 0.34431942684\n",
      "norm(wmu)=1.23011952016,norm(wv)=1.40628656539\n",
      "f_mu - fv= 0.000432462650813\n",
      "step: 3\n",
      "======================\n",
      "mu=0.000244140625,nu=3.0711587482e-05\n",
      "norm(wmu-wv) = 0.216309186095\n",
      "norm(wmu)=1.29356054369,norm(wv)=1.40628656539\n",
      "f_mu - fv= 0.000210723396293\n",
      "step: 4\n",
      "======================\n",
      "mu=0.0001220703125,nu=3.0711587482e-05\n",
      "norm(wmu-wv) = 0.113988122471\n",
      "norm(wmu)=1.34618547197,norm(wv)=1.40628656539\n",
      "f_mu - fv= 9.22841525765e-05\n",
      "step: 5\n",
      "[ 0.  0.  0.  0.  0.  0.]\n",
      "y =0.98 x + -0.34\n"
     ]
    },
    {
     "data": {
      "image/png": "[encoded data removed]",
      "text/plain": [
       "<matplotlib.figure.Figure at 0x132858b90>"
      ]
     },
     "metadata": {},
     "output_type": "display_data"
    }
   ],
   "source": [
    "n = 32561; \n",
    "d = 123;\n",
    "filename = \"../datasets/a9a\"\n",
    "y, X = readfile(filename,n,d)\n",
    "#X = preprocessing.normalize(X, norm='l2')\n",
    "lambd = 1.0/n\n",
    "distance_plot(X,y,n,d,lambd,1,n)"
   ]
  },
  {
   "cell_type": "code",
   "execution_count": 27,
   "metadata": {
    "collapsed": false
   },
   "outputs": [
    {
     "name": "stdout",
     "output_type": "stream",
     "text": [
      "2.74779987078\n",
      "Loading Data Accomblished\n",
      "t1:50100,t2:54\n",
      "precision:0.48001585772,pivot_norm:41.6857160432\n",
      "======================\n",
      "mu=0.00390625,nu=1.99600798403e-05\n",
      "norm(wmu-wv) = 4.59623534583\n",
      "norm(wmu)=2.59330842209,norm(wv)=6.45644763343\n",
      "f_mu - fv= 0.0403006214755\n",
      "step: 0\n",
      "======================\n",
      "mu=0.001953125,nu=1.99600798403e-05\n",
      "norm(wmu-wv) = 3.81644481642\n",
      "norm(wmu)=3.28725874154,norm(wv)=6.45644763343\n",
      "f_mu - fv= 0.0265223458843\n",
      "step: 1\n",
      "======================\n",
      "mu=0.0009765625,nu=1.99600798403e-05\n",
      "norm(wmu-wv) = 2.97466005977\n",
      "norm(wmu)=4.0852794441,norm(wv)=6.45644763343\n",
      "f_mu - fv= 0.0159554943098\n",
      "step: 2\n",
      "======================\n",
      "mu=0.00048828125,nu=1.99600798403e-05\n",
      "norm(wmu-wv) = 2.22974864349\n",
      "norm(wmu)=4.8413387952,norm(wv)=6.45644763343\n",
      "f_mu - fv= 0.00877906430799\n",
      "step: 3\n",
      "======================\n",
      "mu=0.000244140625,nu=1.99600798403e-05\n",
      "norm(wmu-wv) = 1.66623696719\n",
      "norm(wmu)=5.43778595844,norm(wv)=6.45644763343\n",
      "f_mu - fv= 0.00448228209424\n",
      "step: 4\n",
      "======================\n",
      "mu=0.0001220703125,nu=1.99600798403e-05\n",
      "norm(wmu-wv) = 1.23713579299\n",
      "norm(wmu)=5.8513898385,norm(wv)=6.45644763343\n",
      "f_mu - fv= 0.0021244498608\n",
      "step: 5\n",
      "======================\n",
      "mu=6.103515625e-05,nu=1.99600798403e-05\n",
      "norm(wmu-wv) = 0.822429138576\n",
      "norm(wmu)=6.12786228484,norm(wv)=6.45644763343\n",
      "f_mu - fv= 0.000883498270051\n",
      "step: 6\n",
      "[ 0.  0.  0.  0.  0.  0.  0.]\n",
      "y =0.92 x + 2.08\n"
     ]
    },
    {
     "data": {
      "image/png": "[encoded data removed]",
      "text/plain": [
       "<matplotlib.figure.Figure at 0x12b36ee50>"
      ]
     },
     "metadata": {},
     "output_type": "display_data"
    }
   ],
   "source": [
    "n = 50100; \n",
    "d = 54; \n",
    "filename = \"../datasets/covtype.libsvm.binary.scale\"\n",
    "y, X = readfile(filename,n,d)\n",
    "lambd = 1.0/n\n",
    "distance_plot(X,y,n,d,lambd,1,n)"
   ]
  },
  {
   "cell_type": "code",
   "execution_count": 66,
   "metadata": {
    "collapsed": false
   },
   "outputs": [],
   "source": [
    "n = 32561; \n",
    "d = 123;\n",
    "filename = \"../datasets/a9a\"\n",
    "y, X = readfile(filename,n,d)\n",
    "#X = preprocessing.normalize(X, norm='l2')\n",
    "lambd = 1.0/n\n",
    "U, s, V = np.linalg.svd(X, full_matrices=False)\n",
    "s2 = np.power(s,2)\n",
    "s = s/float(n)\n",
    "s2 = s2/float(n)\n",
    "s2l = s2 + lambd\n",
    "d = np.divide(s,s2l)\n",
    "w = np.dot(np.transpose(V),np.dot(np.diag(d),np.dot(np.transpose(U),y)))"
   ]
  },
  {
   "cell_type": "code",
   "execution_count": 102,
   "metadata": {
    "collapsed": false
   },
   "outputs": [
    {
     "data": {
      "text/plain": [
       "array([  2.21005885e-03,   5.77273172e-03,   7.25896438e-03,\n",
       "         8.22563297e-03,   8.84888002e-03,   9.48748192e-03,\n",
       "         1.04069118e-02,   1.10293133e-02,   1.14033076e-02,\n",
       "         1.21731248e-02,   1.22863182e-02,   1.23419303e-02,\n",
       "         1.23907330e-02,   1.24596644e-02,   1.25735766e-02,\n",
       "         1.30615699e-02,   1.33295501e-02,   1.43354811e-02,\n",
       "         1.46188232e-02,   1.48751607e-02,   1.56654303e-02,\n",
       "         1.56935787e-02,   1.64823874e-02,   1.68441256e-02,\n",
       "         1.71645854e-02,   1.76399082e-02,   1.81015801e-02,\n",
       "         1.87389395e-02,   1.88909020e-02,   1.99162828e-02,\n",
       "         2.08795157e-02,   2.11754696e-02,   2.13628122e-02,\n",
       "         2.24771786e-02,   2.32668181e-02,   2.36415469e-02,\n",
       "         2.46533153e-02,   2.55289201e-02,   2.64419009e-02,\n",
       "         2.69419683e-02,   2.87810074e-02,   2.90023400e-02,\n",
       "         2.93978468e-02,   3.02650551e-02,   3.08210055e-02,\n",
       "         3.12605257e-02,   3.19048894e-02,   3.25834162e-02,\n",
       "         3.42062673e-02,   3.65579833e-02,   3.79814367e-02,\n",
       "         4.06653798e-02,   4.17313993e-02,   4.41531576e-02,\n",
       "         4.59083250e-02,   4.66170826e-02,   4.68977652e-02,\n",
       "         4.91081356e-02,   5.50572769e-02,   5.77788117e-02,\n",
       "         5.91579734e-02,   7.35799660e-02,   7.68643692e-02,\n",
       "         8.12860743e-02,   8.62188453e-02,   9.17601001e-02,\n",
       "         9.44130932e-02,   9.54592253e-02,   9.89276437e-02,\n",
       "         1.01911067e-01,   1.03114742e-01,   1.07311160e-01,\n",
       "         1.12152096e-01,   1.12997078e-01,   1.17306846e-01,\n",
       "         1.17705421e-01,   1.21032264e-01,   1.24116984e-01,\n",
       "         1.26184406e-01,   1.27741113e-01,   1.31523892e-01,\n",
       "         1.31577878e-01,   1.38986317e-01,   1.48970654e-01,\n",
       "         1.50587149e-01,   1.59350335e-01,   1.64833079e-01,\n",
       "         1.70636269e-01,   1.76411505e-01,   1.79831750e-01,\n",
       "         1.82580484e-01,   1.93089950e-01,   1.94250023e-01,\n",
       "         2.07153315e-01,   2.14821322e-01,   2.19606476e-01,\n",
       "         2.22204300e-01,   2.23717411e-01,   2.36155412e-01,\n",
       "         2.44345706e-01,   2.47666492e-01,   2.54083888e-01,\n",
       "         2.57955525e-01,   2.64748757e-01,   2.96152132e-01,\n",
       "         2.98346381e-01,   3.31411652e-01,   4.99998561e-01,\n",
       "         3.91063165e-12,   2.91187992e-12,   2.18464824e-12,\n",
       "         1.33019902e-12,   7.63124108e-13,   6.57599268e-13,\n",
       "         6.52543323e-13,   4.84530799e-13,   4.10883642e-13,\n",
       "         3.89571126e-13,   3.27678212e-13,   2.98016824e-13,\n",
       "         1.88263889e-13,   1.70594238e-13,   1.06082143e-13])"
      ]
     },
     "execution_count": 102,
     "metadata": {},
     "output_type": "execute_result"
    }
   ],
   "source": [
    "d"
   ]
  },
  {
   "cell_type": "code",
   "execution_count": 61,
   "metadata": {
    "collapsed": false
   },
   "outputs": [
    {
     "data": {
      "image/png": "[encoded data removed]",
      "text/plain": [
       "<matplotlib.figure.Figure at 0x122f869d0>"
      ]
     },
     "metadata": {},
     "output_type": "display_data"
    }
   ],
   "source": [
    "d = np.divide(s,s2l)\n",
    "p = np.dot(np.diag(d),np.dot(np.transpose(U),y))\n",
    "plt.hist(p)\n",
    "plt.savefig('histogram3.eps', facecolor='w', edgecolor='w', orientation='portrait',  format='eps')"
   ]
  },
  {
   "cell_type": "code",
   "execution_count": 44,
   "metadata": {
    "collapsed": false
   },
   "outputs": [
    {
     "data": {
      "image/png": "[encoded data removed]",
      "text/plain": [
       "<matplotlib.figure.Figure at 0x122f39850>"
      ]
     },
     "metadata": {},
     "output_type": "display_data"
    }
   ],
   "source": [
    "plt.hist(d)\n",
    "plt.savefig('histogram2.eps', facecolor='w', edgecolor='w', orientation='portrait',  format='eps')"
   ]
  },
  {
   "cell_type": "code",
   "execution_count": 96,
   "metadata": {
    "collapsed": false
   },
   "outputs": [
    {
     "data": {
      "text/plain": [
       "array([  2.21005885e-03,   5.77273172e-03,   7.25896438e-03,\n",
       "         8.22563297e-03,   8.84888002e-03,   9.48748192e-03,\n",
       "         1.04069118e-02,   1.10293133e-02,   1.14033076e-02,\n",
       "         1.21731248e-02,   1.22863182e-02,   1.23419303e-02,\n",
       "         1.23907330e-02,   1.24596644e-02,   1.25735766e-02,\n",
       "         1.30615699e-02,   1.33295501e-02,   1.43354811e-02,\n",
       "         1.46188232e-02,   1.48751607e-02,   1.56654303e-02,\n",
       "         1.56935787e-02,   1.64823874e-02,   1.68441256e-02,\n",
       "         1.71645854e-02,   1.76399082e-02,   1.81015801e-02,\n",
       "         1.87389395e-02,   1.88909020e-02,   1.99162828e-02,\n",
       "         2.08795157e-02,   2.11754696e-02,   2.13628122e-02,\n",
       "         2.24771786e-02,   2.32668181e-02,   2.36415469e-02,\n",
       "         2.46533153e-02,   2.55289201e-02,   2.64419009e-02,\n",
       "         2.69419683e-02,   2.87810074e-02,   2.90023400e-02,\n",
       "         2.93978468e-02,   3.02650551e-02,   3.08210055e-02,\n",
       "         3.12605257e-02,   3.19048894e-02,   3.25834162e-02,\n",
       "         3.42062673e-02,   3.65579833e-02,   3.79814367e-02,\n",
       "         4.06653798e-02,   4.17313993e-02,   4.41531576e-02,\n",
       "         4.59083250e-02,   4.66170826e-02,   4.68977652e-02,\n",
       "         4.91081356e-02,   5.50572769e-02,   5.77788117e-02,\n",
       "         5.91579734e-02,   7.35799660e-02,   7.68643692e-02,\n",
       "         8.12860743e-02,   8.62188453e-02,   9.17601001e-02,\n",
       "         9.44130932e-02,   9.54592253e-02,   9.89276437e-02,\n",
       "         1.01911067e-01,   1.03114742e-01,   1.07311160e-01,\n",
       "         1.12152096e-01,   1.12997078e-01,   1.17306846e-01,\n",
       "         1.17705421e-01,   1.21032264e-01,   1.24116984e-01,\n",
       "         1.26184406e-01,   1.27741113e-01,   1.31523892e-01,\n",
       "         1.31577878e-01,   1.38986317e-01,   1.48970654e-01,\n",
       "         1.50587149e-01,   1.59350335e-01,   1.64833079e-01,\n",
       "         1.70636269e-01,   1.76411505e-01,   1.79831750e-01,\n",
       "         1.82580484e-01,   1.93089950e-01,   1.94250023e-01,\n",
       "         2.07153315e-01,   2.14821322e-01,   2.19606476e-01,\n",
       "         2.22204300e-01,   2.23717411e-01,   2.36155412e-01,\n",
       "         2.44345706e-01,   2.47666492e-01,   2.54083888e-01,\n",
       "         2.57955525e-01,   2.64748757e-01,   2.96152132e-01,\n",
       "         2.98346381e-01,   3.31411652e-01,   4.99998561e-01,\n",
       "         3.91063165e-12,   2.91187992e-12,   2.18464824e-12,\n",
       "         1.33019902e-12,   7.63124108e-13,   6.57599268e-13,\n",
       "         6.52543323e-13,   4.84530799e-13,   4.10883642e-13,\n",
       "         3.89571126e-13,   3.27678212e-13,   2.98016824e-13,\n",
       "         1.88263889e-13,   1.70594238e-13,   1.06082143e-13])"
      ]
     },
     "execution_count": 96,
     "metadata": {},
     "output_type": "execute_result"
    }
   ],
   "source": [
    "d"
   ]
  },
  {
   "cell_type": "code",
   "execution_count": 40,
   "metadata": {
    "collapsed": false
   },
   "outputs": [
    {
     "data": {
      "text/plain": [
       "(array([ 73.,  11.,  15.,   9.,   8.,   5.,   1.,   0.,   0.,   1.]),\n",
       " array([  1.06082143e-13,   4.99998561e-02,   9.99997122e-02,\n",
       "          1.49999568e-01,   1.99999424e-01,   2.49999280e-01,\n",
       "          2.99999136e-01,   3.49998993e-01,   3.99998849e-01,\n",
       "          4.49998705e-01,   4.99998561e-01]),\n",
       " <a list of 10 Patch objects>)"
      ]
     },
     "execution_count": 40,
     "metadata": {},
     "output_type": "execute_result"
    },
    {
     "data": {
      "image/png": "[encoded data removed]",
      "text/plain": [
       "<matplotlib.figure.Figure at 0x120936150>"
      ]
     },
     "metadata": {},
     "output_type": "display_data"
    }
   ],
   "source": [
    "plt.hist(d)"
   ]
  },
  {
   "cell_type": "code",
   "execution_count": 38,
   "metadata": {
    "collapsed": false
   },
   "outputs": [
    {
     "data": {
      "text/plain": [
       "1.4062865653923524"
      ]
     },
     "execution_count": 38,
     "metadata": {},
     "output_type": "execute_result"
    }
   ],
   "source": [
    "np.linalg.norm(w)"
   ]
  },
  {
   "cell_type": "code",
   "execution_count": 39,
   "metadata": {
    "collapsed": false
   },
   "outputs": [
    {
     "data": {
      "text/plain": [
       "(123,)"
      ]
     },
     "execution_count": 39,
     "metadata": {},
     "output_type": "execute_result"
    }
   ],
   "source": [
    "w.shape"
   ]
  },
  {
   "cell_type": "code",
   "execution_count": 45,
   "metadata": {
    "collapsed": false
   },
   "outputs": [
    {
     "data": {
      "text/plain": [
       "(32561, 123)"
      ]
     },
     "execution_count": 45,
     "metadata": {},
     "output_type": "execute_result"
    }
   ],
   "source": [
    "U.shape"
   ]
  },
  {
   "cell_type": "code",
   "execution_count": 59,
   "metadata": {
    "collapsed": false
   },
   "outputs": [
    {
     "data": {
      "image/png": "[encoded data removed]",
      "text/plain": [
       "<matplotlib.figure.Figure at 0x123247590>"
      ]
     },
     "metadata": {},
     "output_type": "display_data"
    }
   ],
   "source": [
    "a = np.zeros(123)\n",
    "for i in range(123): \n",
    "    a[i] = np.linalg.norm(np.multiply(V[:,i],np.dot(U[:,i],y)))\n",
    "plt.hist(a)\n",
    "plt.savefig('histogram2.eps', facecolor='w', edgecolor='w', orientation='portrait',  format='eps')"
   ]
  },
  {
   "cell_type": "code",
   "execution_count": 47,
   "metadata": {
    "collapsed": false
   },
   "outputs": [
    {
     "data": {
      "text/plain": [
       "array([-0.00484203, -0.00565247, -0.00619019, ..., -0.00569119,\n",
       "       -0.00604209, -0.00470896])"
      ]
     },
     "execution_count": 47,
     "metadata": {},
     "output_type": "execute_result"
    }
   ],
   "source": [
    "U[:,i]"
   ]
  },
  {
   "cell_type": "code",
   "execution_count": 48,
   "metadata": {
    "collapsed": false
   },
   "outputs": [
    {
     "data": {
      "text/plain": [
       "array([-1., -1., -1., ..., -1., -1.,  1.])"
      ]
     },
     "execution_count": 48,
     "metadata": {},
     "output_type": "execute_result"
    }
   ],
   "source": [
    "y"
   ]
  },
  {
   "cell_type": "code",
   "execution_count": 50,
   "metadata": {
    "collapsed": false
   },
   "outputs": [
    {
     "data": {
      "text/plain": [
       "(123, 123)"
      ]
     },
     "execution_count": 50,
     "metadata": {},
     "output_type": "execute_result"
    }
   ],
   "source": [
    "V.shape"
   ]
  },
  {
   "cell_type": "code",
   "execution_count": 103,
   "metadata": {
    "collapsed": false
   },
   "outputs": [
    {
     "data": {
      "image/png": "[encoded data removed]",
      "text/plain": [
       "<matplotlib.figure.Figure at 0x122cd87d0>"
      ]
     },
     "metadata": {},
     "output_type": "display_data"
    }
   ],
   "source": [
    "tem = np.dot(np.transpose(U),y)\n",
    "plt.scatter(d,tem)\n",
    "plt.savefig('dot_vs_eign.eps', facecolor='w', edgecolor='w', orientation='portrait',  format='eps')"
   ]
  },
  {
   "cell_type": "code",
   "execution_count": 72,
   "metadata": {
    "collapsed": false
   },
   "outputs": [
    {
     "data": {
      "image/png": "[encoded data removed]",
      "text/plain": [
       "<matplotlib.figure.Figure at 0x1206f1510>"
      ]
     },
     "metadata": {},
     "output_type": "display_data"
    }
   ],
   "source": [
    "d\n",
    "plt.hist(d)\n",
    "plt.savefig('histogram4.eps', facecolor='w', edgecolor='w', orientation='portrait',  format='eps')"
   ]
  },
  {
   "cell_type": "code",
   "execution_count": 81,
   "metadata": {
    "collapsed": false
   },
   "outputs": [
    {
     "data": {
      "image/png": "[encoded data removed]",
      "text/plain": [
       "<matplotlib.figure.Figure at 0x123be6790>"
      ]
     },
     "metadata": {},
     "output_type": "display_data"
    }
   ],
   "source": [
    "plt.hist(s*n)\n",
    "plt.savefig('histogram5.eps', facecolor='w', edgecolor='w', orientation='portrait',  format='eps')"
   ]
  },
  {
   "cell_type": "code",
   "execution_count": 94,
   "metadata": {
    "collapsed": false
   },
   "outputs": [
    {
     "data": {
      "image/png": "[encoded data removed]",
      "text/plain": [
       "<matplotlib.figure.Figure at 0x123bddf90>"
      ]
     },
     "metadata": {},
     "output_type": "display_data"
    }
   ],
   "source": [
    "inds = s*n < 10 \n",
    "t = np.dot(np.transpose(U[:,inds]),y)\n",
    "plt.hist(t)\n",
    "plt.savefig('histogram_dots_for_small_lambad.eps', facecolor='w', edgecolor='w', orientation='portrait',  format='eps')"
   ]
  },
  {
   "cell_type": "code",
   "execution_count": 92,
   "metadata": {
    "collapsed": false
   },
   "outputs": [
    {
     "data": {
      "text/plain": [
       "54"
      ]
     },
     "execution_count": 92,
     "metadata": {},
     "output_type": "execute_result"
    }
   ],
   "source": [
    "sum(inds)"
   ]
  },
  {
   "cell_type": "code",
   "execution_count": 87,
   "metadata": {
    "collapsed": false
   },
   "outputs": [
    {
     "data": {
      "text/plain": [
       "array([  4.52474429e+02,   1.73222440e+02,   1.37753439e+02,\n",
       "         1.21562965e+02,   1.12999802e+02,   1.05392557e+02,\n",
       "         9.60795772e+01,   9.06564456e+01,   8.76824502e+01,\n",
       "         8.21360014e+01,   8.13790595e+01,   8.10122593e+01,\n",
       "         8.06930827e+01,   8.02465218e+01,   7.95192894e+01,\n",
       "         7.65474113e+01,   7.50079550e+01,   6.97426507e+01,\n",
       "         6.83903371e+01,   6.72112860e+01,   6.38191557e+01,\n",
       "         6.37046316e+01,   6.06543357e+01,   5.93510295e+01,\n",
       "         5.82423209e+01,   5.66719919e+01,   5.52256886e+01,\n",
       "         5.33460674e+01,   5.29166372e+01,   5.01902486e+01,\n",
       "         4.78729424e+01,   4.72032694e+01,   4.67889439e+01,\n",
       "         4.44670811e+01,   4.29563834e+01,   4.22747618e+01,\n",
       "         4.05378275e+01,   3.91457157e+01,   3.77923032e+01,\n",
       "         3.70898515e+01,   3.47163306e+01,   3.44509497e+01,\n",
       "         3.39866734e+01,   3.30111141e+01,   3.24145545e+01,\n",
       "         3.19579342e+01,   3.13112209e+01,   3.06578410e+01,\n",
       "         2.92001624e+01,   2.73171995e+01,   2.62906149e+01,\n",
       "         2.45502093e+01,   2.39209675e+01,   2.26041973e+01,\n",
       "         2.17365361e+01,   2.14046450e+01,   2.12759763e+01,\n",
       "         2.03139976e+01,   1.81076782e+01,   1.72494096e+01,\n",
       "         1.68445257e+01,   1.35166732e+01,   1.29326052e+01,\n",
       "         1.22203998e+01,   1.15115229e+01,   1.08054369e+01,\n",
       "         1.04964813e+01,   1.03793316e+01,   1.00084828e+01,\n",
       "         9.70948495e+00,   9.59369924e+00,   9.21011904e+00,\n",
       "         8.80286351e+00,   8.73530847e+00,   8.40568455e+00,\n",
       "         8.37640243e+00,   8.13940054e+00,   7.93082477e+00,\n",
       "         7.79664932e+00,   7.69843675e+00,   7.46929998e+00,\n",
       "         7.46612347e+00,   7.05317269e+00,   6.56029941e+00,\n",
       "         6.48650672e+00,   6.11186482e+00,   5.89717061e+00,\n",
       "         5.68450189e+00,   5.48629208e+00,   5.37469630e+00,\n",
       "         5.28792659e+00,   4.97805163e+00,   4.94581333e+00,\n",
       "         4.61044363e+00,   4.42926005e+00,   4.32223817e+00,\n",
       "         4.26594850e+00,   4.23372622e+00,   3.98346168e+00,\n",
       "         3.83157277e+00,   3.77262014e+00,   3.66268423e+00,\n",
       "         3.59876408e+00,   3.49068964e+00,   3.04862634e+00,\n",
       "         3.02076696e+00,   2.63837411e+00,   9.97603553e-01,\n",
       "         3.91063165e-12,   2.91187992e-12,   2.18464824e-12,\n",
       "         1.33019902e-12,   7.63124108e-13,   6.57599268e-13,\n",
       "         6.52543323e-13,   4.84530799e-13,   4.10883642e-13,\n",
       "         3.89571126e-13,   3.27678212e-13,   2.98016824e-13,\n",
       "         1.88263889e-13,   1.70594238e-13,   1.06082143e-13])"
      ]
     },
     "execution_count": 87,
     "metadata": {},
     "output_type": "execute_result"
    }
   ],
   "source": []
  },
  {
   "cell_type": "code",
   "execution_count": null,
   "metadata": {
    "collapsed": true
   },
   "outputs": [],
   "source": [
    "np.transpose(U)"
   ]
  }
 ],
 "metadata": {
  "kernelspec": {
   "display_name": "Python 2",
   "language": "python",
   "name": "python2"
  },
  "language_info": {
   "codemirror_mode": {
    "name": "ipython",
    "version": 2
   },
   "file_extension": ".py",
   "mimetype": "text/x-python",
   "name": "python",
   "nbconvert_exporter": "python",
   "pygments_lexer": "ipython2",
   "version": "2.7.11"
  }
 },
 "nbformat": 4,
 "nbformat_minor": 0
}
