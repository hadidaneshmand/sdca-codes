{
 "cells": [
  {
   "cell_type": "code",
   "execution_count": 7,
   "metadata": {
    "collapsed": false
   },
   "outputs": [
    {
     "name": "stdout",
     "output_type": "stream",
     "text": [
      "Using matplotlib backend: MacOSX\n",
      "Populating the interactive namespace from numpy and matplotlib\n"
     ]
    }
   ],
   "source": [
    "# @author = Hadi Daneshmand (ETH Zurich)\n",
    "# X is n times d data matrix where n is number of samples and d is the dimension \n",
    "# lambd is the regularizer \n",
    "\n",
    "%pylab\n",
    "%matplotlib inline\n",
    "\n",
    "from sklearn import svm\n",
    "from sklearn import preprocessing\n",
    "from sklearn.linear_model import Ridge\n",
    "from sklearn.linear_model import LogisticRegression\n",
    "import numpy as np\n",
    "def readfile(filename, n,d):\n",
    "    y = np.zeros(n) # targets\n",
    "    X = np.zeros((n,d)) # input matrix each row is a sample data point\n",
    "    li = 0 \n",
    "    with open(filename, \"rb\") as f:\n",
    "        for line in f:\n",
    "           if li>=n : \n",
    "             break;\n",
    "           parts = line.split()\n",
    "           y[li] = float(parts[0])\n",
    "           for i in range(len(parts)): \n",
    "                if i >0 and parts[i] != '\\n': \n",
    "                    fparts = parts[i].split(\":\")\n",
    "                    X[li,int(fparts[0])-1] = float(fparts[1])\n",
    "           li = li +1\n",
    "    return (y,X)\n"
   ]
  },
  {
   "cell_type": "code",
   "execution_count": 34,
   "metadata": {
    "collapsed": false
   },
   "outputs": [],
   "source": [
    "class Ridge_Risk: # this class presents the ridge regression objective function based on SDCA paper \n",
    "    def __init__(self, X, y,lambd,optimality_measure = 1):\n",
    "        # optimality_measure [1 : primal, 2: dual, 3: primal and dual, else: nothing]  \n",
    "        self.X = X\n",
    "        self.y = y\n",
    "        self.lambd = lambd\n",
    "        self.optimal = -1 \n",
    "        self.optimality_measure = optimality_measure\n",
    "        self.sq_row_norms = np.square(np.linalg.norm(X, axis=1))\n",
    "    def __str__(self):\n",
    "        return (\"square loss with lambd = %f\" % self.lambd)\n",
    "    def get_w(self,alpha): \n",
    "        n, d = self.X.shape\n",
    "        w = np.zeros(d)\n",
    "        for i in range(n): \n",
    "            w = w + alpha[i]*self.X[i,:]/(self.lambd*n)\n",
    "        return w\n",
    "    def get_dual(self,alpha): \n",
    "        da = 0\n",
    "        n, d = self.X.shape\n",
    "        for i in range(n):         \n",
    "            da = da + alpha[i]*self.y[i] - 0.25*alpha[i]*alpha[i]\n",
    "        da = da/float(n)\n",
    "        da = da - 0.5*self.lambd*np.square(np.linalg.norm(self.get_w(alpha)))\n",
    "        return da\n",
    "    def get_primal(self,w): \n",
    "        n, d = self.X.shape\n",
    "        pw = 0\n",
    "        for i in range(n): \n",
    "            dif = np.dot(self.X[i,:],w) - self.y[i]\n",
    "            pw = pw + dif*dif\n",
    "        pw = pw/float(n)\n",
    "        pw = pw + 0.5*self.lambd*np.square(np.linalg.norm(w))\n",
    "        return pw\n",
    "    def get_sdca_update(self,w,ii,alpha_i_old): \n",
    "        xi = self.X[ii,:] \n",
    "        yi = self.y[ii] \n",
    "        sqi = self.sq_row_norms[ii]\n",
    "        n, d = self.X.shape\n",
    "        return (yi- np.dot(xi,w)-0.5*alpha_i_old)/(0.5+sqi/(self.lambd*n)) \n",
    "    def get_w_update(self,ii,delta_alpha_i): \n",
    "        n, d = self.X.shape\n",
    "        return delta_alpha_i*self.X[ii,:]/(self.lambd*n)\n",
    "    def get_sub_risk(self,indeces,lambd): \n",
    "        return Ridge_Risk(self.X[indeces,:],self.y[indeces],lambd, self.primal)\n",
    "    def clone(self): \n",
    "        return Ridge_Risk(self.X,self.y,self.lambd,self.optimality_measure)\n",
    "    def compute_optimum(self): \n",
    "        n, d = self.X.shape\n",
    "        mu = np.dot(np.transpose(self.X),self.y)/float(n)\n",
    "        cov = np.dot(np.transpose(self.X)/math.sqrt(n),self.X/math.sqrt(n))\n",
    "        self.opt_w = np.dot(np.linalg.inv(np.add(cov,np.multiply(np.eye(d),self.lambd))),mu)\n",
    "        self.optimal = self.get_primal(self.opt_w)\n",
    "    def get_suboptimality(self,w,alpha): \n",
    "        if self.optimal == -1:\n",
    "           self.compute_optimum()\n",
    "        if(self.optimality_measure == 1): \n",
    "            return (-1, self.get_primal(w) - self.optimal)\n",
    "        elif self.optimality_measure == 2: \n",
    "            return (self.optimal - self.get_dual(alpha),-1)\n",
    "        elif self.optimality_measure == 3: \n",
    "            return (self.optimal - self.get_dual(alpha), self.get_primal(w) - self.optimal)\n",
    "        \n",
    "from sklearn.svm import LinearSVC\n",
    "class SVM_Risk(Ridge_Risk): # this class presents the svm objective function based on SDCA paper\n",
    "    def __init__(self, X, y,lambd,optimality_measure = 1):\n",
    "        Ridge_Risk.__init__(self, X, y,lambd,optimality_measure)\n",
    "    def __str__(self):\n",
    "        return (\"hinge loss with lambd = %f\" % self.lambd)\n",
    "    def get_dual(self,alpha): \n",
    "        da = 0\n",
    "        n, d = self.X.shape\n",
    "        num_inf = 0\n",
    "        for i in range(n):         \n",
    "            if alpha[i]*self.y[i] <= 1 and alpha[i]*self.y[i] >= 0:\n",
    "                da = da + alpha[i]*self.y[i]\n",
    "            else:\n",
    "                num_inf = num_inf + 1\n",
    "                if(num_inf % 1000 == 0): \n",
    "                    print(alpha[i]*self.y[i])\n",
    "                da = da + float(\"inf\")\n",
    "        if num_inf != 0: \n",
    "            print(num_inf)\n",
    "        da = da/float(n)\n",
    "        da = da - 0.5*self.lambd*np.square(np.linalg.norm(self.get_w(alpha)))\n",
    "        return da\n",
    "    def get_primal(self,w): \n",
    "        n, d = self.X.shape\n",
    "        pw = 0\n",
    "        for i in range(n): \n",
    "            dot_prod = np.dot(self.X[i,:],w)\n",
    "            pw = pw + max(0,1-self.y[i]*dot_prod)\n",
    "        pw = pw/float(n)\n",
    "        pw = pw + 0.5*self.lambd*np.square(np.linalg.norm(w))\n",
    "        return pw\n",
    "    def get_sdca_update(self,w,ii,alpha_i_old): \n",
    "        xi = self.X[ii,:] \n",
    "        yi = self.y[ii] \n",
    "        sqi = self.sq_row_norms[ii]\n",
    "        n, d = self.X.shape\n",
    "        return yi*max(0,min(1,(self.lambd*n*(1-yi*np.dot(xi,w))/sqi)+alpha_i_old*yi)) - alpha_i_old \n",
    "    def get_w_update(self,ii,delta_alpha_i): \n",
    "        n, d = self.X.shape\n",
    "        return delta_alpha_i*self.X[ii,:]/(self.lambd*n)\n",
    "    def get_sub_risk(self,indeces,lambd): \n",
    "        return SVM_Risk(self.X[indeces,:],self.y[indeces],lambd,self.optimality_measure)\n",
    "    def clone(self): \n",
    "        return SVM_Risk(self.X,self.y,self.lambd,self.optimality_measure)\n",
    "    def compute_optimum(self): \n",
    "        n = self.X.shape[0]\n",
    "        classi = svm.LinearSVC(C = 1.0/(n*self.lambd), loss = 'hinge', fit_intercept=False,tol = 0.000000001, max_iter = 1000000000)\n",
    "        classi = classi.fit(self.X,self.y)\n",
    "        self.optimal = self.get_primal(np.transpose(classi.coef_))\n",
    "        \n",
    "def sdca_opt(risk, num_effective_passes, lambd0 = -1, alpha0 = None, verbose = False): \n",
    "  n, d = risk.X.shape\n",
    "  rperm = np.random.permutation(n);\n",
    "  if alpha0 is None: \n",
    "    alpha = np.zeros(n)\n",
    "  else : \n",
    "    alpha = np.copy(alpha0)\n",
    "  w = risk.get_w(alpha)\n",
    "  dual_sub,primal_sub = risk.get_suboptimality(w,alpha) \n",
    "  sample_size = n\n",
    "  if verbose:\n",
    "    print(\" Initial objective value: {}\".format(obj_value))\n",
    "  itrs = [0.0]\n",
    "  optimality_primal = [primal_sub]\n",
    "  optimality_dual = [dual_sub]\n",
    "  completed_effective_passes = 0.0\n",
    "  while completed_effective_passes < num_effective_passes:\n",
    "    coords = rperm[np.random.permutation(sample_size)] \n",
    "    t = 0 \n",
    "    for ii in coords:\n",
    "        t = t + 1\n",
    "        alpha_i_old = alpha[ii]\n",
    "        # coordinate update step \n",
    "        delta_alpha_i = risk.get_sdca_update(w,ii,alpha_i_old)\n",
    "        alpha[ii] = alpha[ii] + delta_alpha_i\n",
    "        w = w + risk.get_w_update(ii,delta_alpha_i)\n",
    "    completed_effective_passes += len(coords) / float(n)\n",
    "    dual_sub,primal_sub = risk.get_suboptimality(w,alpha)\n",
    "    itrs.append(completed_effective_passes)\n",
    "    optimality_primal.append(primal_sub)\n",
    "    optimality_dual.append(dual_sub)\n",
    "    if verbose:\n",
    "      print(\"dual[{}]= {},primal[{}]={}\".format(completed_effective_passes, dual_sub,completed_effective_passes,primal_sub))\n",
    "  return (alpha, w, itrs,optimality_dual,optimality_primal)"
   ]
  },
  {
   "cell_type": "code",
   "execution_count": 35,
   "metadata": {
    "collapsed": false
   },
   "outputs": [],
   "source": [
    "def sdca_dynareg(risk_in, num_effective_passes, lambd0 = -1, alpha0 = None, verbose = False, stat_per_iter = False): \n",
    "  risk = risk_in.clone()\n",
    "  n, d = risk.X.shape\n",
    "  risk.lambd = 0.1\n",
    "  rperm = np.random.permutation(n);\n",
    "  if alpha0 is None: \n",
    "    alpha = np.zeros(n)\n",
    "  else : \n",
    "    alpha = np.copy(alpha0)\n",
    "  w = risk.get_w(alpha)\n",
    "  dual_optimality,primal_optimality = risk_in.get_suboptimality(w,alpha) \n",
    "  dual_optimality = [dual_optimality]\n",
    "  primal_optimality = [primal_optimality]\n",
    "  sample_size = n\n",
    "  if verbose:\n",
    "    print(\" Initial objective value: {}\".format(dual_optimality))\n",
    "  itrs = [0.0]\n",
    "  completed_effective_passes = 0.0\n",
    "  t = 0 \n",
    "  while completed_effective_passes < num_effective_passes:\n",
    "    coords = rperm[np.random.permutation(sample_size)] \n",
    "    for ii in coords:\n",
    "        t = t + 1\n",
    "        alpha_i_old = alpha[ii]\n",
    "        # coordinate update step \n",
    "        delta_alpha_i = risk.get_sdca_update(w,ii,alpha_i_old)\n",
    "        alpha[ii] = alpha[ii] + delta_alpha_i\n",
    "        w = w + risk.get_w_update(ii,delta_alpha_i)\n",
    "    completed_effective_passes += t / float(n)\n",
    "    dual_sub,primal_sub = risk_in.get_suboptimality(w,alpha)\n",
    "    itrs.append(completed_effective_passes)\n",
    "    dual_optimality.append(dual_sub)\n",
    "    primal_optimality.append(primal_sub)\n",
    "    if t > 1.0/risk.lambd and risk.lambd != risk_in.lambd : \n",
    "        lambd_old = risk.lambd\n",
    "        lambd_new = max(lambd_old/2.0,risk_in.lambd)\n",
    "        risk.lambd = lambd_new \n",
    "        w = w*(lambd_old/lambd_new)\n",
    "        t = 0\n",
    "    if verbose:\n",
    "       print(\"Obj[{}]= {},delta lambda={}\".format(completed_effective_passes, dual_sub,risk.lambd - risk_in.lambd))\n",
    "  return (alpha,w, itrs,dual_optimality,primal_optimality)"
   ]
  },
  {
   "cell_type": "code",
   "execution_count": null,
   "metadata": {
    "collapsed": false
   },
   "outputs": [
    {
     "name": "stdout",
     "output_type": "stream",
     "text": [
      " Initial objective value: [array([ 0.35093542])]\n",
      "Obj[1.0]= [ 570.6410654],delta lambda=0.04999\n",
      "Obj[2.0]= [ 146.1308116],delta lambda=0.02499\n",
      "Obj[3.0]= [ 64.80049073],delta lambda=0.01249\n",
      "Obj[4.0]= [ 23.29837829],delta lambda=0.00624\n",
      "Obj[5.0]= [ 8.38573926],delta lambda=0.003115"
     ]
    }
   ],
   "source": [
    "n = 3256; \n",
    "d = 123; \n",
    "import math\n",
    "lambd1 = pow(10,-5)\n",
    "epochs = 150\n",
    "#filename = \"../datasets/rcv1_train.binary\"\n",
    "filename = \"../datasets/a9a\"\n",
    "y, X = readfile(filename,n,d)\n",
    "rperm = np.random.permutation(n)\n",
    "X = X[rperm,:]\n",
    "y = y[rperm]\n",
    "for i in range(n):\n",
    "    if(y[i]==2 or y[i] == 0):\n",
    "        y[i] = -1;\n",
    "risk_ridge = SVM_Risk(X,y,lambd1,3)\n",
    "#_,steps_sgd_sdca,dual_sgd_sdca,_ = sgd_for_sdca(risk = risk_ridge,num_effective_passes = epochs,obj = objective_dual)\n",
    "(alpha,w, itrs,dual_sdca,primal_sdca) = sdca_opt(risk = risk_ridge, num_effective_passes = epochs,verbose=False)\n",
    "(alpha_dyna, w_dyna, itrs_dyna,dual_dyna,primal_dyna) = sdca_dynareg(risk_in = risk_ridge, num_effective_passes = epochs,verbose=True)\n",
    "\n",
    "#plt.plot(steps_sgd_sdca,np.log10(dual_sgd_sdca),label = 'sgd for sdca')\n",
    "#plt.savefig('plot/a9a_adaptive_sdca_dual_convergence.eps',format = 'eps')\n",
    "#clustered_distributed_test(X,y,lambd,k)\n",
    "#dual_transfer_test(X,y,lambd,k)\n",
    "#partial_distributed_test(X,y,lambd,k)\n",
    "#alpha = run_small_experiment(X,y, lambd,passes,\"plot/a9a_ridge_dual.eps\",primal_accuracy =False)"
   ]
  },
  {
   "cell_type": "code",
   "execution_count": null,
   "metadata": {
    "collapsed": false
   },
   "outputs": [],
   "source": [
    "plt.plot(itrs,np.log10(dual_sdca),label = 'sdca')\n",
    "plt.plot(itrs_dyna,np.log10(dual_dyna),label = 'sdca_dyna')\n",
    "plt.legend()"
   ]
  },
  {
   "cell_type": "code",
   "execution_count": null,
   "metadata": {
    "collapsed": false
   },
   "outputs": [],
   "source": [
    "plt.plot(itrs,np.log10(primal_sdca),label = 'sdca')\n",
    "plt.plot(itrs_dyna,np.log10(primal_dyna),label = 'sdca_dyna')\n",
    "plt.legend()"
   ]
  },
  {
   "cell_type": "code",
   "execution_count": 56,
   "metadata": {
    "collapsed": false
   },
   "outputs": [
    {
     "name": "stdout",
     "output_type": "stream",
     "text": [
      "0.437120079393\n"
     ]
    }
   ],
   "source": [
    "opt_ridge = risk_ridge.optimal\n",
    "print(opt_ridge)\n",
    "# risk_small = SVM_Risk(X,y,lambd1,False)\n",
    "# new_alpha, new_itrs, new_opts, new_w = sdca_opt(risk = risk_small, num_effective_passes =10, alpha0= alpha, stat_per_iter=False)\n",
    "# new_alpha, itrs2, opts2, new_w = sdca_opt(risk = risk_small, num_effective_passes =10,  stat_per_iter=False)\n",
    "# plt.plot(new_itrs,np.log10(new_opts))\n",
    "# plt.plot(itrs2,np.log10(opts2))"
   ]
  },
  {
   "cell_type": "code",
   "execution_count": 40,
   "metadata": {
    "collapsed": false
   },
   "outputs": [
    {
     "data": {
      "text/plain": [
       "0.22426141712695319"
      ]
     },
     "execution_count": 40,
     "metadata": {},
     "output_type": "execute_result"
    }
   ],
   "source": [
    "risk_ridge.get_dual(alpha)"
   ]
  },
  {
   "cell_type": "code",
   "execution_count": 11,
   "metadata": {
    "collapsed": false
   },
   "outputs": [
    {
     "data": {
      "text/plain": [
       "[<matplotlib.lines.Line2D at 0x110f61f10>]"
      ]
     },
     "execution_count": 11,
     "metadata": {},
     "output_type": "execute_result"
    },
    {
     "data": {
      "image/png": "[encoded data removed]",
      "text/plain": [
       "<matplotlib.figure.Figure at 0x110b7d4d0>"
      ]
     },
     "metadata": {},
     "output_type": "display_data"
    }
   ],
   "source": [
    "lambd_small = lambd1/100\n",
    "risk_small = Ridge_Risk(X,y,lambd_small,False)\n",
    "new_alpha, new_itrs, new_opts, new_w = sdca_opt(risk = risk_small, num_effective_passes =3, alpha0= alpha, stat_per_iter=False)\n",
    "nitr = np.multiply(new_itrs,n)\n",
    "plt.plot((new_itrs),np.log10(new_opts))\n"
   ]
  },
  {
   "cell_type": "code",
   "execution_count": 6,
   "metadata": {
    "collapsed": false
   },
   "outputs": [
    {
     "name": "stderr",
     "output_type": "stream",
     "text": [
      "/usr/local/lib/python2.7/site-packages/ipykernel/__main__.py:5: RuntimeWarning: divide by zero encountered in log10\n"
     ]
    },
    {
     "data": {
      "text/plain": [
       "[<matplotlib.lines.Line2D at 0x110954950>]"
      ]
     },
     "execution_count": 6,
     "metadata": {},
     "output_type": "execute_result"
    },
    {
     "data": {
      "image/png": "[encoded data removed]",
      "text/plain": [
       "<matplotlib.figure.Figure at 0x1108fa9d0>"
      ]
     },
     "metadata": {},
     "output_type": "display_data"
    }
   ],
   "source": [
    "lambd_small = lambd1/10.0\n",
    "risk_small = Ridge_Risk(X,y,lambd_small,False)\n",
    "new_alpha, new_itrs, new_opts, new_w = sdca_opt(risk = risk_small, num_effective_passes =3, alpha0= alpha, stat_per_iter=False)\n",
    "nitr = np.multiply(new_itrs,n)\n",
    "plt.plot(np.log10(new_itrs),np.log10(new_opts))"
   ]
  },
  {
   "cell_type": "code",
   "execution_count": 20,
   "metadata": {
    "collapsed": false
   },
   "outputs": [
    {
     "name": "stderr",
     "output_type": "stream",
     "text": [
      "/usr/local/lib/python2.7/site-packages/ipykernel/__main__.py:2: RuntimeWarning: divide by zero encountered in log10\n",
      "  from ipykernel import kernelapp as app\n"
     ]
    },
    {
     "data": {
      "text/plain": [
       "[<matplotlib.lines.Line2D at 0x113e88550>]"
      ]
     },
     "execution_count": 20,
     "metadata": {},
     "output_type": "execute_result"
    },
    {
     "data": {
      "image/png": "[encoded data removed]",
      "text/plain": [
       "<matplotlib.figure.Figure at 0x12161c550>"
      ]
     },
     "metadata": {},
     "output_type": "display_data"
    }
   ],
   "source": []
  },
  {
   "cell_type": "code",
   "execution_count": 56,
   "metadata": {
    "collapsed": false,
    "scrolled": false
   },
   "outputs": [
    {
     "data": {
      "text/plain": [
       "<matplotlib.legend.Legend at 0x10ad36690>"
      ]
     },
     "execution_count": 56,
     "metadata": {},
     "output_type": "execute_result"
    },
    {
     "data": {
      "image/png": "[encoded data removed]",
      "text/plain": [
       "<matplotlib.figure.Figure at 0x1114ccad0>"
      ]
     },
     "metadata": {},
     "output_type": "display_data"
    }
   ],
   "source": [
    "n = 32561; \n",
    "d = 123; \n",
    "import math\n",
    "lambd1 = 10.0/float(n)\n",
    "epochs = 50\n",
    "#filename = \"../datasets/rcv1_train.binary\"\n",
    "filename = \"../datasets/a9a\"\n",
    "y, X = readfile(filename,n,d)\n",
    "rperm = np.random.permutation(n)\n",
    "X = X[rperm,:]\n",
    "y = y[rperm]\n",
    "for i in range(n):\n",
    "    if(y[i]==2 or y[i] == 0):\n",
    "        y[i] = -1;\n",
    "risk_svm = SVM_Risk(X,y,lambd1,False)\n",
    "risk_small = SVM_Risk(X,y,lambd1*10.0,False)\n",
    "#_,steps_sgd_sdca,dual_sgd_sdca,_ = sgd_for_sdca(risk = risk_ridge,num_effective_passes = epochs,obj = objective_dual)\n",
    "(alpha, itrs,optimality,w) = sdca_opt(risk = risk_svm, num_effective_passes = epochs)\n",
    "(alpha, itrs2,optimality2,w) = sdca_opt(risk = risk_small, num_effective_passes = epochs)\n",
    "plt.plot(itrs,np.log10(optimality),label='large')\n",
    "plt.plot(itrs2,np.log10(optimality2),label='small')\n",
    "plt.legend()\n",
    "#plt.plot(steps_sgd_sdca,np.log10(dual_sgd_sdca),label = 'sgd for sdca')\n",
    "#plt.savefig('plot/a9a_adaptive_sdca_dual_convergence.eps',format = 'eps')\n",
    "#clustered_distributed_test(X,y,lambd,k)\n",
    "#dual_transfer_test(X,y,lambd,k)\n",
    "#partial_distributed_test(X,y,lambd,k)\n",
    "#alpha = run_small_experiment(X,y, lambd,passes,\"plot/a9a_ridge_dual.eps\",primal_accuracy =False)"
   ]
  },
  {
   "cell_type": "code",
   "execution_count": 55,
   "metadata": {
    "collapsed": false
   },
   "outputs": [
    {
     "data": {
      "text/plain": [
       "array([ 0.00200343])"
      ]
     },
     "execution_count": 55,
     "metadata": {},
     "output_type": "execute_result"
    }
   ],
   "source": [
    "risk_svm.optimal - risk_small.optimal"
   ]
  },
  {
   "cell_type": "code",
   "execution_count": 21,
   "metadata": {
    "collapsed": false
   },
   "outputs": [
    {
     "data": {
      "text/plain": [
       "[<matplotlib.lines.Line2D at 0x113449b10>]"
      ]
     },
     "execution_count": 21,
     "metadata": {},
     "output_type": "execute_result"
    },
    {
     "data": {
      "image/png": "[encoded data removed]",
      "text/plain": [
       "<matplotlib.figure.Figure at 0x110adb9d0>"
      ]
     },
     "metadata": {},
     "output_type": "display_data"
    }
   ],
   "source": [
    "lambd_small = lambd1/2\n",
    "risk_small = SVM_Risk(X,y,lambd_small,False)\n",
    "new_alpha, new_itrs, new_opts, new_w = sdca_opt(risk = risk_small, num_effective_passes =3, alpha0= alpha, stat_per_iter=False)\n",
    "nitr = np.multiply(new_itrs,n)\n",
    "plt.plot((new_itrs),np.log10(new_opts))\n"
   ]
  },
  {
   "cell_type": "code",
   "execution_count": null,
   "metadata": {
    "collapsed": false
   },
   "outputs": [],
   "source": [
    "n = 32561; \n",
    "d = 123; \n",
    "from sklearn.cluster import KMeans\n",
    "lambd = 1.0/math.sqrt(n)\n",
    "epochs = 4\n",
    "k = 2\n",
    "#filename = \"../datasets/rcv1_train.binary\"\n",
    "filename = \"../datasets/a9a\"\n",
    "y, X = readfile(filename,n,d)\n",
    "rperm = np.random.permutation(n)\n",
    "X = X[rperm,:]\n",
    "y = y[rperm]\n",
    "clf = Ridge(alpha=lambd*n,fit_intercept=False)\n",
    "clf.fit(X, y)\n",
    "risk_ridge = Ridge_Risk_C(X,y,lambd)\n",
    "primal_opt =  risk_ridge.get_primal(clf.coef_)\n",
    "def objective_dual(w,alpha,risk): \n",
    "    return primal_opt - risk.get_dual(alpha)\n",
    "def objective_primal(w,alpha,risk): \n",
    "    #print( primal_func(w,alpha,X,y,lambd) - primal_opt)\n",
    "    return   risk.get_primal(w) - primal_opt\n",
    "#_,steps_sgd_sdca,dual_sgd_sdca,_ = sgd_for_sdca(risk = risk_ridge,num_effective_passes = epochs,obj = objective_dual)\n",
    "steps_adap, dual_adapt = distributed_simulation(risk_ridge,k,epochs,obj = objective_primal)\n",
    "_,steps_sdca,dual_sdca,_ = sdca_opt(risk = risk_ridge, num_effective_passes = epochs,obj = objective_primal)\n",
    "\n",
    "plt.plot(steps_adap,np.log10(dual_adapt),label = 'adaptive sdca')\n",
    "plt.plot(steps_sdca,np.log10(dual_sdca), label = 'sdca')\n",
    "#plt.plot(steps_sgd_sdca,np.log10(dual_sgd_sdca),label = 'sgd for sdca')\n",
    "plt.legend()\n",
    "plt.savefig('plot/a9a_adaptive_sdca_primal_convergence.eps',format = 'eps')\n",
    "#clustered_distributed_test(X,y,lambd,k)\n",
    "#dual_transfer_test(X,y,lambd,k)\n",
    "#partial_distributed_test(X,y,lambd,k)\n",
    "#alpha = run_small_experiment(X,y, lambd,passes,\"plot/a9a_ridge_dual.eps\",primal_accuracy =False)"
   ]
  },
  {
   "cell_type": "code",
   "execution_count": null,
   "metadata": {
    "collapsed": true
   },
   "outputs": [],
   "source": []
  }
 ],
 "metadata": {
  "kernelspec": {
   "display_name": "Python 2",
   "language": "python",
   "name": "python2"
  },
  "language_info": {
   "codemirror_mode": {
    "name": "ipython",
    "version": 2
   },
   "file_extension": ".py",
   "mimetype": "text/x-python",
   "name": "python",
   "nbconvert_exporter": "python",
   "pygments_lexer": "ipython2",
   "version": "2.7.11"
  }
 },
 "nbformat": 4,
 "nbformat_minor": 0
}
