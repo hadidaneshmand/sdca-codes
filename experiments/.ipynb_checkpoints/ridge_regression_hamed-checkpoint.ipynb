{
 "cells": [
  {
   "cell_type": "code",
   "execution_count": 1,
   "metadata": {
    "collapsed": false
   },
   "outputs": [
    {
     "name": "stdout",
     "output_type": "stream",
     "text": [
      "Using matplotlib backend: MacOSX\n",
      "Populating the interactive namespace from numpy and matplotlib\n"
     ]
    }
   ],
   "source": [
    "%pylab\n",
    "%matplotlib inline\n",
    "import numpy as np \n",
    "import matplotlib.pyplot as plt\n",
    "from sklearn.linear_model import Ridge\n",
    "def readfile(filename, n,d):\n",
    "    y = np.zeros(n) # targets\n",
    "    X = np.zeros((n,d)) # input matrix each row is a sample data point\n",
    "    li = 0 \n",
    "    with open(filename, \"rb\") as f:\n",
    "        for line in f:\n",
    "           if li>=n : \n",
    "             break;\n",
    "           parts = line.split()\n",
    "           y[li] = float(parts[0])\n",
    "           for i in range(len(parts)): \n",
    "                if i >0 and parts[i] != '\\n': \n",
    "                    fparts = parts[i].split(\":\")\n",
    "                    X[li,int(fparts[0])-1] = float(fparts[1])\n",
    "           li = li + 1\n",
    "    return (y,X)\n"
   ]
  },
  {
   "cell_type": "code",
   "execution_count": 2,
   "metadata": {
    "collapsed": false
   },
   "outputs": [
    {
     "data": {
      "text/plain": [
       "(array([ 51.,   2.,   0.,   0.,   0.,   0.,   0.,   0.,   0.,   1.]),\n",
       " array([ -1.60642224e-18,   2.80895769e-01,   5.61791537e-01,\n",
       "          8.42687306e-01,   1.12358307e+00,   1.40447884e+00,\n",
       "          1.68537461e+00,   1.96627038e+00,   2.24716615e+00,\n",
       "          2.52806192e+00,   2.80895769e+00]),\n",
       " <a list of 10 Patch objects>)"
      ]
     },
     "execution_count": 2,
     "metadata": {},
     "output_type": "execute_result"
    },
    {
     "data": {
      "image/png": "[encoded data removed]",
      "text/plain": [
       "<matplotlib.figure.Figure at 0x110bf6ad0>"
      ]
     },
     "metadata": {},
     "output_type": "display_data"
    }
   ],
   "source": [
    "n = 10101; \n",
    "d = 54; \n",
    "filename = \"../datasets/covtype.libsvm.binary.scale\"\n",
    "y, X = readfile(filename,n,d)\n",
    "for i in range(n):\n",
    "    if(y[i]==2 or y[i] == 0):\n",
    "        y[i] = -1;\n",
    "#y = 2*(np.random.randint(2,size = n) - 0.5)        \n",
    "# ind_pos = y>0 \n",
    "# ind_negs = y<0 \n",
    "# X_p = np.zeros(X.shape)\n",
    "# y_p = np.zeros(y.shape)\n",
    "# print(len(ind_pos))\n",
    "# X_p[0:sum(ind_pos),:] = X[ind_pos,:]\n",
    "# X_p[sum(ind_pos):n,:] = X[ind_negs,:]\n",
    "# y_p[0:sum(ind_pos)] = y[ind_pos]\n",
    "# y_p[sum(ind_pos):n] = y[ind_negs]\n",
    "# X = X_p \n",
    "# y = y_p\n",
    "#d = 5\n",
    "#X = X[:,1:d]\n",
    "\n",
    "lambd = 1.0/n\n",
    "s, U = np.linalg.eigh(np.dot(np.transpose(X),X)/n) # s is lambda matrix in the write-up and  U and V are changed here\n",
    "#d = np.divide(s,s2l)\n",
    "#w = np.dot(np.transpose(V),np.dot(np.diag(d),np.dot(np.transpose(U),y)))\n",
    "mu = np.dot(y,X)/n\n",
    "dots = np.dot(np.transpose(U),mu)\n",
    "# ind = 10\n",
    "# t = U[:,ind]\n",
    "# #t[t>0] = 1\n",
    "# #t[t<0] = -1 \n",
    "# plt.plot(t)\n",
    "plt.hist(s)"
   ]
  },
  {
   "cell_type": "code",
   "execution_count": null,
   "metadata": {
    "collapsed": false
   },
   "outputs": [],
   "source": [
    "scatter(np.log10(s),np.log10(np.abs(dots)))\n",
    "plt.xlabel('log10(lambda_i)')\n",
    "plt.ylabel('log10(absolute(inner products))')\n",
    "plt.savefig('plot/inprods_covtype.eps', facecolor='w', edgecolor='w',orientation='portrait',  format='eps', bbox_inches='tight')"
   ]
  },
  {
   "cell_type": "code",
   "execution_count": null,
   "metadata": {
    "collapsed": false
   },
   "outputs": [],
   "source": [
    "w = np.dot(np.linalg.inv(np.add(np.dot(np.transpose(X),X)/n,10*np.identity(d)/n)),mu)\n",
    "print(np.dot(np.transpose(w),w))\n",
    "clf = Ridge(alpha=10)\n",
    "clf.fit(X,y)\n",
    "print(np.dot(np.transpose(clf.coef_),clf.coef_))"
   ]
  },
  {
   "cell_type": "code",
   "execution_count": null,
   "metadata": {
    "collapsed": false
   },
   "outputs": [],
   "source": [
    "n"
   ]
  },
  {
   "cell_type": "code",
   "execution_count": null,
   "metadata": {
    "collapsed": false
   },
   "outputs": [],
   "source": [
    "U, s, V = np.linalg.svd(np.dot(np.transpose(X[1:1000,:]),X[1:1000,:])/1000, full_matrices=False)\n",
    "np.log10(s)"
   ]
  },
  {
   "cell_type": "code",
   "execution_count": null,
   "metadata": {
    "collapsed": false
   },
   "outputs": [],
   "source": [
    "inds_pos = y>0 \n",
    "inds_neg = y<0 \n",
    "n_pos = sum(inds_pos)\n",
    "n_neg = sum(inds_neg)\n",
    "mu_pos = np.mean(X[inds_pos,:],axis = 0)\n",
    "mu_neg = np.mean(X[inds_neg,:],axis = 0)\n",
    "for i in range(n):\n",
    "    if(y[i]==1):\n",
    "        X[i,:] = X[i,:]-mu_pos\n",
    "    else: \n",
    "        X[i,:] = X[i,:]-mu_neg\n",
    "U, s, V = np.linalg.svd(X, full_matrices=False)\n",
    "hist(s)"
   ]
  },
  {
   "cell_type": "code",
   "execution_count": null,
   "metadata": {
    "collapsed": false
   },
   "outputs": [],
   "source": [
    "rperm = np.random.permutation(n)\n",
    "inds_pos = y>0 \n",
    "inds_neg = y<0 \n",
    "n_pos = sum(inds_pos)\n",
    "n_neg = sum(inds_neg)\n",
    "mu_pos = np.mean(X[inds_pos,:],axis = 0)\n",
    "mu_neg = np.mean(X[inds_neg,:],axis = 0)\n",
    "m = 2000\n",
    "y = y[rperm[1:m]]\n",
    "X = X[rperm[1:m],:]"
   ]
  },
  {
   "cell_type": "code",
   "execution_count": null,
   "metadata": {
    "collapsed": false
   },
   "outputs": [],
   "source": [
    "U, s, V = np.linalg.svd(np.dot(X[y>0,:],np.transpose(X[y<0,:])), full_matrices=False)\n",
    "(s[s>0.0001])"
   ]
  },
  {
   "cell_type": "code",
   "execution_count": null,
   "metadata": {
    "collapsed": false
   },
   "outputs": [],
   "source": [
    "D = np.dot(X,np.transpose(X))\n",
    "inds_pos = y>0 \n",
    "inds_neg = y<0 \n",
    "n_pos = sum(inds_pos)\n",
    "n_neg = sum(inds_neg)\n",
    "mu_pos = np.mean(X[inds_pos,:],axis = 0)\n",
    "mu_neg = np.mean(X[inds_neg,:],axis = 0)\n",
    "E = np.zeros(D.shape)\n",
    "E[np.ix_(inds_pos,inds_pos)] = np.dot(mu_pos,mu_pos)\n",
    "E[np.ix_(inds_neg,inds_pos)] = np.dot(mu_neg,mu_pos)\n",
    "E[np.ix_(inds_pos,inds_neg)] = np.dot(mu_pos,mu_neg)\n",
    "E[np.ix_(inds_neg,inds_neg)] = np.dot(mu_neg,mu_neg)\n",
    "for i in range(m-1): \n",
    "  E[i,i] = D[i,i]\n",
    "#max(np.linalg.eig(D-E))\n",
    "#np.linalg.norm(D-E,2)\n",
    "np.dot(y,np.dot(D-E,y))\n",
    "#np.dot(y,np.dot(E,y))/n\n",
    "#np.linalg.rank(D-E)\n"
   ]
  },
  {
   "cell_type": "code",
   "execution_count": null,
   "metadata": {
    "collapsed": false
   },
   "outputs": [],
   "source": [
    "U, s, V = np.linalg.svd(D-E)"
   ]
  },
  {
   "cell_type": "code",
   "execution_count": null,
   "metadata": {
    "collapsed": false
   },
   "outputs": [],
   "source": [
    "plt.scatter(np.dot(np.transpose(U),2*(np.random.randint(2,size = len(y)) - 0.5)),s)"
   ]
  },
  {
   "cell_type": "code",
   "execution_count": null,
   "metadata": {
    "collapsed": false
   },
   "outputs": [],
   "source": [
    "M = D[np.ix_(inds_neg,inds_neg)]\n",
    "p, q = M.shape\n",
    "A = np.asarray(M).reshape(-1)\n",
    "plt.hist(A- np.dot(mu_neg,mu_neg))"
   ]
  },
  {
   "cell_type": "code",
   "execution_count": null,
   "metadata": {
    "collapsed": false
   },
   "outputs": [],
   "source": [
    "t = U[:,rperm[1:m]]\n",
    "t.shape"
   ]
  },
  {
   "cell_type": "code",
   "execution_count": null,
   "metadata": {
    "collapsed": false
   },
   "outputs": [],
   "source": [
    "plt.scatter(s*n,np.dot(np.transpose(U),y))\n",
    "plt.savefig('covtype_eigs_one.eps', facecolor='w', edgecolor='w', orientation='portrait',  format='eps')"
   ]
  },
  {
   "cell_type": "code",
   "execution_count": null,
   "metadata": {
    "collapsed": false
   },
   "outputs": [],
   "source": [
    "yhat = np.random.binomial(1,0.5,n);\n",
    "yhat[yhat==0] = -1\n",
    "p = np.dot(np.transpose(U),y)\n",
    "plt.scatter(np.power(s*n,2),p)\n",
    "np.dot(y,np.abs(y))"
   ]
  },
  {
   "cell_type": "code",
   "execution_count": null,
   "metadata": {
    "collapsed": false
   },
   "outputs": [],
   "source": [
    "max(np.dot(np.transpose(U),np.subtract(np.dot(X,w),y)))"
   ]
  },
  {
   "cell_type": "code",
   "execution_count": null,
   "metadata": {
    "collapsed": false
   },
   "outputs": [],
   "source": [
    "n = 32561; \n",
    "d = 123; \n",
    "filename = \"../datasets/a9a\"\n",
    "y, X = readfile(filename,n,d)\n",
    "for i in range(n):\n",
    "    if(y[i]==2 or y[i] == 0):\n",
    "        y[i] = -1;\n",
    "mu = np.dot(y,X)/n\n",
    "w = np.dot(np.linalg.inv(np.add(np.dot(np.transpose(X),X)/n,np.identity(d)/n)),mu)\n",
    "np.dot(np.transpose(w),w)"
   ]
  },
  {
   "cell_type": "code",
   "execution_count": null,
   "metadata": {
    "collapsed": false
   },
   "outputs": [],
   "source": [
    "inds_pos = y>0 \n",
    "inds_neg = y<0 \n",
    "n_pos = sum(inds_pos)\n",
    "n_neg = sum(inds_neg)\n",
    "mu_pos = np.mean(X[inds_pos,:],axis = 0)\n",
    "mu_neg = np.mean(X[inds_neg,:],axis = 0)\n",
    "for i in range(n):\n",
    "    if(y[i]==1):\n",
    "        X[i,:] = X[i,:]-mu_pos\n",
    "    else: \n",
    "        X[i,:] = X[i,:]-mu_neg\n",
    "U, s, V = np.linalg.svd(X, full_matrices=False)\n",
    "hist(s)"
   ]
  },
  {
   "cell_type": "code",
   "execution_count": null,
   "metadata": {
    "collapsed": false
   },
   "outputs": [],
   "source": [
    "p = np.dot(np.diag(d),np.dot(np.transpose(U),y))\n",
    "plt.hist(p)\n",
    "plt.savefig('a9a_cs.eps', facecolor='w', edgecolor='w', orientation='portrait',  format='eps')"
   ]
  },
  {
   "cell_type": "code",
   "execution_count": null,
   "metadata": {
    "collapsed": false
   },
   "outputs": [],
   "source": [
    "tem = np.dot(np.transpose(U),y)\n",
    "plt.scatter(s*n,tem)\n",
    "plt.savefig('a9a_eign_dot.eps', facecolor='w', edgecolor='w', orientation='portrait',  format='eps')"
   ]
  },
  {
   "cell_type": "code",
   "execution_count": null,
   "metadata": {
    "collapsed": false
   },
   "outputs": [],
   "source": [
    "sum(y<0)"
   ]
  },
  {
   "cell_type": "code",
   "execution_count": null,
   "metadata": {
    "collapsed": false
   },
   "outputs": [],
   "source": [
    "max(np.dot(np.transpose(U),np.subtract(np.dot(X,w),y)))"
   ]
  },
  {
   "cell_type": "code",
   "execution_count": null,
   "metadata": {
    "collapsed": false
   },
   "outputs": [],
   "source": [
    "mean(np.subtract(np.dot(X,w),y))"
   ]
  },
  {
   "cell_type": "code",
   "execution_count": null,
   "metadata": {
    "collapsed": true
   },
   "outputs": [],
   "source": [
    "n = 50101; \n",
    "d = 54; \n",
    "filename = \"../datasets/covtype.libsvm.binary.scale\"\n",
    "y, X = readfile(filename,n,d)\n",
    "lambd = 100.0/n\n",
    "U, s, V = np.linalg.svd(X, full_matrices=False) # s is lambda matrix in the write-up and  U and V are changed here\n",
    "s2 = np.power(s,2)\n",
    "s = s/float(n)\n",
    "s2 = s2/float(n)\n",
    "s2l = s2 + lambd\n",
    "d = np.divide(s,s2l)\n",
    "w = np.dot(np.transpose(V),np.dot(np.diag(d),np.dot(np.transpose(U),y)))"
   ]
  },
  {
   "cell_type": "code",
   "execution_count": null,
   "metadata": {
    "collapsed": false
   },
   "outputs": [],
   "source": [
    "np.linalg.norm(w)"
   ]
  },
  {
   "cell_type": "code",
   "execution_count": null,
   "metadata": {
    "collapsed": true
   },
   "outputs": [],
   "source": [
    "def dots_sample(X,y,steps,d,n,num_rep):\n",
    "    tracks = np.zeros((d,steps))\n",
    "    sample_sizes = np.zeros(steps)\n",
    "    for i in range(steps): \n",
    "        prods = np.zeros(d)\n",
    "        for j in range(num_rep):\n",
    "            rperm = np.random.permutation(n)\n",
    "            isize = 500*pow(2,i)\n",
    "            sample_sizes[i] = isize\n",
    "            Xs = X[rperm[1:isize],:]\n",
    "            ys = y[rperm[1:isize]]\n",
    "            U, s, V = np.linalg.svd(Xs, full_matrices=False) # s is lambda matrix in the write-up and  U and V are changed here\n",
    "            prods = prods + np.abs(np.dot(np.transpose(U),ys))\n",
    "            print(str(s[1]) + \",\" +  str(s[4]))\n",
    "        tracks[:,i] = np.divide(prods,num_rep)\n",
    "    for i in range(7):\n",
    "        l = '%lf' % s[i]\n",
    "        plt.plot(sample_sizes,np.power(tracks[i,:],2),label = l )\n",
    "        lgd = plt.legend(loc='upper center', bbox_to_anchor=(0.5, -0.05),\n",
    "                   fancybox=True, shadow=True, ncol=5)"
   ]
  },
  {
   "cell_type": "code",
   "execution_count": null,
   "metadata": {
    "collapsed": false
   },
   "outputs": [],
   "source": [
    "n = 50101; \n",
    "d = 54; \n",
    "filename = \"../datasets/covtype.libsvm.binary.scale\"\n",
    "y, X = readfile(filename,n,d)\n",
    "for i in range(n):\n",
    "    if(y[i]==2 or y[i] == 0):\n",
    "        y[i] = -1;\n",
    "steps = 7\n",
    "num_rep = 1\n",
    "dots_sample(X,y,steps,d,n,num_rep)\n",
    "sum(y)"
   ]
  },
  {
   "cell_type": "code",
   "execution_count": null,
   "metadata": {
    "collapsed": false
   },
   "outputs": [],
   "source": [
    "n = 32561; \n",
    "d = 123; \n",
    "filename = \"../datasets/a9a\"\n",
    "y, X = readfile(filename,n,d)\n",
    "for i in range(n):\n",
    "    if(y[i]==2 or y[i] == 0):\n",
    "        y[i] = -1;\n",
    "steps = 7\n",
    "num_rep = 1\n",
    "dots_sample(X,y,steps,d,n,num_rep)\n",
    "sum(y)"
   ]
  },
  {
   "cell_type": "code",
   "execution_count": null,
   "metadata": {
    "collapsed": false
   },
   "outputs": [],
   "source": [
    "n = 49749; \n",
    "d = 300; \n",
    "filename = \"../datasets/w8a\"\n",
    "y, X = readfile(filename,n,d)\n",
    "for i in range(n):\n",
    "    if(y[i]==2 or y[i] == 0):\n",
    "        y[i] = -1;\n",
    "steps = 7\n",
    "num_rep = 1\n",
    "#dots_sample(X,y,steps,d,n,num_rep)\n",
    "s, U = np.linalg.eigh(np.dot(np.transpose(X),X)/n) # s is lambda matrix in the write-up and  U and V are changed here\n",
    "#d = np.divide(s,s2l)\n",
    "#w = np.dot(np.transpose(V),np.dot(np.diag(d),np.dot(np.transpose(U),y)))\n",
    "mu = np.dot(y,X)/n\n",
    "dots = np.dot(np.transpose(U),mu)\n",
    "scatter(np.log10(s),np.log10(np.abs(dots)))\n",
    "plt.xlabel('log10(lambda_i)')\n",
    "plt.ylabel('log10(absolute(inner products))')\n",
    "plt.savefig('plot/inprods_w8a.eps', facecolor='w', edgecolor='w',orientation='portrait',  format='eps', bbox_inches='tight')"
   ]
  },
  {
   "cell_type": "code",
   "execution_count": null,
   "metadata": {
    "collapsed": false
   },
   "outputs": [],
   "source": [
    "n = 64000; \n",
    "d = 18; \n",
    "filename = \"../datasets/SUSY\"\n",
    "y, X = readfile(filename,n,d)\n",
    "for i in range(n):\n",
    "    if(y[i]==2 or y[i] == 0):\n",
    "        y[i] = -1;\n",
    "steps = 8\n",
    "num_rep = 1\n",
    "dots_sample(X,y,steps,d,n,num_rep)"
   ]
  },
  {
   "cell_type": "code",
   "execution_count": null,
   "metadata": {
    "collapsed": false
   },
   "outputs": [],
   "source": [
    "sum(y<0)"
   ]
  },
  {
   "cell_type": "code",
   "execution_count": null,
   "metadata": {
    "collapsed": false
   },
   "outputs": [],
   "source": [
    "sum(y==0)"
   ]
  },
  {
   "cell_type": "code",
   "execution_count": null,
   "metadata": {
    "collapsed": false
   },
   "outputs": [],
   "source": [
    "2*(np.random.randint(2,size = 100) - 0.5)"
   ]
  },
  {
   "cell_type": "code",
   "execution_count": null,
   "metadata": {
    "collapsed": false
   },
   "outputs": [],
   "source": [
    "U, s, V = np.linalg.svd(X, full_matrices=False)\n"
   ]
  },
  {
   "cell_type": "code",
   "execution_count": null,
   "metadata": {
    "collapsed": false
   },
   "outputs": [],
   "source": [
    "s"
   ]
  },
  {
   "cell_type": "code",
   "execution_count": null,
   "metadata": {
    "collapsed": true
   },
   "outputs": [],
   "source": [
    "def norm_dist(X,y,subsample,num_rep):\n",
    "    norms = np.zeros(num_rep)\n",
    "    n,d = X.shape\n",
    "    for i in range(num_rep): \n",
    "      rperm = np.random.permutation(n)\n",
    "      rperm = rperm[1:subsample]\n",
    "      X_sub = X[rperm,:]\n",
    "      y_sub = y[rperm]\n",
    "      lambd = 1.0/subsample\n",
    "      clf = Ridge(alpha=1.0,fit_intercept=False)\n",
    "      clf.fit(X_sub,y_sub)\n",
    "      norms[i] = np.linalg.norm(clf.coef_)\n",
    "    return(norms)"
   ]
  },
  {
   "cell_type": "code",
   "execution_count": null,
   "metadata": {
    "collapsed": false
   },
   "outputs": [],
   "source": [
    "n = 50101; \n",
    "d = 54; \n",
    "filename = \"../datasets/covtype.libsvm.binary.scale\"\n",
    "y, X = readfile(filename,n,d)\n",
    "for i in range(n):\n",
    "    if(y[i]==2 or y[i] == 0):\n",
    "        y[i] = -1;\n",
    "norms = norm_dist(X,y,20000,100)"
   ]
  },
  {
   "cell_type": "code",
   "execution_count": null,
   "metadata": {
    "collapsed": false
   },
   "outputs": [],
   "source": [
    "plt.hist(norms)"
   ]
  },
  {
   "cell_type": "code",
   "execution_count": null,
   "metadata": {
    "collapsed": true
   },
   "outputs": [],
   "source": [
    "n = 50101; \n",
    "d = 54; \n",
    "filename = \"../datasets/covtype.libsvm.binary.scale\"\n",
    "y, X = readfile(filename,n,d)\n",
    "X = X[:,1:20]\n",
    "for i in range(n):\n",
    "    if(y[i]==2 or y[i] == 0):\n",
    "        y[i] = -1;\n",
    "norms = norm_dist(X,y,20000,100)"
   ]
  },
  {
   "cell_type": "code",
   "execution_count": null,
   "metadata": {
    "collapsed": false
   },
   "outputs": [],
   "source": [
    "plt.hist(norms)"
   ]
  },
  {
   "cell_type": "code",
   "execution_count": null,
   "metadata": {
    "collapsed": false
   },
   "outputs": [],
   "source": [
    "n = 32561; \n",
    "d = 123; \n",
    "filename = \"../datasets/a9a\"\n",
    "y, X = readfile(filename,n,d)\n",
    "for i in range(n):\n",
    "    if(y[i]==2 or y[i] == 0):\n",
    "        y[i] = -1;\n",
    "s, U = np.linalg.eigh(np.dot(np.transpose(X),X)/n) # s is lambda matrix in the write-up and  U and V are changed here\n",
    "#d = np.divide(s,s2l)\n",
    "#w = np.dot(np.transpose(V),np.dot(np.diag(d),np.dot(np.transpose(U),y)))\n",
    "mu = np.dot(y,X)/n\n",
    "dots = np.dot(np.transpose(U),mu)\n",
    "scatter(np.log10(s),np.log10(np.abs(dots)))\n",
    "plt.xlabel('log10(lambda_i)')\n",
    "plt.ylabel('log10(absolute(inner products))')\n",
    "plt.savefig('plot/inprods_a9a.eps', facecolor='w', edgecolor='w',orientation='portrait',  format='eps', bbox_inches='tight')\n",
    "# for j in range(10): \n",
    "#     ns = int(power(2,j)*500)\n",
    "#     rperm = np.random.permutation(n)\n",
    "#     rperm = rperm[1:ns]\n",
    "#     Xs = X[rperm,:]\n",
    "#     mean = np.mean(X,axis=0)\n",
    "#     print(mean.shape)\n",
    "#     ic = np.dot(np.transpose(Xs-mean),Xs-mean)/float(ns)\n",
    "#     U, s, V = np.linalg.svd(ic, full_matrices=True)\n",
    "#     s = s[s>power(e,-8)]\n",
    "#     print(\"{},{},{}\".format(min(s),ns,len(s)))"
   ]
  },
  {
   "cell_type": "code",
   "execution_count": 11,
   "metadata": {
    "collapsed": false
   },
   "outputs": [],
   "source": [
    "def grad_ridge(w,X,y,lambd): \n",
    "    n, d = X.shape\n",
    "    g = np.zeros(d)\n",
    "    for i in range(n):\n",
    "        dot = np.dot(X[i,:],np.transpose(w))\n",
    "        g = np.add(g,(2*(dot-y[i])*X[i,:])/float(n))\n",
    "    g = np.add(g,lambd*w)\n",
    "    return g,1.0\n",
    "def risk_ridge(w,X,y,lambd): \n",
    "    n, d = X.shape\n",
    "    delta = (np.dot(X,w)-y)/float(math.sqrt(n))\n",
    "    return np.dot(np.transpose(delta),delta) + 0.5*lambd*np.dot(np.transpose(w),w)\n",
    "    \n",
    "def gradient_desc(X,y,lambd,step_size,grad,risk,itrs,optimal_risk): \n",
    "    n, d = X.shape\n",
    "    w = np.zeros(d)\n",
    "    effective_iters = 0\n",
    "    stat = [0,risk(w,X,y,lambd)]\n",
    "    while effective_iters < itrs: \n",
    "        g, c = grad(w,X,y,lambd) \n",
    "        w = w -step_size*g\n",
    "        effective_iters = effective_iters+c\n",
    "        risk_value = risk(w,X,y,lambd)-optimal_risk\n",
    "        n_stat = [effective_iters,risk_value]\n",
    "        stat = np.c_[stat,n_stat]\n",
    "        #print(\"loss[{}]={}\".format(effective_iters,risk_value))\n",
    "    return stat,w\n",
    "def AdaptiveGD(X,y,lambda_in,step_size,grad,risk,itrs,optimal_risk): \n",
    "    n, d = X.shape\n",
    "    w = np.zeros(d)\n",
    "    lambd = 3*lambda_in\n",
    "    effective_iters = 0\n",
    "    stat = [0,risk(w,X,y,lambda_in)]\n",
    "    while effective_iters < itrs: \n",
    "        g, c = grad(w,X,y,lambd) \n",
    "        w = w -step_size*g\n",
    "        effective_iters = effective_iters+c\n",
    "        risk_value = risk(w,X,y,lambda_in)-optimal_risk\n",
    "        #lambd = 0.9*lambd\n",
    "        n_stat = [effective_iters,risk_value]\n",
    "        stat = np.c_[stat,n_stat]\n",
    "        #print(\"loss[{}]={}\".format(effective_iters,risk_value))\n",
    "    return stat,w"
   ]
  },
  {
   "cell_type": "code",
   "execution_count": 9,
   "metadata": {
    "collapsed": false
   },
   "outputs": [
    {
     "name": "stdout",
     "output_type": "stream",
     "text": [
      "0.42511159984\n"
     ]
    },
    {
     "data": {
      "text/plain": [
       "[<matplotlib.lines.Line2D at 0x11a004a10>]"
      ]
     },
     "execution_count": 9,
     "metadata": {},
     "output_type": "execute_result"
    },
    {
     "data": {
      "image/png": "[encoded data removed]",
      "text/plain": [
       "<matplotlib.figure.Figure at 0x119702790>"
      ]
     },
     "metadata": {},
     "output_type": "display_data"
    }
   ],
   "source": [
    "n = 10101; \n",
    "d = 54; \n",
    "filename = \"../datasets/covtype.libsvm.binary.scale\"\n",
    "y, X = readfile(filename,n,d)\n",
    "for i in range(n):\n",
    "    if(y[i]==2 or y[i] == 0):\n",
    "        y[i] = -1;\n",
    "step_size = 0.3\n",
    "lambd_small = 1.0/n\n",
    "cov_mat = 2.0*np.dot(np.transpose(X),X)/float(n)\n",
    "w_start = np.dot(np.linalg.inv(np.add(cov_mat,lambd_small*np.eye(d))),2.0*np.dot(np.transpose(X),y)/float(n))\n",
    "opt_risk = risk_ridge(w_start,X,y,lambd_small)\n",
    "print(opt_risk)\n",
    "[stat,w] = gradient_desc(X,y,lambd_small,0.1,grad_ridge,risk_ridge,100,opt_risk)\n",
    "\n",
    "plt.plot((stat[0,:]),np.log10(stat[1,:]))"
   ]
  },
  {
   "cell_type": "code",
   "execution_count": 17,
   "metadata": {
    "collapsed": false
   },
   "outputs": [
    {
     "data": {
      "text/plain": [
       "array([ 1., -1., -1.,  1., -1.,  1.,  1.,  1.,  1.])"
      ]
     },
     "execution_count": 17,
     "metadata": {},
     "output_type": "execute_result"
    }
   ],
   "source": []
  },
  {
   "cell_type": "code",
   "execution_count": 9,
   "metadata": {
    "collapsed": false
   },
   "outputs": [
    {
     "name": "stdout",
     "output_type": "stream",
     "text": [
      "0.983555161383\n"
     ]
    },
    {
     "name": "stderr",
     "output_type": "stream",
     "text": [
      "/usr/local/lib/python2.7/site-packages/ipykernel/__main__.py:20: RuntimeWarning: divide by zero encountered in log10\n",
      "/usr/local/lib/python2.7/site-packages/ipykernel/__main__.py:20: RuntimeWarning: invalid value encountered in log10\n"
     ]
    },
    {
     "data": {
      "text/plain": [
       "[<matplotlib.lines.Line2D at 0x10508d450>]"
      ]
     },
     "execution_count": 9,
     "metadata": {},
     "output_type": "execute_result"
    },
    {
     "data": {
      "image/png": "[encoded data removed]",
      "text/plain": [
       "<matplotlib.figure.Figure at 0x10a2c6050>"
      ]
     },
     "metadata": {},
     "output_type": "display_data"
    }
   ],
   "source": [
    "n = 1010; \n",
    "d = 54; \n",
    "filename = \"../datasets/covtype.libsvm.binary.scale\"\n",
    "y, X = readfile(filename,n,d)\n",
    "for i in range(n):\n",
    "    if(y[i]==2 or y[i] == 0):\n",
    "        y[i] = -1;\n",
    "step_size = 0.3\n",
    "c = 10000.0\n",
    "lambd_small = c/float(n)\n",
    "lambd_large = 1.0/float(n)\n",
    "cov_mat = 2*np.dot(np.transpose(X),X)/float(n)\n",
    "w_start = np.dot(np.linalg.inv(np.add(cov_mat,lambd_small*np.eye(d))),2.0*np.dot(np.transpose(X),y)/float(n))\n",
    "w_start2 = np.dot(np.linalg.inv(np.add(cov_mat,lambd_large*np.eye(d))),2.0*np.dot(np.transpose(X),y)/float(n))\n",
    "opt_risk = risk_ridge(w_start,X,y,lambd_small)\n",
    "opt_risk2 = risk_ridge(w_start2,X,y,lambd_large)\n",
    "print(opt_risk)\n",
    "[stat,w] = gradient_desc(X,y,lambd_small,0.1,grad_ridge,risk_ridge,500,opt_risk)\n",
    "[stat2,w2] = gradient_desc(X,y,lambd_large,0.1,grad_ridge,risk_ridge,500,opt_risk2)\n",
    "plt.plot((stat[0,:]),np.log10(stat[1,:]),label='')"
   ]
  },
  {
   "cell_type": "code",
   "execution_count": 10,
   "metadata": {
    "collapsed": false
   },
   "outputs": [
    {
     "name": "stderr",
     "output_type": "stream",
     "text": [
      "/usr/local/lib/python2.7/site-packages/ipykernel/__main__.py:1: RuntimeWarning: divide by zero encountered in log10\n",
      "  if __name__ == '__main__':\n",
      "/usr/local/lib/python2.7/site-packages/ipykernel/__main__.py:1: RuntimeWarning: invalid value encountered in log10\n",
      "  if __name__ == '__main__':\n"
     ]
    },
    {
     "data": {
      "text/plain": [
       "[<matplotlib.lines.Line2D at 0x103187a10>]"
      ]
     },
     "execution_count": 10,
     "metadata": {},
     "output_type": "execute_result"
    },
    {
     "data": {
      "image/png": "[encoded data removed]",
      "text/plain": [
       "<matplotlib.figure.Figure at 0x1030d8150>"
      ]
     },
     "metadata": {},
     "output_type": "display_data"
    }
   ],
   "source": [
    "plt.plot((stat[0,:]),np.log10(stat[1,:]),label='gd')\n",
    "plt.plot((stat2[0,:]),np.log10(stat2[1,:]),label='gd2')"
   ]
  },
  {
   "cell_type": "code",
   "execution_count": 13,
   "metadata": {
    "collapsed": false
   },
   "outputs": [
    {
     "name": "stdout",
     "output_type": "stream",
     "text": [
      "0.438212590869\n"
     ]
    },
    {
     "data": {
      "text/plain": [
       "<matplotlib.legend.Legend at 0x103187490>"
      ]
     },
     "execution_count": 13,
     "metadata": {},
     "output_type": "execute_result"
    },
    {
     "data": {
      "image/png": "[encoded data removed]",
      "text/plain": [
       "<matplotlib.figure.Figure at 0x103187150>"
      ]
     },
     "metadata": {},
     "output_type": "display_data"
    }
   ],
   "source": [
    "# n = 10101; \n",
    "# d = 54; \n",
    "# filename = \"../datasets/covtype.libsvm.binary.scale\"\n",
    "# y, X = readfile(filename,n,d)\n",
    "# for i in range(n):\n",
    "#     if(y[i]==2 or y[i] == 0):\n",
    "#         y[i] = -1;\n",
    "n = 3256; \n",
    "d = 123; \n",
    "filename = \"../datasets/a9a\"\n",
    "y, X = readfile(filename,n,d)\n",
    "for i in range(n):\n",
    "    if(y[i]==2 or y[i] == 0):\n",
    "        y[i] = -1;\n",
    "        \n",
    "step_size = 0.1\n",
    "lambd_small = 1.0/float(n)\n",
    "cov_mat = 2*np.dot(np.transpose(X),X)/float(n)\n",
    "w_start = np.dot(np.linalg.inv(np.add(cov_mat,lambd_small*np.eye(d))),2.0*np.dot(np.transpose(X),y)/float(n))\n",
    "opt_risk = risk_ridge(w_start,X,y,lambd_small)\n",
    "print(opt_risk)\n",
    "[stat,w] = gradient_desc(X,y,lambd_small,step_size,grad_ridge,risk_ridge,1000,opt_risk)\n",
    "[stat2,w2] = AdaptiveGD(X,y,lambd_small,step_size,grad_ridge,risk_ridge,1000,opt_risk)\n",
    "plt.plot(stat[0,:],np.log10(stat[1,:]),label = 'gd')\n",
    "plt.plot(stat2[0,:],np.log10(stat2[1,:]),label = 'reg_gd')\n",
    "plt.legend()"
   ]
  },
  {
   "cell_type": "code",
   "execution_count": 19,
   "metadata": {
    "collapsed": false
   },
   "outputs": [
    {
     "data": {
      "text/plain": [
       "<matplotlib.legend.Legend at 0x11a523510>"
      ]
     },
     "execution_count": 19,
     "metadata": {},
     "output_type": "execute_result"
    },
    {
     "data": {
      "image/png": "[encoded data removed]",
      "text/plain": [
       "<matplotlib.figure.Figure at 0x11a390f50>"
      ]
     },
     "metadata": {},
     "output_type": "display_data"
    }
   ],
   "source": [
    "\n",
    "plt.plot(stat[0,:],np.log10(stat[1,:]),label = 'gd')\n",
    "plt.plot(stat2[0,:],np.log10(stat2[1,:]),label = 'reg_gd')\n",
    "plt.legend()"
   ]
  },
  {
   "cell_type": "code",
   "execution_count": null,
   "metadata": {
    "collapsed": true
   },
   "outputs": [],
   "source": []
  }
 ],
 "metadata": {
  "kernelspec": {
   "display_name": "Python 2",
   "language": "python",
   "name": "python2"
  },
  "language_info": {
   "codemirror_mode": {
    "name": "ipython",
    "version": 2
   },
   "file_extension": ".py",
   "mimetype": "text/x-python",
   "name": "python",
   "nbconvert_exporter": "python",
   "pygments_lexer": "ipython2",
   "version": "2.7.11"
  }
 },
 "nbformat": 4,
 "nbformat_minor": 0
}
