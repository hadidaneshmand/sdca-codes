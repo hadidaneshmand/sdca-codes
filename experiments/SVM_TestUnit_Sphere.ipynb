{
 "cells": [
  {
   "cell_type": "code",
   "execution_count": 1,
   "metadata": {
    "collapsed": false
   },
   "outputs": [],
   "source": [
    "import math\n",
    "import numpy as np\n",
    "import matplotlib.pyplot as plt\n",
    "%matplotlib inline  \n",
    "from sklearn.datasets.mldata import fetch_mldata\n",
    "import tempfile"
   ]
  },
  {
   "cell_type": "code",
   "execution_count": 80,
   "metadata": {
    "collapsed": false
   },
   "outputs": [
    {
     "data": {
      "text/plain": [
       "[<matplotlib.lines.Line2D at 0x11aa68810>]"
      ]
     },
     "execution_count": 80,
     "metadata": {},
     "output_type": "execute_result"
    },
    {
     "data": {
      "image/png": "[encoded data removed]",
      "text/plain": [
       "<matplotlib.figure.Figure at 0x1191359d0>"
      ]
     },
     "metadata": {},
     "output_type": "display_data"
    }
   ],
   "source": [
    "from scipy import stats\n",
    "from mpl_toolkits.mplot3d import Axes3D\n",
    "import matplotlib.pyplot as plt\n",
    "\n",
    "fig = plt.figure()\n",
    "#ax = fig.add_subplot(111, projection='3d')\n",
    "\n",
    "ne = 10000;\n",
    "n = 2*ne;\n",
    "d = 10;\n",
    "steps = 10\n",
    "max_dots = np.zeros(steps)\n",
    "margins = np.zeros(steps)\n",
    "for i in range(10):\n",
    "    margin = 3.5*pow(4,-i-1)\n",
    "    margins[i] = margin\n",
    "    pivot = np.ones(d)\n",
    "    nc = 0\n",
    "    X = np.zeros((n,d))\n",
    "    y = np.zeros(n)\n",
    "    while True: \n",
    "        rv = np.random.normal(1,1,d)\n",
    "       # rv = rv/np.linalg.norm(rv)\n",
    "        if np.dot(rv,pivot)/(np.linalg.norm(rv)*np.linalg.norm(pivot)) > margin:\n",
    "            X[nc,:] = rv\n",
    "           # print(np.dot(rv,pivot))\n",
    "            y[nc] = 1\n",
    "            #ax.scatter(X[nc,0], X[nc,1], X[nc,2], c='b', marker='o')\n",
    "            nc = nc + 1      \n",
    "        if nc == ne: \n",
    "            break\n",
    "\n",
    "    while True: \n",
    "        rv = np.random.normal(-1,1,d)\n",
    "       # rv = rv/np.linalg.norm(rv)\n",
    "        if np.dot(rv,pivot)/(np.linalg.norm(rv)*np.linalg.norm(pivot)) < -margin:\n",
    "            X[nc,:] = rv\n",
    "            y[nc] = -1\n",
    "            #ax.scatter(X[nc,0], X[nc,1], X[nc,2], c='r', marker='o')\n",
    "            nc = nc + 1\n",
    "        if nc == n: \n",
    "            break\n",
    "    [U, s, V] = np.linalg.svd(X, full_matrices= False)\n",
    "    dots = np.dot(np.transpose(U),y/np.linalg.norm(y))\n",
    "    max_dots[i] = dots[1]*dots[1] + dots[0]*dots[0]\n",
    "plt.plot(np.log(margins),max_dots)"
   ]
  },
  {
   "cell_type": "code",
   "execution_count": 83,
   "metadata": {
    "collapsed": false
   },
   "outputs": [
    {
     "data": {
      "text/plain": [
       "[<matplotlib.lines.Line2D at 0x11143ce90>]"
      ]
     },
     "execution_count": 83,
     "metadata": {},
     "output_type": "execute_result"
    },
    {
     "data": {
      "image/png": "[encoded data removed]",
      "text/plain": [
       "<matplotlib.figure.Figure at 0x119b5b290>"
      ]
     },
     "metadata": {},
     "output_type": "display_data"
    }
   ],
   "source": [
    "from scipy import stats\n",
    "from mpl_toolkits.mplot3d import Axes3D\n",
    "import matplotlib.pyplot as plt\n",
    "\n",
    "fig = plt.figure()\n",
    "#ax = fig.add_subplot(111, projection='3d')\n",
    "\n",
    "ne = 10000;\n",
    "n = 2*ne;\n",
    "d = 10;\n",
    "steps = 10\n",
    "max_dots = np.zeros(steps)\n",
    "var_s = np.zeros(steps)\n",
    "for i in range(10):\n",
    "    var = 0.25*pow(2,i)\n",
    "    var_s[i] = var\n",
    "    pivot = np.ones(d)\n",
    "    nc = 0\n",
    "    X = np.zeros((n,d))\n",
    "    y = np.zeros(n)\n",
    "    while True: \n",
    "        rv = np.random.normal(1,var,d)\n",
    "       # rv = rv/np.linalg.norm(rv)\n",
    "        X[nc,:] = rv\n",
    "        y[nc] = 1\n",
    "        nc = nc + 1      \n",
    "        if nc == ne: \n",
    "            break\n",
    "\n",
    "    while True: \n",
    "        rv = np.random.normal(-1,var,d)\n",
    "       # rv = rv/np.linalg.norm(rv)\n",
    "        X[nc,:] = rv\n",
    "        y[nc] = -1\n",
    "        nc = nc + 1\n",
    "        if nc == n: \n",
    "            break\n",
    "    [U, s, V] = np.linalg.svd(X, full_matrices= False)\n",
    "    dots = np.dot(np.transpose(U),y/np.linalg.norm(y))\n",
    "    max_dots[i] = dots[1]*dots[1] + dots[0]*dots[0]\n",
    "plt.plot(np.log(var_s),max_dots)"
   ]
  },
  {
   "cell_type": "code",
   "execution_count": 9,
   "metadata": {
    "collapsed": false
   },
   "outputs": [
    {
     "ename": "SyntaxError",
     "evalue": "invalid syntax (<ipython-input-9-da1f776ad0a9>, line 96)",
     "output_type": "error",
     "traceback": [
      "\u001b[0;36m  File \u001b[0;32m\"<ipython-input-9-da1f776ad0a9>\"\u001b[0;36m, line \u001b[0;32m96\u001b[0m\n\u001b[0;31m    alpha = np.zeros(n)\u001b[0m\n\u001b[0m          ^\u001b[0m\n\u001b[0;31mSyntaxError\u001b[0m\u001b[0;31m:\u001b[0m invalid syntax\n"
     ]
    }
   ],
   "source": [
    "import operator\n",
    "\n",
    "def w_alpha(alpha,X,lambd,verbose=False): # check the equation 3 of (SDCA) paper\n",
    "    n, d = X.shape\n",
    "    w = np.zeros(d)\n",
    "    for i in range(n): \n",
    "        w = w + alpha[i]*X[i,:]/lambd\n",
    "    w = w/n\n",
    "    return w\n",
    "\n",
    "def primal_func(w,y,X,lambd,verbose=False): # computes the primal value for the given parameter w\n",
    "    n, d = X.shape\n",
    "    pw = 0\n",
    "    for i in range(n): \n",
    "        if verbose:\n",
    "            print(\"P({}):y={},dot={},delta_pw={}\".format(i,y[i],np.dot(w,X[i,:]),max(0,1-y[i]*np.dot(w,X[i,:]))))\n",
    "        pw = pw + max(0,1-y[i]*np.dot(w,X[i,:]))\n",
    "    pw = pw/n \n",
    "    pw = pw + 0.5*lambd*np.square(np.linalg.norm(w))\n",
    "    return pw\n",
    "\n",
    "def dual_func(alpha,y,X,lambd,verbose=False): # computes the dual function value for a given parameter alpha \n",
    "    da = 0\n",
    "    n, d = X.shape\n",
    "    for i in range(n): \n",
    "        if alpha[i]*y[i] <= 1 and alpha[i]*y[i] >= 0:\n",
    "            da = da + alpha[i]*y[i]\n",
    "        else:\n",
    "            da = da + float(\"inf\")\n",
    "    da = da / n \n",
    "    da = da - 0.5*lambd*np.square(np.linalg.norm(w_alpha(alpha,X,lambd)))\n",
    "    return da \n",
    "\n",
    "\n",
    "def sortbyindeces(a):\n",
    "  return [i[0] for i in sorted(enumerate(a), key=lambda a:a[1],reverse=True)]\n",
    "\n",
    "def SVM_SDCA(y, X, lambd, num_steps, T0, verbose=False):\n",
    "  # y_n \\in {-1,1} is target,\n",
    "  # X_{n \\time d}: is the row-wise arrange of observations , so each observation has dimension d \n",
    "  # Please note that this implementation just includes the output averaging option with paramter T0\n",
    "  if verbose:\n",
    "    print(\"Stochastic coordinate Ascent for SVM\")\n",
    "  inv_sq_row_norms = np.divide(1.0, np.square(np.linalg.norm(X, axis=1)))\n",
    "  n, d = X.shape\n",
    "  # it might be better to change initial value of alpha \n",
    "  alpha = np.zeros(n)\n",
    "  #setting w(alpha_0)\n",
    "  w = w_alpha(alpha,X,lambd)\n",
    "  duals = np.zeros(num_steps)# dual function values per iteration\n",
    "  primals = np.zeros(num_steps) #primal function values per iteration \n",
    "  if verbose:\n",
    "    primal_value = primal_func(w,y,X,lambd)\n",
    "    dual_value = dual_func(alpha,y,X,lambd)\n",
    "    print(\"  Initial primal objective value: {}, Intial dual objective value: {}\".format(primal_value, dual_value))\n",
    "  w_bar = np.zeros(d)\n",
    "  T_T0 = 0\n",
    "  alpha_bar = np.zeros(n)\n",
    "  for cur_step in range(num_steps):\n",
    "    # pick a random dual coordinate\n",
    "    ii = np.random.randint(0, n)\n",
    "    alpha_i_old = alpha[ii]\n",
    "    xi = X[ii,:]\n",
    "    yi = y[ii]\n",
    "    inv_sqi = inv_sq_row_norms[ii]\n",
    "    # coordinate update step \n",
    "    delta_alpha_i = yi*max(0,min(1,(lambd*n*(1-yi*np.dot(xi,w))*inv_sqi)+alpha_i_old*yi)) - alpha_i_old\n",
    "    # update the dual and primal paramters\n",
    "    alpha[ii] = alpha[ii] + delta_alpha_i\n",
    "    w = w + delta_alpha_i*xi/(lambd*n)\n",
    "    \n",
    "    # output averaging \n",
    "    if cur_step > T0:\n",
    "       w_bar = w_bar + w\n",
    "       alpha_bar = alpha_bar + alpha\n",
    "       T_T0 = T_T0 +1 \n",
    "    \n",
    "    duals[cur_step] = dual_func(alpha,y,X,lambd)\n",
    "    primals[cur_step] = primal_func(w,y,X,lambd)\n",
    "    if verbose: #and cur_step % n == 0 and cur_step > 0\n",
    "      print(\"step:{},primal: {},dual: {}\\n\".format(cur_step,primals[cur_step], duals[cur_step] ))\n",
    "  return (w_bar/T_T0, alpha_bar/T_T0 ,primals,duals)\n",
    "\n",
    "def SVM_SteepestDualGradient_DCA(y, X, lambd, num_steps, T0, verbose=False): \n",
    "  # Computes the gradient of dual function and updates the coordinate with maximum absolute gradient value \n",
    "  # y_n \\in {-1,1} is target,\n",
    "  # X_{n \\time d}: is the row-wise arrange of observations , so each observation has dimension d \n",
    "  # Please note that this implementation just includes the output averaging option with paramter T0\n",
    "  if verbose:\n",
    "    print(\"Steepest Dual Gradient Coordinate Ascent for SVM\")\n",
    "  inv_sq_row_norms = np.divide(1.0, np.square(np.linalg.norm(X, axis=1)))\n",
    "  n, d = X.shape\n",
    "  for i in range(n): \n",
    "    X[i,\n",
    "  # it might be better to change initial value of alpha \n",
    "  alpha = np.zeros(n)\n",
    "  #setting w(alpha_0)\n",
    "  w = w_alpha(alpha,X,lambd)\n",
    "  duals = np.zeros(num_steps)# dual function values per iteration\n",
    "  primals = np.zeros(num_steps) #primal function values per iteration \n",
    " \n",
    "  if verbose:\n",
    "    primal_value = primal_func(w,y,X,lambd)\n",
    "    dual_value = dual_func(alpha,y,X,lambd)\n",
    "    print(\"Initial primal objective value: {}, Intial dual objective value: {}\".format(primal_value, dual_value))\n",
    "  w_bar = np.zeros(d)\n",
    "  T_T0 = 0\n",
    "  alpha_bar = np.zeros(n)\n",
    "  posinds = [j for j, e in enumerate(y) if e > 0]\n",
    "  neginds = [kj for kj, e in enumerate(y) if e < 0]\n",
    "  for cur_step in range(num_steps): \n",
    "    # Compute all delta alphas \n",
    "    #delta_alphas = np.multiply(y,np.maximum(0,np.minimum(1,(lambd*n*np.multiply((1-np.multiply(y,np.dot(X,w))),inv_sq_row_norms))+np.multiply(alpha,y))))-alpha\n",
    "    \n",
    "    # Compute the gradient \n",
    "    prods = np.dot(X,w)\n",
    "    arcoss = 180*np.arccos(prods*np.sqrt(inv_sq_row_norms)/np.linalg.norm(w))/math.pi\n",
    "    g_alpha = 1 - y*prods\n",
    "    cosines = np.dot(X,w)/(np.linalg.norm(X, axis=1)*np.sqrt(np.square(np.linalg.norm(w))))\n",
    "    avg_ang = np.average(arcoss)\n",
    "    max_ang = max(arcoss)\n",
    "    min_ang = min(arcoss)\n",
    "    # Sort indeces in descent order of the gradient\n",
    "    inds = sortbyindeces(g_alpha)\n",
    "    ii = inds[0]\n",
    "    # Choose the maximum coordinate which doesn't vailate the constratins for the update step \n",
    "    for i in range(len(g_alpha)): \n",
    "        j = inds[i]\n",
    "        if (alpha[j]> 0 and alpha[j]<1) or ((alpha[j] == 0) and (g_alpha[j]*y[j] >= 0)) or ((alpha[j] == 1) and (g_alpha[j]*y[j] <= 0)):\n",
    "            ii = j\n",
    "           # print(\"OKKKKKK: alpha = {}, gradient = {},prod = {}\".format(alpha[j],g_alpha[j],prods[j]))\n",
    "            break\n",
    "      #  else: \n",
    "           # print(\"####: alpha = {}, gradient = {},prod = {}\".format(alpha[j],g_alpha[j],prods[j]))\n",
    "                  \n",
    "    # update the coordinate exactly same as SDCA\n",
    "    alpha_i_old = alpha[ii]\n",
    "    xi = X[ii,:]\n",
    "    yi = y[ii]\n",
    "    inv_sqi = inv_sq_row_norms[ii]\n",
    "    # coordinate update step \n",
    "    delta_alpha_i = yi*max(0,min(1,(lambd*n*(1-yi*np.dot(xi,w))*inv_sqi)+alpha_i_old*yi)) - alpha_i_old\n",
    "    # update the dual and primal paramters\n",
    "    alpha[ii] = alpha[ii] + delta_alpha_i\n",
    "    w = w + delta_alpha_i*xi/(lambd*n)\n",
    " #   print(\"\\n---------new alpha[{}] = {}\\n\".format(ii,alpha[ii]))\n",
    "    # output averaging \n",
    "    if cur_step > T0:\n",
    "       w_bar = w_bar + w\n",
    "       alpha_bar = alpha_bar + alpha\n",
    "       T_T0 = T_T0 +1 \n",
    "    \n",
    "    duals[cur_step] = dual_func(alpha,y,X,lambd)\n",
    "    primals[cur_step] = primal_func(w,y,X,lambd)\n",
    "    if verbose: #and cur_step % n == 0 and cur_step > 0\n",
    "      print(\"step:{},primal: {},dual: {},alpha({}) = {}, avg angle = {}, max angle = {}, min angle = {},w = {} \\n\".format(cur_step,primals[cur_step], duals[cur_step],ii,alpha[ii],avg_ang,max_ang,min_ang,w ))\n",
    "  return (w_bar/T_T0, alpha_bar/T_T0 ,primals,duals)\n",
    "\n",
    "def SVM_LSHSIM_DCA(y, X, lambd, num_steps, T0, verbose=False): \n",
    "  # Computes the gradient of dual function and updates the coordinate with maximum absolute gradient value \n",
    "  # y_n \\in {-1,1} is target,\n",
    "  # X_{n \\time d}: is the row-wise arrange of observations , so each observation has dimension d \n",
    "  # Please note that this implementation just includes the output averaging option with paramter T0\n",
    "  if verbose:\n",
    "    print(\"Steepest Dual Gradient Coordinate Ascent for SVM\")\n",
    "  inv_sq_row_norms = np.divide(1.0, np.square(np.linalg.norm(X, axis=1)))\n",
    "  n, d = X.shape\n",
    "  # it might be better to change initial value of alpha \n",
    "  alpha = np.zeros(n)\n",
    "  #setting w(alpha_0)\n",
    "  w = w_alpha(alpha,X,lambd)\n",
    "  catches = 0\n",
    "  duals = np.zeros(num_steps)   #dual function values per iteration\n",
    "  primals = np.zeros(num_steps) #primal function values per iteration \n",
    "  if verbose:\n",
    "    primal_value = primal_func(w,y,X,lambd)\n",
    "    dual_value = dual_func(alpha,y,X,lambd)\n",
    "    print(\"Initial primal objective value: {}, Intial dual objective value: {}\".format(primal_value, dual_value))\n",
    "  w_bar = np.zeros(d)\n",
    "  T_T0 = 0\n",
    "  alpha_bar = np.zeros(n)\n",
    " \n",
    "  for cur_step in range(num_steps): \n",
    "    # Compute all delta alphas \n",
    "    delta_alphas = np.multiply(y,np.maximum(0,np.minimum(1,(lambd*n*np.multiply((1-np.multiply(y,np.dot(X,w))),inv_sq_row_norms))+np.multiply(alpha,y))))-alpha\n",
    "    #delta_alphas = lambd*n*np.multiply((1-np.multiply(y,np.dot(X,w))),inv_sq_row_norms)+np.multiply(alpha,y)-alpha\n",
    "   # midinds = [j for j, e in enumerate(alpha) if e > 0 and e <1]\n",
    "    zeroinds = [kj for kj, e in enumerate(alpha) if e == 0]\n",
    "   # oneinds = [kj for kj, e in enumerate(alpha) if e == 1]\n",
    "    \n",
    "    # Compute the gradient \n",
    "    prods = np.dot(X,w)\n",
    "    arcoss = 180*np.arccos(prods*np.sqrt(inv_sq_row_norms)/np.linalg.norm(w))/math.pi\n",
    "    zerobest, min_value = max(enumerate(arcoss[zeroinds]), key=operator.itemgetter(1))\n",
    "   # top_pos = [kj for kj, e in enumerate(pos_ang) if e >= max(pos_ang)]\n",
    "   # top_neg = [kj for kj, e in enumerate(neg_ang) if e <= min(neg_ang)]\n",
    "    g_alpha = y - prods \n",
    "  #  dis = stats.rv_discrete(name='dis', values=(range(n), abs(delta_alphas)/sum(abs(delta_alphas))))\n",
    "  #  ii = dis.rvs()\n",
    "    #ii = sortbyindeces(delta_alphas)\n",
    "   # ii = ii[0]\n",
    "    dis = stats.rv_discrete(name='dis', values=(range(n), abs(1-y*prods)/sum(abs(1-y*prods))))\n",
    "    ii = dis.rvs()\n",
    "  \n",
    "    print(\"delta={}\".format(delta_alphas[ii]))\n",
    "   # lshv = np.random.normal(0,1,(d,2))\n",
    "  #  spoints = np.sign(np.dot(X,lshv))\n",
    "  #  sq = np.sign(np.dot(w,lshv))\n",
    "   # neg_ind = [kj for kj, e in enumerate(spoints) if (e != sq).all()]\n",
    "  #print('spoints={}'.format(len(neg_ind)))\n",
    "  #  if len(neg_ind)!=0: \n",
    " #       ii = neg_ind[np.random.randint(0, len(neg_ind))]\n",
    "    if ((alpha[ii] == 0) and (g_alpha[ii]*y[ii] <= 0)) or ((alpha[ii] *y[ii] == 1) and (g_alpha[ii]*y[ii] >= 0)):\n",
    "      ii = np.random.randint(0,n)\n",
    "    else: \n",
    "      catches = catches + 1\n",
    "      if verbose:  \n",
    "         print(\"Catched step = {}\".format(cur_step))\n",
    "     \n",
    "    # update the coordinate exactly same as SDCA\n",
    "    alpha_i_old = alpha[ii]\n",
    "    xi = X[ii,:]\n",
    "    yi = y[ii]\n",
    "    inv_sqi = inv_sq_row_norms[ii]\n",
    "    # coordinate update step \n",
    "    delta_alpha_i = yi*max(0,min(1,(lambd*n*(1-yi*np.dot(xi,w))*inv_sqi)+alpha_i_old*yi)) - alpha_i_old\n",
    "    # update the dual and primal paramters\n",
    "    alpha[ii] = alpha[ii] + delta_alpha_i\n",
    "    w = w + delta_alpha_i*xi/(lambd*n)\n",
    "    # output averaging \n",
    "    if cur_step > T0:\n",
    "       w_bar = w_bar + w\n",
    "       alpha_bar = alpha_bar + alpha\n",
    "       T_T0 = T_T0 +1 \n",
    "    \n",
    "    duals[cur_step] = dual_func(alpha,y,X,lambd)\n",
    "    primals[cur_step] = primal_func(w,y,X,lambd)\n",
    "    if verbose: #and cur_step % n == 0 and cur_step > 0\n",
    "      print(\"step:{},primal: {},dual: {},w = {}\\n\".format(cur_step,primals[cur_step], duals[cur_step],w.shape))\n",
    "   # print(\"catches:{}\".format(catches))\n",
    "  return (w_bar/T_T0, alpha_bar/T_T0 ,primals,duals)\n",
    "\n",
    "def SVM_LSHANG_DCA(y, X, lambd, num_steps, T0, verbose=False): \n",
    "  # Computes the gradient of dual function and updates the coordinate with maximum absolute gradient value \n",
    "  # y_n \\in {-1,1} is target,\n",
    "  # X_{n \\time d}: is the row-wise arrange of observations , so each observation has dimension d \n",
    "  # Please note that this implementation just includes the output averaging option with paramter T0\n",
    "  if verbose:\n",
    "    print(\"Steepest Dual Gradient Coordinate Ascent for SVM\")\n",
    "  inv_sq_row_norms = np.divide(1.0, np.square(np.linalg.norm(X, axis=1)))\n",
    "  n, d = X.shape\n",
    "  # it might be better to change initial value of alpha \n",
    "  alpha = np.zeros(n)\n",
    "  #setting w(alpha_0)\n",
    "  w = w_alpha(alpha,X,lambd)\n",
    "  duals = np.zeros(num_steps)# dual function values per iteration\n",
    "  primals = np.zeros(num_steps) #primal function values per iteration \n",
    "  if verbose:\n",
    "    primal_value = primal_func(w,y,X,lambd)\n",
    "    dual_value = dual_func(alpha,y,X,lambd)\n",
    "    print(\"Initial primal objective value: {}, Intial dual objective value: {}\".format(primal_value, dual_value))\n",
    "  w_bar = np.zeros(d)\n",
    "  T_T0 = 0\n",
    "  alpha_bar = np.zeros(n)\n",
    "  posinds = [j for j, e in enumerate(y) if e > 0]\n",
    "  neginds = [kj for kj, e in enumerate(y) if e < 0]\n",
    "  catches = 0; \n",
    "  for cur_step in range(num_steps): \n",
    "    # Compute all delta alphas \n",
    "    #delta_alphas = np.multiply(y,np.maximum(0,np.minimum(1,(lambd*n*np.multiply((1-np.multiply(y,np.dot(X,w))),inv_sq_row_norms))+np.multiply(alpha,y))))-alpha\n",
    " #   alpha_zeros = [j for j, e in enumerate(alpha) if e = 0]\n",
    "    alpha_ones = []\n",
    "    # Compute the gradient \n",
    "    prods = np.dot(X,w)\n",
    "    g_alpha = y - prods \n",
    "    lshv = np.random.normal(0,1,d)\n",
    "    spoints1 = y*np.sign(np.dot(X,lshv))\n",
    "    lshv2 = np.random.normal(0,1,d)\n",
    "    spoints2 = y*np.sign(np.dot(X,lshv2))\n",
    "    #spoints = spoints*y\n",
    "    sq1 = np.sign(np.dot(w,lshv)) \n",
    "    sq2 = np.sign(np.dot(w,lshv2))\n",
    "    inds = np.zeros(n)\n",
    "    for i in range(n):\n",
    "        if (spoints1[i] == sq1 ) and (spoints2[i] != sq2):\n",
    "            inds[i] = 1\n",
    "    neg_ind = [j for j, e in enumerate(inds) if e > 0]\n",
    "  #print('spoints={}'.format(len(neg_ind)))\n",
    "    if len(neg_ind)!=0: \n",
    "      ii = neg_ind[np.random.randint(0, len(neg_ind))]\n",
    "    else: \n",
    "      ii = np.random.randint(0,n)\n",
    "    if ((alpha[ii] == 0) and (g_alpha[ii]*y[ii] <= 0)) or ((alpha[ii] *y[ii] == 1) and (g_alpha[ii]*y[ii] >= 0)):\n",
    "  #    ii = np.random.randint(0,n)\n",
    "      if verbose: \n",
    "        print(\"Blocked:{},alpha = {}\".format(g_alpha[ii]*y[ii],alpha[ii]))\n",
    "    else: \n",
    "      catches = catches +1\n",
    "      if verbose:\n",
    "        print(\"Catched step = {},alpha ={},yg = {}\".format(cur_step,alpha[ii],g_alpha[ii]*y[ii]))\n",
    "     \n",
    "    # update the coordinate exactly same as SDCA\n",
    "    alpha_i_old = alpha[ii]\n",
    "    xi = X[ii,:]\n",
    "    yi = y[ii]\n",
    "    inv_sqi = inv_sq_row_norms[ii]\n",
    "    # coordinate update step \n",
    "    delta_alpha_i = yi*max(0,min(1,(lambd*n*(1-yi*np.dot(xi,w))*inv_sqi)+alpha_i_old*yi)) - alpha_i_old\n",
    "    # update the dual and primal paramters\n",
    "    alpha[ii] = alpha[ii] + delta_alpha_i\n",
    "    w = w + delta_alpha_i*xi/(lambd*n)\n",
    "   # print(\"\\n---------new alpha[{}] = {}\\n\".format(ii,alpha[ii]))\n",
    "    # output averaging \n",
    "    if cur_step > T0:\n",
    "       w_bar = w_bar + w\n",
    "       alpha_bar = alpha_bar + alpha\n",
    "       T_T0 = T_T0 +1 \n",
    "    \n",
    "    duals[cur_step] = dual_func(alpha,y,X,lambd)\n",
    "    primals[cur_step] = primal_func(w,y,X,lambd)\n",
    "    if verbose: #and cur_step % n == 0 and cur_step > 0\n",
    "      print(\"step:{},primal: {},dual: {},w = {}\\n\".format(cur_step,primals[cur_step], duals[cur_step],w.shape))\n",
    "  print(\"catechs number = {}\".format(catches))\n",
    "  return (w_bar/T_T0, alpha_bar/T_T0 ,primals,duals)"
   ]
  },
  {
   "cell_type": "code",
   "execution_count": 3,
   "metadata": {
    "collapsed": false
   },
   "outputs": [
    {
     "ename": "NameError",
     "evalue": "name 'SVM_SteepestDualGradient_DCA' is not defined",
     "output_type": "error",
     "traceback": [
      "\u001b[0;31m---------------------------------------------------------------------------\u001b[0m",
      "\u001b[0;31mNameError\u001b[0m                                 Traceback (most recent call last)",
      "\u001b[0;32m<ipython-input-3-f5279ac20e13>\u001b[0m in \u001b[0;36m<module>\u001b[0;34m()\u001b[0m\n\u001b[1;32m      1\u001b[0m \u001b[0mlambd\u001b[0m \u001b[0;34m=\u001b[0m \u001b[0;36m0.001\u001b[0m\u001b[0;34m\u001b[0m\u001b[0m\n\u001b[1;32m      2\u001b[0m \u001b[0mitr\u001b[0m \u001b[0;34m=\u001b[0m \u001b[0;36m300\u001b[0m\u001b[0;34m\u001b[0m\u001b[0m\n\u001b[0;32m----> 3\u001b[0;31m \u001b[0mw\u001b[0m\u001b[0;34m,\u001b[0m \u001b[0malpha\u001b[0m\u001b[0;34m,\u001b[0m \u001b[0mprimals\u001b[0m\u001b[0;34m,\u001b[0m \u001b[0mduals\u001b[0m \u001b[0;34m=\u001b[0m \u001b[0mSVM_SteepestDualGradient_DCA\u001b[0m\u001b[0;34m(\u001b[0m\u001b[0my\u001b[0m\u001b[0;34m,\u001b[0m\u001b[0mX\u001b[0m\u001b[0;34m,\u001b[0m\u001b[0mlambd\u001b[0m\u001b[0;34m,\u001b[0m\u001b[0mitr\u001b[0m\u001b[0;34m,\u001b[0m\u001b[0mitr\u001b[0m \u001b[0;34m-\u001b[0m\u001b[0;36m2\u001b[0m\u001b[0;34m,\u001b[0m\u001b[0mverbose\u001b[0m \u001b[0;34m=\u001b[0m \u001b[0mFalse\u001b[0m\u001b[0;34m)\u001b[0m\u001b[0;34m\u001b[0m\u001b[0m\n\u001b[0m\u001b[1;32m      4\u001b[0m \u001b[0mw_r\u001b[0m\u001b[0;34m,\u001b[0m \u001b[0malpha_r\u001b[0m\u001b[0;34m,\u001b[0m \u001b[0mprimals_r\u001b[0m\u001b[0;34m,\u001b[0m \u001b[0mduals_r\u001b[0m \u001b[0;34m=\u001b[0m \u001b[0mSVM_SDCA\u001b[0m\u001b[0;34m(\u001b[0m\u001b[0my\u001b[0m\u001b[0;34m,\u001b[0m\u001b[0mX\u001b[0m\u001b[0;34m,\u001b[0m\u001b[0mlambd\u001b[0m\u001b[0;34m,\u001b[0m\u001b[0mitr\u001b[0m\u001b[0;34m,\u001b[0m\u001b[0mitr\u001b[0m \u001b[0;34m-\u001b[0m\u001b[0;36m2\u001b[0m\u001b[0;34m,\u001b[0m\u001b[0mverbose\u001b[0m \u001b[0;34m=\u001b[0m \u001b[0mFalse\u001b[0m\u001b[0;34m)\u001b[0m\u001b[0;34m\u001b[0m\u001b[0m\n\u001b[1;32m      5\u001b[0m \u001b[0mw_ls\u001b[0m\u001b[0;34m,\u001b[0m \u001b[0malpha_ls\u001b[0m\u001b[0;34m,\u001b[0m \u001b[0mprimals_ls\u001b[0m\u001b[0;34m,\u001b[0m \u001b[0mduals_ls\u001b[0m \u001b[0;34m=\u001b[0m \u001b[0mSVM_LSHSIM_DCA\u001b[0m\u001b[0;34m(\u001b[0m\u001b[0my\u001b[0m\u001b[0;34m,\u001b[0m\u001b[0mX\u001b[0m\u001b[0;34m,\u001b[0m\u001b[0mlambd\u001b[0m\u001b[0;34m,\u001b[0m\u001b[0mitr\u001b[0m\u001b[0;34m,\u001b[0m\u001b[0mitr\u001b[0m \u001b[0;34m-\u001b[0m\u001b[0;36m2\u001b[0m\u001b[0;34m,\u001b[0m\u001b[0mverbose\u001b[0m \u001b[0;34m=\u001b[0m \u001b[0mTrue\u001b[0m\u001b[0;34m)\u001b[0m\u001b[0;34m\u001b[0m\u001b[0m\n",
      "\u001b[0;31mNameError\u001b[0m: name 'SVM_SteepestDualGradient_DCA' is not defined"
     ]
    }
   ],
   "source": [
    "lambd = 0.001\n",
    "itr = 300\n",
    "w, alpha, primals, duals = SVM_SteepestDualGradient_DCA(y,X,lambd,itr,itr -2,verbose = False)\n",
    "w_r, alpha_r, primals_r, duals_r = SVM_SDCA(y,X,lambd,itr,itr -2,verbose = False)\n",
    "w_ls, alpha_ls, primals_ls, duals_ls = SVM_LSHSIM_DCA(y,X,lambd,itr,itr -2,verbose = True)\n",
    "w_la, alpha_la, primals_la, duals_la = SVM_LSHANG_DCA(y,X,lambd,itr,itr -2,verbose = False)\n"
   ]
  },
  {
   "cell_type": "code",
   "execution_count": 24,
   "metadata": {
    "collapsed": false
   },
   "outputs": [
    {
     "data": {
      "text/plain": [
       "<matplotlib.text.Text at 0x107b8aad0>"
      ]
     },
     "execution_count": 24,
     "metadata": {},
     "output_type": "execute_result"
    },
    {
     "data": {
      "image/png": "[encoded data removed]",
      "text/plain": [
       "<matplotlib.figure.Figure at 0x1079bce10>"
      ]
     },
     "metadata": {},
     "output_type": "display_data"
    }
   ],
   "source": [
    "plt.plot(duals,label = 'Steepest')\n",
    "plt.plot(duals_ls,label = 'LSH-sim')\n",
    "plt.plot(duals_la,label = 'LSH-ang')\n",
    "plt.plot(duals_r,label = 'Random')\n",
    "plt.legend(bbox_to_anchor=(1.05, 1), loc=2, borderaxespad=0.)\n",
    "plt.title('Dual Convergence')"
   ]
  },
  {
   "cell_type": "code",
   "execution_count": 6,
   "metadata": {
    "collapsed": false
   },
   "outputs": [
    {
     "data": {
      "text/plain": [
       "<matplotlib.text.Text at 0x1081d5210>"
      ]
     },
     "execution_count": 6,
     "metadata": {},
     "output_type": "execute_result"
    },
    {
     "data": {
      "image/png": "[encoded data removed]",
      "text/plain": [
       "<matplotlib.figure.Figure at 0x107e73b10>"
      ]
     },
     "metadata": {},
     "output_type": "display_data"
    }
   ],
   "source": [
    "plt.plot(primals,label = 'Steepest')\n",
    "plt.plot(primals_ls,label = 'LSH-sim')\n",
    "plt.plot(primals_la,label = 'LSH-ang')\n",
    "plt.plot(primals_r,label = 'Random')\n",
    "plt.legend(bbox_to_anchor=(1.05, 1), loc=2, borderaxespad=0.)\n",
    "plt.title('Primal Convergence')"
   ]
  },
  {
   "cell_type": "code",
   "execution_count": 83,
   "metadata": {
    "collapsed": true
   },
   "outputs": [],
   "source": [
    "?np.minimum"
   ]
  },
  {
   "cell_type": "code",
   "execution_count": 20,
   "metadata": {
    "collapsed": false
   },
   "outputs": [
    {
     "data": {
      "text/plain": [
       "0.15343659434050191"
      ]
     },
     "execution_count": 20,
     "metadata": {},
     "output_type": "execute_result"
    }
   ],
   "source": [
    "1/np.linalg.norm(w)"
   ]
  },
  {
   "cell_type": "code",
   "execution_count": 22,
   "metadata": {
    "collapsed": false
   },
   "outputs": [
    {
     "data": {
      "text/plain": [
       "0.14428502446989006"
      ]
     },
     "execution_count": 22,
     "metadata": {},
     "output_type": "execute_result"
    }
   ],
   "source": [
    "1/np.linalg.norm(w_ls)"
   ]
  },
  {
   "cell_type": "code",
   "execution_count": 38,
   "metadata": {
    "collapsed": false
   },
   "outputs": [
    {
     "data": {
      "text/plain": [
       "0.033512943019157269"
      ]
     },
     "execution_count": 38,
     "metadata": {},
     "output_type": "execute_result"
    }
   ],
   "source": [
    "primal_func(w_ls,y,X,lambd)"
   ]
  },
  {
   "cell_type": "code",
   "execution_count": 40,
   "metadata": {
    "collapsed": false
   },
   "outputs": [
    {
     "data": {
      "text/plain": [
       "0.033512943019159691"
      ]
     },
     "execution_count": 40,
     "metadata": {},
     "output_type": "execute_result"
    }
   ],
   "source": [
    "primal_func(w,y,X,lambd)"
   ]
  },
  {
   "cell_type": "code",
   "execution_count": null,
   "metadata": {
    "collapsed": true
   },
   "outputs": [],
   "source": []
  }
 ],
 "metadata": {
  "kernelspec": {
   "display_name": "Python 2",
   "language": "python",
   "name": "python2"
  },
  "language_info": {
   "codemirror_mode": {
    "name": "ipython",
    "version": 2
   },
   "file_extension": ".py",
   "mimetype": "text/x-python",
   "name": "python",
   "nbconvert_exporter": "python",
   "pygments_lexer": "ipython2",
   "version": "2.7.11"
  }
 },
 "nbformat": 4,
 "nbformat_minor": 0
}
